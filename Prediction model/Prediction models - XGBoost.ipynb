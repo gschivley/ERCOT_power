{
 "cells": [
  {
   "cell_type": "markdown",
   "metadata": {},
   "source": [
    "# Prediction model"
   ]
  },
  {
   "cell_type": "code",
   "execution_count": 1,
   "metadata": {
    "collapsed": false
   },
   "outputs": [
    {
     "name": "stderr",
     "output_type": "stream",
     "text": [
      "/Users/Home/anaconda/lib/python2.7/site-packages/matplotlib/font_manager.py:273: UserWarning: Matplotlib is building the font cache using fc-list. This may take a moment.\n",
      "  warnings.warn('Matplotlib is building the font cache using fc-list. This may take a moment.')\n"
     ]
    }
   ],
   "source": [
    "%matplotlib inline\n",
    "import matplotlib.pyplot as plt\n",
    "import seaborn as sns\n",
    "import pandas as pd\n",
    "import numpy as np\n",
    "import os\n",
    "from sklearn.linear_model import LinearRegression\n",
    "from sklearn.svm import SVR, LinearSVR\n",
    "from sklearn.model_selection import GridSearchCV\n",
    "from sklearn.preprocessing import StandardScaler\n",
    "from sklearn.ensemble import GradientBoostingRegressor"
   ]
  },
  {
   "cell_type": "markdown",
   "metadata": {},
   "source": [
    "## Import data\n",
    "Might still need to clean up the files some after import"
   ]
  },
  {
   "cell_type": "code",
   "execution_count": 2,
   "metadata": {
    "collapsed": true
   },
   "outputs": [],
   "source": [
    "path = '../Clean Data'\n",
    "X_fn = 'X.csv'\n",
    "y_fn = 'y.csv'\n",
    "X_path = os.path.join(path, X_fn)\n",
    "y_path = os.path.join(path, y_fn)\n",
    "\n",
    "X = pd.read_csv(X_path)\n",
    "y = pd.read_csv(y_path)"
   ]
  },
  {
   "cell_type": "code",
   "execution_count": 3,
   "metadata": {
    "collapsed": false
   },
   "outputs": [
    {
     "data": {
      "text/html": [
       "<div>\n",
       "<table border=\"1\" class=\"dataframe\">\n",
       "  <thead>\n",
       "    <tr style=\"text-align: right;\">\n",
       "      <th></th>\n",
       "      <th>Unnamed: 0</th>\n",
       "      <th>cluster_id_6</th>\n",
       "      <th>Year</th>\n",
       "      <th>nameplate_capacity</th>\n",
       "      <th>DATETIME</th>\n",
       "      <th>GROSS LOAD (MW)</th>\n",
       "      <th>ERCOT Load, MW</th>\n",
       "      <th>Total Wind Installed, MW</th>\n",
       "      <th>Total Wind Output, MW</th>\n",
       "      <th>Wind Output, % of Installed</th>\n",
       "      <th>Wind Output, % of Load</th>\n",
       "      <th>1-hr MW change</th>\n",
       "      <th>1-hr % change</th>\n",
       "      <th>Net Load (MW)</th>\n",
       "      <th>Net Load Change (MW)</th>\n",
       "      <th>Month</th>\n",
       "      <th>NG Price ($/mcf)</th>\n",
       "      <th>All coal</th>\n",
       "      <th>Lignite</th>\n",
       "      <th>Subbituminous</th>\n",
       "    </tr>\n",
       "  </thead>\n",
       "  <tbody>\n",
       "    <tr>\n",
       "      <th>0</th>\n",
       "      <td>0</td>\n",
       "      <td>0</td>\n",
       "      <td>2007</td>\n",
       "      <td>5949.0</td>\n",
       "      <td>2007-01-01 00:00:00</td>\n",
       "      <td>4596.0</td>\n",
       "      <td>30428.0</td>\n",
       "      <td>2790.0</td>\n",
       "      <td>1074.0</td>\n",
       "      <td>38.494624</td>\n",
       "      <td>3.529644</td>\n",
       "      <td>NaN</td>\n",
       "      <td>NaN</td>\n",
       "      <td>29354.0</td>\n",
       "      <td>NaN</td>\n",
       "      <td>1</td>\n",
       "      <td>6.42</td>\n",
       "      <td>25.1475</td>\n",
       "      <td>20.0275</td>\n",
       "      <td>28.115</td>\n",
       "    </tr>\n",
       "    <tr>\n",
       "      <th>1</th>\n",
       "      <td>1</td>\n",
       "      <td>0</td>\n",
       "      <td>2007</td>\n",
       "      <td>5949.0</td>\n",
       "      <td>2007-01-01 01:00:00</td>\n",
       "      <td>4566.0</td>\n",
       "      <td>30133.0</td>\n",
       "      <td>2790.0</td>\n",
       "      <td>922.6</td>\n",
       "      <td>33.068100</td>\n",
       "      <td>3.061760</td>\n",
       "      <td>-151.4</td>\n",
       "      <td>-14.096834</td>\n",
       "      <td>29210.4</td>\n",
       "      <td>-143.6</td>\n",
       "      <td>1</td>\n",
       "      <td>6.42</td>\n",
       "      <td>25.1475</td>\n",
       "      <td>20.0275</td>\n",
       "      <td>28.115</td>\n",
       "    </tr>\n",
       "    <tr>\n",
       "      <th>2</th>\n",
       "      <td>2</td>\n",
       "      <td>0</td>\n",
       "      <td>2007</td>\n",
       "      <td>5949.0</td>\n",
       "      <td>2007-01-01 02:00:00</td>\n",
       "      <td>4667.0</td>\n",
       "      <td>29941.0</td>\n",
       "      <td>2790.0</td>\n",
       "      <td>849.2</td>\n",
       "      <td>30.437276</td>\n",
       "      <td>2.836245</td>\n",
       "      <td>-73.4</td>\n",
       "      <td>-7.955777</td>\n",
       "      <td>29091.8</td>\n",
       "      <td>-118.6</td>\n",
       "      <td>1</td>\n",
       "      <td>6.42</td>\n",
       "      <td>25.1475</td>\n",
       "      <td>20.0275</td>\n",
       "      <td>28.115</td>\n",
       "    </tr>\n",
       "    <tr>\n",
       "      <th>3</th>\n",
       "      <td>3</td>\n",
       "      <td>0</td>\n",
       "      <td>2007</td>\n",
       "      <td>5949.0</td>\n",
       "      <td>2007-01-01 03:00:00</td>\n",
       "      <td>4668.0</td>\n",
       "      <td>29949.0</td>\n",
       "      <td>2790.0</td>\n",
       "      <td>1056.3</td>\n",
       "      <td>37.860215</td>\n",
       "      <td>3.526996</td>\n",
       "      <td>207.1</td>\n",
       "      <td>24.387659</td>\n",
       "      <td>28892.7</td>\n",
       "      <td>-199.1</td>\n",
       "      <td>1</td>\n",
       "      <td>6.42</td>\n",
       "      <td>25.1475</td>\n",
       "      <td>20.0275</td>\n",
       "      <td>28.115</td>\n",
       "    </tr>\n",
       "    <tr>\n",
       "      <th>4</th>\n",
       "      <td>4</td>\n",
       "      <td>0</td>\n",
       "      <td>2007</td>\n",
       "      <td>5949.0</td>\n",
       "      <td>2007-01-01 04:00:00</td>\n",
       "      <td>4685.0</td>\n",
       "      <td>30248.0</td>\n",
       "      <td>2790.0</td>\n",
       "      <td>837.1</td>\n",
       "      <td>30.003584</td>\n",
       "      <td>2.767456</td>\n",
       "      <td>-219.2</td>\n",
       "      <td>-20.751680</td>\n",
       "      <td>29410.9</td>\n",
       "      <td>518.2</td>\n",
       "      <td>1</td>\n",
       "      <td>6.42</td>\n",
       "      <td>25.1475</td>\n",
       "      <td>20.0275</td>\n",
       "      <td>28.115</td>\n",
       "    </tr>\n",
       "  </tbody>\n",
       "</table>\n",
       "</div>"
      ],
      "text/plain": [
       "   Unnamed: 0  cluster_id_6  Year  nameplate_capacity             DATETIME  \\\n",
       "0           0             0  2007              5949.0  2007-01-01 00:00:00   \n",
       "1           1             0  2007              5949.0  2007-01-01 01:00:00   \n",
       "2           2             0  2007              5949.0  2007-01-01 02:00:00   \n",
       "3           3             0  2007              5949.0  2007-01-01 03:00:00   \n",
       "4           4             0  2007              5949.0  2007-01-01 04:00:00   \n",
       "\n",
       "   GROSS LOAD (MW)  ERCOT Load, MW  Total Wind Installed, MW  \\\n",
       "0           4596.0         30428.0                    2790.0   \n",
       "1           4566.0         30133.0                    2790.0   \n",
       "2           4667.0         29941.0                    2790.0   \n",
       "3           4668.0         29949.0                    2790.0   \n",
       "4           4685.0         30248.0                    2790.0   \n",
       "\n",
       "   Total Wind Output, MW  Wind Output, % of Installed  Wind Output, % of Load  \\\n",
       "0                 1074.0                    38.494624                3.529644   \n",
       "1                  922.6                    33.068100                3.061760   \n",
       "2                  849.2                    30.437276                2.836245   \n",
       "3                 1056.3                    37.860215                3.526996   \n",
       "4                  837.1                    30.003584                2.767456   \n",
       "\n",
       "   1-hr MW change  1-hr % change  Net Load (MW)  Net Load Change (MW)  Month  \\\n",
       "0             NaN            NaN        29354.0                   NaN      1   \n",
       "1          -151.4     -14.096834        29210.4                -143.6      1   \n",
       "2           -73.4      -7.955777        29091.8                -118.6      1   \n",
       "3           207.1      24.387659        28892.7                -199.1      1   \n",
       "4          -219.2     -20.751680        29410.9                 518.2      1   \n",
       "\n",
       "   NG Price ($/mcf)  All coal  Lignite  Subbituminous  \n",
       "0              6.42   25.1475  20.0275         28.115  \n",
       "1              6.42   25.1475  20.0275         28.115  \n",
       "2              6.42   25.1475  20.0275         28.115  \n",
       "3              6.42   25.1475  20.0275         28.115  \n",
       "4              6.42   25.1475  20.0275         28.115  "
      ]
     },
     "execution_count": 3,
     "metadata": {},
     "output_type": "execute_result"
    }
   ],
   "source": [
    "X.head()"
   ]
  },
  {
   "cell_type": "markdown",
   "metadata": {},
   "source": [
    "Rename the cluster column to just `cluster`. This won't be needed once we export from the group classification with the correct column name"
   ]
  },
  {
   "cell_type": "code",
   "execution_count": 4,
   "metadata": {
    "collapsed": false
   },
   "outputs": [],
   "source": [
    "X.rename(columns={'cluster_id_6':'cluster'}, inplace=True)"
   ]
  },
  {
   "cell_type": "markdown",
   "metadata": {},
   "source": [
    "### One-hot encoding of the cluster variable\n",
    "I'm trying to make this easy for using with different numbers of clusters"
   ]
  },
  {
   "cell_type": "code",
   "execution_count": 5,
   "metadata": {
    "collapsed": false
   },
   "outputs": [],
   "source": [
    "cluster_ids = X['cluster'].unique()\n",
    "for cluster in cluster_ids:\n",
    "    X['cluster_{}'.format(cluster)] = np.eye(len(cluster_ids))[X['cluster'],cluster]"
   ]
  },
  {
   "cell_type": "code",
   "execution_count": 6,
   "metadata": {
    "collapsed": false
   },
   "outputs": [
    {
     "data": {
      "text/html": [
       "<div>\n",
       "<table border=\"1\" class=\"dataframe\">\n",
       "  <thead>\n",
       "    <tr style=\"text-align: right;\">\n",
       "      <th></th>\n",
       "      <th>Unnamed: 0</th>\n",
       "      <th>cluster</th>\n",
       "      <th>Year</th>\n",
       "      <th>nameplate_capacity</th>\n",
       "      <th>DATETIME</th>\n",
       "      <th>GROSS LOAD (MW)</th>\n",
       "      <th>ERCOT Load, MW</th>\n",
       "      <th>Total Wind Installed, MW</th>\n",
       "      <th>Total Wind Output, MW</th>\n",
       "      <th>Wind Output, % of Installed</th>\n",
       "      <th>...</th>\n",
       "      <th>NG Price ($/mcf)</th>\n",
       "      <th>All coal</th>\n",
       "      <th>Lignite</th>\n",
       "      <th>Subbituminous</th>\n",
       "      <th>cluster_0</th>\n",
       "      <th>cluster_1</th>\n",
       "      <th>cluster_2</th>\n",
       "      <th>cluster_3</th>\n",
       "      <th>cluster_4</th>\n",
       "      <th>cluster_5</th>\n",
       "    </tr>\n",
       "  </thead>\n",
       "  <tbody>\n",
       "    <tr>\n",
       "      <th>0</th>\n",
       "      <td>0</td>\n",
       "      <td>0</td>\n",
       "      <td>2007</td>\n",
       "      <td>5949.0</td>\n",
       "      <td>2007-01-01 00:00:00</td>\n",
       "      <td>4596.0</td>\n",
       "      <td>30428.0</td>\n",
       "      <td>2790.0</td>\n",
       "      <td>1074.0</td>\n",
       "      <td>38.494624</td>\n",
       "      <td>...</td>\n",
       "      <td>6.42</td>\n",
       "      <td>25.1475</td>\n",
       "      <td>20.0275</td>\n",
       "      <td>28.115</td>\n",
       "      <td>1.0</td>\n",
       "      <td>0.0</td>\n",
       "      <td>0.0</td>\n",
       "      <td>0.0</td>\n",
       "      <td>0.0</td>\n",
       "      <td>0.0</td>\n",
       "    </tr>\n",
       "    <tr>\n",
       "      <th>1</th>\n",
       "      <td>1</td>\n",
       "      <td>0</td>\n",
       "      <td>2007</td>\n",
       "      <td>5949.0</td>\n",
       "      <td>2007-01-01 01:00:00</td>\n",
       "      <td>4566.0</td>\n",
       "      <td>30133.0</td>\n",
       "      <td>2790.0</td>\n",
       "      <td>922.6</td>\n",
       "      <td>33.068100</td>\n",
       "      <td>...</td>\n",
       "      <td>6.42</td>\n",
       "      <td>25.1475</td>\n",
       "      <td>20.0275</td>\n",
       "      <td>28.115</td>\n",
       "      <td>1.0</td>\n",
       "      <td>0.0</td>\n",
       "      <td>0.0</td>\n",
       "      <td>0.0</td>\n",
       "      <td>0.0</td>\n",
       "      <td>0.0</td>\n",
       "    </tr>\n",
       "    <tr>\n",
       "      <th>2</th>\n",
       "      <td>2</td>\n",
       "      <td>0</td>\n",
       "      <td>2007</td>\n",
       "      <td>5949.0</td>\n",
       "      <td>2007-01-01 02:00:00</td>\n",
       "      <td>4667.0</td>\n",
       "      <td>29941.0</td>\n",
       "      <td>2790.0</td>\n",
       "      <td>849.2</td>\n",
       "      <td>30.437276</td>\n",
       "      <td>...</td>\n",
       "      <td>6.42</td>\n",
       "      <td>25.1475</td>\n",
       "      <td>20.0275</td>\n",
       "      <td>28.115</td>\n",
       "      <td>1.0</td>\n",
       "      <td>0.0</td>\n",
       "      <td>0.0</td>\n",
       "      <td>0.0</td>\n",
       "      <td>0.0</td>\n",
       "      <td>0.0</td>\n",
       "    </tr>\n",
       "    <tr>\n",
       "      <th>3</th>\n",
       "      <td>3</td>\n",
       "      <td>0</td>\n",
       "      <td>2007</td>\n",
       "      <td>5949.0</td>\n",
       "      <td>2007-01-01 03:00:00</td>\n",
       "      <td>4668.0</td>\n",
       "      <td>29949.0</td>\n",
       "      <td>2790.0</td>\n",
       "      <td>1056.3</td>\n",
       "      <td>37.860215</td>\n",
       "      <td>...</td>\n",
       "      <td>6.42</td>\n",
       "      <td>25.1475</td>\n",
       "      <td>20.0275</td>\n",
       "      <td>28.115</td>\n",
       "      <td>1.0</td>\n",
       "      <td>0.0</td>\n",
       "      <td>0.0</td>\n",
       "      <td>0.0</td>\n",
       "      <td>0.0</td>\n",
       "      <td>0.0</td>\n",
       "    </tr>\n",
       "    <tr>\n",
       "      <th>4</th>\n",
       "      <td>4</td>\n",
       "      <td>0</td>\n",
       "      <td>2007</td>\n",
       "      <td>5949.0</td>\n",
       "      <td>2007-01-01 04:00:00</td>\n",
       "      <td>4685.0</td>\n",
       "      <td>30248.0</td>\n",
       "      <td>2790.0</td>\n",
       "      <td>837.1</td>\n",
       "      <td>30.003584</td>\n",
       "      <td>...</td>\n",
       "      <td>6.42</td>\n",
       "      <td>25.1475</td>\n",
       "      <td>20.0275</td>\n",
       "      <td>28.115</td>\n",
       "      <td>1.0</td>\n",
       "      <td>0.0</td>\n",
       "      <td>0.0</td>\n",
       "      <td>0.0</td>\n",
       "      <td>0.0</td>\n",
       "      <td>0.0</td>\n",
       "    </tr>\n",
       "  </tbody>\n",
       "</table>\n",
       "<p>5 rows × 26 columns</p>\n",
       "</div>"
      ],
      "text/plain": [
       "   Unnamed: 0  cluster  Year  nameplate_capacity             DATETIME  \\\n",
       "0           0        0  2007              5949.0  2007-01-01 00:00:00   \n",
       "1           1        0  2007              5949.0  2007-01-01 01:00:00   \n",
       "2           2        0  2007              5949.0  2007-01-01 02:00:00   \n",
       "3           3        0  2007              5949.0  2007-01-01 03:00:00   \n",
       "4           4        0  2007              5949.0  2007-01-01 04:00:00   \n",
       "\n",
       "   GROSS LOAD (MW)  ERCOT Load, MW  Total Wind Installed, MW  \\\n",
       "0           4596.0         30428.0                    2790.0   \n",
       "1           4566.0         30133.0                    2790.0   \n",
       "2           4667.0         29941.0                    2790.0   \n",
       "3           4668.0         29949.0                    2790.0   \n",
       "4           4685.0         30248.0                    2790.0   \n",
       "\n",
       "   Total Wind Output, MW  Wind Output, % of Installed    ...      \\\n",
       "0                 1074.0                    38.494624    ...       \n",
       "1                  922.6                    33.068100    ...       \n",
       "2                  849.2                    30.437276    ...       \n",
       "3                 1056.3                    37.860215    ...       \n",
       "4                  837.1                    30.003584    ...       \n",
       "\n",
       "   NG Price ($/mcf)  All coal  Lignite  Subbituminous  cluster_0  cluster_1  \\\n",
       "0              6.42   25.1475  20.0275         28.115        1.0        0.0   \n",
       "1              6.42   25.1475  20.0275         28.115        1.0        0.0   \n",
       "2              6.42   25.1475  20.0275         28.115        1.0        0.0   \n",
       "3              6.42   25.1475  20.0275         28.115        1.0        0.0   \n",
       "4              6.42   25.1475  20.0275         28.115        1.0        0.0   \n",
       "\n",
       "   cluster_2  cluster_3  cluster_4  cluster_5  \n",
       "0        0.0        0.0        0.0        0.0  \n",
       "1        0.0        0.0        0.0        0.0  \n",
       "2        0.0        0.0        0.0        0.0  \n",
       "3        0.0        0.0        0.0        0.0  \n",
       "4        0.0        0.0        0.0        0.0  \n",
       "\n",
       "[5 rows x 26 columns]"
      ]
     },
     "execution_count": 6,
     "metadata": {},
     "output_type": "execute_result"
    }
   ],
   "source": [
    "X.head()"
   ]
  },
  {
   "cell_type": "code",
   "execution_count": 7,
   "metadata": {
    "collapsed": false
   },
   "outputs": [
    {
     "data": {
      "text/html": [
       "<div>\n",
       "<table border=\"1\" class=\"dataframe\">\n",
       "  <thead>\n",
       "    <tr style=\"text-align: right;\">\n",
       "      <th></th>\n",
       "      <th>Unnamed: 0</th>\n",
       "      <th>cluster</th>\n",
       "      <th>Year</th>\n",
       "      <th>nameplate_capacity</th>\n",
       "      <th>DATETIME</th>\n",
       "      <th>GROSS LOAD (MW)</th>\n",
       "      <th>ERCOT Load, MW</th>\n",
       "      <th>Total Wind Installed, MW</th>\n",
       "      <th>Total Wind Output, MW</th>\n",
       "      <th>Wind Output, % of Installed</th>\n",
       "      <th>...</th>\n",
       "      <th>NG Price ($/mcf)</th>\n",
       "      <th>All coal</th>\n",
       "      <th>Lignite</th>\n",
       "      <th>Subbituminous</th>\n",
       "      <th>cluster_0</th>\n",
       "      <th>cluster_1</th>\n",
       "      <th>cluster_2</th>\n",
       "      <th>cluster_3</th>\n",
       "      <th>cluster_4</th>\n",
       "      <th>cluster_5</th>\n",
       "    </tr>\n",
       "  </thead>\n",
       "  <tbody>\n",
       "    <tr>\n",
       "      <th>473329</th>\n",
       "      <td>473329</td>\n",
       "      <td>5</td>\n",
       "      <td>2015</td>\n",
       "      <td>11476.0</td>\n",
       "      <td>2015-12-31 19:00:00</td>\n",
       "      <td>7516.0</td>\n",
       "      <td>39908.77734</td>\n",
       "      <td>16170.0</td>\n",
       "      <td>3824.932373</td>\n",
       "      <td>23.654498</td>\n",
       "      <td>...</td>\n",
       "      <td>2.23</td>\n",
       "      <td>28.53</td>\n",
       "      <td>24.04</td>\n",
       "      <td>32.55</td>\n",
       "      <td>0.0</td>\n",
       "      <td>0.0</td>\n",
       "      <td>0.0</td>\n",
       "      <td>0.0</td>\n",
       "      <td>0.0</td>\n",
       "      <td>1.0</td>\n",
       "    </tr>\n",
       "    <tr>\n",
       "      <th>473330</th>\n",
       "      <td>473330</td>\n",
       "      <td>5</td>\n",
       "      <td>2015</td>\n",
       "      <td>11476.0</td>\n",
       "      <td>2015-12-31 20:00:00</td>\n",
       "      <td>6552.0</td>\n",
       "      <td>38736.85938</td>\n",
       "      <td>16170.0</td>\n",
       "      <td>4625.632813</td>\n",
       "      <td>28.606264</td>\n",
       "      <td>...</td>\n",
       "      <td>2.23</td>\n",
       "      <td>28.53</td>\n",
       "      <td>24.04</td>\n",
       "      <td>32.55</td>\n",
       "      <td>0.0</td>\n",
       "      <td>0.0</td>\n",
       "      <td>0.0</td>\n",
       "      <td>0.0</td>\n",
       "      <td>0.0</td>\n",
       "      <td>1.0</td>\n",
       "    </tr>\n",
       "    <tr>\n",
       "      <th>473331</th>\n",
       "      <td>473331</td>\n",
       "      <td>5</td>\n",
       "      <td>2015</td>\n",
       "      <td>11476.0</td>\n",
       "      <td>2015-12-31 21:00:00</td>\n",
       "      <td>5944.0</td>\n",
       "      <td>37587.70313</td>\n",
       "      <td>16170.0</td>\n",
       "      <td>4957.714844</td>\n",
       "      <td>30.659956</td>\n",
       "      <td>...</td>\n",
       "      <td>2.23</td>\n",
       "      <td>28.53</td>\n",
       "      <td>24.04</td>\n",
       "      <td>32.55</td>\n",
       "      <td>0.0</td>\n",
       "      <td>0.0</td>\n",
       "      <td>0.0</td>\n",
       "      <td>0.0</td>\n",
       "      <td>0.0</td>\n",
       "      <td>1.0</td>\n",
       "    </tr>\n",
       "    <tr>\n",
       "      <th>473332</th>\n",
       "      <td>473332</td>\n",
       "      <td>5</td>\n",
       "      <td>2015</td>\n",
       "      <td>11476.0</td>\n",
       "      <td>2015-12-31 22:00:00</td>\n",
       "      <td>5698.0</td>\n",
       "      <td>36356.26172</td>\n",
       "      <td>16170.0</td>\n",
       "      <td>4699.097656</td>\n",
       "      <td>29.060592</td>\n",
       "      <td>...</td>\n",
       "      <td>2.23</td>\n",
       "      <td>28.53</td>\n",
       "      <td>24.04</td>\n",
       "      <td>32.55</td>\n",
       "      <td>0.0</td>\n",
       "      <td>0.0</td>\n",
       "      <td>0.0</td>\n",
       "      <td>0.0</td>\n",
       "      <td>0.0</td>\n",
       "      <td>1.0</td>\n",
       "    </tr>\n",
       "    <tr>\n",
       "      <th>473333</th>\n",
       "      <td>473333</td>\n",
       "      <td>5</td>\n",
       "      <td>2015</td>\n",
       "      <td>11476.0</td>\n",
       "      <td>2015-12-31 23:00:00</td>\n",
       "      <td>5365.0</td>\n",
       "      <td>35150.33984</td>\n",
       "      <td>16170.0</td>\n",
       "      <td>4313.125000</td>\n",
       "      <td>26.673624</td>\n",
       "      <td>...</td>\n",
       "      <td>2.23</td>\n",
       "      <td>28.53</td>\n",
       "      <td>24.04</td>\n",
       "      <td>32.55</td>\n",
       "      <td>0.0</td>\n",
       "      <td>0.0</td>\n",
       "      <td>0.0</td>\n",
       "      <td>0.0</td>\n",
       "      <td>0.0</td>\n",
       "      <td>1.0</td>\n",
       "    </tr>\n",
       "  </tbody>\n",
       "</table>\n",
       "<p>5 rows × 26 columns</p>\n",
       "</div>"
      ],
      "text/plain": [
       "        Unnamed: 0  cluster  Year  nameplate_capacity             DATETIME  \\\n",
       "473329      473329        5  2015             11476.0  2015-12-31 19:00:00   \n",
       "473330      473330        5  2015             11476.0  2015-12-31 20:00:00   \n",
       "473331      473331        5  2015             11476.0  2015-12-31 21:00:00   \n",
       "473332      473332        5  2015             11476.0  2015-12-31 22:00:00   \n",
       "473333      473333        5  2015             11476.0  2015-12-31 23:00:00   \n",
       "\n",
       "        GROSS LOAD (MW)  ERCOT Load, MW  Total Wind Installed, MW  \\\n",
       "473329           7516.0     39908.77734                   16170.0   \n",
       "473330           6552.0     38736.85938                   16170.0   \n",
       "473331           5944.0     37587.70313                   16170.0   \n",
       "473332           5698.0     36356.26172                   16170.0   \n",
       "473333           5365.0     35150.33984                   16170.0   \n",
       "\n",
       "        Total Wind Output, MW  Wind Output, % of Installed    ...      \\\n",
       "473329            3824.932373                    23.654498    ...       \n",
       "473330            4625.632813                    28.606264    ...       \n",
       "473331            4957.714844                    30.659956    ...       \n",
       "473332            4699.097656                    29.060592    ...       \n",
       "473333            4313.125000                    26.673624    ...       \n",
       "\n",
       "        NG Price ($/mcf)  All coal  Lignite  Subbituminous  cluster_0  \\\n",
       "473329              2.23     28.53    24.04          32.55        0.0   \n",
       "473330              2.23     28.53    24.04          32.55        0.0   \n",
       "473331              2.23     28.53    24.04          32.55        0.0   \n",
       "473332              2.23     28.53    24.04          32.55        0.0   \n",
       "473333              2.23     28.53    24.04          32.55        0.0   \n",
       "\n",
       "        cluster_1  cluster_2  cluster_3  cluster_4  cluster_5  \n",
       "473329        0.0        0.0        0.0        0.0        1.0  \n",
       "473330        0.0        0.0        0.0        0.0        1.0  \n",
       "473331        0.0        0.0        0.0        0.0        1.0  \n",
       "473332        0.0        0.0        0.0        0.0        1.0  \n",
       "473333        0.0        0.0        0.0        0.0        1.0  \n",
       "\n",
       "[5 rows x 26 columns]"
      ]
     },
     "execution_count": 7,
     "metadata": {},
     "output_type": "execute_result"
    }
   ],
   "source": [
    "X.tail()"
   ]
  },
  {
   "cell_type": "code",
   "execution_count": 8,
   "metadata": {
    "collapsed": false
   },
   "outputs": [
    {
     "data": {
      "text/html": [
       "<div>\n",
       "<table border=\"1\" class=\"dataframe\">\n",
       "  <thead>\n",
       "    <tr style=\"text-align: right;\">\n",
       "      <th></th>\n",
       "      <th>Unnamed: 0</th>\n",
       "      <th>DATETIME</th>\n",
       "      <th>cluster_id_6</th>\n",
       "      <th>Gen Change (MW)</th>\n",
       "    </tr>\n",
       "  </thead>\n",
       "  <tbody>\n",
       "    <tr>\n",
       "      <th>473329</th>\n",
       "      <td>473329</td>\n",
       "      <td>2015-12-31 19:00:00</td>\n",
       "      <td>5</td>\n",
       "      <td>-20.0</td>\n",
       "    </tr>\n",
       "    <tr>\n",
       "      <th>473330</th>\n",
       "      <td>473330</td>\n",
       "      <td>2015-12-31 20:00:00</td>\n",
       "      <td>5</td>\n",
       "      <td>-964.0</td>\n",
       "    </tr>\n",
       "    <tr>\n",
       "      <th>473331</th>\n",
       "      <td>473331</td>\n",
       "      <td>2015-12-31 21:00:00</td>\n",
       "      <td>5</td>\n",
       "      <td>-608.0</td>\n",
       "    </tr>\n",
       "    <tr>\n",
       "      <th>473332</th>\n",
       "      <td>473332</td>\n",
       "      <td>2015-12-31 22:00:00</td>\n",
       "      <td>5</td>\n",
       "      <td>-246.0</td>\n",
       "    </tr>\n",
       "    <tr>\n",
       "      <th>473333</th>\n",
       "      <td>473333</td>\n",
       "      <td>2015-12-31 23:00:00</td>\n",
       "      <td>5</td>\n",
       "      <td>-333.0</td>\n",
       "    </tr>\n",
       "  </tbody>\n",
       "</table>\n",
       "</div>"
      ],
      "text/plain": [
       "        Unnamed: 0             DATETIME  cluster_id_6  Gen Change (MW)\n",
       "473329      473329  2015-12-31 19:00:00             5            -20.0\n",
       "473330      473330  2015-12-31 20:00:00             5           -964.0\n",
       "473331      473331  2015-12-31 21:00:00             5           -608.0\n",
       "473332      473332  2015-12-31 22:00:00             5           -246.0\n",
       "473333      473333  2015-12-31 23:00:00             5           -333.0"
      ]
     },
     "execution_count": 8,
     "metadata": {},
     "output_type": "execute_result"
    }
   ],
   "source": [
    "y.tail()"
   ]
  },
  {
   "cell_type": "markdown",
   "metadata": {},
   "source": [
    "### Drop unnecessary columns and replace nan's with 0"
   ]
  },
  {
   "cell_type": "code",
   "execution_count": 9,
   "metadata": {
    "collapsed": false
   },
   "outputs": [],
   "source": [
    "X_cols = ['nameplate_capacity', 'GROSS LOAD (MW)', 'ERCOT Load, MW',\n",
    "          'Total Wind Installed, MW', 'Total Wind Output, MW', 'Net Load Change (MW)',\n",
    "          'NG Price ($/mcf)', 'All coal', 'Lignite', 'Subbituminous']\n",
    "X_cluster_cols = ['cluster_{}'.format(cluster) for cluster in cluster_ids]\n",
    "\n",
    "X_clean = X.loc[:,X_cols+X_cluster_cols]\n",
    "X_clean.fillna(0, inplace=True)\n",
    "\n",
    "y_clean = y.loc[:,'Gen Change (MW)']\n",
    "y_clean.fillna(0, inplace=True)"
   ]
  },
  {
   "cell_type": "code",
   "execution_count": 10,
   "metadata": {
    "collapsed": false
   },
   "outputs": [
    {
     "name": "stdout",
     "output_type": "stream",
     "text": [
      "(473334, 16)\n",
      "(473334,)\n"
     ]
    }
   ],
   "source": [
    "print X_clean.shape\n",
    "print y_clean.shape"
   ]
  },
  {
   "cell_type": "markdown",
   "metadata": {},
   "source": [
    "### Split into training, validation, testing"
   ]
  },
  {
   "cell_type": "code",
   "execution_count": 11,
   "metadata": {
    "collapsed": false
   },
   "outputs": [],
   "source": [
    "X_train = X_clean.loc[(X['Year']<2012),:]\n",
    "y_train = y_clean.loc[(X['Year']<2012)]\n",
    "\n",
    "X_va = X_clean.loc[X['Year'].isin([2012, 2013]),:]\n",
    "y_va = y_clean.loc[X['Year'].isin([2012, 2013])]\n",
    "\n",
    "X_test = X_clean.loc[X['Year']>2013,:]\n",
    "y_test = y_clean.loc[X['Year']>2013]"
   ]
  },
  {
   "cell_type": "markdown",
   "metadata": {},
   "source": [
    "**Somehow we're missing 2 records from X_va**"
   ]
  },
  {
   "cell_type": "code",
   "execution_count": 12,
   "metadata": {
    "collapsed": false
   },
   "outputs": [
    {
     "name": "stdout",
     "output_type": "stream",
     "text": [
      "(105264, 16) (105264,)\n"
     ]
    }
   ],
   "source": [
    "print X_va.shape, y_va.shape"
   ]
  },
  {
   "cell_type": "markdown",
   "metadata": {},
   "source": [
    "Need scaled versions of the X data for some of the models"
   ]
  },
  {
   "cell_type": "code",
   "execution_count": 13,
   "metadata": {
    "collapsed": false
   },
   "outputs": [],
   "source": [
    "X_train_scaled = StandardScaler().fit_transform(X_train)\n",
    "X_va_scaled = StandardScaler().fit_transform(X_va)\n",
    "X_test_scaled = StandardScaler().fit_transform(X_test)"
   ]
  },
  {
   "cell_type": "markdown",
   "metadata": {},
   "source": [
    "Check size of all arrays"
   ]
  },
  {
   "cell_type": "code",
   "execution_count": 21,
   "metadata": {
    "collapsed": false
   },
   "outputs": [
    {
     "name": "stdout",
     "output_type": "stream",
     "text": [
      "(262944, 16) (262944,)\n",
      "(105264, 16) (105264,)\n",
      "(105126, 16) (105126,)\n"
     ]
    }
   ],
   "source": [
    "print X_train_scaled.shape, y_train.shape\n",
    "print X_va_scaled.shape, y_va.shape\n",
    "print X_test_scaled.shape, y_test.shape"
   ]
  },
  {
   "cell_type": "markdown",
   "metadata": {},
   "source": [
    "## Linear Regression (OLS)"
   ]
  },
  {
   "cell_type": "code",
   "execution_count": 8,
   "metadata": {
    "collapsed": false
   },
   "outputs": [
    {
     "name": "stdout",
     "output_type": "stream",
     "text": [
      "1 loops, best of 3: 159 ms per loop\n"
     ]
    }
   ],
   "source": [
    "%%timeit\n",
    "lm = LinearRegression()\n",
    "lm.fit(X_train_scaled, y_train)"
   ]
  },
  {
   "cell_type": "code",
   "execution_count": 23,
   "metadata": {
    "collapsed": false
   },
   "outputs": [
    {
     "data": {
      "text/plain": [
       "0.26493465890853507"
      ]
     },
     "execution_count": 23,
     "metadata": {},
     "output_type": "execute_result"
    }
   ],
   "source": [
    "lm.score(X_va_scaled, y_va)"
   ]
  },
  {
   "cell_type": "code",
   "execution_count": 24,
   "metadata": {
    "collapsed": true
   },
   "outputs": [],
   "source": [
    "y_pr = lm.predict(X_va_scaled)"
   ]
  },
  {
   "cell_type": "code",
   "execution_count": 41,
   "metadata": {
    "collapsed": false
   },
   "outputs": [
    {
     "data": {
      "text/plain": [
       "((105266,), (105264,), (105264,))"
      ]
     },
     "execution_count": 41,
     "metadata": {},
     "output_type": "execute_result"
    }
   ],
   "source": [
    "y_va.values.shape, y_pr.shape, X.loc[X['Year'].isin([2012, 2013]),'cluster'].values.shape"
   ]
  },
  {
   "cell_type": "code",
   "execution_count": 25,
   "metadata": {
    "collapsed": false
   },
   "outputs": [],
   "source": [
    "y_lm_resids = pd.DataFrame(dict(zip(['Gen Change (MW)', 'y_pr', 'cluster'],\n",
    "                               [y_va.values, y_pr, X.loc[X['Year'].isin([2012, 2013]),'cluster'].values])))\n",
    "# y_lm_resids['y_pr'] = y_pr\n",
    "# y_lm_resids['cluster'] = X.loc[:,'cluster']"
   ]
  },
  {
   "cell_type": "code",
   "execution_count": 26,
   "metadata": {
    "collapsed": false
   },
   "outputs": [
    {
     "data": {
      "text/html": [
       "<div>\n",
       "<table border=\"1\" class=\"dataframe\">\n",
       "  <thead>\n",
       "    <tr style=\"text-align: right;\">\n",
       "      <th></th>\n",
       "      <th>Gen Change (MW)</th>\n",
       "      <th>cluster</th>\n",
       "      <th>y_pr</th>\n",
       "    </tr>\n",
       "  </thead>\n",
       "  <tbody>\n",
       "    <tr>\n",
       "      <th>0</th>\n",
       "      <td>0.0</td>\n",
       "      <td>0</td>\n",
       "      <td>-61.176003</td>\n",
       "    </tr>\n",
       "    <tr>\n",
       "      <th>1</th>\n",
       "      <td>1.0</td>\n",
       "      <td>0</td>\n",
       "      <td>-20.166237</td>\n",
       "    </tr>\n",
       "    <tr>\n",
       "      <th>2</th>\n",
       "      <td>-1.0</td>\n",
       "      <td>0</td>\n",
       "      <td>-17.027565</td>\n",
       "    </tr>\n",
       "    <tr>\n",
       "      <th>3</th>\n",
       "      <td>0.0</td>\n",
       "      <td>0</td>\n",
       "      <td>-14.052956</td>\n",
       "    </tr>\n",
       "    <tr>\n",
       "      <th>4</th>\n",
       "      <td>0.0</td>\n",
       "      <td>0</td>\n",
       "      <td>21.281029</td>\n",
       "    </tr>\n",
       "  </tbody>\n",
       "</table>\n",
       "</div>"
      ],
      "text/plain": [
       "   Gen Change (MW)  cluster       y_pr\n",
       "0              0.0        0 -61.176003\n",
       "1              1.0        0 -20.166237\n",
       "2             -1.0        0 -17.027565\n",
       "3              0.0        0 -14.052956\n",
       "4              0.0        0  21.281029"
      ]
     },
     "execution_count": 26,
     "metadata": {},
     "output_type": "execute_result"
    }
   ],
   "source": [
    "y_lm_resids.head()"
   ]
  },
  {
   "cell_type": "code",
   "execution_count": 27,
   "metadata": {
    "collapsed": false
   },
   "outputs": [],
   "source": [
    "y_lm_resids.loc[:,'residuals'] = y_lm_resids.loc[:,'y_pr'] - y_lm_resids.loc[:,'Gen Change (MW)']"
   ]
  },
  {
   "cell_type": "code",
   "execution_count": 29,
   "metadata": {
    "collapsed": false
   },
   "outputs": [
    {
     "data": {
      "text/plain": [
       "<seaborn.axisgrid.FacetGrid at 0x116244110>"
      ]
     },
     "execution_count": 29,
     "metadata": {},
     "output_type": "execute_result"
    },
    {
     "data": {
      "text/plain": [
       "<seaborn.axisgrid.FacetGrid at 0x116244110>"
      ]
     },
     "execution_count": 29,
     "metadata": {},
     "output_type": "execute_result"
    },
    {
     "data": {
      "image/png": "[encoded data removed]",
      "text/plain": [
       "<matplotlib.figure.Figure at 0x1162442d0>"
      ]
     },
     "metadata": {},
     "output_type": "display_data"
    }
   ],
   "source": [
    "g = sns.FacetGrid(y_lm_resids, hue='cluster', col='cluster',\n",
    "                  col_wrap=3)\n",
    "g.map(plt.scatter, 'Gen Change (MW)', 'residuals')\n",
    "g.add_legend()"
   ]
  },
  {
   "cell_type": "markdown",
   "metadata": {},
   "source": [
    "## XGBoost"
   ]
  },
  {
   "cell_type": "code",
   "execution_count": 14,
   "metadata": {
    "collapsed": true
   },
   "outputs": [],
   "source": [
    "from xgboost import XGBRegressor"
   ]
  },
  {
   "cell_type": "code",
   "execution_count": 15,
   "metadata": {
    "collapsed": true
   },
   "outputs": [],
   "source": [
    "model = XGBRegressor()"
   ]
  },
  {
   "cell_type": "code",
   "execution_count": 16,
   "metadata": {
    "collapsed": true
   },
   "outputs": [],
   "source": [
    "subsample = [0.1, 0.2, 0.3, 0.4, 0.5, 0.6, 0.7, 0.8, 1.0]\n",
    "param_grid = dict(subsample=subsample)"
   ]
  },
  {
   "cell_type": "code",
   "execution_count": 18,
   "metadata": {
    "collapsed": true
   },
   "outputs": [],
   "source": [
    "grid_search = GridSearchCV(model, param_grid, n_jobs=-1, verbose=3)"
   ]
  },
  {
   "cell_type": "code",
   "execution_count": 19,
   "metadata": {
    "collapsed": false
   },
   "outputs": [
    {
     "name": "stdout",
     "output_type": "stream",
     "text": [
      "Fitting 3 folds for each of 9 candidates, totalling 27 fits\n",
      "[CV] subsample=0.1 ...................................................\n",
      "[CV] subsample=0.1 ...................................................\n",
      "[CV] subsample=0.1 ...................................................\n",
      "[CV] subsample=0.2 ...................................................\n",
      "[CV] .......................... subsample=0.1, score=0.484954 -   0.4s\n",
      "[CV] subsample=0.2 ...................................................\n",
      "[CV] .......................... subsample=0.1, score=0.457812 -   0.4s\n",
      "[CV] subsample=0.2 ...................................................\n",
      "[CV] .......................... subsample=0.1, score=0.432054 -   0.4s\n",
      "[CV] subsample=0.3 ...................................................\n",
      "[CV] .......................... subsample=0.2, score=0.489922 -   0.4s\n",
      "[CV] subsample=0.3 ...................................................\n",
      "[CV] .......................... subsample=0.2, score=0.405688 -   0.3s\n",
      "[CV] subsample=0.3 ...................................................\n",
      "[CV] .......................... subsample=0.2, score=0.462352 -   0.3s\n",
      "[CV] subsample=0.4 ...................................................\n",
      "[CV] .......................... subsample=0.3, score=0.494859 -   0.3s\n",
      "[CV] subsample=0.4 ...................................................\n",
      "[CV] .......................... subsample=0.3, score=0.461317 -   0.3s\n",
      "[CV] subsample=0.4 ...................................................\n",
      "[CV] .......................... subsample=0.3, score=0.459056 -   0.3s\n",
      "[CV] subsample=0.5 ...................................................\n",
      "[CV] .......................... subsample=0.4, score=0.496053 -   0.3s\n",
      "[CV] subsample=0.5 ...................................................\n",
      "[CV] .......................... subsample=0.4, score=0.463809 -   0.3s\n",
      "[CV] subsample=0.5 ...................................................\n",
      "[CV] .......................... subsample=0.4, score=0.449886 -   0.3s\n",
      "[CV] subsample=0.6 ...................................................\n",
      "[CV] .......................... subsample=0.5, score=0.499908 -   0.5s\n",
      "[CV] subsample=0.6 ...................................................\n",
      "[CV] .......................... subsample=0.5, score=0.462957 -   0.3s\n",
      "[CV] subsample=0.6 ...................................................\n",
      "[CV] .......................... subsample=0.5, score=0.447146 -   0.3s\n",
      "[CV] subsample=0.7 ...................................................\n",
      "[CV] .......................... subsample=0.6, score=0.500445 -   0.5s\n",
      "[CV] subsample=0.7 ...................................................\n",
      "[CV] .......................... subsample=0.6, score=0.463235 -   0.3s\n",
      "[CV] subsample=0.7 ...................................................\n",
      "[CV] .......................... subsample=0.6, score=0.424141 -   0.4s\n",
      "[CV] subsample=0.8 ...................................................\n",
      "[CV] .......................... subsample=0.7, score=0.498927 -   0.3s\n",
      "[CV] subsample=0.8 ...................................................\n",
      "[CV] .......................... subsample=0.7, score=0.465330 -   0.3s\n",
      "[CV] subsample=0.8 ...................................................\n",
      "[CV] .......................... subsample=0.7, score=0.467672 -   0.3s\n",
      "[CV] subsample=1.0 ...................................................\n",
      "[CV] .......................... subsample=0.8, score=0.496447 -   0.3s\n",
      "[CV] subsample=1.0 ...................................................\n",
      "[CV] .......................... subsample=0.8, score=0.461902 -   0.4s\n",
      "[CV] subsample=1.0 ...................................................\n",
      "[CV] .......................... subsample=0.8, score=0.462582 -   0.5s\n",
      "[CV] .......................... subsample=1.0, score=0.498483 -   0.3s\n",
      "[CV] .......................... subsample=1.0, score=0.463337 -   0.2s\n",
      "[CV] .......................... subsample=1.0, score=0.473275 -   0.2s\n"
     ]
    },
    {
     "name": "stderr",
     "output_type": "stream",
     "text": [
      "[Parallel(n_jobs=-1)]: Done  27 out of  27 | elapsed:  2.4min finished\n"
     ]
    }
   ],
   "source": [
    "result = grid_search.fit(X_train_scaled, y_train)"
   ]
  },
  {
   "cell_type": "code",
   "execution_count": 20,
   "metadata": {
    "collapsed": false
   },
   "outputs": [
    {
     "data": {
      "text/plain": [
       "{'mean_fit_time': array([ 17.29887025,  17.27616898,  17.9309593 ,  20.16705402,\n",
       "         21.57488139,  21.970059  ,  20.77520935,  20.17156092,  15.8298982 ]),\n",
       " 'mean_score_time': array([ 0.37530239,  0.33570194,  0.31040764,  0.32522202,  0.35875694,\n",
       "         0.3899494 ,  0.2991906 ,  0.38670103,  0.22519708]),\n",
       " 'mean_test_score': array([ 0.4582734 ,  0.45265404,  0.47174388,  0.46991596,  0.47000372,\n",
       "         0.46260688,  0.47730961,  0.47364352,  0.47836477]),\n",
       " 'mean_train_score': array([ 0.52659795,  0.53019258,  0.53201711,  0.53158389,  0.53369591,\n",
       "         0.53187077,  0.53222026,  0.53103841,  0.53230937]),\n",
       " 'param_subsample': masked_array(data = [0.1 0.2 0.3 0.4 0.5 0.6 0.7 0.8 1.0],\n",
       "              mask = [False False False False False False False False False],\n",
       "        fill_value = ?),\n",
       " 'params': ({'subsample': 0.1},\n",
       "  {'subsample': 0.2},\n",
       "  {'subsample': 0.3},\n",
       "  {'subsample': 0.4},\n",
       "  {'subsample': 0.5},\n",
       "  {'subsample': 0.6},\n",
       "  {'subsample': 0.7},\n",
       "  {'subsample': 0.8},\n",
       "  {'subsample': 1.0}),\n",
       " 'rank_test_score': array([8, 9, 4, 6, 5, 7, 2, 3, 1], dtype=int32),\n",
       " 'split0_test_score': array([ 0.48495396,  0.48992193,  0.49485867,  0.49605334,  0.49990795,\n",
       "         0.50044486,  0.49892667,  0.49644705,  0.49848254]),\n",
       " 'split0_train_score': array([ 0.52960193,  0.53432657,  0.53327846,  0.53291754,  0.53559476,\n",
       "         0.53532652,  0.53562279,  0.5357719 ,  0.53546957]),\n",
       " 'split1_test_score': array([ 0.45781181,  0.46235239,  0.46131677,  0.46380884,  0.46295738,\n",
       "         0.46323497,  0.46533023,  0.4619017 ,  0.46333653]),\n",
       " 'split1_train_score': array([ 0.54735279,  0.54738404,  0.54435946,  0.54753438,  0.55000352,\n",
       "         0.54396756,  0.54661591,  0.54567355,  0.54748602]),\n",
       " 'split2_test_score': array([ 0.43205443,  0.4056878 ,  0.4590562 ,  0.44988569,  0.44714583,\n",
       "         0.4241408 ,  0.46767192,  0.4625818 ,  0.47327525]),\n",
       " 'split2_train_score': array([ 0.50283914,  0.50886712,  0.5184134 ,  0.51429974,  0.51548944,\n",
       "         0.51631822,  0.51442209,  0.51166979,  0.51397251]),\n",
       " 'std_fit_time': array([ 0.03468956,  1.56806389,  0.17731887,  0.08404964,  0.17640389,\n",
       "         0.37043793,  0.28607418,  0.18931806,  0.82959389]),\n",
       " 'std_score_time': array([ 0.01687459,  0.03872609,  0.01886037,  0.01837927,  0.07238271,\n",
       "         0.07224925,  0.01489875,  0.06787804,  0.02795523]),\n",
       " 'std_test_score': array([ 0.02159861,  0.03506556,  0.01637066,  0.01933625,  0.0221088 ,\n",
       "         0.03115417,  0.01531544,  0.01612693,  0.01479274]),\n",
       " 'std_train_score': array([ 0.01829634,  0.01599387,  0.01062992,  0.01360072,  0.01415414,\n",
       "         0.01154927,  0.01336147,  0.01427978,  0.01386312])}"
      ]
     },
     "execution_count": 20,
     "metadata": {},
     "output_type": "execute_result"
    }
   ],
   "source": [
    "result.cv_results_"
   ]
  },
  {
   "cell_type": "code",
   "execution_count": null,
   "metadata": {
    "collapsed": true
   },
   "outputs": [],
   "source": []
  },
  {
   "cell_type": "code",
   "execution_count": 22,
   "metadata": {
    "collapsed": true
   },
   "outputs": [],
   "source": [
    "model = XGBRegressor()"
   ]
  },
  {
   "cell_type": "code",
   "execution_count": 23,
   "metadata": {
    "collapsed": true
   },
   "outputs": [],
   "source": [
    "colsample_bytree = [0.1, 0.2, 0.3, 0.4, 0.5, 0.6, 0.7, 0.8, 1.0]\n",
    "param_grid = dict(colsample_bytree=colsample_bytree)"
   ]
  },
  {
   "cell_type": "code",
   "execution_count": 24,
   "metadata": {
    "collapsed": true
   },
   "outputs": [],
   "source": [
    "grid_search = GridSearchCV(model, param_grid, n_jobs=-1, verbose=3)"
   ]
  },
  {
   "cell_type": "code",
   "execution_count": 25,
   "metadata": {
    "collapsed": false
   },
   "outputs": [
    {
     "name": "stdout",
     "output_type": "stream",
     "text": [
      "Fitting 3 folds for each of 9 candidates, totalling 27 fits\n",
      "[CV] colsample_bytree=0.1 ............................................\n",
      "[CV] colsample_bytree=0.1 ............................................\n",
      "[CV] colsample_bytree=0.1 ............................................\n",
      "[CV] colsample_bytree=0.2 ............................................\n",
      "[CV] ................... colsample_bytree=0.1, score=0.164646 -   0.2s\n",
      "[CV] colsample_bytree=0.2 ............................................\n",
      "[CV] ................... colsample_bytree=0.1, score=0.163248 -   0.2s\n",
      "[CV] colsample_bytree=0.2 ............................................\n",
      "[CV] ................... colsample_bytree=0.1, score=0.149747 -   0.2s\n",
      "[CV] colsample_bytree=0.3 ............................................\n",
      "[CV] ................... colsample_bytree=0.2, score=0.270653 -   0.3s\n",
      "[CV] colsample_bytree=0.3 ............................................\n",
      "[CV] ................... colsample_bytree=0.2, score=0.277469 -   0.4s\n",
      "[CV] colsample_bytree=0.3 ............................................\n",
      "[CV] ................... colsample_bytree=0.2, score=0.241283 -   0.4s\n",
      "[CV] colsample_bytree=0.4 ............................................\n",
      "[CV] ................... colsample_bytree=0.3, score=0.361171 -   0.3s\n",
      "[CV] colsample_bytree=0.4 ............................................\n",
      "[CV] ................... colsample_bytree=0.3, score=0.343253 -   0.3s\n",
      "[CV] colsample_bytree=0.4 ............................................\n",
      "[CV] ................... colsample_bytree=0.3, score=0.332786 -   0.3s\n",
      "[CV] colsample_bytree=0.5 ............................................\n",
      "[CV] ................... colsample_bytree=0.4, score=0.432744 -   0.3s\n",
      "[CV] colsample_bytree=0.5 ............................................\n",
      "[CV] ................... colsample_bytree=0.4, score=0.404372 -   0.4s\n",
      "[CV] colsample_bytree=0.5 ............................................\n",
      "[CV] ................... colsample_bytree=0.4, score=0.394815 -   0.3s\n",
      "[CV] colsample_bytree=0.6 ............................................\n",
      "[CV] ................... colsample_bytree=0.5, score=0.461426 -   0.3s\n",
      "[CV] colsample_bytree=0.6 ............................................\n",
      "[CV] ................... colsample_bytree=0.5, score=0.426662 -   0.4s\n",
      "[CV] colsample_bytree=0.6 ............................................\n",
      "[CV] ................... colsample_bytree=0.5, score=0.428052 -   0.3s\n",
      "[CV] colsample_bytree=0.7 ............................................\n",
      "[CV] ................... colsample_bytree=0.6, score=0.484498 -   0.4s\n",
      "[CV] colsample_bytree=0.7 ............................................\n",
      "[CV] ................... colsample_bytree=0.6, score=0.435976 -   0.4s\n",
      "[CV] colsample_bytree=0.7 ............................................\n",
      "[CV] ................... colsample_bytree=0.6, score=0.432028 -   0.4s\n",
      "[CV] colsample_bytree=0.8 ............................................\n",
      "[CV] ................... colsample_bytree=0.7, score=0.481932 -   0.4s\n",
      "[CV] colsample_bytree=0.8 ............................................\n",
      "[CV] ................... colsample_bytree=0.7, score=0.449476 -   0.3s\n",
      "[CV] colsample_bytree=0.8 ............................................\n",
      "[CV] ................... colsample_bytree=0.7, score=0.445217 -   0.4s\n",
      "[CV] colsample_bytree=1.0 ............................................\n",
      "[CV] ................... colsample_bytree=0.8, score=0.477589 -   0.3s\n",
      "[CV] colsample_bytree=1.0 ............................................\n",
      "[CV] ................... colsample_bytree=0.8, score=0.455795 -   0.3s\n",
      "[CV] colsample_bytree=1.0 ............................................\n",
      "[CV] ................... colsample_bytree=0.8, score=0.440667 -   0.3s\n",
      "[CV] ................... colsample_bytree=1.0, score=0.498483 -   0.3s\n",
      "[CV] ................... colsample_bytree=1.0, score=0.463337 -   0.2s\n",
      "[CV] ................... colsample_bytree=1.0, score=0.473275 -   0.2s\n"
     ]
    },
    {
     "name": "stderr",
     "output_type": "stream",
     "text": [
      "[Parallel(n_jobs=-1)]: Done  27 out of  27 | elapsed:  1.5min finished\n"
     ]
    }
   ],
   "source": [
    "result = grid_search.fit(X_train_scaled, y_train)"
   ]
  },
  {
   "cell_type": "code",
   "execution_count": 26,
   "metadata": {
    "collapsed": false
   },
   "outputs": [
    {
     "data": {
      "text/plain": [
       "{'mean_fit_time': array([  4.56124123,   6.81195768,   8.10874836,   9.60875932,\n",
       "         12.16170565,  14.600293  ,  17.21607868,  16.53451133,  15.66608071]),\n",
       " 'mean_score_time': array([ 0.22303112,  0.37348668,  0.32521661,  0.35028831,  0.35460496,\n",
       "         0.38649503,  0.35863702,  0.32337038,  0.23110159]),\n",
       " 'mean_test_score': array([ 0.15921352,  0.26313523,  0.3457365 ,  0.41064376,  0.43871338,\n",
       "         0.45083418,  0.45887504,  0.45801704,  0.47836477]),\n",
       " 'mean_train_score': array([ 0.16892206,  0.31116065,  0.39683733,  0.46549971,  0.49976069,\n",
       "         0.51085103,  0.51879221,  0.52348525,  0.53230937]),\n",
       " 'param_colsample_bytree': masked_array(data = [0.1 0.2 0.3 0.4 0.5 0.6 0.7 0.8 1.0],\n",
       "              mask = [False False False False False False False False False],\n",
       "        fill_value = ?),\n",
       " 'params': ({'colsample_bytree': 0.1},\n",
       "  {'colsample_bytree': 0.2},\n",
       "  {'colsample_bytree': 0.3},\n",
       "  {'colsample_bytree': 0.4},\n",
       "  {'colsample_bytree': 0.5},\n",
       "  {'colsample_bytree': 0.6},\n",
       "  {'colsample_bytree': 0.7},\n",
       "  {'colsample_bytree': 0.8},\n",
       "  {'colsample_bytree': 1.0}),\n",
       " 'rank_test_score': array([9, 8, 7, 6, 5, 4, 2, 3, 1], dtype=int32),\n",
       " 'split0_test_score': array([ 0.16464645,  0.27065299,  0.36117083,  0.43274381,  0.46142571,\n",
       "         0.48449781,  0.48193165,  0.47758942,  0.49848254]),\n",
       " 'split0_train_score': array([ 0.17610519,  0.30573853,  0.38943222,  0.4613343 ,  0.49598943,\n",
       "         0.51501353,  0.5193987 ,  0.51984055,  0.53546957]),\n",
       " 'split1_test_score': array([ 0.16324756,  0.2774694 ,  0.34325273,  0.40437222,  0.42666201,\n",
       "         0.43597646,  0.44947615,  0.45579473,  0.46333653]),\n",
       " 'split1_train_score': array([ 0.17075628,  0.3177841 ,  0.40282043,  0.48186734,  0.51148631,\n",
       "         0.51749275,  0.53201472,  0.53787768,  0.54748602]),\n",
       " 'split2_test_score': array([ 0.14974656,  0.24128329,  0.33278595,  0.39481524,  0.42805241,\n",
       "         0.43202828,  0.44521732,  0.44066697,  0.47327525]),\n",
       " 'split2_train_score': array([ 0.15990471,  0.30995931,  0.39825933,  0.4532975 ,  0.49180633,\n",
       "         0.50004681,  0.50496321,  0.51273751,  0.51397251]),\n",
       " 'std_fit_time': array([ 0.04071576,  0.34999139,  0.31733372,  0.03549674,  0.1198805 ,\n",
       "         0.91900495,  0.88420138,  0.37777915,  0.98321903]),\n",
       " 'std_score_time': array([ 0.00639099,  0.05793678,  0.00767493,  0.0210572 ,  0.03189375,\n",
       "         0.02170566,  0.03632257,  0.00240637,  0.01842607]),\n",
       " 'std_test_score': array([ 0.00671847,  0.01570024,  0.01172041,  0.0161068 ,  0.01607007,\n",
       "         0.02385829,  0.01639593,  0.01515522,  0.01479274]),\n",
       " 'std_train_score': array([ 0.00673979,  0.00499042,  0.00555743,  0.01202974,  0.00846531,\n",
       "         0.00770649,  0.01105205,  0.01058206,  0.01386312])}"
      ]
     },
     "execution_count": 26,
     "metadata": {},
     "output_type": "execute_result"
    }
   ],
   "source": [
    "result.cv_results_"
   ]
  },
  {
   "cell_type": "code",
   "execution_count": null,
   "metadata": {
    "collapsed": true
   },
   "outputs": [],
   "source": []
  },
  {
   "cell_type": "code",
   "execution_count": 27,
   "metadata": {
    "collapsed": true
   },
   "outputs": [],
   "source": [
    "model = XGBRegressor()"
   ]
  },
  {
   "cell_type": "code",
   "execution_count": 28,
   "metadata": {
    "collapsed": true
   },
   "outputs": [],
   "source": [
    "colsample_bylevel = [0.1, 0.2, 0.3, 0.4, 0.5, 0.6, 0.7, 0.8, 1.0]\n",
    "param_grid = dict(colsample_bylevel=colsample_bylevel)"
   ]
  },
  {
   "cell_type": "code",
   "execution_count": 29,
   "metadata": {
    "collapsed": true
   },
   "outputs": [],
   "source": [
    "grid_search = GridSearchCV(model, param_grid, n_jobs=-1, verbose=3)"
   ]
  },
  {
   "cell_type": "code",
   "execution_count": 30,
   "metadata": {
    "collapsed": false,
    "scrolled": false
   },
   "outputs": [
    {
     "name": "stdout",
     "output_type": "stream",
     "text": [
      "Fitting 3 folds for each of 9 candidates, totalling 27 fits\n",
      "[CV] colsample_bylevel=0.1 ...........................................\n",
      "[CV] colsample_bylevel=0.1 ...........................................\n",
      "[CV] colsample_bylevel=0.1 ...........................................\n",
      "[CV] colsample_bylevel=0.2 ...........................................\n",
      "[CV] .................. colsample_bylevel=0.1, score=0.236454 -   0.2s\n",
      "[CV] colsample_bylevel=0.2 ...........................................\n",
      "[CV] .................. colsample_bylevel=0.1, score=0.230266 -   0.3s\n",
      "[CV] colsample_bylevel=0.2 ...........................................\n",
      "[CV] .................. colsample_bylevel=0.1, score=0.221978 -   0.3s\n",
      "[CV] colsample_bylevel=0.3 ...........................................\n",
      "[CV] .................. colsample_bylevel=0.2, score=0.389605 -   0.3s\n",
      "[CV] colsample_bylevel=0.3 ...........................................\n",
      "[CV] .................. colsample_bylevel=0.2, score=0.357623 -   0.3s\n",
      "[CV] .................. colsample_bylevel=0.2, score=0.361486 -   0.3s\n",
      "[CV] colsample_bylevel=0.3 ...........................................\n",
      "[CV] colsample_bylevel=0.4 ...........................................\n",
      "[CV] .................. colsample_bylevel=0.3, score=0.443983 -   0.4s\n",
      "[CV] colsample_bylevel=0.4 ...........................................\n",
      "[CV] .................. colsample_bylevel=0.3, score=0.396302 -   0.3s\n",
      "[CV] colsample_bylevel=0.4 ...........................................\n",
      "[CV] .................. colsample_bylevel=0.3, score=0.425530 -   0.3s\n",
      "[CV] colsample_bylevel=0.5 ...........................................\n",
      "[CV] .................. colsample_bylevel=0.4, score=0.433810 -   0.4s\n",
      "[CV] colsample_bylevel=0.5 ...........................................\n",
      "[CV] .................. colsample_bylevel=0.4, score=0.429944 -   0.6s\n",
      "[CV] colsample_bylevel=0.5 ...........................................\n",
      "[CV] .................. colsample_bylevel=0.4, score=0.450593 -   0.4s\n",
      "[CV] colsample_bylevel=0.6 ...........................................\n",
      "[CV] .................. colsample_bylevel=0.5, score=0.461982 -   0.3s\n",
      "[CV] colsample_bylevel=0.6 ...........................................\n",
      "[CV] .................. colsample_bylevel=0.5, score=0.436827 -   0.3s\n",
      "[CV] colsample_bylevel=0.6 ...........................................\n",
      "[CV] .................. colsample_bylevel=0.5, score=0.443715 -   0.4s\n",
      "[CV] colsample_bylevel=0.7 ...........................................\n",
      "[CV] .................. colsample_bylevel=0.6, score=0.466433 -   0.6s\n",
      "[CV] colsample_bylevel=0.7 ...........................................\n",
      "[CV] .................. colsample_bylevel=0.6, score=0.438975 -   0.3s\n",
      "[CV] colsample_bylevel=0.7 ...........................................\n",
      "[CV] .................. colsample_bylevel=0.6, score=0.445031 -   0.6s\n",
      "[CV] colsample_bylevel=0.8 ...........................................\n",
      "[CV] .................. colsample_bylevel=0.7, score=0.483877 -   0.3s\n",
      "[CV] colsample_bylevel=0.8 ...........................................\n",
      "[CV] .................. colsample_bylevel=0.7, score=0.455740 -   0.5s\n",
      "[CV] colsample_bylevel=0.8 ...........................................\n",
      "[CV] .................. colsample_bylevel=0.7, score=0.430706 -   0.3s\n",
      "[CV] colsample_bylevel=1.0 ...........................................\n",
      "[CV] .................. colsample_bylevel=0.8, score=0.484522 -   0.3s\n",
      "[CV] colsample_bylevel=1.0 ...........................................\n",
      "[CV] .................. colsample_bylevel=0.8, score=0.447451 -   0.3s\n",
      "[CV] colsample_bylevel=1.0 ...........................................\n",
      "[CV] .................. colsample_bylevel=0.8, score=0.482551 -   0.6s\n",
      "[CV] .................. colsample_bylevel=1.0, score=0.498483 -   0.3s\n",
      "[CV] .................. colsample_bylevel=1.0, score=0.463337 -   0.4s\n",
      "[CV] .................. colsample_bylevel=1.0, score=0.473275 -   0.2s\n"
     ]
    },
    {
     "name": "stderr",
     "output_type": "stream",
     "text": [
      "[Parallel(n_jobs=-1)]: Done  27 out of  27 | elapsed:  1.6min finished\n"
     ]
    }
   ],
   "source": [
    "result = grid_search.fit(X_train_scaled, y_train)"
   ]
  },
  {
   "cell_type": "code",
   "execution_count": 31,
   "metadata": {
    "collapsed": false
   },
   "outputs": [
    {
     "data": {
      "text/plain": [
       "{'mean_fit_time': array([  5.58680964,   7.96834898,   9.22394466,  11.17805529,\n",
       "         14.44551174,  14.79537845,  16.52017864,  16.49024232,  16.76054573]),\n",
       " 'mean_score_time': array([ 0.27904503,  0.30942973,  0.3542637 ,  0.47181129,  0.36044025,\n",
       "         0.49709463,  0.39499768,  0.40493266,  0.27615031]),\n",
       " 'mean_test_score': array([ 0.22956596,  0.36957139,  0.42193826,  0.43811555,  0.44750804,\n",
       "         0.45014643,  0.45677407,  0.47150803,  0.47836477]),\n",
       " 'mean_train_score': array([ 0.2551972 ,  0.4250602 ,  0.46792848,  0.49801298,  0.50912125,\n",
       "         0.51348689,  0.52657848,  0.52464538,  0.53230937]),\n",
       " 'param_colsample_bylevel': masked_array(data = [0.1 0.2 0.3 0.4 0.5 0.6 0.7 0.8 1.0],\n",
       "              mask = [False False False False False False False False False],\n",
       "        fill_value = ?),\n",
       " 'params': ({'colsample_bylevel': 0.1},\n",
       "  {'colsample_bylevel': 0.2},\n",
       "  {'colsample_bylevel': 0.3},\n",
       "  {'colsample_bylevel': 0.4},\n",
       "  {'colsample_bylevel': 0.5},\n",
       "  {'colsample_bylevel': 0.6},\n",
       "  {'colsample_bylevel': 0.7},\n",
       "  {'colsample_bylevel': 0.8},\n",
       "  {'colsample_bylevel': 1.0}),\n",
       " 'rank_test_score': array([9, 8, 7, 6, 5, 4, 3, 2, 1], dtype=int32),\n",
       " 'split0_test_score': array([ 0.23645415,  0.38960514,  0.44398314,  0.43380956,  0.46198182,\n",
       "         0.46643296,  0.48387676,  0.48452161,  0.49848254]),\n",
       " 'split0_train_score': array([ 0.25873623,  0.43174816,  0.47813957,  0.48825062,  0.50763914,\n",
       "         0.51478784,  0.52760406,  0.52697517,  0.53546957]),\n",
       " 'split1_test_score': array([ 0.23026568,  0.35762309,  0.39630159,  0.42994417,  0.43682736,\n",
       "         0.43897526,  0.45573985,  0.44745105,  0.46333653]),\n",
       " 'split1_train_score': array([ 0.26557786,  0.43169105,  0.47092311,  0.51763234,  0.52470075,\n",
       "         0.52806783,  0.54517381,  0.53490598,  0.54748602]),\n",
       " 'split2_test_score': array([ 0.22197804,  0.36148594,  0.42553005,  0.45059293,  0.44371494,\n",
       "         0.44503108,  0.43070559,  0.48255143,  0.47327525]),\n",
       " 'split2_train_score': array([ 0.2412775 ,  0.41174138,  0.45472278,  0.48815597,  0.49502386,\n",
       "         0.497605  ,  0.50695756,  0.512055  ,  0.51397251]),\n",
       " 'std_fit_time': array([ 0.01258047,  0.33746784,  0.59310873,  0.53371143,  0.60921623,\n",
       "         0.19267317,  0.29740686,  0.5224749 ,  0.81394888]),\n",
       " 'std_score_time': array([ 0.0229224 ,  0.02305377,  0.05598837,  0.11034201,  0.04290427,\n",
       "         0.11777629,  0.10116711,  0.11118439,  0.06571458]),\n",
       " 'std_test_score': array([ 0.00593052,  0.01425351,  0.0196309 ,  0.00896285,  0.01061374,\n",
       "         0.01177869,  0.02171936,  0.01702986,  0.01479274]),\n",
       " 'std_train_score': array([ 0.01023134,  0.00941785,  0.00979157,  0.01387304,  0.01216078,\n",
       "         0.01247037,  0.01561856,  0.00947321,  0.01386312])}"
      ]
     },
     "execution_count": 31,
     "metadata": {},
     "output_type": "execute_result"
    }
   ],
   "source": [
    "result.cv_results_"
   ]
  },
  {
   "cell_type": "code",
   "execution_count": null,
   "metadata": {
    "collapsed": true
   },
   "outputs": [],
   "source": []
  },
  {
   "cell_type": "code",
   "execution_count": 32,
   "metadata": {
    "collapsed": true
   },
   "outputs": [],
   "source": [
    "model = XGBRegressor()"
   ]
  },
  {
   "cell_type": "code",
   "execution_count": 33,
   "metadata": {
    "collapsed": true
   },
   "outputs": [],
   "source": [
    "max_depth = [3, 6, 9]\n",
    "n_estimators = [100, 250, 500]\n",
    "reg_alpha = [1e-5, 1e-3, 0.1]\n",
    "reg_lambda = [1e-3, 0.1, 1]\n",
    "param_grid = dict(max_depth=max_depth, n_estimators=n_estimators,\n",
    "                  reg_alpha=reg_alpha, reg_lambda=reg_lambda)"
   ]
  },
  {
   "cell_type": "code",
   "execution_count": 35,
   "metadata": {
    "collapsed": true
   },
   "outputs": [],
   "source": [
    "grid_search = GridSearchCV(model, param_grid, n_jobs=-1, verbose=2)"
   ]
  },
  {
   "cell_type": "code",
   "execution_count": 36,
   "metadata": {
    "collapsed": false,
    "scrolled": false
   },
   "outputs": [
    {
     "name": "stdout",
     "output_type": "stream",
     "text": [
      "Fitting 3 folds for each of 81 candidates, totalling 243 fits\n",
      "[CV] n_estimators=100, reg_lambda=0.001, reg_alpha=1e-05, max_depth=3 \n",
      "[CV] n_estimators=100, reg_lambda=0.001, reg_alpha=1e-05, max_depth=3 \n",
      "[CV] n_estimators=100, reg_lambda=0.001, reg_alpha=1e-05, max_depth=3 \n",
      "[CV] n_estimators=100, reg_lambda=0.1, reg_alpha=1e-05, max_depth=3 ..\n",
      "[CV]  n_estimators=100, reg_lambda=0.1, reg_alpha=1e-05, max_depth=3 -   0.6s\n",
      "[CV]  n_estimators=100, reg_lambda=0.001, reg_alpha=1e-05, max_depth=3 -   0.6s\n",
      "[CV] n_estimators=100, reg_lambda=0.1, reg_alpha=1e-05, max_depth=3 ..\n",
      "[CV]  n_estimators=100, reg_lambda=0.001, reg_alpha=1e-05, max_depth=3 -   0.7s\n",
      "[CV] n_estimators=100, reg_lambda=0.1, reg_alpha=1e-05, max_depth=3 ..\n",
      "[CV] n_estimators=100, reg_lambda=1, reg_alpha=1e-05, max_depth=3 ....\n",
      "[CV]  n_estimators=100, reg_lambda=0.001, reg_alpha=1e-05, max_depth=3 -   0.6s\n",
      "[CV] n_estimators=100, reg_lambda=1, reg_alpha=1e-05, max_depth=3 ....\n",
      "[CV]  n_estimators=100, reg_lambda=0.1, reg_alpha=1e-05, max_depth=3 -   0.3s\n",
      "[CV]  n_estimators=100, reg_lambda=0.1, reg_alpha=1e-05, max_depth=3 -   0.3s\n",
      "[CV] n_estimators=100, reg_lambda=1, reg_alpha=1e-05, max_depth=3 ....\n",
      "[CV] n_estimators=100, reg_lambda=0.001, reg_alpha=0.001, max_depth=3 \n",
      "[CV]  n_estimators=100, reg_lambda=1, reg_alpha=1e-05, max_depth=3 -   0.3s\n",
      "[CV] n_estimators=100, reg_lambda=0.001, reg_alpha=0.001, max_depth=3 \n",
      "[CV]  n_estimators=100, reg_lambda=1, reg_alpha=1e-05, max_depth=3 -   0.3s\n",
      "[CV] n_estimators=100, reg_lambda=0.001, reg_alpha=0.001, max_depth=3 \n",
      "[CV]  n_estimators=100, reg_lambda=1, reg_alpha=1e-05, max_depth=3 -   0.4s\n",
      "[CV] n_estimators=100, reg_lambda=0.1, reg_alpha=0.001, max_depth=3 ..\n",
      "[CV]  n_estimators=100, reg_lambda=0.001, reg_alpha=0.001, max_depth=3 -   0.5s\n",
      "[CV] n_estimators=100, reg_lambda=0.1, reg_alpha=0.001, max_depth=3 ..\n",
      "[CV]  n_estimators=100, reg_lambda=0.001, reg_alpha=0.001, max_depth=3 -   0.5s\n",
      "[CV] n_estimators=100, reg_lambda=0.1, reg_alpha=0.001, max_depth=3 ..\n",
      "[CV]  n_estimators=100, reg_lambda=0.001, reg_alpha=0.001, max_depth=3 -   0.5s\n",
      "[CV] n_estimators=100, reg_lambda=1, reg_alpha=0.001, max_depth=3 ....\n",
      "[CV]  n_estimators=100, reg_lambda=0.1, reg_alpha=0.001, max_depth=3 -   0.3s\n",
      "[CV] n_estimators=100, reg_lambda=1, reg_alpha=0.001, max_depth=3 ....\n",
      "[CV]  n_estimators=100, reg_lambda=0.1, reg_alpha=0.001, max_depth=3 -   0.3s\n",
      "[CV] n_estimators=100, reg_lambda=1, reg_alpha=0.001, max_depth=3 ....\n",
      "[CV]  n_estimators=100, reg_lambda=0.1, reg_alpha=0.001, max_depth=3 -   0.3s\n",
      "[CV] n_estimators=100, reg_lambda=0.001, reg_alpha=0.1, max_depth=3 ..\n",
      "[CV]  n_estimators=100, reg_lambda=1, reg_alpha=0.001, max_depth=3 -   0.3s\n",
      "[CV] n_estimators=100, reg_lambda=0.001, reg_alpha=0.1, max_depth=3 ..\n",
      "[CV]  n_estimators=100, reg_lambda=1, reg_alpha=0.001, max_depth=3 -   0.3s\n",
      "[CV] n_estimators=100, reg_lambda=0.001, reg_alpha=0.1, max_depth=3 ..\n",
      "[CV]  n_estimators=100, reg_lambda=1, reg_alpha=0.001, max_depth=3 -   0.3s\n",
      "[CV]  n_estimators=100, reg_lambda=0.001, reg_alpha=0.1, max_depth=3 -   0.3s\n",
      "[CV] n_estimators=100, reg_lambda=0.1, reg_alpha=0.1, max_depth=3 ....\n",
      "[CV] n_estimators=100, reg_lambda=0.1, reg_alpha=0.1, max_depth=3 ....\n",
      "[CV]  n_estimators=100, reg_lambda=0.001, reg_alpha=0.1, max_depth=3 -   0.3s\n",
      "[CV] n_estimators=100, reg_lambda=0.1, reg_alpha=0.1, max_depth=3 ....\n",
      "[CV]  n_estimators=100, reg_lambda=0.001, reg_alpha=0.1, max_depth=3 -   0.4s\n",
      "[CV] n_estimators=100, reg_lambda=1, reg_alpha=0.1, max_depth=3 ......\n",
      "[CV]  n_estimators=100, reg_lambda=0.1, reg_alpha=0.1, max_depth=3 -   0.4s\n",
      "[CV] n_estimators=100, reg_lambda=1, reg_alpha=0.1, max_depth=3 ......\n",
      "[CV]  n_estimators=100, reg_lambda=0.1, reg_alpha=0.1, max_depth=3 -   0.4s\n",
      "[CV] n_estimators=100, reg_lambda=1, reg_alpha=0.1, max_depth=3 ......\n",
      "[CV]  n_estimators=100, reg_lambda=0.1, reg_alpha=0.1, max_depth=3 -   0.4s\n",
      "[CV] n_estimators=250, reg_lambda=0.001, reg_alpha=1e-05, max_depth=3 \n",
      "[CV]  n_estimators=100, reg_lambda=1, reg_alpha=0.1, max_depth=3 -   0.3s\n",
      "[CV] n_estimators=250, reg_lambda=0.001, reg_alpha=1e-05, max_depth=3 \n",
      "[CV]  n_estimators=100, reg_lambda=1, reg_alpha=0.1, max_depth=3 -   0.3s\n",
      "[CV]  n_estimators=100, reg_lambda=1, reg_alpha=0.1, max_depth=3 -   0.3s\n",
      "[CV] n_estimators=250, reg_lambda=0.001, reg_alpha=1e-05, max_depth=3 \n",
      "[CV] n_estimators=250, reg_lambda=0.1, reg_alpha=1e-05, max_depth=3 ..\n",
      "[CV]  n_estimators=250, reg_lambda=0.001, reg_alpha=1e-05, max_depth=3 -   0.7s\n",
      "[CV] n_estimators=250, reg_lambda=0.1, reg_alpha=1e-05, max_depth=3 ..\n",
      "[CV]  n_estimators=250, reg_lambda=0.001, reg_alpha=1e-05, max_depth=3 -   0.9s\n",
      "[CV] n_estimators=250, reg_lambda=0.1, reg_alpha=1e-05, max_depth=3 ..\n",
      "[CV]  n_estimators=250, reg_lambda=0.001, reg_alpha=1e-05, max_depth=3 -   0.9s\n",
      "[CV] n_estimators=250, reg_lambda=1, reg_alpha=1e-05, max_depth=3 ....\n",
      "[CV]  n_estimators=250, reg_lambda=0.1, reg_alpha=1e-05, max_depth=3 -   0.9s\n",
      "[CV] n_estimators=250, reg_lambda=1, reg_alpha=1e-05, max_depth=3 ....\n",
      "[CV]  n_estimators=250, reg_lambda=0.1, reg_alpha=1e-05, max_depth=3 -   0.8s\n",
      "[CV] n_estimators=250, reg_lambda=1, reg_alpha=1e-05, max_depth=3 ....\n",
      "[CV]  n_estimators=250, reg_lambda=0.1, reg_alpha=1e-05, max_depth=3 -   0.9s\n",
      "[CV] n_estimators=250, reg_lambda=0.001, reg_alpha=0.001, max_depth=3 \n"
     ]
    },
    {
     "name": "stderr",
     "output_type": "stream",
     "text": [
      "[Parallel(n_jobs=-1)]: Done  33 tasks      | elapsed:  4.1min\n"
     ]
    },
    {
     "name": "stdout",
     "output_type": "stream",
     "text": [
      "[CV]  n_estimators=250, reg_lambda=1, reg_alpha=1e-05, max_depth=3 -   0.8s\n",
      "[CV] n_estimators=250, reg_lambda=0.001, reg_alpha=0.001, max_depth=3 \n",
      "[CV]  n_estimators=250, reg_lambda=1, reg_alpha=1e-05, max_depth=3 -   0.9s\n",
      "[CV] n_estimators=250, reg_lambda=0.001, reg_alpha=0.001, max_depth=3 \n",
      "[CV]  n_estimators=250, reg_lambda=1, reg_alpha=1e-05, max_depth=3 -   0.8s\n",
      "[CV] n_estimators=250, reg_lambda=0.1, reg_alpha=0.001, max_depth=3 ..\n",
      "[CV]  n_estimators=250, reg_lambda=0.001, reg_alpha=0.001, max_depth=3 -   0.8s\n",
      "[CV] n_estimators=250, reg_lambda=0.1, reg_alpha=0.001, max_depth=3 ..\n",
      "[CV]  n_estimators=250, reg_lambda=0.001, reg_alpha=0.001, max_depth=3 -   0.8s\n",
      "[CV] n_estimators=250, reg_lambda=0.1, reg_alpha=0.001, max_depth=3 ..\n",
      "[CV]  n_estimators=250, reg_lambda=0.001, reg_alpha=0.001, max_depth=3 -   1.0s\n",
      "[CV] n_estimators=250, reg_lambda=1, reg_alpha=0.001, max_depth=3 ....\n",
      "[CV]  n_estimators=250, reg_lambda=0.1, reg_alpha=0.001, max_depth=3 -   0.7s\n",
      "[CV] n_estimators=250, reg_lambda=1, reg_alpha=0.001, max_depth=3 ....\n",
      "[CV]  n_estimators=250, reg_lambda=0.1, reg_alpha=0.001, max_depth=3 -   0.8s\n",
      "[CV] n_estimators=250, reg_lambda=1, reg_alpha=0.001, max_depth=3 ....\n",
      "[CV]  n_estimators=250, reg_lambda=0.1, reg_alpha=0.001, max_depth=3 -   0.8s\n",
      "[CV] n_estimators=250, reg_lambda=0.001, reg_alpha=0.1, max_depth=3 ..\n",
      "[CV]  n_estimators=250, reg_lambda=1, reg_alpha=0.001, max_depth=3 -   0.8s\n",
      "[CV] n_estimators=250, reg_lambda=0.001, reg_alpha=0.1, max_depth=3 ..\n",
      "[CV]  n_estimators=250, reg_lambda=1, reg_alpha=0.001, max_depth=3 -   0.7s\n",
      "[CV] n_estimators=250, reg_lambda=0.001, reg_alpha=0.1, max_depth=3 ..\n",
      "[CV]  n_estimators=250, reg_lambda=1, reg_alpha=0.001, max_depth=3 -   0.9s\n",
      "[CV] n_estimators=250, reg_lambda=0.1, reg_alpha=0.1, max_depth=3 ....\n",
      "[CV]  n_estimators=250, reg_lambda=0.001, reg_alpha=0.1, max_depth=3 -   0.9s\n",
      "[CV] n_estimators=250, reg_lambda=0.1, reg_alpha=0.1, max_depth=3 ....\n",
      "[CV]  n_estimators=250, reg_lambda=0.001, reg_alpha=0.1, max_depth=3 -   0.9s\n",
      "[CV] n_estimators=250, reg_lambda=0.1, reg_alpha=0.1, max_depth=3 ....\n",
      "[CV]  n_estimators=250, reg_lambda=0.001, reg_alpha=0.1, max_depth=3 -   0.8s\n",
      "[CV] n_estimators=250, reg_lambda=1, reg_alpha=0.1, max_depth=3 ......\n",
      "[CV]  n_estimators=250, reg_lambda=0.1, reg_alpha=0.1, max_depth=3 -   0.8s\n",
      "[CV] n_estimators=250, reg_lambda=1, reg_alpha=0.1, max_depth=3 ......\n",
      "[CV]  n_estimators=250, reg_lambda=0.1, reg_alpha=0.1, max_depth=3 -   0.9s\n",
      "[CV] n_estimators=250, reg_lambda=1, reg_alpha=0.1, max_depth=3 ......\n",
      "[CV]  n_estimators=250, reg_lambda=0.1, reg_alpha=0.1, max_depth=3 -   0.9s\n",
      "[CV] n_estimators=500, reg_lambda=0.001, reg_alpha=1e-05, max_depth=3 \n",
      "[CV]  n_estimators=250, reg_lambda=1, reg_alpha=0.1, max_depth=3 -   0.7s\n",
      "[CV] n_estimators=500, reg_lambda=0.001, reg_alpha=1e-05, max_depth=3 \n",
      "[CV]  n_estimators=250, reg_lambda=1, reg_alpha=0.1, max_depth=3 -   0.8s\n",
      "[CV] n_estimators=500, reg_lambda=0.001, reg_alpha=1e-05, max_depth=3 \n",
      "[CV]  n_estimators=250, reg_lambda=1, reg_alpha=0.1, max_depth=3 -   0.9s\n",
      "[CV] n_estimators=500, reg_lambda=0.1, reg_alpha=1e-05, max_depth=3 ..\n",
      "[CV]  n_estimators=500, reg_lambda=0.001, reg_alpha=1e-05, max_depth=3 -   1.9s\n",
      "[CV] n_estimators=500, reg_lambda=0.1, reg_alpha=1e-05, max_depth=3 ..\n",
      "[CV]  n_estimators=500, reg_lambda=0.001, reg_alpha=1e-05, max_depth=3 -   2.0s\n",
      "[CV] n_estimators=500, reg_lambda=0.1, reg_alpha=1e-05, max_depth=3 ..\n",
      "[CV]  n_estimators=500, reg_lambda=0.001, reg_alpha=1e-05, max_depth=3 -   2.0s\n",
      "[CV] n_estimators=500, reg_lambda=1, reg_alpha=1e-05, max_depth=3 ....\n",
      "[CV]  n_estimators=500, reg_lambda=0.1, reg_alpha=1e-05, max_depth=3 -   2.0s\n",
      "[CV] n_estimators=500, reg_lambda=1, reg_alpha=1e-05, max_depth=3 ....\n",
      "[CV]  n_estimators=500, reg_lambda=0.1, reg_alpha=1e-05, max_depth=3 -   1.9s\n",
      "[CV] n_estimators=500, reg_lambda=1, reg_alpha=1e-05, max_depth=3 ....\n",
      "[CV]  n_estimators=500, reg_lambda=0.1, reg_alpha=1e-05, max_depth=3 -   2.0s\n",
      "[CV] n_estimators=500, reg_lambda=0.001, reg_alpha=0.001, max_depth=3 \n",
      "[CV]  n_estimators=500, reg_lambda=1, reg_alpha=1e-05, max_depth=3 -   2.1s\n",
      "[CV] n_estimators=500, reg_lambda=0.001, reg_alpha=0.001, max_depth=3 \n",
      "[CV]  n_estimators=500, reg_lambda=1, reg_alpha=1e-05, max_depth=3 -   2.2s\n",
      "[CV] n_estimators=500, reg_lambda=0.001, reg_alpha=0.001, max_depth=3 \n",
      "[CV]  n_estimators=500, reg_lambda=1, reg_alpha=1e-05, max_depth=3 -   2.1s\n",
      "[CV] n_estimators=500, reg_lambda=0.1, reg_alpha=0.001, max_depth=3 ..\n",
      "[CV]  n_estimators=500, reg_lambda=0.001, reg_alpha=0.001, max_depth=3 -   2.0s\n",
      "[CV] n_estimators=500, reg_lambda=0.1, reg_alpha=0.001, max_depth=3 ..\n",
      "[CV]  n_estimators=500, reg_lambda=0.001, reg_alpha=0.001, max_depth=3 -   2.2s\n",
      "[CV] n_estimators=500, reg_lambda=0.1, reg_alpha=0.001, max_depth=3 ..\n",
      "[CV]  n_estimators=500, reg_lambda=0.001, reg_alpha=0.001, max_depth=3 -   2.6s\n",
      "[CV] n_estimators=500, reg_lambda=1, reg_alpha=0.001, max_depth=3 ....\n",
      "[CV]  n_estimators=500, reg_lambda=0.1, reg_alpha=0.001, max_depth=3 -   2.0s\n",
      "[CV] n_estimators=500, reg_lambda=1, reg_alpha=0.001, max_depth=3 ....\n",
      "[CV]  n_estimators=500, reg_lambda=0.1, reg_alpha=0.001, max_depth=3 -   3.5s\n",
      "[CV] n_estimators=500, reg_lambda=1, reg_alpha=0.001, max_depth=3 ....\n",
      "[CV]  n_estimators=500, reg_lambda=0.1, reg_alpha=0.001, max_depth=3 -   2.1s\n",
      "[CV] n_estimators=500, reg_lambda=0.001, reg_alpha=0.1, max_depth=3 ..\n",
      "[CV]  n_estimators=500, reg_lambda=1, reg_alpha=0.001, max_depth=3 -   2.0s\n",
      "[CV] n_estimators=500, reg_lambda=0.001, reg_alpha=0.1, max_depth=3 ..\n",
      "[CV]  n_estimators=500, reg_lambda=1, reg_alpha=0.001, max_depth=3 -   2.4s\n",
      "[CV] n_estimators=500, reg_lambda=0.001, reg_alpha=0.1, max_depth=3 ..\n",
      "[CV]  n_estimators=500, reg_lambda=1, reg_alpha=0.001, max_depth=3 -   2.7s\n",
      "[CV] n_estimators=500, reg_lambda=0.1, reg_alpha=0.1, max_depth=3 ....\n",
      "[CV]  n_estimators=500, reg_lambda=0.001, reg_alpha=0.1, max_depth=3 -   2.1s\n",
      "[CV] n_estimators=500, reg_lambda=0.1, reg_alpha=0.1, max_depth=3 ....\n",
      "[CV]  n_estimators=500, reg_lambda=0.001, reg_alpha=0.1, max_depth=3 -   2.6s\n",
      "[CV] n_estimators=500, reg_lambda=0.1, reg_alpha=0.1, max_depth=3 ....\n",
      "[CV]  n_estimators=500, reg_lambda=0.001, reg_alpha=0.1, max_depth=3 -   2.6s\n",
      "[CV] n_estimators=500, reg_lambda=1, reg_alpha=0.1, max_depth=3 ......\n",
      "[CV]  n_estimators=500, reg_lambda=0.1, reg_alpha=0.1, max_depth=3 -   1.9s\n",
      "[CV] n_estimators=500, reg_lambda=1, reg_alpha=0.1, max_depth=3 ......\n",
      "[CV]  n_estimators=500, reg_lambda=0.1, reg_alpha=0.1, max_depth=3 -   2.1s\n",
      "[CV] n_estimators=500, reg_lambda=1, reg_alpha=0.1, max_depth=3 ......\n",
      "[CV]  n_estimators=500, reg_lambda=0.1, reg_alpha=0.1, max_depth=3 -   2.1s\n",
      "[CV] n_estimators=100, reg_lambda=0.001, reg_alpha=1e-05, max_depth=6 \n",
      "[CV]  n_estimators=100, reg_lambda=0.001, reg_alpha=1e-05, max_depth=6 -   0.6s\n",
      "[CV] n_estimators=100, reg_lambda=0.001, reg_alpha=1e-05, max_depth=6 \n",
      "[CV]  n_estimators=500, reg_lambda=1, reg_alpha=0.1, max_depth=3 -   1.9s\n",
      "[CV] n_estimators=100, reg_lambda=0.001, reg_alpha=1e-05, max_depth=6 \n",
      "[CV]  n_estimators=500, reg_lambda=1, reg_alpha=0.1, max_depth=3 -   2.3s\n",
      "[CV] n_estimators=100, reg_lambda=0.1, reg_alpha=1e-05, max_depth=6 ..\n",
      "[CV]  n_estimators=100, reg_lambda=0.001, reg_alpha=1e-05, max_depth=6 -   0.6s\n",
      "[CV] n_estimators=100, reg_lambda=0.1, reg_alpha=1e-05, max_depth=6 ..\n",
      "[CV]  n_estimators=100, reg_lambda=0.001, reg_alpha=1e-05, max_depth=6 -   0.6s\n",
      "[CV] n_estimators=100, reg_lambda=0.1, reg_alpha=1e-05, max_depth=6 ..\n",
      "[CV]  n_estimators=500, reg_lambda=1, reg_alpha=0.1, max_depth=3 -   2.1s\n",
      "[CV] n_estimators=100, reg_lambda=1, reg_alpha=1e-05, max_depth=6 ....\n",
      "[CV]  n_estimators=100, reg_lambda=0.1, reg_alpha=1e-05, max_depth=6 -   1.1s\n",
      "[CV] n_estimators=100, reg_lambda=1, reg_alpha=1e-05, max_depth=6 ....\n",
      "[CV]  n_estimators=100, reg_lambda=0.1, reg_alpha=1e-05, max_depth=6 -   0.6s\n",
      "[CV] n_estimators=100, reg_lambda=1, reg_alpha=1e-05, max_depth=6 ....\n",
      "[CV]  n_estimators=100, reg_lambda=0.1, reg_alpha=1e-05, max_depth=6 -   0.7s\n",
      "[CV] n_estimators=100, reg_lambda=0.001, reg_alpha=0.001, max_depth=6 \n",
      "[CV]  n_estimators=100, reg_lambda=1, reg_alpha=1e-05, max_depth=6 -   0.7s\n",
      "[CV] n_estimators=100, reg_lambda=0.001, reg_alpha=0.001, max_depth=6 \n",
      "[CV]  n_estimators=100, reg_lambda=1, reg_alpha=1e-05, max_depth=6 -   0.6s\n",
      "[CV] n_estimators=100, reg_lambda=0.001, reg_alpha=0.001, max_depth=6 \n",
      "[CV]  n_estimators=100, reg_lambda=1, reg_alpha=1e-05, max_depth=6 -   0.6s\n",
      "[CV] n_estimators=100, reg_lambda=0.1, reg_alpha=0.001, max_depth=6 ..\n",
      "[CV]  n_estimators=100, reg_lambda=0.001, reg_alpha=0.001, max_depth=6 -   0.6s\n",
      "[CV] n_estimators=100, reg_lambda=0.1, reg_alpha=0.001, max_depth=6 ..\n",
      "[CV]  n_estimators=100, reg_lambda=0.001, reg_alpha=0.001, max_depth=6 -   0.6s\n",
      "[CV] n_estimators=100, reg_lambda=0.1, reg_alpha=0.001, max_depth=6 ..\n",
      "[CV]  n_estimators=100, reg_lambda=0.001, reg_alpha=0.001, max_depth=6 -   0.7s\n",
      "[CV] n_estimators=100, reg_lambda=1, reg_alpha=0.001, max_depth=6 ....\n",
      "[CV]  n_estimators=100, reg_lambda=0.1, reg_alpha=0.001, max_depth=6 -   0.6s\n",
      "[CV] n_estimators=100, reg_lambda=1, reg_alpha=0.001, max_depth=6 ....\n",
      "[CV]  n_estimators=100, reg_lambda=0.1, reg_alpha=0.001, max_depth=6 -   0.6s\n",
      "[CV] n_estimators=100, reg_lambda=1, reg_alpha=0.001, max_depth=6 ....\n",
      "[CV]  n_estimators=100, reg_lambda=0.1, reg_alpha=0.001, max_depth=6 -   0.7s\n",
      "[CV] n_estimators=100, reg_lambda=0.001, reg_alpha=0.1, max_depth=6 ..\n",
      "[CV]  n_estimators=100, reg_lambda=1, reg_alpha=0.001, max_depth=6 -   0.6s\n",
      "[CV] n_estimators=100, reg_lambda=0.001, reg_alpha=0.1, max_depth=6 ..\n",
      "[CV]  n_estimators=100, reg_lambda=1, reg_alpha=0.001, max_depth=6 -   0.6s\n",
      "[CV] n_estimators=100, reg_lambda=0.001, reg_alpha=0.1, max_depth=6 ..\n",
      "[CV]  n_estimators=100, reg_lambda=1, reg_alpha=0.001, max_depth=6 -   0.7s\n",
      "[CV] n_estimators=100, reg_lambda=0.1, reg_alpha=0.1, max_depth=6 ....\n",
      "[CV]  n_estimators=100, reg_lambda=0.001, reg_alpha=0.1, max_depth=6 -   0.6s\n",
      "[CV] n_estimators=100, reg_lambda=0.1, reg_alpha=0.1, max_depth=6 ....\n",
      "[CV]  n_estimators=100, reg_lambda=0.001, reg_alpha=0.1, max_depth=6 -   0.6s\n",
      "[CV] n_estimators=100, reg_lambda=0.1, reg_alpha=0.1, max_depth=6 ....\n",
      "[CV]  n_estimators=100, reg_lambda=0.001, reg_alpha=0.1, max_depth=6 -   0.7s\n",
      "[CV] n_estimators=100, reg_lambda=1, reg_alpha=0.1, max_depth=6 ......\n",
      "[CV]  n_estimators=100, reg_lambda=0.1, reg_alpha=0.1, max_depth=6 -   0.6s\n",
      "[CV] n_estimators=100, reg_lambda=1, reg_alpha=0.1, max_depth=6 ......\n",
      "[CV]  n_estimators=100, reg_lambda=0.1, reg_alpha=0.1, max_depth=6 -   0.6s\n",
      "[CV] n_estimators=100, reg_lambda=1, reg_alpha=0.1, max_depth=6 ......\n",
      "[CV]  n_estimators=100, reg_lambda=0.1, reg_alpha=0.1, max_depth=6 -   0.7s\n",
      "[CV] n_estimators=250, reg_lambda=0.001, reg_alpha=1e-05, max_depth=6 \n",
      "[CV]  n_estimators=100, reg_lambda=1, reg_alpha=0.1, max_depth=6 -   0.6s\n",
      "[CV] n_estimators=250, reg_lambda=0.001, reg_alpha=1e-05, max_depth=6 \n",
      "[CV]  n_estimators=100, reg_lambda=1, reg_alpha=0.1, max_depth=6 -   0.8s\n",
      "[CV] n_estimators=250, reg_lambda=0.001, reg_alpha=1e-05, max_depth=6 \n",
      "[CV]  n_estimators=100, reg_lambda=1, reg_alpha=0.1, max_depth=6 -   1.3s\n",
      "[CV] n_estimators=250, reg_lambda=0.1, reg_alpha=1e-05, max_depth=6 ..\n",
      "[CV]  n_estimators=250, reg_lambda=0.001, reg_alpha=1e-05, max_depth=6 -   2.5s\n",
      "[CV] n_estimators=250, reg_lambda=0.1, reg_alpha=1e-05, max_depth=6 ..\n",
      "[CV]  n_estimators=250, reg_lambda=0.001, reg_alpha=1e-05, max_depth=6 -   1.9s\n",
      "[CV] n_estimators=250, reg_lambda=0.1, reg_alpha=1e-05, max_depth=6 ..\n",
      "[CV]  n_estimators=250, reg_lambda=0.001, reg_alpha=1e-05, max_depth=6 -   3.0s\n",
      "[CV] n_estimators=250, reg_lambda=1, reg_alpha=1e-05, max_depth=6 ....\n",
      "[CV]  n_estimators=250, reg_lambda=0.1, reg_alpha=1e-05, max_depth=6 -   1.9s\n",
      "[CV] n_estimators=250, reg_lambda=1, reg_alpha=1e-05, max_depth=6 ....\n",
      "[CV]  n_estimators=250, reg_lambda=0.1, reg_alpha=1e-05, max_depth=6 -   1.9s\n",
      "[CV] n_estimators=250, reg_lambda=1, reg_alpha=1e-05, max_depth=6 ....\n",
      "[CV]  n_estimators=250, reg_lambda=0.1, reg_alpha=1e-05, max_depth=6 -   2.2s\n",
      "[CV] n_estimators=250, reg_lambda=0.001, reg_alpha=0.001, max_depth=6 \n",
      "[CV]  n_estimators=250, reg_lambda=1, reg_alpha=1e-05, max_depth=6 -   1.8s\n",
      "[CV] n_estimators=250, reg_lambda=0.001, reg_alpha=0.001, max_depth=6 \n",
      "[CV]  n_estimators=250, reg_lambda=1, reg_alpha=1e-05, max_depth=6 -   3.1s\n",
      "[CV] n_estimators=250, reg_lambda=0.001, reg_alpha=0.001, max_depth=6 \n",
      "[CV]  n_estimators=250, reg_lambda=1, reg_alpha=1e-05, max_depth=6 -   2.3s\n",
      "[CV] n_estimators=250, reg_lambda=0.1, reg_alpha=0.001, max_depth=6 ..\n",
      "[CV]  n_estimators=250, reg_lambda=0.001, reg_alpha=0.001, max_depth=6 -   2.1s\n",
      "[CV] n_estimators=250, reg_lambda=0.1, reg_alpha=0.001, max_depth=6 ..\n",
      "[CV]  n_estimators=250, reg_lambda=0.001, reg_alpha=0.001, max_depth=6 -   2.1s\n",
      "[CV] n_estimators=250, reg_lambda=0.1, reg_alpha=0.001, max_depth=6 ..\n",
      "[CV]  n_estimators=250, reg_lambda=0.001, reg_alpha=0.001, max_depth=6 -   2.7s\n",
      "[CV] n_estimators=250, reg_lambda=1, reg_alpha=0.001, max_depth=6 ....\n",
      "[CV]  n_estimators=250, reg_lambda=0.1, reg_alpha=0.001, max_depth=6 -   1.8s\n",
      "[CV] n_estimators=250, reg_lambda=1, reg_alpha=0.001, max_depth=6 ....\n",
      "[CV]  n_estimators=250, reg_lambda=0.1, reg_alpha=0.001, max_depth=6 -   2.2s\n",
      "[CV] n_estimators=250, reg_lambda=1, reg_alpha=0.001, max_depth=6 ....\n",
      "[CV]  n_estimators=250, reg_lambda=0.1, reg_alpha=0.001, max_depth=6 -   2.3s\n",
      "[CV] n_estimators=250, reg_lambda=0.001, reg_alpha=0.1, max_depth=6 ..\n",
      "[CV]  n_estimators=250, reg_lambda=1, reg_alpha=0.001, max_depth=6 -   1.7s\n",
      "[CV] n_estimators=250, reg_lambda=0.001, reg_alpha=0.1, max_depth=6 ..\n",
      "[CV]  n_estimators=250, reg_lambda=1, reg_alpha=0.001, max_depth=6 -   2.2s\n",
      "[CV] n_estimators=250, reg_lambda=0.001, reg_alpha=0.1, max_depth=6 ..\n",
      "[CV]  n_estimators=250, reg_lambda=1, reg_alpha=0.001, max_depth=6 -   2.2s\n",
      "[CV] n_estimators=250, reg_lambda=0.1, reg_alpha=0.1, max_depth=6 ....\n",
      "[CV]  n_estimators=250, reg_lambda=0.001, reg_alpha=0.1, max_depth=6 -   1.8s\n",
      "[CV] n_estimators=250, reg_lambda=0.1, reg_alpha=0.1, max_depth=6 ....\n",
      "[CV]  n_estimators=250, reg_lambda=0.001, reg_alpha=0.1, max_depth=6 -   2.1s\n",
      "[CV] n_estimators=250, reg_lambda=0.1, reg_alpha=0.1, max_depth=6 ....\n",
      "[CV]  n_estimators=250, reg_lambda=0.001, reg_alpha=0.1, max_depth=6 -   2.1s\n",
      "[CV] n_estimators=250, reg_lambda=1, reg_alpha=0.1, max_depth=6 ......\n",
      "[CV]  n_estimators=250, reg_lambda=0.1, reg_alpha=0.1, max_depth=6 -   1.8s\n",
      "[CV] n_estimators=250, reg_lambda=1, reg_alpha=0.1, max_depth=6 ......\n",
      "[CV]  n_estimators=250, reg_lambda=0.1, reg_alpha=0.1, max_depth=6 -   1.9s\n",
      "[CV] n_estimators=250, reg_lambda=1, reg_alpha=0.1, max_depth=6 ......\n",
      "[CV]  n_estimators=250, reg_lambda=0.1, reg_alpha=0.1, max_depth=6 -   2.6s\n",
      "[CV] n_estimators=500, reg_lambda=0.001, reg_alpha=1e-05, max_depth=6 \n",
      "[CV]  n_estimators=250, reg_lambda=1, reg_alpha=0.1, max_depth=6 -   2.0s\n",
      "[CV] n_estimators=500, reg_lambda=0.001, reg_alpha=1e-05, max_depth=6 \n",
      "[CV]  n_estimators=250, reg_lambda=1, reg_alpha=0.1, max_depth=6 -   3.1s\n",
      "[CV] n_estimators=500, reg_lambda=0.001, reg_alpha=1e-05, max_depth=6 \n",
      "[CV]  n_estimators=250, reg_lambda=1, reg_alpha=0.1, max_depth=6 -   2.2s\n",
      "[CV] n_estimators=500, reg_lambda=0.1, reg_alpha=1e-05, max_depth=6 ..\n",
      "[CV]  n_estimators=500, reg_lambda=0.001, reg_alpha=1e-05, max_depth=6 -   5.5s\n",
      "[CV] n_estimators=500, reg_lambda=0.1, reg_alpha=1e-05, max_depth=6 ..\n",
      "[CV]  n_estimators=500, reg_lambda=0.001, reg_alpha=1e-05, max_depth=6 -   4.2s\n",
      "[CV] n_estimators=500, reg_lambda=0.1, reg_alpha=1e-05, max_depth=6 ..\n",
      "[CV]  n_estimators=500, reg_lambda=0.001, reg_alpha=1e-05, max_depth=6 -   5.4s\n",
      "[CV] n_estimators=500, reg_lambda=1, reg_alpha=1e-05, max_depth=6 ....\n",
      "[CV]  n_estimators=500, reg_lambda=0.1, reg_alpha=1e-05, max_depth=6 -   4.7s\n",
      "[CV] n_estimators=500, reg_lambda=1, reg_alpha=1e-05, max_depth=6 ....\n",
      "[CV]  n_estimators=500, reg_lambda=0.1, reg_alpha=1e-05, max_depth=6 -   4.0s\n",
      "[CV] n_estimators=500, reg_lambda=1, reg_alpha=1e-05, max_depth=6 ....\n",
      "[CV]  n_estimators=500, reg_lambda=0.1, reg_alpha=1e-05, max_depth=6 -   4.7s\n",
      "[CV] n_estimators=500, reg_lambda=0.001, reg_alpha=0.001, max_depth=6 \n",
      "[CV]  n_estimators=500, reg_lambda=1, reg_alpha=1e-05, max_depth=6 -   5.3s\n",
      "[CV] n_estimators=500, reg_lambda=0.001, reg_alpha=0.001, max_depth=6 \n",
      "[CV]  n_estimators=500, reg_lambda=1, reg_alpha=1e-05, max_depth=6 -   4.3s\n",
      "[CV] n_estimators=500, reg_lambda=0.001, reg_alpha=0.001, max_depth=6 \n",
      "[CV]  n_estimators=500, reg_lambda=1, reg_alpha=1e-05, max_depth=6 -  12.7s\n",
      "[CV] n_estimators=500, reg_lambda=0.1, reg_alpha=0.001, max_depth=6 ..\n",
      "[CV]  n_estimators=500, reg_lambda=0.001, reg_alpha=0.001, max_depth=6 -   6.3s\n",
      "[CV] n_estimators=500, reg_lambda=0.1, reg_alpha=0.001, max_depth=6 ..\n",
      "[CV]  n_estimators=500, reg_lambda=0.001, reg_alpha=0.001, max_depth=6 -   7.0s\n",
      "[CV] n_estimators=500, reg_lambda=0.1, reg_alpha=0.001, max_depth=6 ..\n",
      "[CV]  n_estimators=500, reg_lambda=0.001, reg_alpha=0.001, max_depth=6 -   7.1s\n",
      "[CV] n_estimators=500, reg_lambda=1, reg_alpha=0.001, max_depth=6 ....\n",
      "[CV]  n_estimators=500, reg_lambda=0.1, reg_alpha=0.001, max_depth=6 -   5.0s\n",
      "[CV] n_estimators=500, reg_lambda=1, reg_alpha=0.001, max_depth=6 ....\n",
      "[CV]  n_estimators=500, reg_lambda=0.1, reg_alpha=0.001, max_depth=6 -   4.5s\n",
      "[CV] n_estimators=500, reg_lambda=1, reg_alpha=0.001, max_depth=6 ....\n",
      "[CV]  n_estimators=500, reg_lambda=0.1, reg_alpha=0.001, max_depth=6 -   4.9s\n",
      "[CV] n_estimators=500, reg_lambda=0.001, reg_alpha=0.1, max_depth=6 ..\n",
      "[CV]  n_estimators=500, reg_lambda=1, reg_alpha=0.001, max_depth=6 -   4.6s\n",
      "[CV] n_estimators=500, reg_lambda=0.001, reg_alpha=0.1, max_depth=6 ..\n",
      "[CV]  n_estimators=500, reg_lambda=1, reg_alpha=0.001, max_depth=6 -   5.4s\n",
      "[CV] n_estimators=500, reg_lambda=0.001, reg_alpha=0.1, max_depth=6 ..\n",
      "[CV]  n_estimators=500, reg_lambda=1, reg_alpha=0.001, max_depth=6 -   4.5s\n",
      "[CV] n_estimators=500, reg_lambda=0.1, reg_alpha=0.1, max_depth=6 ....\n",
      "[CV]  n_estimators=500, reg_lambda=0.001, reg_alpha=0.1, max_depth=6 -   4.6s\n",
      "[CV] n_estimators=500, reg_lambda=0.1, reg_alpha=0.1, max_depth=6 ....\n"
     ]
    },
    {
     "name": "stderr",
     "output_type": "stream",
     "text": [
      "[Parallel(n_jobs=-1)]: Done 154 tasks      | elapsed: 56.3min\n"
     ]
    },
    {
     "name": "stdout",
     "output_type": "stream",
     "text": [
      "[CV]  n_estimators=500, reg_lambda=0.001, reg_alpha=0.1, max_depth=6 -   4.6s\n",
      "[CV] n_estimators=500, reg_lambda=0.1, reg_alpha=0.1, max_depth=6 ....\n",
      "[CV]  n_estimators=500, reg_lambda=0.001, reg_alpha=0.1, max_depth=6 -   4.3s\n",
      "[CV] n_estimators=500, reg_lambda=1, reg_alpha=0.1, max_depth=6 ......\n",
      "[CV]  n_estimators=500, reg_lambda=0.1, reg_alpha=0.1, max_depth=6 -   4.0s\n",
      "[CV] n_estimators=500, reg_lambda=1, reg_alpha=0.1, max_depth=6 ......\n",
      "[CV]  n_estimators=500, reg_lambda=0.1, reg_alpha=0.1, max_depth=6 -   4.1s\n",
      "[CV] n_estimators=500, reg_lambda=1, reg_alpha=0.1, max_depth=6 ......\n",
      "[CV]  n_estimators=500, reg_lambda=0.1, reg_alpha=0.1, max_depth=6 -   4.5s\n",
      "[CV] n_estimators=100, reg_lambda=0.001, reg_alpha=1e-05, max_depth=9 \n",
      "[CV]  n_estimators=100, reg_lambda=0.001, reg_alpha=1e-05, max_depth=9 -   1.2s\n",
      "[CV] n_estimators=100, reg_lambda=0.001, reg_alpha=1e-05, max_depth=9 \n",
      "[CV]  n_estimators=500, reg_lambda=1, reg_alpha=0.1, max_depth=6 -   4.8s\n",
      "[CV] n_estimators=100, reg_lambda=0.001, reg_alpha=1e-05, max_depth=9 \n",
      "[CV]  n_estimators=100, reg_lambda=0.001, reg_alpha=1e-05, max_depth=9 -   1.3s\n",
      "[CV] n_estimators=100, reg_lambda=0.1, reg_alpha=1e-05, max_depth=9 ..\n",
      "[CV]  n_estimators=100, reg_lambda=0.001, reg_alpha=1e-05, max_depth=9 -   1.4s\n",
      "[CV] n_estimators=100, reg_lambda=0.1, reg_alpha=1e-05, max_depth=9 ..\n",
      "[CV]  n_estimators=500, reg_lambda=1, reg_alpha=0.1, max_depth=6 -   4.4s\n",
      "[CV] n_estimators=100, reg_lambda=0.1, reg_alpha=1e-05, max_depth=9 ..\n",
      "[CV]  n_estimators=500, reg_lambda=1, reg_alpha=0.1, max_depth=6 -   5.2s\n",
      "[CV] n_estimators=100, reg_lambda=1, reg_alpha=1e-05, max_depth=9 ....\n",
      "[CV]  n_estimators=100, reg_lambda=0.1, reg_alpha=1e-05, max_depth=9 -   1.2s\n",
      "[CV] n_estimators=100, reg_lambda=1, reg_alpha=1e-05, max_depth=9 ....\n",
      "[CV]  n_estimators=100, reg_lambda=0.1, reg_alpha=1e-05, max_depth=9 -   1.2s\n",
      "[CV] n_estimators=100, reg_lambda=1, reg_alpha=1e-05, max_depth=9 ....\n",
      "[CV]  n_estimators=100, reg_lambda=0.1, reg_alpha=1e-05, max_depth=9 -   1.3s\n",
      "[CV] n_estimators=100, reg_lambda=0.001, reg_alpha=0.001, max_depth=9 \n",
      "[CV]  n_estimators=100, reg_lambda=1, reg_alpha=1e-05, max_depth=9 -   1.2s\n",
      "[CV] n_estimators=100, reg_lambda=0.001, reg_alpha=0.001, max_depth=9 \n",
      "[CV]  n_estimators=100, reg_lambda=1, reg_alpha=1e-05, max_depth=9 -   1.3s\n",
      "[CV] n_estimators=100, reg_lambda=0.001, reg_alpha=0.001, max_depth=9 \n",
      "[CV]  n_estimators=100, reg_lambda=1, reg_alpha=1e-05, max_depth=9 -   1.3s\n",
      "[CV] n_estimators=100, reg_lambda=0.1, reg_alpha=0.001, max_depth=9 ..\n",
      "[CV]  n_estimators=100, reg_lambda=0.001, reg_alpha=0.001, max_depth=9 -   1.2s\n",
      "[CV] n_estimators=100, reg_lambda=0.1, reg_alpha=0.001, max_depth=9 ..\n",
      "[CV]  n_estimators=100, reg_lambda=0.001, reg_alpha=0.001, max_depth=9 -   1.2s\n",
      "[CV] n_estimators=100, reg_lambda=0.1, reg_alpha=0.001, max_depth=9 ..\n",
      "[CV]  n_estimators=100, reg_lambda=0.001, reg_alpha=0.001, max_depth=9 -   1.5s\n",
      "[CV] n_estimators=100, reg_lambda=1, reg_alpha=0.001, max_depth=9 ....\n",
      "[CV]  n_estimators=100, reg_lambda=0.1, reg_alpha=0.001, max_depth=9 -   2.1s\n",
      "[CV] n_estimators=100, reg_lambda=1, reg_alpha=0.001, max_depth=9 ....\n",
      "[CV]  n_estimators=100, reg_lambda=0.1, reg_alpha=0.001, max_depth=9 -   1.4s\n",
      "[CV] n_estimators=100, reg_lambda=1, reg_alpha=0.001, max_depth=9 ....\n",
      "[CV]  n_estimators=100, reg_lambda=0.1, reg_alpha=0.001, max_depth=9 -   1.2s\n",
      "[CV] n_estimators=100, reg_lambda=0.001, reg_alpha=0.1, max_depth=9 ..\n",
      "[CV]  n_estimators=100, reg_lambda=1, reg_alpha=0.001, max_depth=9 -   1.2s\n",
      "[CV] n_estimators=100, reg_lambda=0.001, reg_alpha=0.1, max_depth=9 ..\n",
      "[CV]  n_estimators=100, reg_lambda=1, reg_alpha=0.001, max_depth=9 -   1.4s\n",
      "[CV] n_estimators=100, reg_lambda=0.001, reg_alpha=0.1, max_depth=9 ..\n",
      "[CV]  n_estimators=100, reg_lambda=1, reg_alpha=0.001, max_depth=9 -   2.0s\n",
      "[CV] n_estimators=100, reg_lambda=0.1, reg_alpha=0.1, max_depth=9 ....\n",
      "[CV]  n_estimators=100, reg_lambda=0.001, reg_alpha=0.1, max_depth=9 -   1.1s\n",
      "[CV] n_estimators=100, reg_lambda=0.1, reg_alpha=0.1, max_depth=9 ....\n",
      "[CV]  n_estimators=100, reg_lambda=0.001, reg_alpha=0.1, max_depth=9 -   1.3s\n",
      "[CV] n_estimators=100, reg_lambda=0.1, reg_alpha=0.1, max_depth=9 ....\n",
      "[CV]  n_estimators=100, reg_lambda=0.001, reg_alpha=0.1, max_depth=9 -   1.2s\n",
      "[CV] n_estimators=100, reg_lambda=1, reg_alpha=0.1, max_depth=9 ......\n",
      "[CV]  n_estimators=100, reg_lambda=0.1, reg_alpha=0.1, max_depth=9 -   1.1s\n",
      "[CV] n_estimators=100, reg_lambda=1, reg_alpha=0.1, max_depth=9 ......\n",
      "[CV]  n_estimators=100, reg_lambda=0.1, reg_alpha=0.1, max_depth=9 -   1.2s\n",
      "[CV] n_estimators=100, reg_lambda=1, reg_alpha=0.1, max_depth=9 ......\n",
      "[CV]  n_estimators=100, reg_lambda=0.1, reg_alpha=0.1, max_depth=9 -   1.3s\n",
      "[CV] n_estimators=250, reg_lambda=0.001, reg_alpha=1e-05, max_depth=9 \n",
      "[CV]  n_estimators=100, reg_lambda=1, reg_alpha=0.1, max_depth=9 -   1.1s\n",
      "[CV] n_estimators=250, reg_lambda=0.001, reg_alpha=1e-05, max_depth=9 \n",
      "[CV]  n_estimators=100, reg_lambda=1, reg_alpha=0.1, max_depth=9 -   1.1s\n",
      "[CV] n_estimators=250, reg_lambda=0.001, reg_alpha=1e-05, max_depth=9 \n",
      "[CV]  n_estimators=100, reg_lambda=1, reg_alpha=0.1, max_depth=9 -   1.2s\n",
      "[CV] n_estimators=250, reg_lambda=0.1, reg_alpha=1e-05, max_depth=9 ..\n",
      "[CV]  n_estimators=250, reg_lambda=0.001, reg_alpha=1e-05, max_depth=9 -   4.1s\n",
      "[CV] n_estimators=250, reg_lambda=0.1, reg_alpha=1e-05, max_depth=9 ..\n",
      "[CV]  n_estimators=250, reg_lambda=0.001, reg_alpha=1e-05, max_depth=9 -   3.7s\n",
      "[CV] n_estimators=250, reg_lambda=0.1, reg_alpha=1e-05, max_depth=9 ..\n",
      "[CV]  n_estimators=250, reg_lambda=0.001, reg_alpha=1e-05, max_depth=9 -   4.0s\n",
      "[CV] n_estimators=250, reg_lambda=1, reg_alpha=1e-05, max_depth=9 ....\n",
      "[CV]  n_estimators=250, reg_lambda=0.1, reg_alpha=1e-05, max_depth=9 -   3.6s\n",
      "[CV] n_estimators=250, reg_lambda=1, reg_alpha=1e-05, max_depth=9 ....\n",
      "[CV]  n_estimators=250, reg_lambda=0.1, reg_alpha=1e-05, max_depth=9 -   3.7s\n",
      "[CV] n_estimators=250, reg_lambda=1, reg_alpha=1e-05, max_depth=9 ....\n",
      "[CV]  n_estimators=250, reg_lambda=0.1, reg_alpha=1e-05, max_depth=9 -   4.0s\n",
      "[CV] n_estimators=250, reg_lambda=0.001, reg_alpha=0.001, max_depth=9 \n",
      "[CV]  n_estimators=250, reg_lambda=1, reg_alpha=1e-05, max_depth=9 -   3.7s\n",
      "[CV] n_estimators=250, reg_lambda=0.001, reg_alpha=0.001, max_depth=9 \n",
      "[CV]  n_estimators=250, reg_lambda=1, reg_alpha=1e-05, max_depth=9 -   3.7s\n",
      "[CV] n_estimators=250, reg_lambda=0.001, reg_alpha=0.001, max_depth=9 \n",
      "[CV]  n_estimators=250, reg_lambda=1, reg_alpha=1e-05, max_depth=9 -   4.0s\n",
      "[CV] n_estimators=250, reg_lambda=0.1, reg_alpha=0.001, max_depth=9 ..\n",
      "[CV]  n_estimators=250, reg_lambda=0.001, reg_alpha=0.001, max_depth=9 -   3.7s\n",
      "[CV] n_estimators=250, reg_lambda=0.1, reg_alpha=0.001, max_depth=9 ..\n",
      "[CV]  n_estimators=250, reg_lambda=0.001, reg_alpha=0.001, max_depth=9 -   4.0s\n",
      "[CV] n_estimators=250, reg_lambda=0.1, reg_alpha=0.001, max_depth=9 ..\n",
      "[CV]  n_estimators=250, reg_lambda=0.001, reg_alpha=0.001, max_depth=9 -   4.0s\n",
      "[CV] n_estimators=250, reg_lambda=1, reg_alpha=0.001, max_depth=9 ....\n",
      "[CV]  n_estimators=250, reg_lambda=0.1, reg_alpha=0.001, max_depth=9 -   3.6s\n",
      "[CV] n_estimators=250, reg_lambda=1, reg_alpha=0.001, max_depth=9 ....\n",
      "[CV]  n_estimators=250, reg_lambda=0.1, reg_alpha=0.001, max_depth=9 -   3.6s\n",
      "[CV] n_estimators=250, reg_lambda=1, reg_alpha=0.001, max_depth=9 ....\n",
      "[CV]  n_estimators=250, reg_lambda=0.1, reg_alpha=0.001, max_depth=9 -   4.1s\n",
      "[CV] n_estimators=250, reg_lambda=0.001, reg_alpha=0.1, max_depth=9 ..\n",
      "[CV]  n_estimators=250, reg_lambda=1, reg_alpha=0.001, max_depth=9 -   3.6s\n",
      "[CV] n_estimators=250, reg_lambda=0.001, reg_alpha=0.1, max_depth=9 ..\n",
      "[CV]  n_estimators=250, reg_lambda=1, reg_alpha=0.001, max_depth=9 -   3.7s\n",
      "[CV] n_estimators=250, reg_lambda=0.001, reg_alpha=0.1, max_depth=9 ..\n",
      "[CV]  n_estimators=250, reg_lambda=1, reg_alpha=0.001, max_depth=9 -   4.0s\n",
      "[CV] n_estimators=250, reg_lambda=0.1, reg_alpha=0.1, max_depth=9 ....\n",
      "[CV]  n_estimators=250, reg_lambda=0.001, reg_alpha=0.1, max_depth=9 -   3.8s\n",
      "[CV] n_estimators=250, reg_lambda=0.1, reg_alpha=0.1, max_depth=9 ....\n",
      "[CV]  n_estimators=250, reg_lambda=0.001, reg_alpha=0.1, max_depth=9 -   3.6s\n",
      "[CV] n_estimators=250, reg_lambda=0.1, reg_alpha=0.1, max_depth=9 ....\n",
      "[CV]  n_estimators=250, reg_lambda=0.001, reg_alpha=0.1, max_depth=9 -   4.2s\n",
      "[CV] n_estimators=250, reg_lambda=1, reg_alpha=0.1, max_depth=9 ......\n",
      "[CV]  n_estimators=250, reg_lambda=0.1, reg_alpha=0.1, max_depth=9 -   3.7s\n",
      "[CV] n_estimators=250, reg_lambda=1, reg_alpha=0.1, max_depth=9 ......\n",
      "[CV]  n_estimators=250, reg_lambda=0.1, reg_alpha=0.1, max_depth=9 -   3.9s\n",
      "[CV] n_estimators=250, reg_lambda=1, reg_alpha=0.1, max_depth=9 ......\n",
      "[CV]  n_estimators=250, reg_lambda=0.1, reg_alpha=0.1, max_depth=9 -   4.0s\n",
      "[CV] n_estimators=500, reg_lambda=0.001, reg_alpha=1e-05, max_depth=9 \n",
      "[CV]  n_estimators=250, reg_lambda=1, reg_alpha=0.1, max_depth=9 -   3.7s\n",
      "[CV] n_estimators=500, reg_lambda=0.001, reg_alpha=1e-05, max_depth=9 \n",
      "[CV]  n_estimators=250, reg_lambda=1, reg_alpha=0.1, max_depth=9 -   4.1s\n",
      "[CV] n_estimators=500, reg_lambda=0.001, reg_alpha=1e-05, max_depth=9 \n",
      "[CV]  n_estimators=250, reg_lambda=1, reg_alpha=0.1, max_depth=9 -   5.1s\n",
      "[CV] n_estimators=500, reg_lambda=0.1, reg_alpha=1e-05, max_depth=9 ..\n",
      "[CV]  n_estimators=500, reg_lambda=0.001, reg_alpha=1e-05, max_depth=9 -  11.6s\n",
      "[CV] n_estimators=500, reg_lambda=0.1, reg_alpha=1e-05, max_depth=9 ..\n",
      "[CV]  n_estimators=500, reg_lambda=0.001, reg_alpha=1e-05, max_depth=9 -  11.8s\n",
      "[CV] n_estimators=500, reg_lambda=0.1, reg_alpha=1e-05, max_depth=9 ..\n",
      "[CV]  n_estimators=500, reg_lambda=0.001, reg_alpha=1e-05, max_depth=9 -  14.8s\n",
      "[CV] n_estimators=500, reg_lambda=1, reg_alpha=1e-05, max_depth=9 ....\n",
      "[CV]  n_estimators=500, reg_lambda=0.1, reg_alpha=1e-05, max_depth=9 -  11.7s\n",
      "[CV] n_estimators=500, reg_lambda=1, reg_alpha=1e-05, max_depth=9 ....\n",
      "[CV]  n_estimators=500, reg_lambda=0.1, reg_alpha=1e-05, max_depth=9 -  12.9s\n",
      "[CV] n_estimators=500, reg_lambda=1, reg_alpha=1e-05, max_depth=9 ....\n",
      "[CV]  n_estimators=500, reg_lambda=0.1, reg_alpha=1e-05, max_depth=9 -  11.8s\n",
      "[CV] n_estimators=500, reg_lambda=0.001, reg_alpha=0.001, max_depth=9 \n",
      "[CV]  n_estimators=500, reg_lambda=1, reg_alpha=1e-05, max_depth=9 -  10.1s\n",
      "[CV] n_estimators=500, reg_lambda=0.001, reg_alpha=0.001, max_depth=9 \n",
      "[CV]  n_estimators=500, reg_lambda=1, reg_alpha=1e-05, max_depth=9 -  14.1s\n",
      "[CV] n_estimators=500, reg_lambda=0.001, reg_alpha=0.001, max_depth=9 \n",
      "[CV]  n_estimators=500, reg_lambda=1, reg_alpha=1e-05, max_depth=9 -  16.6s\n",
      "[CV] n_estimators=500, reg_lambda=0.1, reg_alpha=0.001, max_depth=9 ..\n",
      "[CV]  n_estimators=500, reg_lambda=0.001, reg_alpha=0.001, max_depth=9 -  14.7s\n",
      "[CV] n_estimators=500, reg_lambda=0.1, reg_alpha=0.001, max_depth=9 ..\n",
      "[CV]  n_estimators=500, reg_lambda=0.001, reg_alpha=0.001, max_depth=9 -  19.2s\n",
      "[CV] n_estimators=500, reg_lambda=0.1, reg_alpha=0.001, max_depth=9 ..\n",
      "[CV]  n_estimators=500, reg_lambda=0.001, reg_alpha=0.001, max_depth=9 -  17.1s\n",
      "[CV] n_estimators=500, reg_lambda=1, reg_alpha=0.001, max_depth=9 ....\n",
      "[CV]  n_estimators=500, reg_lambda=0.1, reg_alpha=0.001, max_depth=9 -  15.0s\n",
      "[CV] n_estimators=500, reg_lambda=1, reg_alpha=0.001, max_depth=9 ....\n",
      "[CV]  n_estimators=500, reg_lambda=0.1, reg_alpha=0.001, max_depth=9 -  18.7s\n",
      "[CV] n_estimators=500, reg_lambda=1, reg_alpha=0.001, max_depth=9 ....\n",
      "[CV]  n_estimators=500, reg_lambda=0.1, reg_alpha=0.001, max_depth=9 -  21.7s\n",
      "[CV] n_estimators=500, reg_lambda=0.001, reg_alpha=0.1, max_depth=9 ..\n",
      "[CV]  n_estimators=500, reg_lambda=1, reg_alpha=0.001, max_depth=9 -  19.0s\n",
      "[CV] n_estimators=500, reg_lambda=0.001, reg_alpha=0.1, max_depth=9 ..\n",
      "[CV]  n_estimators=500, reg_lambda=1, reg_alpha=0.001, max_depth=9 -  17.6s\n",
      "[CV] n_estimators=500, reg_lambda=0.001, reg_alpha=0.1, max_depth=9 ..\n",
      "[CV]  n_estimators=500, reg_lambda=1, reg_alpha=0.001, max_depth=9 -  21.5s\n",
      "[CV] n_estimators=500, reg_lambda=0.1, reg_alpha=0.1, max_depth=9 ....\n",
      "[CV]  n_estimators=500, reg_lambda=0.001, reg_alpha=0.1, max_depth=9 -  16.9s\n",
      "[CV] n_estimators=500, reg_lambda=0.1, reg_alpha=0.1, max_depth=9 ....\n",
      "[CV]  n_estimators=500, reg_lambda=0.001, reg_alpha=0.1, max_depth=9 -  17.1s\n",
      "[CV] n_estimators=500, reg_lambda=0.1, reg_alpha=0.1, max_depth=9 ....\n",
      "[CV]  n_estimators=500, reg_lambda=0.001, reg_alpha=0.1, max_depth=9 -  17.2s\n",
      "[CV] n_estimators=500, reg_lambda=1, reg_alpha=0.1, max_depth=9 ......\n",
      "[CV]  n_estimators=500, reg_lambda=0.1, reg_alpha=0.1, max_depth=9 -  13.5s\n",
      "[CV] n_estimators=500, reg_lambda=1, reg_alpha=0.1, max_depth=9 ......\n",
      "[CV]  n_estimators=500, reg_lambda=0.1, reg_alpha=0.1, max_depth=9 -  19.1s\n",
      "[CV] n_estimators=500, reg_lambda=1, reg_alpha=0.1, max_depth=9 ......\n",
      "[CV]  n_estimators=500, reg_lambda=0.1, reg_alpha=0.1, max_depth=9 -  21.3s\n",
      "[CV]  n_estimators=500, reg_lambda=1, reg_alpha=0.1, max_depth=9 -  10.8s\n",
      "[CV]  n_estimators=500, reg_lambda=1, reg_alpha=0.1, max_depth=9 -   9.0s\n",
      "[CV]  n_estimators=500, reg_lambda=1, reg_alpha=0.1, max_depth=9 -   8.6s\n"
     ]
    },
    {
     "name": "stderr",
     "output_type": "stream",
     "text": [
      "[Parallel(n_jobs=-1)]: Done 243 out of 243 | elapsed: 134.4min finished\n"
     ]
    }
   ],
   "source": [
    "result = grid_search.fit(X_train_scaled, y_train)"
   ]
  },
  {
   "cell_type": "code",
   "execution_count": 37,
   "metadata": {
    "collapsed": true
   },
   "outputs": [],
   "source": [
    "import cPickle as pickle"
   ]
  },
  {
   "cell_type": "code",
   "execution_count": 38,
   "metadata": {
    "collapsed": true
   },
   "outputs": [],
   "source": [
    "pickle.dump((grid_search, result), open( \"xgb gridsearch and results.pkl\", \"wb\" ) )"
   ]
  },
  {
   "cell_type": "code",
   "execution_count": 39,
   "metadata": {
    "collapsed": false
   },
   "outputs": [
    {
     "data": {
      "text/plain": [
       "{'mean_fit_time': array([  22.47146734,   19.85001024,   18.88750442,   19.05822746,\n",
       "          18.78651031,   20.00944002,   21.43022664,   23.52011832,\n",
       "          18.54295969,   45.00260838,   45.99241924,   47.29698006,\n",
       "          47.67425768,   43.60707927,   44.10489106,   44.84957798,\n",
       "          43.919686  ,   43.47668465,   86.81721862,   86.67804432,\n",
       "          91.35499477,  102.640498  ,   95.7173396 ,   96.57667494,\n",
       "         102.3701551 ,   95.73338199,   94.18298801,   39.80882366,\n",
       "          43.65931567,   42.42765705,   38.12971965,   38.45218102,\n",
       "          38.24791106,   37.63723095,   38.28630408,   40.42925262,\n",
       "         105.61946464,  108.43322961,  107.24544835,  107.80645768,\n",
       "         103.35916114,   97.95467575,   97.98183091,   99.43998098,\n",
       "         107.10949628,  202.54374401,  194.41516336,  204.30298233,\n",
       "         313.67145197,  223.47959693,  188.01607633,  189.07257533,\n",
       "         183.10826127,  187.89160872,   62.74625071,   61.75910044,\n",
       "          62.5911816 ,   63.4838237 ,   64.60604366,   59.78916963,\n",
       "          60.54867752,   56.1776793 ,   58.63835327,  139.06640402,\n",
       "         135.61382731,  134.05349803,  134.35580373,  134.53863064,\n",
       "         135.34126663,  137.74004738,  144.99287208,  143.55949601,\n",
       "         298.56969301,  310.15868433,  327.98374923,  380.83669599,\n",
       "         389.13507271,  444.9323643 ,  465.68078033,  399.23097968,\n",
       "         318.15350103]),\n",
       " 'mean_score_time': array([  0.64510202,   0.42531403,   0.36831458,   0.47510425,\n",
       "          0.334831  ,   0.32499361,   0.36263768,   0.40617736,\n",
       "          0.33033705,   0.83359599,   0.85212811,   0.82079935,\n",
       "          0.87318301,   0.79149508,   0.81061602,   0.85486698,\n",
       "          0.83743834,   0.79407867,   1.96986628,   1.9699014 ,\n",
       "          2.13690694,   2.23936931,   2.51991105,   2.35435534,\n",
       "          2.4416492 ,   2.04840358,   2.08888197,   0.61286894,\n",
       "          0.816492  ,   0.64597535,   0.64961934,   0.62140663,\n",
       "          0.62591966,   0.62220828,   0.62799899,   0.91073902,\n",
       "          2.45118427,   1.96037833,   2.40257279,   2.28467162,\n",
       "          2.11549822,   2.02359533,   1.99199939,   2.09874129,\n",
       "          2.43012071,   5.05041567,   4.47006869,   7.42688624,\n",
       "          6.80764429,   4.78142881,   4.81631398,   4.48680139,\n",
       "          4.20406866,   4.8163929 ,   1.28546071,   1.23436419,\n",
       "          1.23773265,   1.26887202,   1.57145294,   1.5407354 ,\n",
       "          1.21871765,   1.18149567,   1.13583446,   3.95044796,\n",
       "          3.75426229,   3.82978996,   3.87594604,   3.78032033,\n",
       "          3.78483701,   3.86818258,   3.87522388,   4.31407698,\n",
       "         12.73754597,  12.12339306,  13.60442074,  17.01043169,\n",
       "         18.49543595,  19.34253867,  17.0617253 ,  17.94042699,   9.46461463]),\n",
       " 'mean_test_score': array([ 0.47476509,  0.47481771,  0.47836477,  0.47476509,  0.47481771,\n",
       "         0.47836477,  0.47476534,  0.47481795,  0.47836479,  0.47250483,\n",
       "         0.47744062,  0.48390166,  0.47250484,  0.47744063,  0.48390166,\n",
       "         0.47895337,  0.47744106,  0.48390186,  0.45305078,  0.47485295,\n",
       "         0.47797076,  0.45305083,  0.47485296,  0.47797077,  0.4681252 ,\n",
       "         0.47485382,  0.4779718 ,  0.43881415,  0.46167842,  0.48331064,\n",
       "         0.43881423,  0.46167846,  0.48331065,  0.44369675,  0.46168283,\n",
       "         0.48331197,  0.35605434,  0.38107234,  0.44572734,  0.35605463,\n",
       "         0.38107256,  0.4457274 ,  0.37149349,  0.38264133,  0.4445941 ,\n",
       "         0.26132655,  0.26890554,  0.3989032 ,  0.261327  ,  0.26890589,\n",
       "         0.3989033 ,  0.30566842,  0.29996746,  0.39139257,  0.36714381,\n",
       "         0.39205064,  0.40212936,  0.36714405,  0.39206942,  0.40212902,\n",
       "         0.37245284,  0.38867676,  0.40326716,  0.27551112,  0.31712893,\n",
       "         0.35460872,  0.27551179,  0.32270191,  0.35407602,  0.28001021,\n",
       "         0.30735607,  0.35042325,  0.21114584,  0.23148839,  0.31036296,\n",
       "         0.20403695,  0.23413726,  0.30455753,  0.20892431,  0.22948024,\n",
       "         0.30888958]),\n",
       " 'mean_train_score': array([ 0.53234346,  0.53233605,  0.53230937,  0.53234346,  0.53233605,\n",
       "         0.53230937,  0.53234342,  0.53233601,  0.53230933,  0.57047365,\n",
       "         0.57112058,  0.57142654,  0.57047365,  0.57112057,  0.57142654,\n",
       "         0.57053486,  0.57112051,  0.57142648,  0.59332666,  0.59350791,\n",
       "         0.59318737,  0.59332666,  0.5935079 ,  0.59318737,  0.59334044,\n",
       "         0.59350778,  0.59318726,  0.63510804,  0.6338578 ,  0.63299249,\n",
       "         0.63510803,  0.6338578 ,  0.63299248,  0.63527208,  0.6338571 ,\n",
       "         0.63299202,  0.66823407,  0.66803645,  0.6642309 ,  0.66823405,\n",
       "         0.66803643,  0.66423089,  0.66835504,  0.66824809,  0.66412709,\n",
       "         0.70165232,  0.70107866,  0.69507789,  0.70165228,  0.70107863,\n",
       "         0.69507787,  0.7013474 ,  0.70088766,  0.69564498,  0.73353895,\n",
       "         0.73017286,  0.72482406,  0.7335389 ,  0.73017308,  0.72482403,\n",
       "         0.73325362,  0.72999212,  0.72706969,  0.77799831,  0.77652584,\n",
       "         0.76795271,  0.7779982 ,  0.77764112,  0.76779032,  0.78021514,\n",
       "         0.77756907,  0.76924628,  0.82742815,  0.82474962,  0.81420268,\n",
       "         0.82730749,  0.82604533,  0.8141921 ,  0.82947992,  0.8257738 ,\n",
       "         0.81282365]),\n",
       " 'param_max_depth': masked_array(data = [3 3 3 3 3 3 3 3 3 3 3 3 3 3 3 3 3 3 3 3 3 3 3 3 3 3 3 6 6 6 6 6 6 6 6 6 6\n",
       "  6 6 6 6 6 6 6 6 6 6 6 6 6 6 6 6 6 9 9 9 9 9 9 9 9 9 9 9 9 9 9 9 9 9 9 9 9\n",
       "  9 9 9 9 9 9 9],\n",
       "              mask = [False False False False False False False False False False False False\n",
       "  False False False False False False False False False False False False\n",
       "  False False False False False False False False False False False False\n",
       "  False False False False False False False False False False False False\n",
       "  False False False False False False False False False False False False\n",
       "  False False False False False False False False False False False False\n",
       "  False False False False False False False False False],\n",
       "        fill_value = ?),\n",
       " 'param_n_estimators': masked_array(data = [100 100 100 100 100 100 100 100 100 250 250 250 250 250 250 250 250 250\n",
       "  500 500 500 500 500 500 500 500 500 100 100 100 100 100 100 100 100 100\n",
       "  250 250 250 250 250 250 250 250 250 500 500 500 500 500 500 500 500 500\n",
       "  100 100 100 100 100 100 100 100 100 250 250 250 250 250 250 250 250 250\n",
       "  500 500 500 500 500 500 500 500 500],\n",
       "              mask = [False False False False False False False False False False False False\n",
       "  False False False False False False False False False False False False\n",
       "  False False False False False False False False False False False False\n",
       "  False False False False False False False False False False False False\n",
       "  False False False False False False False False False False False False\n",
       "  False False False False False False False False False False False False\n",
       "  False False False False False False False False False],\n",
       "        fill_value = ?),\n",
       " 'param_reg_alpha': masked_array(data = [1e-05 1e-05 1e-05 0.001 0.001 0.001 0.1 0.1 0.1 1e-05 1e-05 1e-05 0.001\n",
       "  0.001 0.001 0.1 0.1 0.1 1e-05 1e-05 1e-05 0.001 0.001 0.001 0.1 0.1 0.1\n",
       "  1e-05 1e-05 1e-05 0.001 0.001 0.001 0.1 0.1 0.1 1e-05 1e-05 1e-05 0.001\n",
       "  0.001 0.001 0.1 0.1 0.1 1e-05 1e-05 1e-05 0.001 0.001 0.001 0.1 0.1 0.1\n",
       "  1e-05 1e-05 1e-05 0.001 0.001 0.001 0.1 0.1 0.1 1e-05 1e-05 1e-05 0.001\n",
       "  0.001 0.001 0.1 0.1 0.1 1e-05 1e-05 1e-05 0.001 0.001 0.001 0.1 0.1 0.1],\n",
       "              mask = [False False False False False False False False False False False False\n",
       "  False False False False False False False False False False False False\n",
       "  False False False False False False False False False False False False\n",
       "  False False False False False False False False False False False False\n",
       "  False False False False False False False False False False False False\n",
       "  False False False False False False False False False False False False\n",
       "  False False False False False False False False False],\n",
       "        fill_value = ?),\n",
       " 'param_reg_lambda': masked_array(data = [0.001 0.1 1 0.001 0.1 1 0.001 0.1 1 0.001 0.1 1 0.001 0.1 1 0.001 0.1 1\n",
       "  0.001 0.1 1 0.001 0.1 1 0.001 0.1 1 0.001 0.1 1 0.001 0.1 1 0.001 0.1 1\n",
       "  0.001 0.1 1 0.001 0.1 1 0.001 0.1 1 0.001 0.1 1 0.001 0.1 1 0.001 0.1 1\n",
       "  0.001 0.1 1 0.001 0.1 1 0.001 0.1 1 0.001 0.1 1 0.001 0.1 1 0.001 0.1 1\n",
       "  0.001 0.1 1 0.001 0.1 1 0.001 0.1 1],\n",
       "              mask = [False False False False False False False False False False False False\n",
       "  False False False False False False False False False False False False\n",
       "  False False False False False False False False False False False False\n",
       "  False False False False False False False False False False False False\n",
       "  False False False False False False False False False False False False\n",
       "  False False False False False False False False False False False False\n",
       "  False False False False False False False False False],\n",
       "        fill_value = ?),\n",
       " 'params': ({'max_depth': 3,\n",
       "   'n_estimators': 100,\n",
       "   'reg_alpha': 1e-05,\n",
       "   'reg_lambda': 0.001},\n",
       "  {'max_depth': 3, 'n_estimators': 100, 'reg_alpha': 1e-05, 'reg_lambda': 0.1},\n",
       "  {'max_depth': 3, 'n_estimators': 100, 'reg_alpha': 1e-05, 'reg_lambda': 1},\n",
       "  {'max_depth': 3,\n",
       "   'n_estimators': 100,\n",
       "   'reg_alpha': 0.001,\n",
       "   'reg_lambda': 0.001},\n",
       "  {'max_depth': 3, 'n_estimators': 100, 'reg_alpha': 0.001, 'reg_lambda': 0.1},\n",
       "  {'max_depth': 3, 'n_estimators': 100, 'reg_alpha': 0.001, 'reg_lambda': 1},\n",
       "  {'max_depth': 3, 'n_estimators': 100, 'reg_alpha': 0.1, 'reg_lambda': 0.001},\n",
       "  {'max_depth': 3, 'n_estimators': 100, 'reg_alpha': 0.1, 'reg_lambda': 0.1},\n",
       "  {'max_depth': 3, 'n_estimators': 100, 'reg_alpha': 0.1, 'reg_lambda': 1},\n",
       "  {'max_depth': 3,\n",
       "   'n_estimators': 250,\n",
       "   'reg_alpha': 1e-05,\n",
       "   'reg_lambda': 0.001},\n",
       "  {'max_depth': 3, 'n_estimators': 250, 'reg_alpha': 1e-05, 'reg_lambda': 0.1},\n",
       "  {'max_depth': 3, 'n_estimators': 250, 'reg_alpha': 1e-05, 'reg_lambda': 1},\n",
       "  {'max_depth': 3,\n",
       "   'n_estimators': 250,\n",
       "   'reg_alpha': 0.001,\n",
       "   'reg_lambda': 0.001},\n",
       "  {'max_depth': 3, 'n_estimators': 250, 'reg_alpha': 0.001, 'reg_lambda': 0.1},\n",
       "  {'max_depth': 3, 'n_estimators': 250, 'reg_alpha': 0.001, 'reg_lambda': 1},\n",
       "  {'max_depth': 3, 'n_estimators': 250, 'reg_alpha': 0.1, 'reg_lambda': 0.001},\n",
       "  {'max_depth': 3, 'n_estimators': 250, 'reg_alpha': 0.1, 'reg_lambda': 0.1},\n",
       "  {'max_depth': 3, 'n_estimators': 250, 'reg_alpha': 0.1, 'reg_lambda': 1},\n",
       "  {'max_depth': 3,\n",
       "   'n_estimators': 500,\n",
       "   'reg_alpha': 1e-05,\n",
       "   'reg_lambda': 0.001},\n",
       "  {'max_depth': 3, 'n_estimators': 500, 'reg_alpha': 1e-05, 'reg_lambda': 0.1},\n",
       "  {'max_depth': 3, 'n_estimators': 500, 'reg_alpha': 1e-05, 'reg_lambda': 1},\n",
       "  {'max_depth': 3,\n",
       "   'n_estimators': 500,\n",
       "   'reg_alpha': 0.001,\n",
       "   'reg_lambda': 0.001},\n",
       "  {'max_depth': 3, 'n_estimators': 500, 'reg_alpha': 0.001, 'reg_lambda': 0.1},\n",
       "  {'max_depth': 3, 'n_estimators': 500, 'reg_alpha': 0.001, 'reg_lambda': 1},\n",
       "  {'max_depth': 3, 'n_estimators': 500, 'reg_alpha': 0.1, 'reg_lambda': 0.001},\n",
       "  {'max_depth': 3, 'n_estimators': 500, 'reg_alpha': 0.1, 'reg_lambda': 0.1},\n",
       "  {'max_depth': 3, 'n_estimators': 500, 'reg_alpha': 0.1, 'reg_lambda': 1},\n",
       "  {'max_depth': 6,\n",
       "   'n_estimators': 100,\n",
       "   'reg_alpha': 1e-05,\n",
       "   'reg_lambda': 0.001},\n",
       "  {'max_depth': 6, 'n_estimators': 100, 'reg_alpha': 1e-05, 'reg_lambda': 0.1},\n",
       "  {'max_depth': 6, 'n_estimators': 100, 'reg_alpha': 1e-05, 'reg_lambda': 1},\n",
       "  {'max_depth': 6,\n",
       "   'n_estimators': 100,\n",
       "   'reg_alpha': 0.001,\n",
       "   'reg_lambda': 0.001},\n",
       "  {'max_depth': 6, 'n_estimators': 100, 'reg_alpha': 0.001, 'reg_lambda': 0.1},\n",
       "  {'max_depth': 6, 'n_estimators': 100, 'reg_alpha': 0.001, 'reg_lambda': 1},\n",
       "  {'max_depth': 6, 'n_estimators': 100, 'reg_alpha': 0.1, 'reg_lambda': 0.001},\n",
       "  {'max_depth': 6, 'n_estimators': 100, 'reg_alpha': 0.1, 'reg_lambda': 0.1},\n",
       "  {'max_depth': 6, 'n_estimators': 100, 'reg_alpha': 0.1, 'reg_lambda': 1},\n",
       "  {'max_depth': 6,\n",
       "   'n_estimators': 250,\n",
       "   'reg_alpha': 1e-05,\n",
       "   'reg_lambda': 0.001},\n",
       "  {'max_depth': 6, 'n_estimators': 250, 'reg_alpha': 1e-05, 'reg_lambda': 0.1},\n",
       "  {'max_depth': 6, 'n_estimators': 250, 'reg_alpha': 1e-05, 'reg_lambda': 1},\n",
       "  {'max_depth': 6,\n",
       "   'n_estimators': 250,\n",
       "   'reg_alpha': 0.001,\n",
       "   'reg_lambda': 0.001},\n",
       "  {'max_depth': 6, 'n_estimators': 250, 'reg_alpha': 0.001, 'reg_lambda': 0.1},\n",
       "  {'max_depth': 6, 'n_estimators': 250, 'reg_alpha': 0.001, 'reg_lambda': 1},\n",
       "  {'max_depth': 6, 'n_estimators': 250, 'reg_alpha': 0.1, 'reg_lambda': 0.001},\n",
       "  {'max_depth': 6, 'n_estimators': 250, 'reg_alpha': 0.1, 'reg_lambda': 0.1},\n",
       "  {'max_depth': 6, 'n_estimators': 250, 'reg_alpha': 0.1, 'reg_lambda': 1},\n",
       "  {'max_depth': 6,\n",
       "   'n_estimators': 500,\n",
       "   'reg_alpha': 1e-05,\n",
       "   'reg_lambda': 0.001},\n",
       "  {'max_depth': 6, 'n_estimators': 500, 'reg_alpha': 1e-05, 'reg_lambda': 0.1},\n",
       "  {'max_depth': 6, 'n_estimators': 500, 'reg_alpha': 1e-05, 'reg_lambda': 1},\n",
       "  {'max_depth': 6,\n",
       "   'n_estimators': 500,\n",
       "   'reg_alpha': 0.001,\n",
       "   'reg_lambda': 0.001},\n",
       "  {'max_depth': 6, 'n_estimators': 500, 'reg_alpha': 0.001, 'reg_lambda': 0.1},\n",
       "  {'max_depth': 6, 'n_estimators': 500, 'reg_alpha': 0.001, 'reg_lambda': 1},\n",
       "  {'max_depth': 6, 'n_estimators': 500, 'reg_alpha': 0.1, 'reg_lambda': 0.001},\n",
       "  {'max_depth': 6, 'n_estimators': 500, 'reg_alpha': 0.1, 'reg_lambda': 0.1},\n",
       "  {'max_depth': 6, 'n_estimators': 500, 'reg_alpha': 0.1, 'reg_lambda': 1},\n",
       "  {'max_depth': 9,\n",
       "   'n_estimators': 100,\n",
       "   'reg_alpha': 1e-05,\n",
       "   'reg_lambda': 0.001},\n",
       "  {'max_depth': 9, 'n_estimators': 100, 'reg_alpha': 1e-05, 'reg_lambda': 0.1},\n",
       "  {'max_depth': 9, 'n_estimators': 100, 'reg_alpha': 1e-05, 'reg_lambda': 1},\n",
       "  {'max_depth': 9,\n",
       "   'n_estimators': 100,\n",
       "   'reg_alpha': 0.001,\n",
       "   'reg_lambda': 0.001},\n",
       "  {'max_depth': 9, 'n_estimators': 100, 'reg_alpha': 0.001, 'reg_lambda': 0.1},\n",
       "  {'max_depth': 9, 'n_estimators': 100, 'reg_alpha': 0.001, 'reg_lambda': 1},\n",
       "  {'max_depth': 9, 'n_estimators': 100, 'reg_alpha': 0.1, 'reg_lambda': 0.001},\n",
       "  {'max_depth': 9, 'n_estimators': 100, 'reg_alpha': 0.1, 'reg_lambda': 0.1},\n",
       "  {'max_depth': 9, 'n_estimators': 100, 'reg_alpha': 0.1, 'reg_lambda': 1},\n",
       "  {'max_depth': 9,\n",
       "   'n_estimators': 250,\n",
       "   'reg_alpha': 1e-05,\n",
       "   'reg_lambda': 0.001},\n",
       "  {'max_depth': 9, 'n_estimators': 250, 'reg_alpha': 1e-05, 'reg_lambda': 0.1},\n",
       "  {'max_depth': 9, 'n_estimators': 250, 'reg_alpha': 1e-05, 'reg_lambda': 1},\n",
       "  {'max_depth': 9,\n",
       "   'n_estimators': 250,\n",
       "   'reg_alpha': 0.001,\n",
       "   'reg_lambda': 0.001},\n",
       "  {'max_depth': 9, 'n_estimators': 250, 'reg_alpha': 0.001, 'reg_lambda': 0.1},\n",
       "  {'max_depth': 9, 'n_estimators': 250, 'reg_alpha': 0.001, 'reg_lambda': 1},\n",
       "  {'max_depth': 9, 'n_estimators': 250, 'reg_alpha': 0.1, 'reg_lambda': 0.001},\n",
       "  {'max_depth': 9, 'n_estimators': 250, 'reg_alpha': 0.1, 'reg_lambda': 0.1},\n",
       "  {'max_depth': 9, 'n_estimators': 250, 'reg_alpha': 0.1, 'reg_lambda': 1},\n",
       "  {'max_depth': 9,\n",
       "   'n_estimators': 500,\n",
       "   'reg_alpha': 1e-05,\n",
       "   'reg_lambda': 0.001},\n",
       "  {'max_depth': 9, 'n_estimators': 500, 'reg_alpha': 1e-05, 'reg_lambda': 0.1},\n",
       "  {'max_depth': 9, 'n_estimators': 500, 'reg_alpha': 1e-05, 'reg_lambda': 1},\n",
       "  {'max_depth': 9,\n",
       "   'n_estimators': 500,\n",
       "   'reg_alpha': 0.001,\n",
       "   'reg_lambda': 0.001},\n",
       "  {'max_depth': 9, 'n_estimators': 500, 'reg_alpha': 0.001, 'reg_lambda': 0.1},\n",
       "  {'max_depth': 9, 'n_estimators': 500, 'reg_alpha': 0.001, 'reg_lambda': 1},\n",
       "  {'max_depth': 9, 'n_estimators': 500, 'reg_alpha': 0.1, 'reg_lambda': 0.001},\n",
       "  {'max_depth': 9, 'n_estimators': 500, 'reg_alpha': 0.1, 'reg_lambda': 0.1},\n",
       "  {'max_depth': 9, 'n_estimators': 500, 'reg_alpha': 0.1, 'reg_lambda': 1}),\n",
       " 'rank_test_score': array([25, 22, 10, 24, 21,  9, 23, 20,  8, 27, 16,  3, 26, 15,  2,  7, 14,\n",
       "         1, 33, 19, 13, 32, 18, 12, 28, 17, 11, 39, 31,  6, 38, 30,  5, 37,\n",
       "        29,  4, 57, 51, 35, 56, 50, 34, 53, 49, 36, 75, 73, 44, 74, 72, 43,\n",
       "        66, 68, 47, 55, 46, 41, 54, 45, 42, 52, 48, 40, 71, 62, 58, 70, 61,\n",
       "        59, 69, 65, 60, 79, 77, 63, 81, 76, 67, 80, 78, 64], dtype=int32),\n",
       " 'split0_test_score': array([ 0.49474562,  0.4947435 ,  0.49848254,  0.49474562,  0.4947435 ,\n",
       "         0.49848254,  0.49474561,  0.49474349,  0.49848253,  0.51155364,\n",
       "         0.51519969,  0.51491556,  0.51155365,  0.5151997 ,  0.51491556,\n",
       "         0.51155414,  0.51520025,  0.51491582,  0.51140193,  0.51334442,\n",
       "         0.51074804,  0.51140195,  0.51334443,  0.51074807,  0.51140374,\n",
       "         0.51334641,  0.51075093,  0.49165984,  0.49945349,  0.50725681,\n",
       "         0.49165994,  0.49945353,  0.50725682,  0.49167024,  0.49945839,\n",
       "         0.50725825,  0.45872446,  0.45993189,  0.48671092,  0.4587247 ,\n",
       "         0.45993212,  0.48671099,  0.4587478 ,  0.45995494,  0.48671808,\n",
       "         0.36925464,  0.39665942,  0.45589877,  0.36925507,  0.39665972,\n",
       "         0.4558989 ,  0.39324021,  0.41973453,  0.45148489,  0.43334863,\n",
       "         0.44487705,  0.44699823,  0.43334879,  0.44487712,  0.44699828,\n",
       "         0.43662048,  0.45247234,  0.45897372,  0.33860778,  0.39140448,\n",
       "         0.42587786,  0.33860837,  0.39157033,  0.4231349 ,  0.37165177,\n",
       "         0.39551687,  0.43416741,  0.28393352,  0.2923014 ,  0.40590884,\n",
       "         0.26260459,  0.29192227,  0.38489991,  0.29430021,  0.33147511,\n",
       "         0.39738151]),\n",
       " 'split0_train_score': array([ 0.53443315,  0.53442782,  0.53546957,  0.53443315,  0.53442781,\n",
       "         0.53546957,  0.53443311,  0.53442778,  0.53546954,  0.57421078,\n",
       "         0.57615405,  0.57593423,  0.57421078,  0.57615405,  0.57593423,\n",
       "         0.57421072,  0.576154  ,  0.57593419,  0.59912142,  0.59948991,\n",
       "         0.59893569,  0.59912141,  0.59948991,  0.59893569,  0.59912131,\n",
       "         0.59948982,  0.5989356 ,  0.64202307,  0.64048347,  0.63969532,\n",
       "         0.64202307,  0.64048346,  0.63969532,  0.6420224 ,  0.64048288,\n",
       "         0.63969489,  0.6761729 ,  0.6750221 ,  0.67121003,  0.67617287,\n",
       "         0.67502208,  0.67121002,  0.67617103,  0.67502044,  0.67120888,\n",
       "         0.70817042,  0.70789133,  0.70282594,  0.70817038,  0.7078913 ,\n",
       "         0.70282591,  0.70872647,  0.70776006,  0.70405758,  0.7386827 ,\n",
       "         0.73612474,  0.7316606 ,  0.73868265,  0.73612469,  0.73166057,\n",
       "         0.73821941,  0.7360215 ,  0.73365953,  0.78451879,  0.78412555,\n",
       "         0.77380276,  0.78451868,  0.78434793,  0.77427044,  0.78843261,\n",
       "         0.78302777,  0.77361169,  0.83273399,  0.83139538,  0.8192197 ,\n",
       "         0.83237237,  0.83112358,  0.81774209,  0.83618019,  0.82865958,\n",
       "         0.81730153]),\n",
       " 'split1_test_score': array([ 0.46470655,  0.46470555,  0.46333653,  0.46470655,  0.46470555,\n",
       "         0.46333653,  0.46470654,  0.46470553,  0.46333652,  0.48478241,\n",
       "         0.48386656,  0.48454846,  0.48478241,  0.48386656,  0.48454846,\n",
       "         0.4847824 ,  0.48386655,  0.48454846,  0.48402567,  0.48087675,\n",
       "         0.48347694,  0.48402567,  0.48087675,  0.48347694,  0.48402571,\n",
       "         0.48087679,  0.48347698,  0.48519849,  0.48725037,  0.48585777,\n",
       "         0.48519849,  0.48725038,  0.48585777,  0.48519893,  0.48725115,\n",
       "         0.48585804,  0.46137887,  0.46710904,  0.46621289,  0.46137889,\n",
       "         0.46710906,  0.4662129 ,  0.45924851,  0.46864208,  0.46621381,\n",
       "         0.4339561 ,  0.44320544,  0.4411906 ,  0.43395615,  0.44320549,\n",
       "         0.44119063,  0.43586745,  0.43973808,  0.44418094,  0.43863514,\n",
       "         0.44714133,  0.45598225,  0.43863526,  0.44714138,  0.45598106,\n",
       "         0.43312991,  0.44692783,  0.45469225,  0.41004252,  0.41883592,\n",
       "         0.4313145 ,  0.41004272,  0.41883603,  0.43245912,  0.40508357,\n",
       "         0.41363066,  0.43391615,  0.38284684,  0.39217874,  0.40497338,\n",
       "         0.3828471 ,  0.39271342,  0.40856566,  0.38132134,  0.39065795,\n",
       "         0.41280208]),\n",
       " 'split1_train_score': array([ 0.54778305,  0.54777428,  0.54748602,  0.54778305,  0.54777428,\n",
       "         0.54748602,  0.54778302,  0.54777425,  0.54748599,  0.58982963,\n",
       "         0.5894682 ,  0.59121695,  0.58982963,  0.5894682 ,  0.59121695,\n",
       "         0.58982957,  0.58946814,  0.5912169 ,  0.61638981,  0.61647412,\n",
       "         0.61606183,  0.6163898 ,  0.61647412,  0.61606182,  0.61638968,\n",
       "         0.616474  ,  0.61606172,  0.65788031,  0.65564431,  0.65611787,\n",
       "         0.6578803 ,  0.6556443 ,  0.65611786,  0.65787959,  0.65564363,\n",
       "         0.65611746,  0.6912664 ,  0.69166357,  0.68768399,  0.69126638,\n",
       "         0.69166355,  0.68768397,  0.69057456,  0.69154044,  0.68768289,\n",
       "         0.72473959,  0.72251788,  0.71870908,  0.72473955,  0.72251785,\n",
       "         0.71870906,  0.72355782,  0.72394925,  0.71750637,  0.75349928,\n",
       "         0.75059864,  0.74411467,  0.75349922,  0.75059859,  0.74411464,\n",
       "         0.75337096,  0.74877678,  0.7494593 ,  0.79506945,  0.79360631,\n",
       "         0.78468385,  0.79506936,  0.79360623,  0.78372906,  0.79546223,\n",
       "         0.79504327,  0.79013929,  0.84016911,  0.83991614,  0.82806248,\n",
       "         0.84016893,  0.83964441,  0.82950846,  0.84232836,  0.84010113,\n",
       "         0.83015236]),\n",
       " 'split2_test_score': array([ 0.46484309,  0.46500409,  0.47327525,  0.46484309,  0.46500409,\n",
       "         0.47327525,  0.46484387,  0.46500484,  0.47327532,  0.42117845,\n",
       "         0.43325562,  0.45224095,  0.42117846,  0.43325563,  0.45224095,\n",
       "         0.44052359,  0.43325637,  0.4522413 ,  0.36372474,  0.4303377 ,\n",
       "         0.43968731,  0.36372487,  0.43033771,  0.43968731,  0.40894615,\n",
       "         0.43033827,  0.4396875 ,  0.33958412,  0.39833139,  0.45681733,\n",
       "         0.33958424,  0.39833147,  0.45681735,  0.35422108,  0.39833894,\n",
       "         0.45681961,  0.14805969,  0.2161761 ,  0.3842582 ,  0.1480603 ,\n",
       "         0.21617651,  0.3842583 ,  0.19648415,  0.21932699,  0.38085041,\n",
       "        -0.01923108, -0.03314824,  0.29962022, -0.01923021, -0.03314753,\n",
       "         0.29962036,  0.0878976 ,  0.04042977,  0.27851188,  0.22944764,\n",
       "         0.28413355,  0.30340759,  0.22944811,  0.28418975,  0.30340771,\n",
       "         0.24760812,  0.26663011,  0.2961355 ,  0.07788307,  0.1411464 ,\n",
       "         0.20663378,  0.07788428,  0.15769938,  0.20663405,  0.06329527,\n",
       "         0.11292069,  0.18318618, -0.03334283,  0.00998503,  0.12020665,\n",
       "        -0.03334083,  0.0177761 ,  0.12020701, -0.04884863, -0.03369236,\n",
       "         0.11648514]),\n",
       " 'split2_train_score': array([ 0.51481418,  0.51480605,  0.51397251,  0.51481418,  0.51480605,\n",
       "         0.51397251,  0.51481414,  0.51480601,  0.51397247,  0.54738053,\n",
       "         0.54773948,  0.54712843,  0.54738053,  0.54773948,  0.54712843,\n",
       "         0.54756428,  0.5477394 ,  0.54712836,  0.56446877,  0.56455968,\n",
       "         0.5645646 ,  0.56446876,  0.56455968,  0.5645646 ,  0.56451033,\n",
       "         0.56455951,  0.56456445,  0.60542074,  0.60544563,  0.60316427,\n",
       "         0.60542073,  0.60544562,  0.60316426,  0.60591425,  0.6054448 ,\n",
       "         0.6031637 ,  0.6372629 ,  0.63742369,  0.63379867,  0.63726288,\n",
       "         0.63742366,  0.63379866,  0.63831952,  0.63818338,  0.63348951,\n",
       "         0.67204694,  0.67282678,  0.66369865,  0.6720469 ,  0.67282674,\n",
       "         0.66369862,  0.6717579 ,  0.67095368,  0.665371  ,  0.70843488,\n",
       "         0.7037952 ,  0.6986969 ,  0.70843481,  0.70379597,  0.69869687,\n",
       "         0.70817048,  0.70517808,  0.69809023,  0.75440669,  0.75184564,\n",
       "         0.74537152,  0.75440657,  0.7549692 ,  0.74537145,  0.75675059,\n",
       "         0.75463619,  0.74398786,  0.80938134,  0.80293733,  0.79532585,\n",
       "         0.80938117,  0.80736799,  0.79532575,  0.80993121,  0.80856069,\n",
       "         0.79101705]),\n",
       " 'std_fit_time': array([  2.99713593e-01,   1.45161885e+00,   8.23305642e-02,\n",
       "          4.77228656e-02,   1.14599278e-02,   9.10339186e-01,\n",
       "          1.30985559e+00,   1.28078482e-01,   5.80239798e-02,\n",
       "          1.49698147e-01,   5.09727484e-01,   1.18158731e+00,\n",
       "          2.06953935e-01,   2.91895303e-01,   4.73679049e-01,\n",
       "          1.50929430e-01,   1.85554288e-01,   1.67375845e-01,\n",
       "          2.09170227e-01,   8.60335677e-01,   4.42216335e+00,\n",
       "          6.36690827e-01,   1.27684095e+00,   1.18541026e+00,\n",
       "          5.02413311e-01,   1.13041931e+00,   8.17649112e-01,\n",
       "          5.49341966e-01,   1.81196674e+00,   2.61398226e+00,\n",
       "          6.54316157e-02,   4.11409483e-01,   2.34180846e-01,\n",
       "          4.26086167e-01,   7.82664854e-01,   5.28110505e-01,\n",
       "          4.24322978e-01,   2.43857535e+00,   8.10478530e-01,\n",
       "          1.44150804e+00,   1.14971375e-01,   3.76105824e+00,\n",
       "          1.58316693e+00,   3.27741342e-01,   1.30915286e+00,\n",
       "          2.47151014e+00,   4.26324758e+00,   1.19374073e+01,\n",
       "          3.49852112e+00,   3.96843910e+01,   3.01803875e+00,\n",
       "          3.48924140e-01,   1.71577176e+00,   2.06242688e+00,\n",
       "          1.95720131e+00,   3.63089410e-01,   1.65008413e-01,\n",
       "          7.98189421e-01,   8.76426975e-01,   3.07840540e+00,\n",
       "          7.32344973e-01,   5.56713539e-01,   4.02997792e-01,\n",
       "          1.24116207e+00,   3.11765142e+00,   8.83974596e-01,\n",
       "          3.59716483e-01,   1.40035883e+00,   1.41651323e-01,\n",
       "          2.21443961e+00,   1.79963028e-01,   4.87691295e-01,\n",
       "          3.64960171e+00,   4.10403747e+00,   1.73023177e+01,\n",
       "          2.37619574e+00,   1.70580339e+00,   3.39207293e+01,\n",
       "          2.39839741e+01,   9.43313040e-01,   3.71276827e+01]),\n",
       " 'std_score_time': array([ 0.03477721,  0.13213481,  0.05241081,  0.01453639,  0.00579445,\n",
       "         0.00553128,  0.04102249,  0.03178402,  0.01755374,  0.07724467,\n",
       "         0.06059319,  0.02871818,  0.06942251,  0.04319767,  0.06491631,\n",
       "         0.05446811,  0.06071537,  0.05083732,  0.03220441,  0.02057478,\n",
       "         0.07976481,  0.25569367,  0.70822144,  0.28879692,  0.21550601,\n",
       "         0.0779901 ,  0.1608823 ,  0.01388435,  0.22605973,  0.01499108,\n",
       "         0.04621139,  0.02562523,  0.04154988,  0.05081106,  0.03163774,\n",
       "         0.2917878 ,  0.47096391,  0.13466506,  0.52484685,  0.28712639,\n",
       "         0.2180192 ,  0.20107782,  0.14147027,  0.32799384,  0.47030536,\n",
       "         0.58448209,  0.30056085,  3.72115841,  0.34811232,  0.21413475,\n",
       "         0.40288007,  0.1144288 ,  0.18721975,  0.31894268,  0.06309075,\n",
       "         0.06240809,  0.03923366,  0.13834726,  0.37960482,  0.36731932,\n",
       "         0.05455984,  0.08971731,  0.02544776,  0.1625441 ,  0.17493712,\n",
       "         0.11906818,  0.15546693,  0.22220849,  0.16679494,  0.24653544,\n",
       "         0.11245885,  0.57521304,  1.47198121,  0.54999468,  2.68216352,\n",
       "         1.82000625,  2.74997058,  1.6299797 ,  0.12690978,  3.29420102,\n",
       "         0.94589519]),\n",
       " 'std_test_score': array([ 0.01412848,  0.01409019,  0.01479274,  0.01412848,  0.01409018,\n",
       "         0.01479274,  0.0141283 ,  0.01409001,  0.01479274,  0.03790315,\n",
       "         0.0337607 ,  0.02559089,  0.03790315,  0.0337607 ,  0.02559089,\n",
       "         0.02928957,  0.03376058,  0.02559085,  0.06414422,  0.03415399,\n",
       "         0.02927053,  0.06414416,  0.034154  ,  0.02927054,  0.04331289,\n",
       "         0.0341545 ,  0.02927152,  0.07021579,  0.04506931,  0.02067045,\n",
       "         0.07021576,  0.04506928,  0.02067045,  0.06332399,  0.04506728,\n",
       "         0.02067004,  0.14707842,  0.11663606,  0.04426348,  0.14707819,\n",
       "         0.11663592,  0.04426346,  0.12375046,  0.11553513,  0.0458443 ,\n",
       "         0.20013497,  0.21442792,  0.07045999,  0.20013465,  0.21442766,\n",
       "         0.07045996,  0.15496745,  0.18370247,  0.07987438,  0.09738981,\n",
       "         0.0763145 ,  0.06990312,  0.09738965,  0.07628804,  0.06990277,\n",
       "         0.08829004,  0.08632969,  0.07577368,  0.14275472,  0.12494135,\n",
       "         0.10465762,  0.14275431,  0.11720419,  0.10432669,  0.1538472 ,\n",
       "         0.13768531,  0.11825451,  0.17753308,  0.16184699,  0.13446136,\n",
       "         0.17488229,  0.15842733,  0.13071305,  0.18570287,  0.18765307,\n",
       "         0.13619605]),\n",
       " 'std_train_score': array([ 0.01354036,  0.01354025,  0.01386312,  0.01354036,  0.01354025,\n",
       "         0.01386312,  0.01354036,  0.01354025,  0.01386312,  0.01753009,\n",
       "         0.01740351,  0.01827911,  0.01753009,  0.01740351,  0.01827911,\n",
       "         0.01744941,  0.01740352,  0.01827912,  0.02158909,  0.02161196,\n",
       "         0.02141298,  0.02158909,  0.02161196,  0.02141298,  0.02157051,\n",
       "         0.02161199,  0.021413  ,  0.02196763,  0.02102223,  0.02213168,\n",
       "         0.02196763,  0.02102223,  0.02213168,  0.0217451 ,  0.02102231,\n",
       "         0.02213175,  0.02275029,  0.0226876 ,  0.02254533,  0.02275029,\n",
       "         0.0226876 ,  0.02254533,  0.02203731,  0.0223031 ,  0.02268398,\n",
       "         0.02199989,  0.02085043,  0.02311653,  0.0219999 ,  0.02085043,\n",
       "         0.02311653,  0.02178143,  0.02217438,  0.02209982,  0.01875355,\n",
       "         0.01956543,  0.01916154,  0.01875356,  0.01956507,  0.01916155,\n",
       "         0.01878413,  0.01830258,  0.02148278,  0.0172289 ,  0.01787559,\n",
       "         0.01657372,  0.01722891,  0.01647101,  0.01631606,  0.01683831,\n",
       "         0.01694168,  0.01909243,  0.01311706,  0.01581102,  0.0138275 ,\n",
       "         0.01306934,  0.01365731,  0.014179  ,  0.01404906,  0.01303702,\n",
       "         0.01628766])}"
      ]
     },
     "execution_count": 39,
     "metadata": {},
     "output_type": "execute_result"
    }
   ],
   "source": [
    "result.cv_results_"
   ]
  },
  {
   "cell_type": "code",
   "execution_count": 41,
   "metadata": {
    "collapsed": false
   },
   "outputs": [
    {
     "data": {
      "text/plain": [
       "XGBRegressor(base_score=0.5, colsample_bylevel=1, colsample_bytree=1, gamma=0,\n",
       "       learning_rate=0.1, max_delta_step=0, max_depth=3,\n",
       "       min_child_weight=1, missing=None, n_estimators=250, nthread=-1,\n",
       "       objective='reg:linear', reg_alpha=0.1, reg_lambda=1,\n",
       "       scale_pos_weight=1, seed=0, silent=True, subsample=1)"
      ]
     },
     "execution_count": 41,
     "metadata": {},
     "output_type": "execute_result"
    }
   ],
   "source": [
    "result.best_estimator_"
   ]
  },
  {
   "cell_type": "code",
   "execution_count": 40,
   "metadata": {
    "collapsed": false
   },
   "outputs": [
    {
     "data": {
      "text/plain": [
       "0.52178018832808326"
      ]
     },
     "execution_count": 40,
     "metadata": {},
     "output_type": "execute_result"
    }
   ],
   "source": [
    "grid_search.score(X_va_scaled, y_va)"
   ]
  },
  {
   "cell_type": "markdown",
   "metadata": {},
   "source": [
    "## Try XGBoost on non-scaled data\n",
    "Turns out this works better"
   ]
  },
  {
   "cell_type": "code",
   "execution_count": 42,
   "metadata": {
    "collapsed": true
   },
   "outputs": [],
   "source": [
    "xgb = XGBRegressor(n_estimators=250, reg_alpha=0.1)"
   ]
  },
  {
   "cell_type": "code",
   "execution_count": 43,
   "metadata": {
    "collapsed": false
   },
   "outputs": [
    {
     "data": {
      "text/plain": [
       "XGBRegressor(base_score=0.5, colsample_bylevel=1, colsample_bytree=1, gamma=0,\n",
       "       learning_rate=0.1, max_delta_step=0, max_depth=3,\n",
       "       min_child_weight=1, missing=None, n_estimators=250, nthread=-1,\n",
       "       objective='reg:linear', reg_alpha=0.1, reg_lambda=1,\n",
       "       scale_pos_weight=1, seed=0, silent=True, subsample=1)"
      ]
     },
     "execution_count": 43,
     "metadata": {},
     "output_type": "execute_result"
    }
   ],
   "source": [
    "xgb.fit(X_train, y_train)"
   ]
  },
  {
   "cell_type": "code",
   "execution_count": 44,
   "metadata": {
    "collapsed": false
   },
   "outputs": [
    {
     "data": {
      "text/plain": [
       "0.54909280212343337"
      ]
     },
     "execution_count": 44,
     "metadata": {},
     "output_type": "execute_result"
    }
   ],
   "source": [
    "xgb.score(X_va, y_va)"
   ]
  },
  {
   "cell_type": "code",
   "execution_count": 46,
   "metadata": {
    "collapsed": false
   },
   "outputs": [],
   "source": [
    "y_pr = xgb.predict(X_va)"
   ]
  },
  {
   "cell_type": "code",
   "execution_count": 47,
   "metadata": {
    "collapsed": true
   },
   "outputs": [],
   "source": [
    "y_xgb_resids = pd.DataFrame(dict(zip(['Gen Change (MW)', 'y_pr', 'cluster'],\n",
    "                               [y_va.values, y_pr, X.loc[X['Year'].isin([2012, 2013]),'cluster'].values])))"
   ]
  },
  {
   "cell_type": "code",
   "execution_count": 50,
   "metadata": {
    "collapsed": false
   },
   "outputs": [],
   "source": [
    "y_xgb_resids.loc[:,'residuals'] = y_xgb_resids.loc[:,'y_pr'] - y_xgb_resids.loc[:,'Gen Change (MW)']"
   ]
  },
  {
   "cell_type": "code",
   "execution_count": 51,
   "metadata": {
    "collapsed": false
   },
   "outputs": [
    {
     "data": {
      "text/plain": [
       "<seaborn.axisgrid.FacetGrid at 0x115d8ea90>"
      ]
     },
     "execution_count": 51,
     "metadata": {},
     "output_type": "execute_result"
    },
    {
     "data": {
      "text/plain": [
       "<seaborn.axisgrid.FacetGrid at 0x115d8ea90>"
      ]
     },
     "execution_count": 51,
     "metadata": {},
     "output_type": "execute_result"
    },
    {
     "data": {
      "image/png": "[encoded data removed]",
      "text/plain": [
       "<matplotlib.figure.Figure at 0x115d8ee10>"
      ]
     },
     "metadata": {},
     "output_type": "display_data"
    }
   ],
   "source": [
    "g = sns.FacetGrid(y_xgb_resids, hue='cluster', col='cluster',\n",
    "                  col_wrap=3)\n",
    "g.map(plt.scatter, 'y_pr', 'residuals')\n",
    "g.add_legend()"
   ]
  },
  {
   "cell_type": "code",
   "execution_count": 52,
   "metadata": {
    "collapsed": false
   },
   "outputs": [
    {
     "data": {
      "text/html": [
       "<div>\n",
       "<table border=\"1\" class=\"dataframe\">\n",
       "  <thead>\n",
       "    <tr style=\"text-align: right;\">\n",
       "      <th></th>\n",
       "      <th>Gen Change (MW)</th>\n",
       "      <th>cluster</th>\n",
       "      <th>y_pr</th>\n",
       "      <th>residuals</th>\n",
       "    </tr>\n",
       "  </thead>\n",
       "  <tbody>\n",
       "    <tr>\n",
       "      <th>count</th>\n",
       "      <td>105264.000000</td>\n",
       "      <td>105264.000000</td>\n",
       "      <td>105264.000000</td>\n",
       "      <td>105264.000000</td>\n",
       "    </tr>\n",
       "    <tr>\n",
       "      <th>mean</th>\n",
       "      <td>0.072684</td>\n",
       "      <td>2.500000</td>\n",
       "      <td>-4.463920</td>\n",
       "      <td>-4.536561</td>\n",
       "    </tr>\n",
       "    <tr>\n",
       "      <th>std</th>\n",
       "      <td>252.875892</td>\n",
       "      <td>1.707833</td>\n",
       "      <td>179.048598</td>\n",
       "      <td>169.744599</td>\n",
       "    </tr>\n",
       "    <tr>\n",
       "      <th>min</th>\n",
       "      <td>-2236.000000</td>\n",
       "      <td>0.000000</td>\n",
       "      <td>-1508.438721</td>\n",
       "      <td>-1661.269684</td>\n",
       "    </tr>\n",
       "    <tr>\n",
       "      <th>25%</th>\n",
       "      <td>-54.000000</td>\n",
       "      <td>1.000000</td>\n",
       "      <td>-71.290184</td>\n",
       "      <td>-66.515215</td>\n",
       "    </tr>\n",
       "    <tr>\n",
       "      <th>50%</th>\n",
       "      <td>0.000000</td>\n",
       "      <td>2.500000</td>\n",
       "      <td>3.031837</td>\n",
       "      <td>-1.428239</td>\n",
       "    </tr>\n",
       "    <tr>\n",
       "      <th>75%</th>\n",
       "      <td>55.000000</td>\n",
       "      <td>4.000000</td>\n",
       "      <td>62.890798</td>\n",
       "      <td>58.265282</td>\n",
       "    </tr>\n",
       "    <tr>\n",
       "      <th>max</th>\n",
       "      <td>3104.000000</td>\n",
       "      <td>5.000000</td>\n",
       "      <td>1829.738892</td>\n",
       "      <td>1646.675659</td>\n",
       "    </tr>\n",
       "  </tbody>\n",
       "</table>\n",
       "</div>"
      ],
      "text/plain": [
       "       Gen Change (MW)        cluster           y_pr      residuals\n",
       "count    105264.000000  105264.000000  105264.000000  105264.000000\n",
       "mean          0.072684       2.500000      -4.463920      -4.536561\n",
       "std         252.875892       1.707833     179.048598     169.744599\n",
       "min       -2236.000000       0.000000   -1508.438721   -1661.269684\n",
       "25%         -54.000000       1.000000     -71.290184     -66.515215\n",
       "50%           0.000000       2.500000       3.031837      -1.428239\n",
       "75%          55.000000       4.000000      62.890798      58.265282\n",
       "max        3104.000000       5.000000    1829.738892    1646.675659"
      ]
     },
     "execution_count": 52,
     "metadata": {},
     "output_type": "execute_result"
    }
   ],
   "source": [
    "y_xgb_resids.describe()"
   ]
  },
  {
   "cell_type": "code",
   "execution_count": null,
   "metadata": {
    "collapsed": true
   },
   "outputs": [],
   "source": []
  }
 ],
 "metadata": {
  "anaconda-cloud": {},
  "kernelspec": {
   "display_name": "Python [conda root]",
   "language": "python",
   "name": "conda-root-py"
  },
  "language_info": {
   "codemirror_mode": {
    "name": "ipython",
    "version": 2
   },
   "file_extension": ".py",
   "mimetype": "text/x-python",
   "name": "python",
   "nbconvert_exporter": "python",
   "pygments_lexer": "ipython2",
   "version": "2.7.12"
  },
  "widgets": {
   "state": {},
   "version": "1.1.2"
  }
 },
 "nbformat": 4,
 "nbformat_minor": 1
}
