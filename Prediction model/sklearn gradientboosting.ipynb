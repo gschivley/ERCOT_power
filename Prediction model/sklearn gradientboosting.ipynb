{
 "cells": [
  {
   "cell_type": "code",
   "execution_count": 1,
   "metadata": {
    "collapsed": false
   },
   "outputs": [
    {
     "name": "stderr",
     "output_type": "stream",
     "text": [
      "/Users/Home/anaconda/envs/deep_learn/lib/python2.7/site-packages/matplotlib/font_manager.py:273: UserWarning: Matplotlib is building the font cache using fc-list. This may take a moment.\n",
      "  warnings.warn('Matplotlib is building the font cache using fc-list. This may take a moment.')\n",
      "/Users/Home/anaconda/envs/deep_learn/lib/python2.7/site-packages/IPython/html.py:14: ShimWarning: The `IPython.html` package has been deprecated. You should import from `notebook` instead. `IPython.html.widgets` has moved to `ipywidgets`.\n",
      "  \"`IPython.html.widgets` has moved to `ipywidgets`.\", ShimWarning)\n"
     ]
    }
   ],
   "source": [
    "%matplotlib inline\n",
    "import matplotlib.pyplot as plt\n",
    "import seaborn as sns\n",
    "import pandas as pd\n",
    "import numpy as np\n",
    "import os"
   ]
  },
  {
   "cell_type": "code",
   "execution_count": 125,
   "metadata": {
    "collapsed": false
   },
   "outputs": [],
   "source": [
    "path = '../Clean Data'\n",
    "X_fn = 'X.csv'\n",
    "y_fn = 'y.csv'\n",
    "X_path = os.path.join(path, X_fn)\n",
    "y_path = os.path.join(path, y_fn)\n",
    "\n",
    "X = pd.read_csv(X_path)\n",
    "y = pd.read_csv(y_path)"
   ]
  },
  {
   "cell_type": "code",
   "execution_count": 126,
   "metadata": {
    "collapsed": false
   },
   "outputs": [
    {
     "data": {
      "text/html": [
       "<div>\n",
       "<table border=\"1\" class=\"dataframe\">\n",
       "  <thead>\n",
       "    <tr style=\"text-align: right;\">\n",
       "      <th></th>\n",
       "      <th>Unnamed: 0</th>\n",
       "      <th>cluster_id_6</th>\n",
       "      <th>Year</th>\n",
       "      <th>nameplate_capacity</th>\n",
       "      <th>DATETIME</th>\n",
       "      <th>GROSS LOAD (MW)</th>\n",
       "      <th>ERCOT Load, MW</th>\n",
       "      <th>Total Wind Installed, MW</th>\n",
       "      <th>Total Wind Output, MW</th>\n",
       "      <th>Wind Output, % of Installed</th>\n",
       "      <th>Wind Output, % of Load</th>\n",
       "      <th>1-hr MW change</th>\n",
       "      <th>1-hr % change</th>\n",
       "      <th>Net Load (MW)</th>\n",
       "      <th>Net Load Change (MW)</th>\n",
       "      <th>Month</th>\n",
       "      <th>NG Price ($/mcf)</th>\n",
       "      <th>All coal</th>\n",
       "      <th>Lignite</th>\n",
       "      <th>Subbituminous</th>\n",
       "    </tr>\n",
       "  </thead>\n",
       "  <tbody>\n",
       "    <tr>\n",
       "      <th>0</th>\n",
       "      <td>0</td>\n",
       "      <td>0</td>\n",
       "      <td>2007</td>\n",
       "      <td>5949.0</td>\n",
       "      <td>2007-01-01 00:00:00</td>\n",
       "      <td>4596.0</td>\n",
       "      <td>30428.0</td>\n",
       "      <td>2790.0</td>\n",
       "      <td>1074.0</td>\n",
       "      <td>38.494624</td>\n",
       "      <td>3.529644</td>\n",
       "      <td>NaN</td>\n",
       "      <td>NaN</td>\n",
       "      <td>29354.0</td>\n",
       "      <td>NaN</td>\n",
       "      <td>1</td>\n",
       "      <td>6.42</td>\n",
       "      <td>25.1475</td>\n",
       "      <td>20.0275</td>\n",
       "      <td>28.115</td>\n",
       "    </tr>\n",
       "    <tr>\n",
       "      <th>1</th>\n",
       "      <td>1</td>\n",
       "      <td>0</td>\n",
       "      <td>2007</td>\n",
       "      <td>5949.0</td>\n",
       "      <td>2007-01-01 01:00:00</td>\n",
       "      <td>4566.0</td>\n",
       "      <td>30133.0</td>\n",
       "      <td>2790.0</td>\n",
       "      <td>922.6</td>\n",
       "      <td>33.068100</td>\n",
       "      <td>3.061760</td>\n",
       "      <td>-151.4</td>\n",
       "      <td>-14.096834</td>\n",
       "      <td>29210.4</td>\n",
       "      <td>-143.6</td>\n",
       "      <td>1</td>\n",
       "      <td>6.42</td>\n",
       "      <td>25.1475</td>\n",
       "      <td>20.0275</td>\n",
       "      <td>28.115</td>\n",
       "    </tr>\n",
       "    <tr>\n",
       "      <th>2</th>\n",
       "      <td>2</td>\n",
       "      <td>0</td>\n",
       "      <td>2007</td>\n",
       "      <td>5949.0</td>\n",
       "      <td>2007-01-01 02:00:00</td>\n",
       "      <td>4667.0</td>\n",
       "      <td>29941.0</td>\n",
       "      <td>2790.0</td>\n",
       "      <td>849.2</td>\n",
       "      <td>30.437276</td>\n",
       "      <td>2.836245</td>\n",
       "      <td>-73.4</td>\n",
       "      <td>-7.955777</td>\n",
       "      <td>29091.8</td>\n",
       "      <td>-118.6</td>\n",
       "      <td>1</td>\n",
       "      <td>6.42</td>\n",
       "      <td>25.1475</td>\n",
       "      <td>20.0275</td>\n",
       "      <td>28.115</td>\n",
       "    </tr>\n",
       "    <tr>\n",
       "      <th>3</th>\n",
       "      <td>3</td>\n",
       "      <td>0</td>\n",
       "      <td>2007</td>\n",
       "      <td>5949.0</td>\n",
       "      <td>2007-01-01 03:00:00</td>\n",
       "      <td>4668.0</td>\n",
       "      <td>29949.0</td>\n",
       "      <td>2790.0</td>\n",
       "      <td>1056.3</td>\n",
       "      <td>37.860215</td>\n",
       "      <td>3.526996</td>\n",
       "      <td>207.1</td>\n",
       "      <td>24.387659</td>\n",
       "      <td>28892.7</td>\n",
       "      <td>-199.1</td>\n",
       "      <td>1</td>\n",
       "      <td>6.42</td>\n",
       "      <td>25.1475</td>\n",
       "      <td>20.0275</td>\n",
       "      <td>28.115</td>\n",
       "    </tr>\n",
       "    <tr>\n",
       "      <th>4</th>\n",
       "      <td>4</td>\n",
       "      <td>0</td>\n",
       "      <td>2007</td>\n",
       "      <td>5949.0</td>\n",
       "      <td>2007-01-01 04:00:00</td>\n",
       "      <td>4685.0</td>\n",
       "      <td>30248.0</td>\n",
       "      <td>2790.0</td>\n",
       "      <td>837.1</td>\n",
       "      <td>30.003584</td>\n",
       "      <td>2.767456</td>\n",
       "      <td>-219.2</td>\n",
       "      <td>-20.751680</td>\n",
       "      <td>29410.9</td>\n",
       "      <td>518.2</td>\n",
       "      <td>1</td>\n",
       "      <td>6.42</td>\n",
       "      <td>25.1475</td>\n",
       "      <td>20.0275</td>\n",
       "      <td>28.115</td>\n",
       "    </tr>\n",
       "  </tbody>\n",
       "</table>\n",
       "</div>"
      ],
      "text/plain": [
       "   Unnamed: 0  cluster_id_6  Year  nameplate_capacity             DATETIME  \\\n",
       "0           0             0  2007              5949.0  2007-01-01 00:00:00   \n",
       "1           1             0  2007              5949.0  2007-01-01 01:00:00   \n",
       "2           2             0  2007              5949.0  2007-01-01 02:00:00   \n",
       "3           3             0  2007              5949.0  2007-01-01 03:00:00   \n",
       "4           4             0  2007              5949.0  2007-01-01 04:00:00   \n",
       "\n",
       "   GROSS LOAD (MW)  ERCOT Load, MW  Total Wind Installed, MW  \\\n",
       "0           4596.0         30428.0                    2790.0   \n",
       "1           4566.0         30133.0                    2790.0   \n",
       "2           4667.0         29941.0                    2790.0   \n",
       "3           4668.0         29949.0                    2790.0   \n",
       "4           4685.0         30248.0                    2790.0   \n",
       "\n",
       "   Total Wind Output, MW  Wind Output, % of Installed  Wind Output, % of Load  \\\n",
       "0                 1074.0                    38.494624                3.529644   \n",
       "1                  922.6                    33.068100                3.061760   \n",
       "2                  849.2                    30.437276                2.836245   \n",
       "3                 1056.3                    37.860215                3.526996   \n",
       "4                  837.1                    30.003584                2.767456   \n",
       "\n",
       "   1-hr MW change  1-hr % change  Net Load (MW)  Net Load Change (MW)  Month  \\\n",
       "0             NaN            NaN        29354.0                   NaN      1   \n",
       "1          -151.4     -14.096834        29210.4                -143.6      1   \n",
       "2           -73.4      -7.955777        29091.8                -118.6      1   \n",
       "3           207.1      24.387659        28892.7                -199.1      1   \n",
       "4          -219.2     -20.751680        29410.9                 518.2      1   \n",
       "\n",
       "   NG Price ($/mcf)  All coal  Lignite  Subbituminous  \n",
       "0              6.42   25.1475  20.0275         28.115  \n",
       "1              6.42   25.1475  20.0275         28.115  \n",
       "2              6.42   25.1475  20.0275         28.115  \n",
       "3              6.42   25.1475  20.0275         28.115  \n",
       "4              6.42   25.1475  20.0275         28.115  "
      ]
     },
     "execution_count": 126,
     "metadata": {},
     "output_type": "execute_result"
    }
   ],
   "source": [
    "X.head()"
   ]
  },
  {
   "cell_type": "code",
   "execution_count": 127,
   "metadata": {
    "collapsed": false
   },
   "outputs": [
    {
     "data": {
      "text/html": [
       "<div>\n",
       "<table border=\"1\" class=\"dataframe\">\n",
       "  <thead>\n",
       "    <tr style=\"text-align: right;\">\n",
       "      <th></th>\n",
       "      <th>Unnamed: 0</th>\n",
       "      <th>cluster_id_6</th>\n",
       "      <th>Year</th>\n",
       "      <th>nameplate_capacity</th>\n",
       "      <th>DATETIME</th>\n",
       "      <th>GROSS LOAD (MW)</th>\n",
       "      <th>ERCOT Load, MW</th>\n",
       "      <th>Total Wind Installed, MW</th>\n",
       "      <th>Total Wind Output, MW</th>\n",
       "      <th>Wind Output, % of Installed</th>\n",
       "      <th>Wind Output, % of Load</th>\n",
       "      <th>1-hr MW change</th>\n",
       "      <th>1-hr % change</th>\n",
       "      <th>Net Load (MW)</th>\n",
       "      <th>Net Load Change (MW)</th>\n",
       "      <th>Month</th>\n",
       "      <th>NG Price ($/mcf)</th>\n",
       "      <th>All coal</th>\n",
       "      <th>Lignite</th>\n",
       "      <th>Subbituminous</th>\n",
       "    </tr>\n",
       "  </thead>\n",
       "  <tbody>\n",
       "    <tr>\n",
       "      <th>473329</th>\n",
       "      <td>473329</td>\n",
       "      <td>5</td>\n",
       "      <td>2015</td>\n",
       "      <td>11476.0</td>\n",
       "      <td>2015-12-31 19:00:00</td>\n",
       "      <td>7516.0</td>\n",
       "      <td>39908.77734</td>\n",
       "      <td>16170.0</td>\n",
       "      <td>3824.932373</td>\n",
       "      <td>23.654498</td>\n",
       "      <td>9.584188</td>\n",
       "      <td>483.971191</td>\n",
       "      <td>14.485987</td>\n",
       "      <td>36083.844967</td>\n",
       "      <td>-1172.357911</td>\n",
       "      <td>12</td>\n",
       "      <td>2.23</td>\n",
       "      <td>28.53</td>\n",
       "      <td>24.04</td>\n",
       "      <td>32.55</td>\n",
       "    </tr>\n",
       "    <tr>\n",
       "      <th>473330</th>\n",
       "      <td>473330</td>\n",
       "      <td>5</td>\n",
       "      <td>2015</td>\n",
       "      <td>11476.0</td>\n",
       "      <td>2015-12-31 20:00:00</td>\n",
       "      <td>6552.0</td>\n",
       "      <td>38736.85938</td>\n",
       "      <td>16170.0</td>\n",
       "      <td>4625.632813</td>\n",
       "      <td>28.606264</td>\n",
       "      <td>11.941166</td>\n",
       "      <td>800.700440</td>\n",
       "      <td>20.933715</td>\n",
       "      <td>34111.226567</td>\n",
       "      <td>-1972.618400</td>\n",
       "      <td>12</td>\n",
       "      <td>2.23</td>\n",
       "      <td>28.53</td>\n",
       "      <td>24.04</td>\n",
       "      <td>32.55</td>\n",
       "    </tr>\n",
       "    <tr>\n",
       "      <th>473331</th>\n",
       "      <td>473331</td>\n",
       "      <td>5</td>\n",
       "      <td>2015</td>\n",
       "      <td>11476.0</td>\n",
       "      <td>2015-12-31 21:00:00</td>\n",
       "      <td>5944.0</td>\n",
       "      <td>37587.70313</td>\n",
       "      <td>16170.0</td>\n",
       "      <td>4957.714844</td>\n",
       "      <td>30.659956</td>\n",
       "      <td>13.189725</td>\n",
       "      <td>332.082031</td>\n",
       "      <td>7.179170</td>\n",
       "      <td>32629.988286</td>\n",
       "      <td>-1481.238281</td>\n",
       "      <td>12</td>\n",
       "      <td>2.23</td>\n",
       "      <td>28.53</td>\n",
       "      <td>24.04</td>\n",
       "      <td>32.55</td>\n",
       "    </tr>\n",
       "    <tr>\n",
       "      <th>473332</th>\n",
       "      <td>473332</td>\n",
       "      <td>5</td>\n",
       "      <td>2015</td>\n",
       "      <td>11476.0</td>\n",
       "      <td>2015-12-31 22:00:00</td>\n",
       "      <td>5698.0</td>\n",
       "      <td>36356.26172</td>\n",
       "      <td>16170.0</td>\n",
       "      <td>4699.097656</td>\n",
       "      <td>29.060592</td>\n",
       "      <td>12.925140</td>\n",
       "      <td>-258.617188</td>\n",
       "      <td>-5.216460</td>\n",
       "      <td>31657.164064</td>\n",
       "      <td>-972.824222</td>\n",
       "      <td>12</td>\n",
       "      <td>2.23</td>\n",
       "      <td>28.53</td>\n",
       "      <td>24.04</td>\n",
       "      <td>32.55</td>\n",
       "    </tr>\n",
       "    <tr>\n",
       "      <th>473333</th>\n",
       "      <td>473333</td>\n",
       "      <td>5</td>\n",
       "      <td>2015</td>\n",
       "      <td>11476.0</td>\n",
       "      <td>2015-12-31 23:00:00</td>\n",
       "      <td>5365.0</td>\n",
       "      <td>35150.33984</td>\n",
       "      <td>16170.0</td>\n",
       "      <td>4313.125000</td>\n",
       "      <td>26.673624</td>\n",
       "      <td>12.270507</td>\n",
       "      <td>-385.972656</td>\n",
       "      <td>-8.213761</td>\n",
       "      <td>30837.214840</td>\n",
       "      <td>-819.949224</td>\n",
       "      <td>12</td>\n",
       "      <td>2.23</td>\n",
       "      <td>28.53</td>\n",
       "      <td>24.04</td>\n",
       "      <td>32.55</td>\n",
       "    </tr>\n",
       "  </tbody>\n",
       "</table>\n",
       "</div>"
      ],
      "text/plain": [
       "        Unnamed: 0  cluster_id_6  Year  nameplate_capacity  \\\n",
       "473329      473329             5  2015             11476.0   \n",
       "473330      473330             5  2015             11476.0   \n",
       "473331      473331             5  2015             11476.0   \n",
       "473332      473332             5  2015             11476.0   \n",
       "473333      473333             5  2015             11476.0   \n",
       "\n",
       "                   DATETIME  GROSS LOAD (MW)  ERCOT Load, MW  \\\n",
       "473329  2015-12-31 19:00:00           7516.0     39908.77734   \n",
       "473330  2015-12-31 20:00:00           6552.0     38736.85938   \n",
       "473331  2015-12-31 21:00:00           5944.0     37587.70313   \n",
       "473332  2015-12-31 22:00:00           5698.0     36356.26172   \n",
       "473333  2015-12-31 23:00:00           5365.0     35150.33984   \n",
       "\n",
       "        Total Wind Installed, MW  Total Wind Output, MW  \\\n",
       "473329                   16170.0            3824.932373   \n",
       "473330                   16170.0            4625.632813   \n",
       "473331                   16170.0            4957.714844   \n",
       "473332                   16170.0            4699.097656   \n",
       "473333                   16170.0            4313.125000   \n",
       "\n",
       "        Wind Output, % of Installed  Wind Output, % of Load  1-hr MW change  \\\n",
       "473329                    23.654498                9.584188      483.971191   \n",
       "473330                    28.606264               11.941166      800.700440   \n",
       "473331                    30.659956               13.189725      332.082031   \n",
       "473332                    29.060592               12.925140     -258.617188   \n",
       "473333                    26.673624               12.270507     -385.972656   \n",
       "\n",
       "        1-hr % change  Net Load (MW)  Net Load Change (MW)  Month  \\\n",
       "473329      14.485987   36083.844967          -1172.357911     12   \n",
       "473330      20.933715   34111.226567          -1972.618400     12   \n",
       "473331       7.179170   32629.988286          -1481.238281     12   \n",
       "473332      -5.216460   31657.164064           -972.824222     12   \n",
       "473333      -8.213761   30837.214840           -819.949224     12   \n",
       "\n",
       "        NG Price ($/mcf)  All coal  Lignite  Subbituminous  \n",
       "473329              2.23     28.53    24.04          32.55  \n",
       "473330              2.23     28.53    24.04          32.55  \n",
       "473331              2.23     28.53    24.04          32.55  \n",
       "473332              2.23     28.53    24.04          32.55  \n",
       "473333              2.23     28.53    24.04          32.55  "
      ]
     },
     "execution_count": 127,
     "metadata": {},
     "output_type": "execute_result"
    }
   ],
   "source": [
    "X.tail()"
   ]
  },
  {
   "cell_type": "code",
   "execution_count": 128,
   "metadata": {
    "collapsed": false
   },
   "outputs": [
    {
     "data": {
      "text/html": [
       "<div>\n",
       "<table border=\"1\" class=\"dataframe\">\n",
       "  <thead>\n",
       "    <tr style=\"text-align: right;\">\n",
       "      <th></th>\n",
       "      <th>Unnamed: 0</th>\n",
       "      <th>DATETIME</th>\n",
       "      <th>cluster_id_6</th>\n",
       "      <th>Gen Change (MW)</th>\n",
       "    </tr>\n",
       "  </thead>\n",
       "  <tbody>\n",
       "    <tr>\n",
       "      <th>473324</th>\n",
       "      <td>473324</td>\n",
       "      <td>2015-12-31 14:00:00</td>\n",
       "      <td>5</td>\n",
       "      <td>-386.0</td>\n",
       "    </tr>\n",
       "    <tr>\n",
       "      <th>473325</th>\n",
       "      <td>473325</td>\n",
       "      <td>2015-12-31 15:00:00</td>\n",
       "      <td>5</td>\n",
       "      <td>-66.0</td>\n",
       "    </tr>\n",
       "    <tr>\n",
       "      <th>473326</th>\n",
       "      <td>473326</td>\n",
       "      <td>2015-12-31 16:00:00</td>\n",
       "      <td>5</td>\n",
       "      <td>280.0</td>\n",
       "    </tr>\n",
       "    <tr>\n",
       "      <th>473327</th>\n",
       "      <td>473327</td>\n",
       "      <td>2015-12-31 17:00:00</td>\n",
       "      <td>5</td>\n",
       "      <td>755.0</td>\n",
       "    </tr>\n",
       "    <tr>\n",
       "      <th>473328</th>\n",
       "      <td>473328</td>\n",
       "      <td>2015-12-31 18:00:00</td>\n",
       "      <td>5</td>\n",
       "      <td>517.0</td>\n",
       "    </tr>\n",
       "    <tr>\n",
       "      <th>473329</th>\n",
       "      <td>473329</td>\n",
       "      <td>2015-12-31 19:00:00</td>\n",
       "      <td>5</td>\n",
       "      <td>-20.0</td>\n",
       "    </tr>\n",
       "    <tr>\n",
       "      <th>473330</th>\n",
       "      <td>473330</td>\n",
       "      <td>2015-12-31 20:00:00</td>\n",
       "      <td>5</td>\n",
       "      <td>-964.0</td>\n",
       "    </tr>\n",
       "    <tr>\n",
       "      <th>473331</th>\n",
       "      <td>473331</td>\n",
       "      <td>2015-12-31 21:00:00</td>\n",
       "      <td>5</td>\n",
       "      <td>-608.0</td>\n",
       "    </tr>\n",
       "    <tr>\n",
       "      <th>473332</th>\n",
       "      <td>473332</td>\n",
       "      <td>2015-12-31 22:00:00</td>\n",
       "      <td>5</td>\n",
       "      <td>-246.0</td>\n",
       "    </tr>\n",
       "    <tr>\n",
       "      <th>473333</th>\n",
       "      <td>473333</td>\n",
       "      <td>2015-12-31 23:00:00</td>\n",
       "      <td>5</td>\n",
       "      <td>-333.0</td>\n",
       "    </tr>\n",
       "  </tbody>\n",
       "</table>\n",
       "</div>"
      ],
      "text/plain": [
       "        Unnamed: 0             DATETIME  cluster_id_6  Gen Change (MW)\n",
       "473324      473324  2015-12-31 14:00:00             5           -386.0\n",
       "473325      473325  2015-12-31 15:00:00             5            -66.0\n",
       "473326      473326  2015-12-31 16:00:00             5            280.0\n",
       "473327      473327  2015-12-31 17:00:00             5            755.0\n",
       "473328      473328  2015-12-31 18:00:00             5            517.0\n",
       "473329      473329  2015-12-31 19:00:00             5            -20.0\n",
       "473330      473330  2015-12-31 20:00:00             5           -964.0\n",
       "473331      473331  2015-12-31 21:00:00             5           -608.0\n",
       "473332      473332  2015-12-31 22:00:00             5           -246.0\n",
       "473333      473333  2015-12-31 23:00:00             5           -333.0"
      ]
     },
     "execution_count": 128,
     "metadata": {},
     "output_type": "execute_result"
    }
   ],
   "source": [
    "y.tail(n=10)"
   ]
  },
  {
   "cell_type": "code",
   "execution_count": 5,
   "metadata": {
    "collapsed": true
   },
   "outputs": [],
   "source": [
    "y.drop('Unnamed: 0', axis=1, inplace=True)\n",
    "y.fillna(0, inplace=True)"
   ]
  },
  {
   "cell_type": "code",
   "execution_count": 45,
   "metadata": {
    "collapsed": false
   },
   "outputs": [],
   "source": [
    "X_cols = ['nameplate_capacity', 'GROSS LOAD (MW)', 'ERCOT Load, MW',\n",
    "          'Total Wind Installed, MW', 'Total Wind Output, MW', 'Net Load Change (MW)',\n",
    "          'NG Price ($/mcf)', 'All coal', 'Lignite', 'Subbituminous']\n",
    "X_train = X.loc[(X['Year']<2012)&(X['cluster_id_6']==0),X_cols]\n",
    "y_train = y.loc[(X['Year']<2012)&(X['cluster_id_6']==0),:]\n",
    "\n",
    "X_cv = X.loc[(X['Year'].isin([2012, 2013]))&(X['cluster_id_6']==0),X_cols]\n",
    "y_cv = y.loc[(X['Year'].isin([2012, 2013]))&(X['cluster_id_6']==0),:]\n",
    "\n",
    "X_test = X.loc[(X['Year']>=2013)&(X['cluster_id_6']==0),X_cols]\n",
    "y_test = y.loc[(X['Year']>=2013)&(X['cluster_id_6']==0),'Gen Change (MW)']"
   ]
  },
  {
   "cell_type": "code",
   "execution_count": 123,
   "metadata": {
    "collapsed": false
   },
   "outputs": [
    {
     "data": {
      "text/plain": [
       "(105264, 11)"
      ]
     },
     "execution_count": 123,
     "metadata": {},
     "output_type": "execute_result"
    },
    {
     "data": {
      "text/plain": [
       "(105264, 6)"
      ]
     },
     "execution_count": 123,
     "metadata": {},
     "output_type": "execute_result"
    }
   ],
   "source": [
    "X_cv.shape\n",
    "y_cv.shape"
   ]
  },
  {
   "cell_type": "code",
   "execution_count": 43,
   "metadata": {
    "collapsed": true
   },
   "outputs": [],
   "source": [
    "from sklearn.linear_model import LinearRegression\n",
    "from sklearn.svm import SVR, LinearSVR\n",
    "from sklearn.model_selection import GridSearchCV\n",
    "from sklearn.preprocessing import StandardScaler\n",
    "from sklearn.ensemble import GradientBoostingRegressor"
   ]
  },
  {
   "cell_type": "code",
   "execution_count": 42,
   "metadata": {
    "collapsed": true
   },
   "outputs": [],
   "source": [
    "lr = LinearRegression(normalize=True)"
   ]
  },
  {
   "cell_type": "code",
   "execution_count": 33,
   "metadata": {
    "collapsed": false
   },
   "outputs": [
    {
     "data": {
      "text/plain": [
       "LinearRegression(copy_X=True, fit_intercept=True, n_jobs=1, normalize=True)"
      ]
     },
     "execution_count": 33,
     "metadata": {},
     "output_type": "execute_result"
    }
   ],
   "source": [
    "lr.fit(X_train.fillna(0), y_train.loc[:,'Gen Change (MW)'])"
   ]
  },
  {
   "cell_type": "code",
   "execution_count": 35,
   "metadata": {
    "collapsed": false
   },
   "outputs": [
    {
     "data": {
      "text/plain": [
       "0.24758228110367075"
      ]
     },
     "execution_count": 35,
     "metadata": {},
     "output_type": "execute_result"
    }
   ],
   "source": [
    "lr.score(X_cv, y_cv.loc[:,'Gen Change (MW)'])"
   ]
  },
  {
   "cell_type": "code",
   "execution_count": 21,
   "metadata": {
    "collapsed": true
   },
   "outputs": [],
   "source": [
    "svm = SVR()"
   ]
  },
  {
   "cell_type": "code",
   "execution_count": 22,
   "metadata": {
    "collapsed": true
   },
   "outputs": [],
   "source": [
    "parameters = {'C':np.logspace(-5, 1, num=5)}"
   ]
  },
  {
   "cell_type": "code",
   "execution_count": 23,
   "metadata": {
    "collapsed": true
   },
   "outputs": [],
   "source": [
    "lm = GridSearchCV(svm, parameters, n_jobs=-1, verbose=3)"
   ]
  },
  {
   "cell_type": "code",
   "execution_count": 34,
   "metadata": {
    "collapsed": false
   },
   "outputs": [],
   "source": [
    "X_train_scale = StandardScaler().fit_transform(X_train.fillna(0))"
   ]
  },
  {
   "cell_type": "code",
   "execution_count": 35,
   "metadata": {
    "collapsed": false,
    "scrolled": true
   },
   "outputs": [
    {
     "name": "stdout",
     "output_type": "stream",
     "text": [
      "Fitting 3 folds for each of 5 candidates, totalling 15 fits\n",
      "[CV] C=1e-05 .........................................................\n",
      "[CV] C=1e-05 .........................................................\n",
      "[CV] C=1e-05 .........................................................\n",
      "[CV] C=0.000316227766017 .............................................\n",
      "[CV] ......................... C=1e-05, score=-0.000012, total= 1.5min\n",
      "[CV] C=0.000316227766017 .............................................\n",
      "[CV] .......................... C=1e-05, score=0.000005, total= 1.5min\n",
      "[CV] C=0.000316227766017 .............................................\n",
      "[CV] .............. C=0.000316227766017, score=0.000219, total= 1.5min\n",
      "[CV] C=0.01 ..........................................................\n",
      "[CV] .......................... C=1e-05, score=0.000009, total= 1.5min\n",
      "[CV] C=0.01 ..........................................................\n",
      "[CV] .............. C=0.000316227766017, score=0.000225, total= 1.5min\n",
      "[CV] C=0.01 ..........................................................\n",
      "[CV] .............. C=0.000316227766017, score=0.000389, total= 1.5min\n",
      "[CV] C=0.316227766017 ................................................\n",
      "[CV] ........................... C=0.01, score=0.005852, total= 1.5min\n",
      "[CV] C=0.316227766017 ................................................\n",
      "[CV] ........................... C=0.01, score=0.010676, total= 1.5min\n",
      "[CV] C=0.316227766017 ................................................\n",
      "[CV] ................. C=0.316227766017, score=0.044574, total= 1.4min\n",
      "[CV] C=10.0 ..........................................................\n",
      "[CV] ........................... C=0.01, score=0.006729, total= 1.4min\n",
      "[CV] C=10.0 ..........................................................\n",
      "[CV] ................. C=0.316227766017, score=0.072864, total= 1.4min\n",
      "[CV] C=10.0 ..........................................................\n",
      "[CV] ................. C=0.316227766017, score=0.089090, total= 1.4min\n",
      "[CV] ........................... C=10.0, score=0.183176, total= 1.1min\n",
      "[CV] ........................... C=10.0, score=0.056534, total= 1.1min\n",
      "[CV] ........................... C=10.0, score=0.127246, total= 1.1min\n"
     ]
    },
    {
     "name": "stderr",
     "output_type": "stream",
     "text": [
      "[Parallel(n_jobs=-1)]: Done  15 out of  15 | elapsed:  8.1min finished\n"
     ]
    },
    {
     "data": {
      "text/plain": [
       "GridSearchCV(cv=None, error_score='raise',\n",
       "       estimator=SVR(C=1.0, cache_size=200, coef0=0.0, degree=3, epsilon=0.1, gamma='auto',\n",
       "  kernel='rbf', max_iter=-1, shrinking=True, tol=0.001, verbose=False),\n",
       "       fit_params={}, iid=True, n_jobs=-1,\n",
       "       param_grid={'C': array([  1.00000e-05,   3.16228e-04,   1.00000e-02,   3.16228e-01,\n",
       "         1.00000e+01])},\n",
       "       pre_dispatch='2*n_jobs', refit=True, return_train_score=True,\n",
       "       scoring=None, verbose=3)"
      ]
     },
     "execution_count": 35,
     "metadata": {},
     "output_type": "execute_result"
    }
   ],
   "source": [
    "lm.fit(X_train_scale, y_train.loc[:,'Gen Change (MW)'])"
   ]
  },
  {
   "cell_type": "code",
   "execution_count": 36,
   "metadata": {
    "collapsed": false,
    "scrolled": true
   },
   "outputs": [
    {
     "data": {
      "text/plain": [
       "{'mean_fit_time': array([ 68.50761731,  68.01915272,  66.43580532,  63.26625896,  50.82600164]),\n",
       " 'mean_score_time': array([ 21.21957064,  20.45541732,  19.97577238,  19.61584632,  16.06835238]),\n",
       " 'mean_test_score': array([  9.42038679e-07,   2.77809258e-04,   7.75267562e-03,\n",
       "          6.88423672e-02,   1.22318688e-01]),\n",
       " 'mean_train_score': array([  2.20115028e-06,   5.99949654e-04,   1.66536334e-02,\n",
       "          1.32001489e-01,   2.35857210e-01]),\n",
       " 'param_C': masked_array(data = [1.0000000000000001e-05 0.00031622776601683794 0.01 0.31622776601683794\n",
       "  10.0],\n",
       "              mask = [False False False False False],\n",
       "        fill_value = ?),\n",
       " 'params': ({'C': 1.0000000000000001e-05},\n",
       "  {'C': 0.00031622776601683794},\n",
       "  {'C': 0.01},\n",
       "  {'C': 0.31622776601683794},\n",
       "  {'C': 10.0}),\n",
       " 'rank_test_score': array([5, 4, 3, 2, 1], dtype=int32),\n",
       " 'split0_test_score': array([  5.36187481e-06,   2.19473259e-04,   5.85238663e-03,\n",
       "          4.45736826e-02,   5.65343251e-02]),\n",
       " 'split0_train_score': array([  2.34775004e-05,   7.70415371e-04,   2.07637554e-02,\n",
       "          1.59915457e-01,   2.70578509e-01]),\n",
       " 'split1_test_score': array([  9.48528428e-06,   3.88782799e-04,   1.06764907e-02,\n",
       "          8.90896797e-02,   1.27246146e-01]),\n",
       " 'split1_train_score': array([  2.07586248e-05,   6.76244141e-04,   1.85898974e-02,\n",
       "          1.55521933e-01,   2.62220384e-01]),\n",
       " 'split2_test_score': array([ -1.20210431e-05,   2.25171717e-04,   6.72914947e-03,\n",
       "          7.28637392e-02,   1.83175594e-01]),\n",
       " 'split2_train_score': array([ -3.76326743e-05,   3.53189450e-04,   1.06072475e-02,\n",
       "          8.05670770e-02,   1.74772737e-01]),\n",
       " 'std_fit_time': array([ 0.36100598,  0.67936124,  1.38399847,  0.17321863,  0.4787014 ]),\n",
       " 'std_score_time': array([ 0.0914103 ,  0.59430071,  0.29184055,  0.08486365,  0.11697021]),\n",
       " 'std_test_score': array([  9.31957590e-06,   7.85046203e-05,   2.09820550e-03,\n",
       "          1.83946926e-02,   5.18183532e-02]),\n",
       " 'std_train_score': array([  2.81886296e-05,   1.78671027e-04,   4.36657777e-03,\n",
       "          3.64138236e-02,   4.33278140e-02])}"
      ]
     },
     "execution_count": 36,
     "metadata": {},
     "output_type": "execute_result"
    }
   ],
   "source": [
    "lm.cv_results_"
   ]
  },
  {
   "cell_type": "code",
   "execution_count": 37,
   "metadata": {
    "collapsed": false
   },
   "outputs": [
    {
     "data": {
      "text/plain": [
       "0.13777759084180885"
      ]
     },
     "execution_count": 37,
     "metadata": {},
     "output_type": "execute_result"
    }
   ],
   "source": [
    "lm.score(StandardScaler().fit_transform(X_cv), y_cv.loc[:,'Gen Change (MW)'])"
   ]
  },
  {
   "cell_type": "code",
   "execution_count": 38,
   "metadata": {
    "collapsed": true
   },
   "outputs": [],
   "source": [
    "lsvr = LinearSVR()"
   ]
  },
  {
   "cell_type": "code",
   "execution_count": 39,
   "metadata": {
    "collapsed": false
   },
   "outputs": [
    {
     "data": {
      "text/plain": [
       "LinearSVR(C=1.0, dual=True, epsilon=0.0, fit_intercept=True,\n",
       "     intercept_scaling=1.0, loss='epsilon_insensitive', max_iter=1000,\n",
       "     random_state=None, tol=0.0001, verbose=0)"
      ]
     },
     "execution_count": 39,
     "metadata": {},
     "output_type": "execute_result"
    }
   ],
   "source": [
    "lsvr.fit(X_train_scale, y_train.loc[:,'Gen Change (MW)'])"
   ]
  },
  {
   "cell_type": "code",
   "execution_count": 40,
   "metadata": {
    "collapsed": true
   },
   "outputs": [],
   "source": [
    "X_cv_scaled = StandardScaler().fit_transform(X_cv)"
   ]
  },
  {
   "cell_type": "code",
   "execution_count": 41,
   "metadata": {
    "collapsed": false
   },
   "outputs": [
    {
     "data": {
      "text/plain": [
       "0.18172657415782667"
      ]
     },
     "execution_count": 41,
     "metadata": {},
     "output_type": "execute_result"
    }
   ],
   "source": [
    "lsvr.score(X_cv_scaled, y_cv.loc[:,'Gen Change (MW)'])"
   ]
  },
  {
   "cell_type": "code",
   "execution_count": 75,
   "metadata": {
    "collapsed": false
   },
   "outputs": [
    {
     "name": "stderr",
     "output_type": "stream",
     "text": [
      "/Users/Home/anaconda/envs/deep_learn/lib/python2.7/site-packages/pandas/core/frame.py:2842: SettingWithCopyWarning: \n",
      "A value is trying to be set on a copy of a slice from a DataFrame\n",
      "\n",
      "See the caveats in the documentation: http://pandas.pydata.org/pandas-docs/stable/indexing.html#indexing-view-versus-copy\n",
      "  downcast=downcast, **kwargs)\n"
     ]
    }
   ],
   "source": [
    "X_train = X.loc[(X['Year']<2012),X_cols+['cluster_id_6']]\n",
    "X_train.fillna(0, inplace=True)\n",
    "y_train = y.loc[(X['Year']<2012),:]\n",
    "y_train.fillna(0, inplace=True)"
   ]
  },
  {
   "cell_type": "code",
   "execution_count": 76,
   "metadata": {
    "collapsed": false
   },
   "outputs": [
    {
     "data": {
      "text/html": [
       "<div>\n",
       "<table border=\"1\" class=\"dataframe\">\n",
       "  <thead>\n",
       "    <tr style=\"text-align: right;\">\n",
       "      <th></th>\n",
       "      <th>nameplate_capacity</th>\n",
       "      <th>GROSS LOAD (MW)</th>\n",
       "      <th>ERCOT Load, MW</th>\n",
       "      <th>Total Wind Installed, MW</th>\n",
       "      <th>Total Wind Output, MW</th>\n",
       "      <th>Net Load Change (MW)</th>\n",
       "      <th>NG Price ($/mcf)</th>\n",
       "      <th>All coal</th>\n",
       "      <th>Lignite</th>\n",
       "      <th>Subbituminous</th>\n",
       "      <th>cluster_id_6</th>\n",
       "    </tr>\n",
       "  </thead>\n",
       "  <tbody>\n",
       "    <tr>\n",
       "      <th>0</th>\n",
       "      <td>5949.0</td>\n",
       "      <td>4596.0</td>\n",
       "      <td>30428.0</td>\n",
       "      <td>2790.0</td>\n",
       "      <td>1074.0</td>\n",
       "      <td>0.0</td>\n",
       "      <td>6.42</td>\n",
       "      <td>25.1475</td>\n",
       "      <td>20.0275</td>\n",
       "      <td>28.115</td>\n",
       "      <td>0</td>\n",
       "    </tr>\n",
       "    <tr>\n",
       "      <th>1</th>\n",
       "      <td>5949.0</td>\n",
       "      <td>4566.0</td>\n",
       "      <td>30133.0</td>\n",
       "      <td>2790.0</td>\n",
       "      <td>922.6</td>\n",
       "      <td>-143.6</td>\n",
       "      <td>6.42</td>\n",
       "      <td>25.1475</td>\n",
       "      <td>20.0275</td>\n",
       "      <td>28.115</td>\n",
       "      <td>0</td>\n",
       "    </tr>\n",
       "    <tr>\n",
       "      <th>2</th>\n",
       "      <td>5949.0</td>\n",
       "      <td>4667.0</td>\n",
       "      <td>29941.0</td>\n",
       "      <td>2790.0</td>\n",
       "      <td>849.2</td>\n",
       "      <td>-118.6</td>\n",
       "      <td>6.42</td>\n",
       "      <td>25.1475</td>\n",
       "      <td>20.0275</td>\n",
       "      <td>28.115</td>\n",
       "      <td>0</td>\n",
       "    </tr>\n",
       "    <tr>\n",
       "      <th>3</th>\n",
       "      <td>5949.0</td>\n",
       "      <td>4668.0</td>\n",
       "      <td>29949.0</td>\n",
       "      <td>2790.0</td>\n",
       "      <td>1056.3</td>\n",
       "      <td>-199.1</td>\n",
       "      <td>6.42</td>\n",
       "      <td>25.1475</td>\n",
       "      <td>20.0275</td>\n",
       "      <td>28.115</td>\n",
       "      <td>0</td>\n",
       "    </tr>\n",
       "    <tr>\n",
       "      <th>4</th>\n",
       "      <td>5949.0</td>\n",
       "      <td>4685.0</td>\n",
       "      <td>30248.0</td>\n",
       "      <td>2790.0</td>\n",
       "      <td>837.1</td>\n",
       "      <td>518.2</td>\n",
       "      <td>6.42</td>\n",
       "      <td>25.1475</td>\n",
       "      <td>20.0275</td>\n",
       "      <td>28.115</td>\n",
       "      <td>0</td>\n",
       "    </tr>\n",
       "  </tbody>\n",
       "</table>\n",
       "</div>"
      ],
      "text/plain": [
       "   nameplate_capacity  GROSS LOAD (MW)  ERCOT Load, MW  \\\n",
       "0              5949.0           4596.0         30428.0   \n",
       "1              5949.0           4566.0         30133.0   \n",
       "2              5949.0           4667.0         29941.0   \n",
       "3              5949.0           4668.0         29949.0   \n",
       "4              5949.0           4685.0         30248.0   \n",
       "\n",
       "   Total Wind Installed, MW  Total Wind Output, MW  Net Load Change (MW)  \\\n",
       "0                    2790.0                 1074.0                   0.0   \n",
       "1                    2790.0                  922.6                -143.6   \n",
       "2                    2790.0                  849.2                -118.6   \n",
       "3                    2790.0                 1056.3                -199.1   \n",
       "4                    2790.0                  837.1                 518.2   \n",
       "\n",
       "   NG Price ($/mcf)  All coal  Lignite  Subbituminous  cluster_id_6  \n",
       "0              6.42   25.1475  20.0275         28.115             0  \n",
       "1              6.42   25.1475  20.0275         28.115             0  \n",
       "2              6.42   25.1475  20.0275         28.115             0  \n",
       "3              6.42   25.1475  20.0275         28.115             0  \n",
       "4              6.42   25.1475  20.0275         28.115             0  "
      ]
     },
     "execution_count": 76,
     "metadata": {},
     "output_type": "execute_result"
    }
   ],
   "source": [
    "X_train.head()"
   ]
  },
  {
   "cell_type": "code",
   "execution_count": 77,
   "metadata": {
    "collapsed": true
   },
   "outputs": [],
   "source": [
    "gbr = GradientBoostingRegressor()"
   ]
  },
  {
   "cell_type": "code",
   "execution_count": 85,
   "metadata": {
    "collapsed": true
   },
   "outputs": [],
   "source": [
    "params = {'n_estimators': [100, 200, 400],\n",
    "          'max_depth': [1, 3, 5]\n",
    "          }\n",
    "gb_gs = GridSearchCV(gbr, params, n_jobs=-1, verbose=3)"
   ]
  },
  {
   "cell_type": "code",
   "execution_count": 86,
   "metadata": {
    "collapsed": false,
    "scrolled": true
   },
   "outputs": [
    {
     "name": "stdout",
     "output_type": "stream",
     "text": [
      "Fitting 3 folds for each of 9 candidates, totalling 27 fits\n",
      "[CV] n_estimators=100, max_depth=1 ...................................\n",
      "[CV] n_estimators=100, max_depth=1 ...................................\n",
      "[CV] n_estimators=100, max_depth=1 ...................................\n",
      "[CV] n_estimators=200, max_depth=1 ...................................\n",
      "[CV] .... n_estimators=100, max_depth=1, score=0.197376, total=   9.8s\n",
      "[CV] n_estimators=200, max_depth=1 ...................................\n",
      "[CV] .... n_estimators=100, max_depth=1, score=0.214138, total=   9.8s\n",
      "[CV] n_estimators=200, max_depth=1 ...................................\n",
      "[CV] .... n_estimators=100, max_depth=1, score=0.221387, total=  10.0s\n",
      "[CV] n_estimators=400, max_depth=1 ...................................\n",
      "[CV] .... n_estimators=200, max_depth=1, score=0.198135, total=  18.5s\n",
      "[CV] n_estimators=400, max_depth=1 ...................................\n",
      "[CV] .... n_estimators=200, max_depth=1, score=0.216575, total=  20.9s\n",
      "[CV] n_estimators=400, max_depth=1 ...................................\n",
      "[CV] .... n_estimators=200, max_depth=1, score=0.207200, total=  20.8s\n",
      "[CV] n_estimators=100, max_depth=3 ...................................\n",
      "[CV] .... n_estimators=400, max_depth=1, score=0.201355, total=  40.5s\n",
      "[CV] n_estimators=100, max_depth=3 ...................................\n",
      "[CV] .... n_estimators=400, max_depth=1, score=0.219128, total=  37.6s\n",
      "[CV] n_estimators=100, max_depth=3 ...................................\n",
      "[CV] .... n_estimators=100, max_depth=3, score=0.499866, total=  32.5s\n",
      "[CV] n_estimators=200, max_depth=3 ...................................\n",
      "[CV] .... n_estimators=400, max_depth=1, score=0.209742, total=  36.9s\n",
      "[CV] n_estimators=200, max_depth=3 ...................................\n",
      "[CV] .... n_estimators=100, max_depth=3, score=0.462554, total=  31.7s\n",
      "[CV] n_estimators=200, max_depth=3 ...................................\n",
      "[CV] .... n_estimators=100, max_depth=3, score=0.418630, total=  34.0s\n",
      "[CV] n_estimators=400, max_depth=3 ...................................\n",
      "[CV] .... n_estimators=200, max_depth=3, score=0.512459, total= 1.2min\n",
      "[CV] n_estimators=400, max_depth=3 ...................................\n",
      "[CV] .... n_estimators=200, max_depth=3, score=0.480323, total= 1.2min\n",
      "[CV] n_estimators=400, max_depth=3 ...................................\n",
      "[CV] .... n_estimators=200, max_depth=3, score=0.375882, total= 1.2min\n",
      "[CV] n_estimators=100, max_depth=5 ...................................\n",
      "[CV] .... n_estimators=400, max_depth=3, score=0.499263, total= 2.3min\n",
      "[CV] n_estimators=100, max_depth=5 ...................................\n",
      "[CV] .... n_estimators=100, max_depth=5, score=0.522452, total= 1.4min\n",
      "[CV] n_estimators=100, max_depth=5 ...................................\n",
      "[CV] .... n_estimators=400, max_depth=3, score=0.485041, total= 2.2min\n",
      "[CV] n_estimators=200, max_depth=5 ...................................\n",
      "[CV] .... n_estimators=400, max_depth=3, score=0.420222, total= 2.2min\n",
      "[CV] n_estimators=200, max_depth=5 ...................................\n",
      "[CV] .... n_estimators=100, max_depth=5, score=0.489436, total= 1.3min\n",
      "[CV] n_estimators=200, max_depth=5 ...................................\n",
      "[CV] .... n_estimators=100, max_depth=5, score=0.424506, total= 1.3min\n",
      "[CV] n_estimators=400, max_depth=5 ...................................\n",
      "[CV] .... n_estimators=200, max_depth=5, score=0.510811, total= 2.4min\n",
      "[CV] n_estimators=400, max_depth=5 ...................................\n",
      "[CV] .... n_estimators=200, max_depth=5, score=0.484850, total= 2.4min\n",
      "[CV] n_estimators=400, max_depth=5 ...................................\n",
      "[CV] .... n_estimators=200, max_depth=5, score=0.394045, total= 2.3min\n",
      "[CV] .... n_estimators=400, max_depth=5, score=0.482168, total= 4.0min\n",
      "[CV] .... n_estimators=400, max_depth=5, score=0.469680, total= 3.3min\n",
      "[CV] .... n_estimators=400, max_depth=5, score=0.151012, total= 3.3min\n"
     ]
    },
    {
     "name": "stderr",
     "output_type": "stream",
     "text": [
      "[Parallel(n_jobs=-1)]: Done  27 out of  27 | elapsed: 10.4min finished\n"
     ]
    },
    {
     "data": {
      "text/plain": [
       "GridSearchCV(cv=None, error_score='raise',\n",
       "       estimator=GradientBoostingRegressor(alpha=0.9, criterion='friedman_mse', init=None,\n",
       "             learning_rate=0.1, loss='ls', max_depth=3, max_features=None,\n",
       "             max_leaf_nodes=None, min_impurity_split=1e-07,\n",
       "             min_samples_leaf=1, min_samples_split=2,\n",
       "             min_weight_fraction_leaf=0.0, n_estimators=100,\n",
       "             presort='auto', random_state=None, subsample=1.0, verbose=0,\n",
       "             warm_start=False),\n",
       "       fit_params={}, iid=True, n_jobs=-1,\n",
       "       param_grid={'n_estimators': [100, 200, 400], 'max_depth': [1, 3, 5]},\n",
       "       pre_dispatch='2*n_jobs', refit=True, return_train_score=True,\n",
       "       scoring=None, verbose=3)"
      ]
     },
     "execution_count": 86,
     "metadata": {},
     "output_type": "execute_result"
    }
   ],
   "source": [
    "gb_gs.fit(X_train, y_train.loc[:,'Gen Change (MW)'])"
   ]
  },
  {
   "cell_type": "code",
   "execution_count": 87,
   "metadata": {
    "collapsed": true
   },
   "outputs": [],
   "source": [
    "X_cv = X.loc[(X['Year'].isin([2012, 2013])),X_cols+['cluster_id_6']]\n",
    "X_cv.fillna(0, inplace=True)\n",
    "y_cv = y.loc[(X['Year'].isin([2012, 2013])),:]\n",
    "y_cv.fillna(0, inplace=True)"
   ]
  },
  {
   "cell_type": "code",
   "execution_count": 89,
   "metadata": {
    "collapsed": false
   },
   "outputs": [
    {
     "data": {
      "text/plain": [
       "0.57195054107059728"
      ]
     },
     "execution_count": 89,
     "metadata": {},
     "output_type": "execute_result"
    }
   ],
   "source": [
    "gb_gs.score(X_cv, y_cv.loc[:,'Gen Change (MW)'])"
   ]
  },
  {
   "cell_type": "code",
   "execution_count": 93,
   "metadata": {
    "collapsed": false
   },
   "outputs": [
    {
     "data": {
      "text/plain": [
       "{'max_depth': 5, 'n_estimators': 100}"
      ]
     },
     "execution_count": 93,
     "metadata": {},
     "output_type": "execute_result"
    },
    {
     "data": {
      "text/plain": [
       "6"
      ]
     },
     "execution_count": 93,
     "metadata": {},
     "output_type": "execute_result"
    }
   ],
   "source": [
    "gb_gs.best_params_\n",
    "gb_gs.best_index_"
   ]
  },
  {
   "cell_type": "code",
   "execution_count": 96,
   "metadata": {
    "collapsed": false
   },
   "outputs": [],
   "source": [
    "gbr2 = GradientBoostingRegressor(max_depth= 5, n_estimators= 100)"
   ]
  },
  {
   "cell_type": "code",
   "execution_count": 97,
   "metadata": {
    "collapsed": false
   },
   "outputs": [
    {
     "data": {
      "text/plain": [
       "GradientBoostingRegressor(alpha=0.9, criterion='friedman_mse', init=None,\n",
       "             learning_rate=0.1, loss='ls', max_depth=5, max_features=None,\n",
       "             max_leaf_nodes=None, min_impurity_split=1e-07,\n",
       "             min_samples_leaf=1, min_samples_split=2,\n",
       "             min_weight_fraction_leaf=0.0, n_estimators=100,\n",
       "             presort='auto', random_state=None, subsample=1.0, verbose=0,\n",
       "             warm_start=False)"
      ]
     },
     "execution_count": 97,
     "metadata": {},
     "output_type": "execute_result"
    }
   ],
   "source": [
    "gbr2.fit(X_train, y_train.loc[:,'Gen Change (MW)'])"
   ]
  },
  {
   "cell_type": "code",
   "execution_count": 98,
   "metadata": {
    "collapsed": false
   },
   "outputs": [
    {
     "data": {
      "text/plain": [
       "0.57213532380575405"
      ]
     },
     "execution_count": 98,
     "metadata": {},
     "output_type": "execute_result"
    }
   ],
   "source": [
    "gbr2.score(X_cv, y_cv.loc[:,'Gen Change (MW)'])"
   ]
  },
  {
   "cell_type": "code",
   "execution_count": 103,
   "metadata": {
    "collapsed": false
   },
   "outputs": [
    {
     "data": {
      "text/html": [
       "<div>\n",
       "<table border=\"1\" class=\"dataframe\">\n",
       "  <thead>\n",
       "    <tr style=\"text-align: right;\">\n",
       "      <th></th>\n",
       "      <th>nameplate_capacity</th>\n",
       "      <th>GROSS LOAD (MW)</th>\n",
       "      <th>ERCOT Load, MW</th>\n",
       "      <th>Total Wind Installed, MW</th>\n",
       "      <th>Total Wind Output, MW</th>\n",
       "      <th>Net Load Change (MW)</th>\n",
       "      <th>NG Price ($/mcf)</th>\n",
       "      <th>All coal</th>\n",
       "      <th>Lignite</th>\n",
       "      <th>Subbituminous</th>\n",
       "      <th>cluster_id_6</th>\n",
       "    </tr>\n",
       "  </thead>\n",
       "  <tbody>\n",
       "    <tr>\n",
       "      <th>368203</th>\n",
       "      <td>9946.0</td>\n",
       "      <td>8638.0</td>\n",
       "      <td>41092.511719</td>\n",
       "      <td>11205.5</td>\n",
       "      <td>7017.341042</td>\n",
       "      <td>-2013.098208</td>\n",
       "      <td>4.4</td>\n",
       "      <td>28.99</td>\n",
       "      <td>22.79</td>\n",
       "      <td>35.2</td>\n",
       "      <td>5</td>\n",
       "    </tr>\n",
       "    <tr>\n",
       "      <th>368204</th>\n",
       "      <td>9946.0</td>\n",
       "      <td>8459.0</td>\n",
       "      <td>40130.968750</td>\n",
       "      <td>11205.5</td>\n",
       "      <td>7567.017969</td>\n",
       "      <td>-1511.219896</td>\n",
       "      <td>4.4</td>\n",
       "      <td>28.99</td>\n",
       "      <td>22.79</td>\n",
       "      <td>35.2</td>\n",
       "      <td>5</td>\n",
       "    </tr>\n",
       "    <tr>\n",
       "      <th>368205</th>\n",
       "      <td>9946.0</td>\n",
       "      <td>8138.0</td>\n",
       "      <td>39343.050781</td>\n",
       "      <td>11205.5</td>\n",
       "      <td>7688.282375</td>\n",
       "      <td>-909.182375</td>\n",
       "      <td>4.4</td>\n",
       "      <td>28.99</td>\n",
       "      <td>22.79</td>\n",
       "      <td>35.2</td>\n",
       "      <td>5</td>\n",
       "    </tr>\n",
       "    <tr>\n",
       "      <th>368206</th>\n",
       "      <td>9946.0</td>\n",
       "      <td>7919.0</td>\n",
       "      <td>38115.851562</td>\n",
       "      <td>11205.5</td>\n",
       "      <td>7639.041425</td>\n",
       "      <td>-1177.958268</td>\n",
       "      <td>4.4</td>\n",
       "      <td>28.99</td>\n",
       "      <td>22.79</td>\n",
       "      <td>35.2</td>\n",
       "      <td>5</td>\n",
       "    </tr>\n",
       "    <tr>\n",
       "      <th>368207</th>\n",
       "      <td>9946.0</td>\n",
       "      <td>8101.0</td>\n",
       "      <td>37058.792969</td>\n",
       "      <td>11205.5</td>\n",
       "      <td>7526.410428</td>\n",
       "      <td>-944.427597</td>\n",
       "      <td>4.4</td>\n",
       "      <td>28.99</td>\n",
       "      <td>22.79</td>\n",
       "      <td>35.2</td>\n",
       "      <td>5</td>\n",
       "    </tr>\n",
       "  </tbody>\n",
       "</table>\n",
       "</div>"
      ],
      "text/plain": [
       "        nameplate_capacity  GROSS LOAD (MW)  ERCOT Load, MW  \\\n",
       "368203              9946.0           8638.0    41092.511719   \n",
       "368204              9946.0           8459.0    40130.968750   \n",
       "368205              9946.0           8138.0    39343.050781   \n",
       "368206              9946.0           7919.0    38115.851562   \n",
       "368207              9946.0           8101.0    37058.792969   \n",
       "\n",
       "        Total Wind Installed, MW  Total Wind Output, MW  Net Load Change (MW)  \\\n",
       "368203                   11205.5            7017.341042          -2013.098208   \n",
       "368204                   11205.5            7567.017969          -1511.219896   \n",
       "368205                   11205.5            7688.282375           -909.182375   \n",
       "368206                   11205.5            7639.041425          -1177.958268   \n",
       "368207                   11205.5            7526.410428           -944.427597   \n",
       "\n",
       "        NG Price ($/mcf)  All coal  Lignite  Subbituminous  cluster_id_6  \n",
       "368203               4.4     28.99    22.79           35.2             5  \n",
       "368204               4.4     28.99    22.79           35.2             5  \n",
       "368205               4.4     28.99    22.79           35.2             5  \n",
       "368206               4.4     28.99    22.79           35.2             5  \n",
       "368207               4.4     28.99    22.79           35.2             5  "
      ]
     },
     "execution_count": 103,
     "metadata": {},
     "output_type": "execute_result"
    }
   ],
   "source": [
    "X_cv.tail()"
   ]
  },
  {
   "cell_type": "code",
   "execution_count": 107,
   "metadata": {
    "collapsed": false
   },
   "outputs": [],
   "source": [
    "y_pr = gbr2.predict(X_cv)"
   ]
  },
  {
   "cell_type": "code",
   "execution_count": 114,
   "metadata": {
    "collapsed": false
   },
   "outputs": [
    {
     "name": "stderr",
     "output_type": "stream",
     "text": [
      "/Users/Home/anaconda/envs/deep_learn/lib/python2.7/site-packages/pandas/core/indexing.py:296: SettingWithCopyWarning: \n",
      "A value is trying to be set on a copy of a slice from a DataFrame.\n",
      "Try using .loc[row_indexer,col_indexer] = value instead\n",
      "\n",
      "See the caveats in the documentation: http://pandas.pydata.org/pandas-docs/stable/indexing.html#indexing-view-versus-copy\n",
      "  self.obj[key] = _infer_fill_value(value)\n",
      "/Users/Home/anaconda/envs/deep_learn/lib/python2.7/site-packages/pandas/core/indexing.py:476: SettingWithCopyWarning: \n",
      "A value is trying to be set on a copy of a slice from a DataFrame.\n",
      "Try using .loc[row_indexer,col_indexer] = value instead\n",
      "\n",
      "See the caveats in the documentation: http://pandas.pydata.org/pandas-docs/stable/indexing.html#indexing-view-versus-copy\n",
      "  self.obj[item] = s\n"
     ]
    }
   ],
   "source": [
    "y_resids = y_cv\n",
    "y_resids.loc[:,'y_pr'] = y_pr"
   ]
  },
  {
   "cell_type": "code",
   "execution_count": 116,
   "metadata": {
    "collapsed": false
   },
   "outputs": [
    {
     "data": {
      "text/html": [
       "<div>\n",
       "<table border=\"1\" class=\"dataframe\">\n",
       "  <thead>\n",
       "    <tr style=\"text-align: right;\">\n",
       "      <th></th>\n",
       "      <th>Unnamed: 0</th>\n",
       "      <th>DATETIME</th>\n",
       "      <th>cluster_id_6</th>\n",
       "      <th>Gen Change (MW)</th>\n",
       "      <th>y_pr</th>\n",
       "    </tr>\n",
       "  </thead>\n",
       "  <tbody>\n",
       "    <tr>\n",
       "      <th>262944</th>\n",
       "      <td>262944</td>\n",
       "      <td>2012-01-01 00:00:00</td>\n",
       "      <td>0</td>\n",
       "      <td>0.0</td>\n",
       "      <td>-16.949028</td>\n",
       "    </tr>\n",
       "    <tr>\n",
       "      <th>262945</th>\n",
       "      <td>262945</td>\n",
       "      <td>2012-01-01 01:00:00</td>\n",
       "      <td>0</td>\n",
       "      <td>1.0</td>\n",
       "      <td>17.606598</td>\n",
       "    </tr>\n",
       "    <tr>\n",
       "      <th>262946</th>\n",
       "      <td>262946</td>\n",
       "      <td>2012-01-01 02:00:00</td>\n",
       "      <td>0</td>\n",
       "      <td>-1.0</td>\n",
       "      <td>16.467655</td>\n",
       "    </tr>\n",
       "    <tr>\n",
       "      <th>262947</th>\n",
       "      <td>262947</td>\n",
       "      <td>2012-01-01 03:00:00</td>\n",
       "      <td>0</td>\n",
       "      <td>0.0</td>\n",
       "      <td>24.309541</td>\n",
       "    </tr>\n",
       "    <tr>\n",
       "      <th>262948</th>\n",
       "      <td>262948</td>\n",
       "      <td>2012-01-01 04:00:00</td>\n",
       "      <td>0</td>\n",
       "      <td>0.0</td>\n",
       "      <td>54.238786</td>\n",
       "    </tr>\n",
       "  </tbody>\n",
       "</table>\n",
       "</div>"
      ],
      "text/plain": [
       "        Unnamed: 0             DATETIME  cluster_id_6  Gen Change (MW)  \\\n",
       "262944      262944  2012-01-01 00:00:00             0              0.0   \n",
       "262945      262945  2012-01-01 01:00:00             0              1.0   \n",
       "262946      262946  2012-01-01 02:00:00             0             -1.0   \n",
       "262947      262947  2012-01-01 03:00:00             0              0.0   \n",
       "262948      262948  2012-01-01 04:00:00             0              0.0   \n",
       "\n",
       "             y_pr  \n",
       "262944 -16.949028  \n",
       "262945  17.606598  \n",
       "262946  16.467655  \n",
       "262947  24.309541  \n",
       "262948  54.238786  "
      ]
     },
     "execution_count": 116,
     "metadata": {},
     "output_type": "execute_result"
    }
   ],
   "source": [
    "y_resids.head()"
   ]
  },
  {
   "cell_type": "code",
   "execution_count": 118,
   "metadata": {
    "collapsed": false
   },
   "outputs": [],
   "source": [
    "y_resids.loc[:,'residuals'] = y_resids.loc[:, 'y_pr'] - y_resids.loc[:,'Gen Change (MW)']"
   ]
  },
  {
   "cell_type": "code",
   "execution_count": 122,
   "metadata": {
    "collapsed": false
   },
   "outputs": [
    {
     "data": {
      "text/plain": [
       "<seaborn.axisgrid.FacetGrid at 0x117fb07d0>"
      ]
     },
     "execution_count": 122,
     "metadata": {},
     "output_type": "execute_result"
    },
    {
     "data": {
      "text/plain": [
       "<seaborn.axisgrid.FacetGrid at 0x117fb07d0>"
      ]
     },
     "execution_count": 122,
     "metadata": {},
     "output_type": "execute_result"
    },
    {
     "data": {
      "image/png": "[encoded data removed]",
      "text/plain": [
       "<matplotlib.figure.Figure at 0x11fc1a450>"
      ]
     },
     "metadata": {},
     "output_type": "display_data"
    }
   ],
   "source": [
    "g = sns.FacetGrid(y_resids, hue='cluster_id_6', col='cluster_id_6',\n",
    "                  col_wrap=3)\n",
    "g.map(plt.scatter, 'Gen Change (MW)', 'residuals')\n",
    "g.add_legend()"
   ]
  },
  {
   "cell_type": "code",
   "execution_count": 113,
   "metadata": {
    "collapsed": false
   },
   "outputs": [
    {
     "data": {
      "text/plain": [
       "<matplotlib.collections.PathCollection at 0x115043790>"
      ]
     },
     "execution_count": 113,
     "metadata": {},
     "output_type": "execute_result"
    },
    {
     "data": {
      "text/plain": [
       "<matplotlib.text.Text at 0x1138323d0>"
      ]
     },
     "execution_count": 113,
     "metadata": {},
     "output_type": "execute_result"
    },
    {
     "data": {
      "text/plain": [
       "<matplotlib.text.Text at 0x11459df10>"
      ]
     },
     "execution_count": 113,
     "metadata": {},
     "output_type": "execute_result"
    },
    {
     "data": {
      "image/png": "[encoded data removed]",
      "text/plain": [
       "<matplotlib.figure.Figure at 0x1147b03d0>"
      ]
     },
     "metadata": {},
     "output_type": "display_data"
    }
   ],
   "source": [
    "plt.scatter(y_pr-y_cv.loc[:,'Gen Change (MW)'], y_cv.loc[:,'Gen Change (MW)'])\n",
    "plt.ylabel('y_pr - y_va')\n",
    "plt.xlabel('y_va')"
   ]
  },
  {
   "cell_type": "code",
   "execution_count": 105,
   "metadata": {
    "collapsed": false
   },
   "outputs": [
    {
     "data": {
      "text/plain": [
       "array([-160.08752878, -137.88092438,  -76.99578375, -101.57947108,\n",
       "        -68.59455465])"
      ]
     },
     "execution_count": 105,
     "metadata": {},
     "output_type": "execute_result"
    }
   ],
   "source": [
    "gbr2.predict(X_cv.tail())"
   ]
  },
  {
   "cell_type": "code",
   "execution_count": 106,
   "metadata": {
    "collapsed": false
   },
   "outputs": [
    {
     "data": {
      "text/html": [
       "<div>\n",
       "<table border=\"1\" class=\"dataframe\">\n",
       "  <thead>\n",
       "    <tr style=\"text-align: right;\">\n",
       "      <th></th>\n",
       "      <th>Unnamed: 0</th>\n",
       "      <th>DATETIME</th>\n",
       "      <th>cluster_id_6</th>\n",
       "      <th>Gen Change (MW)</th>\n",
       "    </tr>\n",
       "  </thead>\n",
       "  <tbody>\n",
       "    <tr>\n",
       "      <th>262944</th>\n",
       "      <td>262944</td>\n",
       "      <td>2012-01-01 00:00:00</td>\n",
       "      <td>0</td>\n",
       "      <td>0.0</td>\n",
       "    </tr>\n",
       "    <tr>\n",
       "      <th>262945</th>\n",
       "      <td>262945</td>\n",
       "      <td>2012-01-01 01:00:00</td>\n",
       "      <td>0</td>\n",
       "      <td>1.0</td>\n",
       "    </tr>\n",
       "    <tr>\n",
       "      <th>262946</th>\n",
       "      <td>262946</td>\n",
       "      <td>2012-01-01 02:00:00</td>\n",
       "      <td>0</td>\n",
       "      <td>-1.0</td>\n",
       "    </tr>\n",
       "    <tr>\n",
       "      <th>262947</th>\n",
       "      <td>262947</td>\n",
       "      <td>2012-01-01 03:00:00</td>\n",
       "      <td>0</td>\n",
       "      <td>0.0</td>\n",
       "    </tr>\n",
       "    <tr>\n",
       "      <th>262948</th>\n",
       "      <td>262948</td>\n",
       "      <td>2012-01-01 04:00:00</td>\n",
       "      <td>0</td>\n",
       "      <td>0.0</td>\n",
       "    </tr>\n",
       "  </tbody>\n",
       "</table>\n",
       "</div>"
      ],
      "text/plain": [
       "        Unnamed: 0             DATETIME  cluster_id_6  Gen Change (MW)\n",
       "262944      262944  2012-01-01 00:00:00             0              0.0\n",
       "262945      262945  2012-01-01 01:00:00             0              1.0\n",
       "262946      262946  2012-01-01 02:00:00             0             -1.0\n",
       "262947      262947  2012-01-01 03:00:00             0              0.0\n",
       "262948      262948  2012-01-01 04:00:00             0              0.0"
      ]
     },
     "execution_count": 106,
     "metadata": {},
     "output_type": "execute_result"
    },
    {
     "data": {
      "text/html": [
       "<div>\n",
       "<table border=\"1\" class=\"dataframe\">\n",
       "  <thead>\n",
       "    <tr style=\"text-align: right;\">\n",
       "      <th></th>\n",
       "      <th>Unnamed: 0</th>\n",
       "      <th>DATETIME</th>\n",
       "      <th>cluster_id_6</th>\n",
       "      <th>Gen Change (MW)</th>\n",
       "    </tr>\n",
       "  </thead>\n",
       "  <tbody>\n",
       "    <tr>\n",
       "      <th>368203</th>\n",
       "      <td>368203</td>\n",
       "      <td>2013-12-31 19:00:00</td>\n",
       "      <td>5</td>\n",
       "      <td>-43.0</td>\n",
       "    </tr>\n",
       "    <tr>\n",
       "      <th>368204</th>\n",
       "      <td>368204</td>\n",
       "      <td>2013-12-31 20:00:00</td>\n",
       "      <td>5</td>\n",
       "      <td>-179.0</td>\n",
       "    </tr>\n",
       "    <tr>\n",
       "      <th>368205</th>\n",
       "      <td>368205</td>\n",
       "      <td>2013-12-31 21:00:00</td>\n",
       "      <td>5</td>\n",
       "      <td>-321.0</td>\n",
       "    </tr>\n",
       "    <tr>\n",
       "      <th>368206</th>\n",
       "      <td>368206</td>\n",
       "      <td>2013-12-31 22:00:00</td>\n",
       "      <td>5</td>\n",
       "      <td>-219.0</td>\n",
       "    </tr>\n",
       "    <tr>\n",
       "      <th>368207</th>\n",
       "      <td>368207</td>\n",
       "      <td>2013-12-31 23:00:00</td>\n",
       "      <td>5</td>\n",
       "      <td>182.0</td>\n",
       "    </tr>\n",
       "  </tbody>\n",
       "</table>\n",
       "</div>"
      ],
      "text/plain": [
       "        Unnamed: 0             DATETIME  cluster_id_6  Gen Change (MW)\n",
       "368203      368203  2013-12-31 19:00:00             5            -43.0\n",
       "368204      368204  2013-12-31 20:00:00             5           -179.0\n",
       "368205      368205  2013-12-31 21:00:00             5           -321.0\n",
       "368206      368206  2013-12-31 22:00:00             5           -219.0\n",
       "368207      368207  2013-12-31 23:00:00             5            182.0"
      ]
     },
     "execution_count": 106,
     "metadata": {},
     "output_type": "execute_result"
    }
   ],
   "source": [
    "y_cv.head()\n",
    "y_cv.tail()"
   ]
  },
  {
   "cell_type": "code",
   "execution_count": 99,
   "metadata": {
    "collapsed": false
   },
   "outputs": [
    {
     "data": {
      "text/plain": [
       "[('nameplate_capacity', 0.16266522126776015),\n",
       " ('GROSS LOAD (MW)', 0.22672077420493669),\n",
       " ('ERCOT Load, MW', 0.16025847675499397),\n",
       " ('Total Wind Installed, MW', 0.031171947200984901),\n",
       " ('Total Wind Output, MW', 0.039058029231171562),\n",
       " ('Net Load Change (MW)', 0.21048315623303249),\n",
       " ('NG Price ($/mcf)', 0.044864708036217768),\n",
       " ('All coal', 0.022008322653849489),\n",
       " ('Lignite', 0.013624795410440838),\n",
       " ('Subbituminous', 0.026952487576165241),\n",
       " ('cluster_id_6', 0.062192081430446938)]"
      ]
     },
     "execution_count": 99,
     "metadata": {},
     "output_type": "execute_result"
    }
   ],
   "source": [
    "zip(X_train.columns, gbr2.feature_importances_)"
   ]
  },
  {
   "cell_type": "code",
   "execution_count": 81,
   "metadata": {
    "collapsed": false,
    "scrolled": true
   },
   "outputs": [
    {
     "data": {
      "text/plain": [
       "array([ 0.25258445,  0.17288106,  0.10443869,  0.00779705,  0.00963297,\n",
       "        0.36888929,  0.00919362,  0.00844292,  0.01696804,  0.00902887,\n",
       "        0.04014305])"
      ]
     },
     "execution_count": 81,
     "metadata": {},
     "output_type": "execute_result"
    }
   ],
   "source": [
    "gbr.feature_importances_"
   ]
  },
  {
   "cell_type": "code",
   "execution_count": 82,
   "metadata": {
    "collapsed": false
   },
   "outputs": [
    {
     "data": {
      "text/plain": [
       "[('nameplate_capacity', 0.25258444977608802),\n",
       " ('GROSS LOAD (MW)', 0.17288105915294888),\n",
       " ('ERCOT Load, MW', 0.10443869142702394),\n",
       " ('Total Wind Installed, MW', 0.0077970454765144024),\n",
       " ('Total Wind Output, MW', 0.0096329697396989721),\n",
       " ('Net Load Change (MW)', 0.3688892884174646),\n",
       " ('NG Price ($/mcf)', 0.0091936151588972309),\n",
       " ('All coal', 0.0084429163773416943),\n",
       " ('Lignite', 0.01696803950909621),\n",
       " ('Subbituminous', 0.0090288724056436613),\n",
       " ('cluster_id_6', 0.040143052559282175)]"
      ]
     },
     "execution_count": 82,
     "metadata": {},
     "output_type": "execute_result"
    }
   ],
   "source": [
    "zip(X_train.columns, gbr.feature_importances_)"
   ]
  },
  {
   "cell_type": "code",
   "execution_count": 90,
   "metadata": {
    "collapsed": false
   },
   "outputs": [
    {
     "ename": "AttributeError",
     "evalue": "'GridSearchCV' object has no attribute 'feature_importances_'",
     "output_type": "error",
     "traceback": [
      "\u001b[0;31m---------------------------------------------------------------------------\u001b[0m",
      "\u001b[0;31mAttributeError\u001b[0m                            Traceback (most recent call last)",
      "\u001b[0;32m<ipython-input-90-d1d2145b3bdf>\u001b[0m in \u001b[0;36m<module>\u001b[0;34m()\u001b[0m\n\u001b[0;32m----> 1\u001b[0;31m \u001b[0mzip\u001b[0m\u001b[0;34m(\u001b[0m\u001b[0mX_train\u001b[0m\u001b[0;34m.\u001b[0m\u001b[0mcolumns\u001b[0m\u001b[0;34m,\u001b[0m \u001b[0mgb_gs\u001b[0m\u001b[0;34m.\u001b[0m\u001b[0mfeature_importances_\u001b[0m\u001b[0;34m)\u001b[0m\u001b[0;34m\u001b[0m\u001b[0m\n\u001b[0m",
      "\u001b[0;31mAttributeError\u001b[0m: 'GridSearchCV' object has no attribute 'feature_importances_'"
     ]
    }
   ],
   "source": [
    "zip(X_train.columns, gb_gs.feature_importances_)"
   ]
  },
  {
   "cell_type": "code",
   "execution_count": 57,
   "metadata": {
    "collapsed": false
   },
   "outputs": [
    {
     "data": {
      "text/plain": [
       "<bound method GradientBoostingRegressor.get_params of GradientBoostingRegressor(alpha=0.9, criterion='friedman_mse', init=None,\n",
       "             learning_rate=0.1, loss='ls', max_depth=3, max_features=None,\n",
       "             max_leaf_nodes=None, min_impurity_split=1e-07,\n",
       "             min_samples_leaf=1, min_samples_split=2,\n",
       "             min_weight_fraction_leaf=0.0, n_estimators=100,\n",
       "             presort='auto', random_state=None, subsample=1.0, verbose=0,\n",
       "             warm_start=False)>"
      ]
     },
     "execution_count": 57,
     "metadata": {},
     "output_type": "execute_result"
    }
   ],
   "source": [
    "gbr.get_params"
   ]
  },
  {
   "cell_type": "code",
   "execution_count": null,
   "metadata": {
    "collapsed": true
   },
   "outputs": [],
   "source": []
  }
 ],
 "metadata": {
  "anaconda-cloud": {},
  "kernelspec": {
   "display_name": "Python [conda env:deep_learn]",
   "language": "python",
   "name": "conda-env-deep_learn-py"
  },
  "language_info": {
   "codemirror_mode": {
    "name": "ipython",
    "version": 2
   },
   "file_extension": ".py",
   "mimetype": "text/x-python",
   "name": "python",
   "nbconvert_exporter": "python",
   "pygments_lexer": "ipython2",
   "version": "2.7.12"
  },
  "widgets": {
   "state": {},
   "version": "1.1.2"
  }
 },
 "nbformat": 4,
 "nbformat_minor": 1
}
