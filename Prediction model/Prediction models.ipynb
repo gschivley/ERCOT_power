{
 "cells": [
  {
   "cell_type": "markdown",
   "metadata": {},
   "source": [
    "# Prediction model"
   ]
  },
  {
   "cell_type": "code",
   "execution_count": 1,
   "metadata": {
    "collapsed": false
   },
   "outputs": [
    {
     "name": "stderr",
     "output_type": "stream",
     "text": [
      "/Users/Home/anaconda/lib/python2.7/site-packages/matplotlib/font_manager.py:273: UserWarning: Matplotlib is building the font cache using fc-list. This may take a moment.\n",
      "  warnings.warn('Matplotlib is building the font cache using fc-list. This may take a moment.')\n"
     ]
    }
   ],
   "source": [
    "%matplotlib inline\n",
    "import matplotlib.pyplot as plt\n",
    "import seaborn as sns\n",
    "import pandas as pd\n",
    "import numpy as np\n",
    "import os\n",
    "from sklearn.linear_model import LinearRegression\n",
    "from sklearn.svm import SVR, LinearSVR\n",
    "from sklearn.model_selection import GridSearchCV\n",
    "from sklearn.preprocessing import StandardScaler\n",
    "from sklearn.ensemble import GradientBoostingRegressor\n",
    "from sklearn.model_selection import validation_curve\n",
    "from sklearn.model_selection import learning_curve"
   ]
  },
  {
   "cell_type": "markdown",
   "metadata": {},
   "source": [
    "## Import data\n",
    "Might still need to clean up the files some after import"
   ]
  },
  {
   "cell_type": "code",
   "execution_count": 2,
   "metadata": {
    "collapsed": true
   },
   "outputs": [],
   "source": [
    "path = '../Clean Data'\n",
    "X_fn = 'X.csv'\n",
    "y_fn = 'y.csv'\n",
    "X_path = os.path.join(path, X_fn)\n",
    "y_path = os.path.join(path, y_fn)\n",
    "\n",
    "X = pd.read_csv(X_path)\n",
    "y = pd.read_csv(y_path)"
   ]
  },
  {
   "cell_type": "code",
   "execution_count": 3,
   "metadata": {
    "collapsed": false
   },
   "outputs": [
    {
     "data": {
      "text/html": [
       "<div>\n",
       "<table border=\"1\" class=\"dataframe\">\n",
       "  <thead>\n",
       "    <tr style=\"text-align: right;\">\n",
       "      <th></th>\n",
       "      <th>Unnamed: 0</th>\n",
       "      <th>cluster_id_6</th>\n",
       "      <th>Year</th>\n",
       "      <th>nameplate_capacity</th>\n",
       "      <th>DATETIME</th>\n",
       "      <th>GROSS LOAD (MW)</th>\n",
       "      <th>ERCOT Load, MW</th>\n",
       "      <th>Total Wind Installed, MW</th>\n",
       "      <th>Total Wind Output, MW</th>\n",
       "      <th>Wind Output, % of Installed</th>\n",
       "      <th>Wind Output, % of Load</th>\n",
       "      <th>1-hr MW change</th>\n",
       "      <th>1-hr % change</th>\n",
       "      <th>Net Load (MW)</th>\n",
       "      <th>Net Load Change (MW)</th>\n",
       "      <th>Month</th>\n",
       "      <th>NG Price ($/mcf)</th>\n",
       "      <th>All coal</th>\n",
       "      <th>Lignite</th>\n",
       "      <th>Subbituminous</th>\n",
       "    </tr>\n",
       "  </thead>\n",
       "  <tbody>\n",
       "    <tr>\n",
       "      <th>0</th>\n",
       "      <td>0</td>\n",
       "      <td>0</td>\n",
       "      <td>2007</td>\n",
       "      <td>5949.0</td>\n",
       "      <td>2007-01-01 00:00:00</td>\n",
       "      <td>4596.0</td>\n",
       "      <td>30428.0</td>\n",
       "      <td>2790.0</td>\n",
       "      <td>1074.0</td>\n",
       "      <td>38.494624</td>\n",
       "      <td>3.529644</td>\n",
       "      <td>NaN</td>\n",
       "      <td>NaN</td>\n",
       "      <td>29354.0</td>\n",
       "      <td>NaN</td>\n",
       "      <td>1</td>\n",
       "      <td>6.42</td>\n",
       "      <td>25.1475</td>\n",
       "      <td>20.0275</td>\n",
       "      <td>28.115</td>\n",
       "    </tr>\n",
       "    <tr>\n",
       "      <th>1</th>\n",
       "      <td>1</td>\n",
       "      <td>0</td>\n",
       "      <td>2007</td>\n",
       "      <td>5949.0</td>\n",
       "      <td>2007-01-01 01:00:00</td>\n",
       "      <td>4566.0</td>\n",
       "      <td>30133.0</td>\n",
       "      <td>2790.0</td>\n",
       "      <td>922.6</td>\n",
       "      <td>33.068100</td>\n",
       "      <td>3.061760</td>\n",
       "      <td>-151.4</td>\n",
       "      <td>-14.096834</td>\n",
       "      <td>29210.4</td>\n",
       "      <td>-143.6</td>\n",
       "      <td>1</td>\n",
       "      <td>6.42</td>\n",
       "      <td>25.1475</td>\n",
       "      <td>20.0275</td>\n",
       "      <td>28.115</td>\n",
       "    </tr>\n",
       "    <tr>\n",
       "      <th>2</th>\n",
       "      <td>2</td>\n",
       "      <td>0</td>\n",
       "      <td>2007</td>\n",
       "      <td>5949.0</td>\n",
       "      <td>2007-01-01 02:00:00</td>\n",
       "      <td>4667.0</td>\n",
       "      <td>29941.0</td>\n",
       "      <td>2790.0</td>\n",
       "      <td>849.2</td>\n",
       "      <td>30.437276</td>\n",
       "      <td>2.836245</td>\n",
       "      <td>-73.4</td>\n",
       "      <td>-7.955777</td>\n",
       "      <td>29091.8</td>\n",
       "      <td>-118.6</td>\n",
       "      <td>1</td>\n",
       "      <td>6.42</td>\n",
       "      <td>25.1475</td>\n",
       "      <td>20.0275</td>\n",
       "      <td>28.115</td>\n",
       "    </tr>\n",
       "    <tr>\n",
       "      <th>3</th>\n",
       "      <td>3</td>\n",
       "      <td>0</td>\n",
       "      <td>2007</td>\n",
       "      <td>5949.0</td>\n",
       "      <td>2007-01-01 03:00:00</td>\n",
       "      <td>4668.0</td>\n",
       "      <td>29949.0</td>\n",
       "      <td>2790.0</td>\n",
       "      <td>1056.3</td>\n",
       "      <td>37.860215</td>\n",
       "      <td>3.526996</td>\n",
       "      <td>207.1</td>\n",
       "      <td>24.387659</td>\n",
       "      <td>28892.7</td>\n",
       "      <td>-199.1</td>\n",
       "      <td>1</td>\n",
       "      <td>6.42</td>\n",
       "      <td>25.1475</td>\n",
       "      <td>20.0275</td>\n",
       "      <td>28.115</td>\n",
       "    </tr>\n",
       "    <tr>\n",
       "      <th>4</th>\n",
       "      <td>4</td>\n",
       "      <td>0</td>\n",
       "      <td>2007</td>\n",
       "      <td>5949.0</td>\n",
       "      <td>2007-01-01 04:00:00</td>\n",
       "      <td>4685.0</td>\n",
       "      <td>30248.0</td>\n",
       "      <td>2790.0</td>\n",
       "      <td>837.1</td>\n",
       "      <td>30.003584</td>\n",
       "      <td>2.767456</td>\n",
       "      <td>-219.2</td>\n",
       "      <td>-20.751680</td>\n",
       "      <td>29410.9</td>\n",
       "      <td>518.2</td>\n",
       "      <td>1</td>\n",
       "      <td>6.42</td>\n",
       "      <td>25.1475</td>\n",
       "      <td>20.0275</td>\n",
       "      <td>28.115</td>\n",
       "    </tr>\n",
       "  </tbody>\n",
       "</table>\n",
       "</div>"
      ],
      "text/plain": [
       "   Unnamed: 0  cluster_id_6  Year  nameplate_capacity             DATETIME  \\\n",
       "0           0             0  2007              5949.0  2007-01-01 00:00:00   \n",
       "1           1             0  2007              5949.0  2007-01-01 01:00:00   \n",
       "2           2             0  2007              5949.0  2007-01-01 02:00:00   \n",
       "3           3             0  2007              5949.0  2007-01-01 03:00:00   \n",
       "4           4             0  2007              5949.0  2007-01-01 04:00:00   \n",
       "\n",
       "   GROSS LOAD (MW)  ERCOT Load, MW  Total Wind Installed, MW  \\\n",
       "0           4596.0         30428.0                    2790.0   \n",
       "1           4566.0         30133.0                    2790.0   \n",
       "2           4667.0         29941.0                    2790.0   \n",
       "3           4668.0         29949.0                    2790.0   \n",
       "4           4685.0         30248.0                    2790.0   \n",
       "\n",
       "   Total Wind Output, MW  Wind Output, % of Installed  Wind Output, % of Load  \\\n",
       "0                 1074.0                    38.494624                3.529644   \n",
       "1                  922.6                    33.068100                3.061760   \n",
       "2                  849.2                    30.437276                2.836245   \n",
       "3                 1056.3                    37.860215                3.526996   \n",
       "4                  837.1                    30.003584                2.767456   \n",
       "\n",
       "   1-hr MW change  1-hr % change  Net Load (MW)  Net Load Change (MW)  Month  \\\n",
       "0             NaN            NaN        29354.0                   NaN      1   \n",
       "1          -151.4     -14.096834        29210.4                -143.6      1   \n",
       "2           -73.4      -7.955777        29091.8                -118.6      1   \n",
       "3           207.1      24.387659        28892.7                -199.1      1   \n",
       "4          -219.2     -20.751680        29410.9                 518.2      1   \n",
       "\n",
       "   NG Price ($/mcf)  All coal  Lignite  Subbituminous  \n",
       "0              6.42   25.1475  20.0275         28.115  \n",
       "1              6.42   25.1475  20.0275         28.115  \n",
       "2              6.42   25.1475  20.0275         28.115  \n",
       "3              6.42   25.1475  20.0275         28.115  \n",
       "4              6.42   25.1475  20.0275         28.115  "
      ]
     },
     "execution_count": 3,
     "metadata": {},
     "output_type": "execute_result"
    }
   ],
   "source": [
    "X.head()"
   ]
  },
  {
   "cell_type": "markdown",
   "metadata": {},
   "source": [
    "Rename the cluster column to just `cluster`. This won't be needed once we export from the group classification with the correct column name"
   ]
  },
  {
   "cell_type": "code",
   "execution_count": 3,
   "metadata": {
    "collapsed": false
   },
   "outputs": [],
   "source": [
    "X.rename(columns={'cluster_id_6':'cluster'}, inplace=True)"
   ]
  },
  {
   "cell_type": "markdown",
   "metadata": {},
   "source": [
    "### Ratio of prices\n",
    "Divide coal prices by natural gas price, drop natural gas price"
   ]
  },
  {
   "cell_type": "code",
   "execution_count": 4,
   "metadata": {
    "collapsed": true
   },
   "outputs": [],
   "source": [
    "for fuel in ['All coal', 'Lignite', 'Subbituminous']:\n",
    "    X.loc[:,fuel] = X.loc[:,fuel].values/X.loc[:,'NG Price ($/mcf)'].values\n",
    "    \n",
    "X.drop('NG Price ($/mcf)', axis=1, inplace=True)"
   ]
  },
  {
   "cell_type": "markdown",
   "metadata": {},
   "source": [
    "### One-hot encoding of the cluster variable\n",
    "I'm trying to make this easy for using with different numbers of clusters"
   ]
  },
  {
   "cell_type": "code",
   "execution_count": 5,
   "metadata": {
    "collapsed": false
   },
   "outputs": [],
   "source": [
    "cluster_ids = X['cluster'].unique()\n",
    "for cluster in cluster_ids:\n",
    "    X['cluster_{}'.format(cluster)] = np.eye(len(cluster_ids))[X['cluster'],cluster]"
   ]
  },
  {
   "cell_type": "code",
   "execution_count": 6,
   "metadata": {
    "collapsed": false
   },
   "outputs": [
    {
     "data": {
      "text/html": [
       "<div>\n",
       "<table border=\"1\" class=\"dataframe\">\n",
       "  <thead>\n",
       "    <tr style=\"text-align: right;\">\n",
       "      <th></th>\n",
       "      <th>Unnamed: 0</th>\n",
       "      <th>cluster</th>\n",
       "      <th>Year</th>\n",
       "      <th>nameplate_capacity</th>\n",
       "      <th>DATETIME</th>\n",
       "      <th>GROSS LOAD (MW)</th>\n",
       "      <th>ERCOT Load, MW</th>\n",
       "      <th>Total Wind Installed, MW</th>\n",
       "      <th>Total Wind Output, MW</th>\n",
       "      <th>Wind Output, % of Installed</th>\n",
       "      <th>...</th>\n",
       "      <th>Month</th>\n",
       "      <th>All coal</th>\n",
       "      <th>Lignite</th>\n",
       "      <th>Subbituminous</th>\n",
       "      <th>cluster_0</th>\n",
       "      <th>cluster_1</th>\n",
       "      <th>cluster_2</th>\n",
       "      <th>cluster_3</th>\n",
       "      <th>cluster_4</th>\n",
       "      <th>cluster_5</th>\n",
       "    </tr>\n",
       "  </thead>\n",
       "  <tbody>\n",
       "    <tr>\n",
       "      <th>0</th>\n",
       "      <td>0</td>\n",
       "      <td>0</td>\n",
       "      <td>2007</td>\n",
       "      <td>5949.0</td>\n",
       "      <td>2007-01-01 00:00:00</td>\n",
       "      <td>4596.0</td>\n",
       "      <td>30428.0</td>\n",
       "      <td>2790.0</td>\n",
       "      <td>1074.0</td>\n",
       "      <td>38.494624</td>\n",
       "      <td>...</td>\n",
       "      <td>1</td>\n",
       "      <td>3.917056</td>\n",
       "      <td>3.119548</td>\n",
       "      <td>4.379283</td>\n",
       "      <td>1.0</td>\n",
       "      <td>0.0</td>\n",
       "      <td>0.0</td>\n",
       "      <td>0.0</td>\n",
       "      <td>0.0</td>\n",
       "      <td>0.0</td>\n",
       "    </tr>\n",
       "    <tr>\n",
       "      <th>1</th>\n",
       "      <td>1</td>\n",
       "      <td>0</td>\n",
       "      <td>2007</td>\n",
       "      <td>5949.0</td>\n",
       "      <td>2007-01-01 01:00:00</td>\n",
       "      <td>4566.0</td>\n",
       "      <td>30133.0</td>\n",
       "      <td>2790.0</td>\n",
       "      <td>922.6</td>\n",
       "      <td>33.068100</td>\n",
       "      <td>...</td>\n",
       "      <td>1</td>\n",
       "      <td>3.917056</td>\n",
       "      <td>3.119548</td>\n",
       "      <td>4.379283</td>\n",
       "      <td>1.0</td>\n",
       "      <td>0.0</td>\n",
       "      <td>0.0</td>\n",
       "      <td>0.0</td>\n",
       "      <td>0.0</td>\n",
       "      <td>0.0</td>\n",
       "    </tr>\n",
       "    <tr>\n",
       "      <th>2</th>\n",
       "      <td>2</td>\n",
       "      <td>0</td>\n",
       "      <td>2007</td>\n",
       "      <td>5949.0</td>\n",
       "      <td>2007-01-01 02:00:00</td>\n",
       "      <td>4667.0</td>\n",
       "      <td>29941.0</td>\n",
       "      <td>2790.0</td>\n",
       "      <td>849.2</td>\n",
       "      <td>30.437276</td>\n",
       "      <td>...</td>\n",
       "      <td>1</td>\n",
       "      <td>3.917056</td>\n",
       "      <td>3.119548</td>\n",
       "      <td>4.379283</td>\n",
       "      <td>1.0</td>\n",
       "      <td>0.0</td>\n",
       "      <td>0.0</td>\n",
       "      <td>0.0</td>\n",
       "      <td>0.0</td>\n",
       "      <td>0.0</td>\n",
       "    </tr>\n",
       "    <tr>\n",
       "      <th>3</th>\n",
       "      <td>3</td>\n",
       "      <td>0</td>\n",
       "      <td>2007</td>\n",
       "      <td>5949.0</td>\n",
       "      <td>2007-01-01 03:00:00</td>\n",
       "      <td>4668.0</td>\n",
       "      <td>29949.0</td>\n",
       "      <td>2790.0</td>\n",
       "      <td>1056.3</td>\n",
       "      <td>37.860215</td>\n",
       "      <td>...</td>\n",
       "      <td>1</td>\n",
       "      <td>3.917056</td>\n",
       "      <td>3.119548</td>\n",
       "      <td>4.379283</td>\n",
       "      <td>1.0</td>\n",
       "      <td>0.0</td>\n",
       "      <td>0.0</td>\n",
       "      <td>0.0</td>\n",
       "      <td>0.0</td>\n",
       "      <td>0.0</td>\n",
       "    </tr>\n",
       "    <tr>\n",
       "      <th>4</th>\n",
       "      <td>4</td>\n",
       "      <td>0</td>\n",
       "      <td>2007</td>\n",
       "      <td>5949.0</td>\n",
       "      <td>2007-01-01 04:00:00</td>\n",
       "      <td>4685.0</td>\n",
       "      <td>30248.0</td>\n",
       "      <td>2790.0</td>\n",
       "      <td>837.1</td>\n",
       "      <td>30.003584</td>\n",
       "      <td>...</td>\n",
       "      <td>1</td>\n",
       "      <td>3.917056</td>\n",
       "      <td>3.119548</td>\n",
       "      <td>4.379283</td>\n",
       "      <td>1.0</td>\n",
       "      <td>0.0</td>\n",
       "      <td>0.0</td>\n",
       "      <td>0.0</td>\n",
       "      <td>0.0</td>\n",
       "      <td>0.0</td>\n",
       "    </tr>\n",
       "  </tbody>\n",
       "</table>\n",
       "<p>5 rows × 25 columns</p>\n",
       "</div>"
      ],
      "text/plain": [
       "   Unnamed: 0  cluster  Year  nameplate_capacity             DATETIME  \\\n",
       "0           0        0  2007              5949.0  2007-01-01 00:00:00   \n",
       "1           1        0  2007              5949.0  2007-01-01 01:00:00   \n",
       "2           2        0  2007              5949.0  2007-01-01 02:00:00   \n",
       "3           3        0  2007              5949.0  2007-01-01 03:00:00   \n",
       "4           4        0  2007              5949.0  2007-01-01 04:00:00   \n",
       "\n",
       "   GROSS LOAD (MW)  ERCOT Load, MW  Total Wind Installed, MW  \\\n",
       "0           4596.0         30428.0                    2790.0   \n",
       "1           4566.0         30133.0                    2790.0   \n",
       "2           4667.0         29941.0                    2790.0   \n",
       "3           4668.0         29949.0                    2790.0   \n",
       "4           4685.0         30248.0                    2790.0   \n",
       "\n",
       "   Total Wind Output, MW  Wind Output, % of Installed    ...      Month  \\\n",
       "0                 1074.0                    38.494624    ...          1   \n",
       "1                  922.6                    33.068100    ...          1   \n",
       "2                  849.2                    30.437276    ...          1   \n",
       "3                 1056.3                    37.860215    ...          1   \n",
       "4                  837.1                    30.003584    ...          1   \n",
       "\n",
       "   All coal   Lignite  Subbituminous  cluster_0  cluster_1  cluster_2  \\\n",
       "0  3.917056  3.119548       4.379283        1.0        0.0        0.0   \n",
       "1  3.917056  3.119548       4.379283        1.0        0.0        0.0   \n",
       "2  3.917056  3.119548       4.379283        1.0        0.0        0.0   \n",
       "3  3.917056  3.119548       4.379283        1.0        0.0        0.0   \n",
       "4  3.917056  3.119548       4.379283        1.0        0.0        0.0   \n",
       "\n",
       "   cluster_3  cluster_4  cluster_5  \n",
       "0        0.0        0.0        0.0  \n",
       "1        0.0        0.0        0.0  \n",
       "2        0.0        0.0        0.0  \n",
       "3        0.0        0.0        0.0  \n",
       "4        0.0        0.0        0.0  \n",
       "\n",
       "[5 rows x 25 columns]"
      ]
     },
     "execution_count": 6,
     "metadata": {},
     "output_type": "execute_result"
    }
   ],
   "source": [
    "X.head()"
   ]
  },
  {
   "cell_type": "code",
   "execution_count": 8,
   "metadata": {
    "collapsed": false
   },
   "outputs": [
    {
     "data": {
      "text/html": [
       "<div>\n",
       "<table border=\"1\" class=\"dataframe\">\n",
       "  <thead>\n",
       "    <tr style=\"text-align: right;\">\n",
       "      <th></th>\n",
       "      <th>Unnamed: 0</th>\n",
       "      <th>cluster</th>\n",
       "      <th>Year</th>\n",
       "      <th>nameplate_capacity</th>\n",
       "      <th>DATETIME</th>\n",
       "      <th>GROSS LOAD (MW)</th>\n",
       "      <th>ERCOT Load, MW</th>\n",
       "      <th>Total Wind Installed, MW</th>\n",
       "      <th>Total Wind Output, MW</th>\n",
       "      <th>Wind Output, % of Installed</th>\n",
       "      <th>...</th>\n",
       "      <th>Month</th>\n",
       "      <th>All coal</th>\n",
       "      <th>Lignite</th>\n",
       "      <th>Subbituminous</th>\n",
       "      <th>cluster_0</th>\n",
       "      <th>cluster_1</th>\n",
       "      <th>cluster_2</th>\n",
       "      <th>cluster_3</th>\n",
       "      <th>cluster_4</th>\n",
       "      <th>cluster_5</th>\n",
       "    </tr>\n",
       "  </thead>\n",
       "  <tbody>\n",
       "    <tr>\n",
       "      <th>473329</th>\n",
       "      <td>473329</td>\n",
       "      <td>5</td>\n",
       "      <td>2015</td>\n",
       "      <td>11476.0</td>\n",
       "      <td>2015-12-31 19:00:00</td>\n",
       "      <td>7516.0</td>\n",
       "      <td>39908.77734</td>\n",
       "      <td>16170.0</td>\n",
       "      <td>3824.932373</td>\n",
       "      <td>23.654498</td>\n",
       "      <td>...</td>\n",
       "      <td>12</td>\n",
       "      <td>12.793722</td>\n",
       "      <td>10.780269</td>\n",
       "      <td>14.596413</td>\n",
       "      <td>0.0</td>\n",
       "      <td>0.0</td>\n",
       "      <td>0.0</td>\n",
       "      <td>0.0</td>\n",
       "      <td>0.0</td>\n",
       "      <td>1.0</td>\n",
       "    </tr>\n",
       "    <tr>\n",
       "      <th>473330</th>\n",
       "      <td>473330</td>\n",
       "      <td>5</td>\n",
       "      <td>2015</td>\n",
       "      <td>11476.0</td>\n",
       "      <td>2015-12-31 20:00:00</td>\n",
       "      <td>6552.0</td>\n",
       "      <td>38736.85938</td>\n",
       "      <td>16170.0</td>\n",
       "      <td>4625.632813</td>\n",
       "      <td>28.606264</td>\n",
       "      <td>...</td>\n",
       "      <td>12</td>\n",
       "      <td>12.793722</td>\n",
       "      <td>10.780269</td>\n",
       "      <td>14.596413</td>\n",
       "      <td>0.0</td>\n",
       "      <td>0.0</td>\n",
       "      <td>0.0</td>\n",
       "      <td>0.0</td>\n",
       "      <td>0.0</td>\n",
       "      <td>1.0</td>\n",
       "    </tr>\n",
       "    <tr>\n",
       "      <th>473331</th>\n",
       "      <td>473331</td>\n",
       "      <td>5</td>\n",
       "      <td>2015</td>\n",
       "      <td>11476.0</td>\n",
       "      <td>2015-12-31 21:00:00</td>\n",
       "      <td>5944.0</td>\n",
       "      <td>37587.70313</td>\n",
       "      <td>16170.0</td>\n",
       "      <td>4957.714844</td>\n",
       "      <td>30.659956</td>\n",
       "      <td>...</td>\n",
       "      <td>12</td>\n",
       "      <td>12.793722</td>\n",
       "      <td>10.780269</td>\n",
       "      <td>14.596413</td>\n",
       "      <td>0.0</td>\n",
       "      <td>0.0</td>\n",
       "      <td>0.0</td>\n",
       "      <td>0.0</td>\n",
       "      <td>0.0</td>\n",
       "      <td>1.0</td>\n",
       "    </tr>\n",
       "    <tr>\n",
       "      <th>473332</th>\n",
       "      <td>473332</td>\n",
       "      <td>5</td>\n",
       "      <td>2015</td>\n",
       "      <td>11476.0</td>\n",
       "      <td>2015-12-31 22:00:00</td>\n",
       "      <td>5698.0</td>\n",
       "      <td>36356.26172</td>\n",
       "      <td>16170.0</td>\n",
       "      <td>4699.097656</td>\n",
       "      <td>29.060592</td>\n",
       "      <td>...</td>\n",
       "      <td>12</td>\n",
       "      <td>12.793722</td>\n",
       "      <td>10.780269</td>\n",
       "      <td>14.596413</td>\n",
       "      <td>0.0</td>\n",
       "      <td>0.0</td>\n",
       "      <td>0.0</td>\n",
       "      <td>0.0</td>\n",
       "      <td>0.0</td>\n",
       "      <td>1.0</td>\n",
       "    </tr>\n",
       "    <tr>\n",
       "      <th>473333</th>\n",
       "      <td>473333</td>\n",
       "      <td>5</td>\n",
       "      <td>2015</td>\n",
       "      <td>11476.0</td>\n",
       "      <td>2015-12-31 23:00:00</td>\n",
       "      <td>5365.0</td>\n",
       "      <td>35150.33984</td>\n",
       "      <td>16170.0</td>\n",
       "      <td>4313.125000</td>\n",
       "      <td>26.673624</td>\n",
       "      <td>...</td>\n",
       "      <td>12</td>\n",
       "      <td>12.793722</td>\n",
       "      <td>10.780269</td>\n",
       "      <td>14.596413</td>\n",
       "      <td>0.0</td>\n",
       "      <td>0.0</td>\n",
       "      <td>0.0</td>\n",
       "      <td>0.0</td>\n",
       "      <td>0.0</td>\n",
       "      <td>1.0</td>\n",
       "    </tr>\n",
       "  </tbody>\n",
       "</table>\n",
       "<p>5 rows × 25 columns</p>\n",
       "</div>"
      ],
      "text/plain": [
       "        Unnamed: 0  cluster  Year  nameplate_capacity             DATETIME  \\\n",
       "473329      473329        5  2015             11476.0  2015-12-31 19:00:00   \n",
       "473330      473330        5  2015             11476.0  2015-12-31 20:00:00   \n",
       "473331      473331        5  2015             11476.0  2015-12-31 21:00:00   \n",
       "473332      473332        5  2015             11476.0  2015-12-31 22:00:00   \n",
       "473333      473333        5  2015             11476.0  2015-12-31 23:00:00   \n",
       "\n",
       "        GROSS LOAD (MW)  ERCOT Load, MW  Total Wind Installed, MW  \\\n",
       "473329           7516.0     39908.77734                   16170.0   \n",
       "473330           6552.0     38736.85938                   16170.0   \n",
       "473331           5944.0     37587.70313                   16170.0   \n",
       "473332           5698.0     36356.26172                   16170.0   \n",
       "473333           5365.0     35150.33984                   16170.0   \n",
       "\n",
       "        Total Wind Output, MW  Wind Output, % of Installed    ...      Month  \\\n",
       "473329            3824.932373                    23.654498    ...         12   \n",
       "473330            4625.632813                    28.606264    ...         12   \n",
       "473331            4957.714844                    30.659956    ...         12   \n",
       "473332            4699.097656                    29.060592    ...         12   \n",
       "473333            4313.125000                    26.673624    ...         12   \n",
       "\n",
       "         All coal    Lignite  Subbituminous  cluster_0  cluster_1  cluster_2  \\\n",
       "473329  12.793722  10.780269      14.596413        0.0        0.0        0.0   \n",
       "473330  12.793722  10.780269      14.596413        0.0        0.0        0.0   \n",
       "473331  12.793722  10.780269      14.596413        0.0        0.0        0.0   \n",
       "473332  12.793722  10.780269      14.596413        0.0        0.0        0.0   \n",
       "473333  12.793722  10.780269      14.596413        0.0        0.0        0.0   \n",
       "\n",
       "        cluster_3  cluster_4  cluster_5  \n",
       "473329        0.0        0.0        1.0  \n",
       "473330        0.0        0.0        1.0  \n",
       "473331        0.0        0.0        1.0  \n",
       "473332        0.0        0.0        1.0  \n",
       "473333        0.0        0.0        1.0  \n",
       "\n",
       "[5 rows x 25 columns]"
      ]
     },
     "execution_count": 8,
     "metadata": {},
     "output_type": "execute_result"
    }
   ],
   "source": [
    "X.tail()"
   ]
  },
  {
   "cell_type": "code",
   "execution_count": 9,
   "metadata": {
    "collapsed": false
   },
   "outputs": [
    {
     "data": {
      "text/html": [
       "<div>\n",
       "<table border=\"1\" class=\"dataframe\">\n",
       "  <thead>\n",
       "    <tr style=\"text-align: right;\">\n",
       "      <th></th>\n",
       "      <th>Unnamed: 0</th>\n",
       "      <th>DATETIME</th>\n",
       "      <th>cluster_id_6</th>\n",
       "      <th>Gen Change (MW)</th>\n",
       "    </tr>\n",
       "  </thead>\n",
       "  <tbody>\n",
       "    <tr>\n",
       "      <th>473329</th>\n",
       "      <td>473329</td>\n",
       "      <td>2015-12-31 19:00:00</td>\n",
       "      <td>5</td>\n",
       "      <td>-20.0</td>\n",
       "    </tr>\n",
       "    <tr>\n",
       "      <th>473330</th>\n",
       "      <td>473330</td>\n",
       "      <td>2015-12-31 20:00:00</td>\n",
       "      <td>5</td>\n",
       "      <td>-964.0</td>\n",
       "    </tr>\n",
       "    <tr>\n",
       "      <th>473331</th>\n",
       "      <td>473331</td>\n",
       "      <td>2015-12-31 21:00:00</td>\n",
       "      <td>5</td>\n",
       "      <td>-608.0</td>\n",
       "    </tr>\n",
       "    <tr>\n",
       "      <th>473332</th>\n",
       "      <td>473332</td>\n",
       "      <td>2015-12-31 22:00:00</td>\n",
       "      <td>5</td>\n",
       "      <td>-246.0</td>\n",
       "    </tr>\n",
       "    <tr>\n",
       "      <th>473333</th>\n",
       "      <td>473333</td>\n",
       "      <td>2015-12-31 23:00:00</td>\n",
       "      <td>5</td>\n",
       "      <td>-333.0</td>\n",
       "    </tr>\n",
       "  </tbody>\n",
       "</table>\n",
       "</div>"
      ],
      "text/plain": [
       "        Unnamed: 0             DATETIME  cluster_id_6  Gen Change (MW)\n",
       "473329      473329  2015-12-31 19:00:00             5            -20.0\n",
       "473330      473330  2015-12-31 20:00:00             5           -964.0\n",
       "473331      473331  2015-12-31 21:00:00             5           -608.0\n",
       "473332      473332  2015-12-31 22:00:00             5           -246.0\n",
       "473333      473333  2015-12-31 23:00:00             5           -333.0"
      ]
     },
     "execution_count": 9,
     "metadata": {},
     "output_type": "execute_result"
    }
   ],
   "source": [
    "y.tail()"
   ]
  },
  {
   "cell_type": "markdown",
   "metadata": {},
   "source": [
    "### Drop unnecessary columns and replace nan's with 0"
   ]
  },
  {
   "cell_type": "code",
   "execution_count": 7,
   "metadata": {
    "collapsed": false
   },
   "outputs": [],
   "source": [
    "X_cols = ['nameplate_capacity', 'GROSS LOAD (MW)', 'ERCOT Load, MW',\n",
    "          'Total Wind Installed, MW', 'Total Wind Output, MW', 'Net Load Change (MW)',\n",
    "          'All coal', 'Lignite', 'Subbituminous']\n",
    "X_cluster_cols = ['cluster_{}'.format(cluster) for cluster in cluster_ids]\n",
    "\n",
    "X_clean = X.loc[:,X_cols+X_cluster_cols]\n",
    "X_clean.fillna(0, inplace=True)\n",
    "\n",
    "y_clean = y.loc[:,'Gen Change (MW)']\n",
    "y_clean.fillna(0, inplace=True)"
   ]
  },
  {
   "cell_type": "code",
   "execution_count": 11,
   "metadata": {
    "collapsed": false
   },
   "outputs": [
    {
     "name": "stdout",
     "output_type": "stream",
     "text": [
      "(473334, 15)\n",
      "(473334,)\n"
     ]
    }
   ],
   "source": [
    "print X_clean.shape\n",
    "print y_clean.shape"
   ]
  },
  {
   "cell_type": "markdown",
   "metadata": {},
   "source": [
    "### Split into training, validation, testing"
   ]
  },
  {
   "cell_type": "code",
   "execution_count": 8,
   "metadata": {
    "collapsed": false
   },
   "outputs": [],
   "source": [
    "X_train = X_clean.loc[(X['Year']<2012),:]\n",
    "y_train = y_clean.loc[(X['Year']<2012)]\n",
    "\n",
    "X_va = X_clean.loc[X['Year'].isin([2012, 2013]),:]\n",
    "y_va = y_clean.loc[X['Year'].isin([2012, 2013])]\n",
    "\n",
    "X_test = X_clean.loc[X['Year']>2013,:]\n",
    "y_test = y_clean.loc[X['Year']>2013]"
   ]
  },
  {
   "cell_type": "markdown",
   "metadata": {},
   "source": [
    "**Somehow we're missing 2 records from X_va**"
   ]
  },
  {
   "cell_type": "code",
   "execution_count": 13,
   "metadata": {
    "collapsed": false
   },
   "outputs": [
    {
     "name": "stdout",
     "output_type": "stream",
     "text": [
      "(105264, 15) (105264,)\n"
     ]
    }
   ],
   "source": [
    "print X_va.shape, y_va.shape"
   ]
  },
  {
   "cell_type": "markdown",
   "metadata": {},
   "source": [
    "Need scaled versions of the X data for some of the models"
   ]
  },
  {
   "cell_type": "code",
   "execution_count": 9,
   "metadata": {
    "collapsed": false
   },
   "outputs": [],
   "source": [
    "X_train_scaled = StandardScaler().fit_transform(X_train)\n",
    "X_va_scaled = StandardScaler().fit_transform(X_va)\n",
    "X_test_scaled = StandardScaler().fit_transform(X_test)"
   ]
  },
  {
   "cell_type": "markdown",
   "metadata": {},
   "source": [
    "Check size of all arrays"
   ]
  },
  {
   "cell_type": "code",
   "execution_count": 15,
   "metadata": {
    "collapsed": false
   },
   "outputs": [
    {
     "name": "stdout",
     "output_type": "stream",
     "text": [
      "(262944L, 16L) (262944L,)\n",
      "(105264L, 16L) (105264L,)\n",
      "(105126L, 16L) (105126L,)\n"
     ]
    }
   ],
   "source": [
    "print X_train_scaled.shape, y_train.shape\n",
    "print X_va_scaled.shape, y_va.shape\n",
    "print X_test_scaled.shape, y_test.shape"
   ]
  },
  {
   "cell_type": "markdown",
   "metadata": {},
   "source": [
    "## Linear Regression (OLS)"
   ]
  },
  {
   "cell_type": "code",
   "execution_count": 10,
   "metadata": {
    "collapsed": false
   },
   "outputs": [
    {
     "data": {
      "text/plain": [
       "LinearRegression(copy_X=True, fit_intercept=True, n_jobs=1, normalize=False)"
      ]
     },
     "execution_count": 10,
     "metadata": {},
     "output_type": "execute_result"
    }
   ],
   "source": [
    "lm = LinearRegression()\n",
    "lm.fit(X_train_scaled, y_train)"
   ]
  },
  {
   "cell_type": "code",
   "execution_count": 11,
   "metadata": {
    "collapsed": false
   },
   "outputs": [
    {
     "data": {
      "text/plain": [
       "0.26678565336933879"
      ]
     },
     "execution_count": 11,
     "metadata": {},
     "output_type": "execute_result"
    }
   ],
   "source": [
    "lm.score(X_va_scaled, y_va)"
   ]
  },
  {
   "cell_type": "code",
   "execution_count": 12,
   "metadata": {
    "collapsed": true
   },
   "outputs": [],
   "source": [
    "y_pr = lm.predict(X_va_scaled)"
   ]
  },
  {
   "cell_type": "code",
   "execution_count": 13,
   "metadata": {
    "collapsed": false
   },
   "outputs": [
    {
     "data": {
      "text/plain": [
       "((105264,), (105264,), (105264,))"
      ]
     },
     "execution_count": 13,
     "metadata": {},
     "output_type": "execute_result"
    }
   ],
   "source": [
    "y_va.values.shape, y_pr.shape, X.loc[X['Year'].isin([2012, 2013]),'cluster'].values.shape"
   ]
  },
  {
   "cell_type": "code",
   "execution_count": 14,
   "metadata": {
    "collapsed": false
   },
   "outputs": [],
   "source": [
    "y_lm_resids = pd.DataFrame(dict(zip(['Gen Change (MW)', 'y_pr', 'cluster'],\n",
    "                               [y_va.values, y_pr, X.loc[X['Year'].isin([2012, 2013]),'cluster'].values])))\n",
    "# y_lm_resids['y_pr'] = y_pr\n",
    "# y_lm_resids['cluster'] = X.loc[:,'cluster']"
   ]
  },
  {
   "cell_type": "code",
   "execution_count": 21,
   "metadata": {
    "collapsed": false
   },
   "outputs": [
    {
     "data": {
      "text/html": [
       "<div>\n",
       "<table border=\"1\" class=\"dataframe\">\n",
       "  <thead>\n",
       "    <tr style=\"text-align: right;\">\n",
       "      <th></th>\n",
       "      <th>Gen Change (MW)</th>\n",
       "      <th>cluster</th>\n",
       "      <th>y_pr</th>\n",
       "    </tr>\n",
       "  </thead>\n",
       "  <tbody>\n",
       "    <tr>\n",
       "      <th>0</th>\n",
       "      <td>0.0</td>\n",
       "      <td>0</td>\n",
       "      <td>-56.223127</td>\n",
       "    </tr>\n",
       "    <tr>\n",
       "      <th>1</th>\n",
       "      <td>1.0</td>\n",
       "      <td>0</td>\n",
       "      <td>-15.262189</td>\n",
       "    </tr>\n",
       "    <tr>\n",
       "      <th>2</th>\n",
       "      <td>-1.0</td>\n",
       "      <td>0</td>\n",
       "      <td>-12.223127</td>\n",
       "    </tr>\n",
       "    <tr>\n",
       "      <th>3</th>\n",
       "      <td>0.0</td>\n",
       "      <td>0</td>\n",
       "      <td>-9.316877</td>\n",
       "    </tr>\n",
       "    <tr>\n",
       "      <th>4</th>\n",
       "      <td>0.0</td>\n",
       "      <td>0</td>\n",
       "      <td>25.909686</td>\n",
       "    </tr>\n",
       "  </tbody>\n",
       "</table>\n",
       "</div>"
      ],
      "text/plain": [
       "   Gen Change (MW)  cluster       y_pr\n",
       "0              0.0        0 -56.223127\n",
       "1              1.0        0 -15.262189\n",
       "2             -1.0        0 -12.223127\n",
       "3              0.0        0  -9.316877\n",
       "4              0.0        0  25.909686"
      ]
     },
     "execution_count": 21,
     "metadata": {},
     "output_type": "execute_result"
    }
   ],
   "source": [
    "y_lm_resids.head()"
   ]
  },
  {
   "cell_type": "code",
   "execution_count": 15,
   "metadata": {
    "collapsed": false
   },
   "outputs": [],
   "source": [
    "y_lm_resids.loc[:,'residuals'] = y_lm_resids.loc[:,'y_pr'] - y_lm_resids.loc[:,'Gen Change (MW)']"
   ]
  },
  {
   "cell_type": "code",
   "execution_count": 19,
   "metadata": {
    "collapsed": false
   },
   "outputs": [
    {
     "data": {
      "text/plain": [
       "<seaborn.axisgrid.FacetGrid at 0x11a9d0810>"
      ]
     },
     "execution_count": 19,
     "metadata": {},
     "output_type": "execute_result"
    },
    {
     "data": {
      "text/plain": [
       "<seaborn.axisgrid.FacetGrid at 0x11a9d0810>"
      ]
     },
     "execution_count": 19,
     "metadata": {},
     "output_type": "execute_result"
    },
    {
     "data": {
      "text/plain": [
       "<seaborn.axisgrid.FacetGrid at 0x11a9d0810>"
      ]
     },
     "execution_count": 19,
     "metadata": {},
     "output_type": "execute_result"
    },
    {
     "data": {
      "image/png": "[encoded data removed]",
      "text/plain": [
       "<matplotlib.figure.Figure at 0x11ac82d50>"
      ]
     },
     "metadata": {},
     "output_type": "display_data"
    }
   ],
   "source": [
    "g = sns.FacetGrid(y_lm_resids, hue='cluster', col='cluster',\n",
    "                  col_wrap=3)\n",
    "g.map(plt.scatter, 'y_pr', 'residuals')\n",
    "g.set_xlabels(size=15)\n",
    "g.set_ylabels(size=15)\n",
    "plt.savefig('OLS residuals.pdf')"
   ]
  },
  {
   "cell_type": "markdown",
   "metadata": {},
   "source": [
    "## LinearSVR\n",
    "The rbf kernal of SVR is very slow with this large of a dataset. If we want to try using it, should probably subsample.\n",
    "\n",
    "Shows use with GridSearchCV if you guys want to use it"
   ]
  },
  {
   "cell_type": "code",
   "execution_count": 20,
   "metadata": {
    "collapsed": true
   },
   "outputs": [],
   "source": [
    "svm = LinearSVR()"
   ]
  },
  {
   "cell_type": "code",
   "execution_count": 25,
   "metadata": {
    "collapsed": true
   },
   "outputs": [],
   "source": [
    "parameters = {'C':np.logspace(-5, 3, num=15)}"
   ]
  },
  {
   "cell_type": "code",
   "execution_count": 26,
   "metadata": {
    "collapsed": true
   },
   "outputs": [],
   "source": [
    "lm = GridSearchCV(svm, parameters, n_jobs=-1, verbose=3)"
   ]
  },
  {
   "cell_type": "markdown",
   "metadata": {},
   "source": [
    "Run the LinearSVR with gridsearch over the 15 parameter values. GridSearchCV does 3-fold CV by default."
   ]
  },
  {
   "cell_type": "code",
   "execution_count": 27,
   "metadata": {
    "collapsed": false,
    "scrolled": true
   },
   "outputs": [
    {
     "name": "stdout",
     "output_type": "stream",
     "text": [
      "Fitting 3 folds for each of 15 candidates, totalling 45 fits\n"
     ]
    },
    {
     "name": "stderr",
     "output_type": "stream",
     "text": [
      "[Parallel(n_jobs=-1)]: Done  16 tasks      | elapsed:    6.6s\n",
      "[Parallel(n_jobs=-1)]: Done  45 out of  45 | elapsed:  1.0min finished\n"
     ]
    }
   ],
   "source": [
    "results = lm.fit(X_train_scaled, y_train)"
   ]
  },
  {
   "cell_type": "markdown",
   "metadata": {},
   "source": [
    "#### Validation Curve"
   ]
  },
  {
   "cell_type": "code",
   "execution_count": 25,
   "metadata": {
    "collapsed": false
   },
   "outputs": [],
   "source": [
    "param_range = np.logspace(-5, 3, num=13)\n",
    "train_scores, valid_scores = validation_curve(LinearSVR(), X_train_scaled, y_train, \n",
    "                                              \"C\", param_range, n_jobs=-1)"
   ]
  },
  {
   "cell_type": "code",
   "execution_count": 26,
   "metadata": {
    "collapsed": false
   },
   "outputs": [
    {
     "data": {
      "text/plain": [
       "<matplotlib.text.Text at 0x11af1c910>"
      ]
     },
     "execution_count": 26,
     "metadata": {},
     "output_type": "execute_result"
    },
    {
     "data": {
      "text/plain": [
       "<matplotlib.text.Text at 0x1244beb10>"
      ]
     },
     "execution_count": 26,
     "metadata": {},
     "output_type": "execute_result"
    },
    {
     "data": {
      "text/plain": [
       "<matplotlib.text.Text at 0x1194b3690>"
      ]
     },
     "execution_count": 26,
     "metadata": {},
     "output_type": "execute_result"
    },
    {
     "data": {
      "text/plain": [
       "(0.0, 0.2)"
      ]
     },
     "execution_count": 26,
     "metadata": {},
     "output_type": "execute_result"
    },
    {
     "data": {
      "text/plain": [
       "[<matplotlib.lines.Line2D at 0x11b9d3350>]"
      ]
     },
     "execution_count": 26,
     "metadata": {},
     "output_type": "execute_result"
    },
    {
     "data": {
      "text/plain": [
       "<matplotlib.collections.PolyCollection at 0x11b9d3310>"
      ]
     },
     "execution_count": 26,
     "metadata": {},
     "output_type": "execute_result"
    },
    {
     "data": {
      "text/plain": [
       "[<matplotlib.lines.Line2D at 0x1194a3cd0>]"
      ]
     },
     "execution_count": 26,
     "metadata": {},
     "output_type": "execute_result"
    },
    {
     "data": {
      "text/plain": [
       "<matplotlib.collections.PolyCollection at 0x117583a90>"
      ]
     },
     "execution_count": 26,
     "metadata": {},
     "output_type": "execute_result"
    },
    {
     "data": {
      "text/plain": [
       "<matplotlib.legend.Legend at 0x11758e250>"
      ]
     },
     "execution_count": 26,
     "metadata": {},
     "output_type": "execute_result"
    },
    {
     "data": {
      "image/png": "[encoded data removed]",
      "text/plain": [
       "<matplotlib.figure.Figure at 0x11b9d3c90>"
      ]
     },
     "metadata": {},
     "output_type": "display_data"
    }
   ],
   "source": [
    "train_scores_mean = np.mean(train_scores, axis=1)\n",
    "train_scores_std = np.std(train_scores, axis=1)\n",
    "valid_scores_mean = np.mean(valid_scores, axis=1)\n",
    "valid_scores_std = np.std(valid_scores, axis=1)\n",
    "\n",
    "\n",
    "plt.title(\"Validation Curve - LinearSVR\", size=15)\n",
    "plt.xlabel(\"C\", size=15)\n",
    "plt.ylabel(\"Score\", size=15)\n",
    "plt.ylim(0.0, .2)\n",
    "lw = 2\n",
    "plt.semilogx(param_range, train_scores_mean, label=\"Training score\",\n",
    "             color=\"darkorange\", lw=lw)\n",
    "plt.fill_between(param_range, train_scores_mean - train_scores_std,\n",
    "                 train_scores_mean + train_scores_std, alpha=0.2,\n",
    "                 color=\"darkorange\", lw=lw)\n",
    "plt.semilogx(param_range, valid_scores_mean, label=\"Cross-validation score\",\n",
    "             color=\"navy\", lw=lw)\n",
    "plt.fill_between(param_range, valid_scores_mean - valid_scores_std,\n",
    "                 valid_scores_mean + valid_scores_std, alpha=0.2,\n",
    "                 color=\"navy\", lw=lw)\n",
    "plt.legend(loc=\"best\")\n",
    "plt.savefig('LinearSVR validation curve.pdf', bbox_inches='tight')"
   ]
  },
  {
   "cell_type": "markdown",
   "metadata": {},
   "source": [
    "#### Learning Curve"
   ]
  },
  {
   "cell_type": "code",
   "execution_count": 28,
   "metadata": {
    "collapsed": true
   },
   "outputs": [],
   "source": [
    "# xLen = len(X_train_scaled)\n",
    "# tSize = [.1, .2, .3, .4, .5, .6, .7, .8, .9, 1]\n",
    "train_sizes, train_scores, valid_scores = learning_curve(LinearSVR(), X_train_scaled, \n",
    "                                                         y_train, n_jobs=-1)"
   ]
  },
  {
   "cell_type": "code",
   "execution_count": 33,
   "metadata": {
    "collapsed": false
   },
   "outputs": [
    {
     "data": {
      "text/plain": [
       "<matplotlib.text.Text at 0x124a4be50>"
      ]
     },
     "execution_count": 33,
     "metadata": {},
     "output_type": "execute_result"
    },
    {
     "data": {
      "text/plain": [
       "<matplotlib.text.Text at 0x11b71e550>"
      ]
     },
     "execution_count": 33,
     "metadata": {},
     "output_type": "execute_result"
    },
    {
     "data": {
      "text/plain": [
       "<matplotlib.text.Text at 0x1241ca5d0>"
      ]
     },
     "execution_count": 33,
     "metadata": {},
     "output_type": "execute_result"
    },
    {
     "data": {
      "text/plain": [
       "<matplotlib.collections.PolyCollection at 0x11d682090>"
      ]
     },
     "execution_count": 33,
     "metadata": {},
     "output_type": "execute_result"
    },
    {
     "data": {
      "text/plain": [
       "<matplotlib.collections.PolyCollection at 0x11d682190>"
      ]
     },
     "execution_count": 33,
     "metadata": {},
     "output_type": "execute_result"
    },
    {
     "data": {
      "text/plain": [
       "[<matplotlib.lines.Line2D at 0x124b495d0>]"
      ]
     },
     "execution_count": 33,
     "metadata": {},
     "output_type": "execute_result"
    },
    {
     "data": {
      "text/plain": [
       "[<matplotlib.lines.Line2D at 0x124b49b90>]"
      ]
     },
     "execution_count": 33,
     "metadata": {},
     "output_type": "execute_result"
    },
    {
     "data": {
      "text/plain": [
       "<matplotlib.legend.Legend at 0x124b49d10>"
      ]
     },
     "execution_count": 33,
     "metadata": {},
     "output_type": "execute_result"
    },
    {
     "data": {
      "image/png": "[encoded data removed]",
      "text/plain": [
       "<matplotlib.figure.Figure at 0x11d6821d0>"
      ]
     },
     "metadata": {},
     "output_type": "display_data"
    }
   ],
   "source": [
    "train_scores_mean = np.mean(train_scores, axis=1)\n",
    "train_scores_std = np.std(train_scores, axis=1)\n",
    "valid_scores_mean = np.mean(valid_scores, axis=1)\n",
    "valid_scores_std = np.std(valid_scores, axis=1)\n",
    "\n",
    "plt.title(\"Learning Curve - LinearSVR\", size=15)\n",
    "plt.xlabel(\"Training Size\", size=15)\n",
    "plt.ylabel(\"Score\", size=15)\n",
    "plt.fill_between(train_sizes, train_scores_mean - train_scores_std,\n",
    "                 train_scores_mean + train_scores_std, alpha=0.1,\n",
    "                 color=\"darkorange\")\n",
    "plt.fill_between(train_sizes, valid_scores_mean - valid_scores_std,\n",
    "                 valid_scores_mean + valid_scores_std, alpha=0.1, color=\"navy\")\n",
    "plt.plot(train_sizes, train_scores_mean, 'o-', color=\"darkorange\",\n",
    "         label=\"Training score\")\n",
    "plt.plot(train_sizes, valid_scores_mean, 'o-', color=\"navy\",\n",
    "         label=\"Cross-validation score\")\n",
    "\n",
    "plt.legend(loc=\"best\")\n",
    "plt.savefig('LinearSVR learning curve.pdf', bbox_inches='tight')"
   ]
  },
  {
   "cell_type": "markdown",
   "metadata": {},
   "source": [
    "`cv_results_` returns a dictionary with all of the results and parameters"
   ]
  },
  {
   "cell_type": "code",
   "execution_count": 28,
   "metadata": {
    "collapsed": false,
    "scrolled": true
   },
   "outputs": [
    {
     "data": {
      "text/plain": [
       "{'mean_fit_time': array([  0.29466669,   0.31133342,   0.53800003,   0.65266665,\n",
       "          0.80899994,   0.78433331,   0.81199996,   0.87266668,\n",
       "          0.9866666 ,   1.28399992,   2.15866669,   4.79399999,\n",
       "         11.95500008,  25.98933331,  43.23566675]),\n",
       " 'mean_score_time': array([ 0.03633332,  0.03933334,  0.08633327,  0.01066677,  0.0126667 ,\n",
       "         0.00999999,  0.01366663,  0.01433341,  0.01833336,  0.01333332,\n",
       "         0.01299993,  0.01333332,  0.01366663,  0.01099992,  0.00766659]),\n",
       " 'mean_test_score': array([ 0.00287043,  0.00987067,  0.03003211,  0.07128326,  0.11854968,\n",
       "         0.1501322 ,  0.1644035 ,  0.16960687,  0.17144693,  0.17192847,\n",
       "         0.17160952,  0.17128199,  0.17042826,  0.17088725,  0.16581553]),\n",
       " 'mean_train_score': array([ 0.00287357,  0.00988178,  0.03007964,  0.07148156,  0.11913756,\n",
       "         0.1513134 ,  0.16617615,  0.17197534,  0.17427679,  0.17499071,\n",
       "         0.17536349,  0.17557742,  0.17513131,  0.17544765,  0.17128382]),\n",
       " 'param_C': masked_array(data = [1.0000000000000001e-05 3.7275937203149381e-05 0.00013894954943731373\n",
       "  0.0005179474679231213 0.0019306977288832496 0.0071968567300115137\n",
       "  0.026826957952797246 0.10000000000000001 0.37275937203149379\n",
       "  1.3894954943731359 5.1794746792312019 19.306977288832496 71.96856730011514\n",
       "  268.26957952797216 1000.0],\n",
       "              mask = [False False False False False False False False False False False False\n",
       "  False False False],\n",
       "        fill_value = ?),\n",
       " 'params': ({'C': 1.0000000000000001e-05},\n",
       "  {'C': 3.7275937203149381e-05},\n",
       "  {'C': 0.00013894954943731373},\n",
       "  {'C': 0.0005179474679231213},\n",
       "  {'C': 0.0019306977288832496},\n",
       "  {'C': 0.0071968567300115137},\n",
       "  {'C': 0.026826957952797246},\n",
       "  {'C': 0.10000000000000001},\n",
       "  {'C': 0.37275937203149379},\n",
       "  {'C': 1.3894954943731359},\n",
       "  {'C': 5.1794746792312019},\n",
       "  {'C': 19.306977288832496},\n",
       "  {'C': 71.96856730011514},\n",
       "  {'C': 268.26957952797216},\n",
       "  {'C': 1000.0}),\n",
       " 'rank_test_score': array([15, 14, 13, 12, 11, 10,  9,  7,  3,  1,  2,  4,  6,  5,  8]),\n",
       " 'split0_test_score': array([ 0.00301764,  0.01030828,  0.03116889,  0.07332238,  0.12036935,\n",
       "         0.15154889,  0.16511589,  0.1696596 ,  0.17094722,  0.17212156,\n",
       "         0.17179597,  0.17210909,  0.17093621,  0.1711447 ,  0.17189868]),\n",
       " 'split0_train_score': array([ 0.00295224,  0.01009817,  0.03066308,  0.07290477,  0.12169576,\n",
       "         0.15579254,  0.17192734,  0.17853343,  0.1809065 ,  0.18234366,\n",
       "         0.18280627,  0.18269438,  0.18187619,  0.18167064,  0.1834368 ]),\n",
       " 'split1_test_score': array([ 0.00296258,  0.01014405,  0.03052811,  0.07106492,  0.11597412,\n",
       "         0.14511882,  0.15822912,  0.1627618 ,  0.16480322,  0.16443405,\n",
       "         0.16456281,  0.16445884,  0.16459095,  0.16665469,  0.15697647]),\n",
       " 'split1_train_score': array([ 0.00304868,  0.01044205,  0.0314778 ,  0.0736199 ,  0.12111131,\n",
       "         0.15264044,  0.16698589,  0.17228259,  0.17506954,  0.17496312,\n",
       "         0.1752573 ,  0.17530995,  0.17516148,  0.17714316,  0.16690628]),\n",
       " 'split2_test_score': array([ 0.00263108,  0.00915966,  0.02839933,  0.06946248,  0.11930557,\n",
       "         0.15372889,  0.16986548,  0.1763992 ,  0.17859036,  0.17922978,\n",
       "         0.17846979,  0.17727803,  0.17575762,  0.17486237,  0.16857143]),\n",
       " 'split2_train_score': array([ 0.00261979,  0.00910511,  0.02809803,  0.06792001,  0.11460562,\n",
       "         0.14550722,  0.15961522,  0.16510999,  0.16685434,  0.16766536,\n",
       "         0.1680269 ,  0.16872794,  0.16835626,  0.16752916,  0.1635084 ]),\n",
       " 'std_fit_time': array([  1.24723493e-03,   1.64992388e-02,   1.03405361e-01,\n",
       "          1.92238952e-02,   2.90631870e-02,   1.26376020e-01,\n",
       "          5.12314671e-02,   7.84064085e-02,   1.09332276e-01,\n",
       "          1.44589107e-01,   2.24553307e-01,   4.04309506e-02,\n",
       "          2.89872308e-01,   5.01694043e-01,   1.52403465e+00]),\n",
       " 'std_score_time': array([ 0.00402773,  0.0037713 ,  0.08738544,  0.00235708,  0.00169974,\n",
       "         0.        ,  0.00309114,  0.00339932,  0.00825964,  0.00094274,\n",
       "         0.00141417,  0.00169974,  0.00169955,  0.00163307,  0.00047137]),\n",
       " 'std_test_score': array([ 0.00017074,  0.00050721,  0.00118382,  0.00158335,  0.00187226,\n",
       "         0.00365501,  0.00477716,  0.00556757,  0.00563966,  0.00604188,\n",
       "         0.00567903,  0.00526599,  0.0045729 ,  0.00335571,  0.00639606]),\n",
       " 'std_train_score': array([ 0.00018371,  0.00056685,  0.00144014,  0.00253526,  0.00321344,\n",
       "         0.00430254,  0.00505891,  0.0054844 ,  0.00576409,  0.00599242,\n",
       "         0.00603412,  0.00570491,  0.00551953,  0.00589641,  0.00870469])}"
      ]
     },
     "execution_count": 28,
     "metadata": {},
     "output_type": "execute_result"
    }
   ],
   "source": [
    "results.cv_results_"
   ]
  },
  {
   "cell_type": "code",
   "execution_count": 29,
   "metadata": {
    "collapsed": true
   },
   "outputs": [],
   "source": [
    "test_score = results.cv_results_['mean_test_score']\n",
    "train_score = results.cv_results_['mean_train_score']"
   ]
  },
  {
   "cell_type": "code",
   "execution_count": 30,
   "metadata": {
    "collapsed": false
   },
   "outputs": [],
   "source": [
    "C = [results.cv_results_['params'][x]['C'] for x in range(15)]"
   ]
  },
  {
   "cell_type": "code",
   "execution_count": 31,
   "metadata": {
    "collapsed": false
   },
   "outputs": [
    {
     "data": {
      "text/plain": [
       "[1.0000000000000001e-05,\n",
       " 3.7275937203149381e-05,\n",
       " 0.00013894954943731373,\n",
       " 0.0005179474679231213,\n",
       " 0.0019306977288832496,\n",
       " 0.0071968567300115137,\n",
       " 0.026826957952797246,\n",
       " 0.10000000000000001,\n",
       " 0.37275937203149379,\n",
       " 1.3894954943731359,\n",
       " 5.1794746792312019,\n",
       " 19.306977288832496,\n",
       " 71.96856730011514,\n",
       " 268.26957952797216,\n",
       " 1000.0]"
      ]
     },
     "execution_count": 31,
     "metadata": {},
     "output_type": "execute_result"
    }
   ],
   "source": [
    "C"
   ]
  },
  {
   "cell_type": "markdown",
   "metadata": {},
   "source": [
    "Plot the score for each value of C"
   ]
  },
  {
   "cell_type": "code",
   "execution_count": 32,
   "metadata": {
    "collapsed": false
   },
   "outputs": [
    {
     "data": {
      "text/plain": [
       "<matplotlib.legend.Legend at 0x121b05f8>"
      ]
     },
     "execution_count": 32,
     "metadata": {},
     "output_type": "execute_result"
    },
    {
     "data": {
      "image/png": "[encoded data removed]",
      "text/plain": [
       "<matplotlib.figure.Figure at 0x121b0550>"
      ]
     },
     "metadata": {},
     "output_type": "display_data"
    }
   ],
   "source": [
    "plt.semilogx(C, test_score, C, train_score)\n",
    "plt.legend(['test_score', 'train_score'])"
   ]
  },
  {
   "cell_type": "markdown",
   "metadata": {},
   "source": [
    "## SVR with rbf\n",
    "Try subsampling?"
   ]
  },
  {
   "cell_type": "code",
   "execution_count": 33,
   "metadata": {
    "collapsed": false
   },
   "outputs": [
    {
     "data": {
      "text/plain": [
       "(262944L, 16L)"
      ]
     },
     "execution_count": 33,
     "metadata": {},
     "output_type": "execute_result"
    }
   ],
   "source": [
    "X_train_scaled.shape"
   ]
  },
  {
   "cell_type": "code",
   "execution_count": 38,
   "metadata": {
    "collapsed": true
   },
   "outputs": [],
   "source": [
    "idx = np.random.choice(np.arange(len(X_train_scaled)), size=int(len(X_train_scaled)*0.5), replace=False)"
   ]
  },
  {
   "cell_type": "code",
   "execution_count": 39,
   "metadata": {
    "collapsed": true
   },
   "outputs": [],
   "source": [
    "lm = SVR()"
   ]
  },
  {
   "cell_type": "code",
   "execution_count": 40,
   "metadata": {
    "collapsed": false
   },
   "outputs": [
    {
     "data": {
      "text/plain": [
       "SVR(C=1.0, cache_size=200, coef0=0.0, degree=3, epsilon=0.1, gamma='auto',\n",
       "  kernel='rbf', max_iter=-1, shrinking=True, tol=0.001, verbose=False)"
      ]
     },
     "execution_count": 40,
     "metadata": {},
     "output_type": "execute_result"
    }
   ],
   "source": [
    "lm.fit(X_train_scaled[idx], y_train[idx])"
   ]
  },
  {
   "cell_type": "code",
   "execution_count": 41,
   "metadata": {
    "collapsed": false
   },
   "outputs": [
    {
     "data": {
      "text/plain": [
       "0.28122217024273011"
      ]
     },
     "execution_count": 41,
     "metadata": {},
     "output_type": "execute_result"
    }
   ],
   "source": [
    "lm.score(X_va_scaled, y_va)"
   ]
  },
  {
   "cell_type": "markdown",
   "metadata": {
    "collapsed": true
   },
   "source": [
    "### Learning Curve"
   ]
  },
  {
   "cell_type": "code",
   "execution_count": 69,
   "metadata": {
    "collapsed": false
   },
   "outputs": [
    {
     "name": "stdout",
     "output_type": "stream",
     "text": [
      "[learning_curve] Training set sizes: [17529 35059 52588 70118 87648]\n"
     ]
    },
    {
     "name": "stderr",
     "output_type": "stream",
     "text": [
      "[Parallel(n_jobs=-1)]: Done   4 out of  15 | elapsed:  7.0min remaining: 19.2min\n",
      "[Parallel(n_jobs=-1)]: Done  10 out of  15 | elapsed: 20.1min remaining: 10.0min\n",
      "[Parallel(n_jobs=-1)]: Done  15 out of  15 | elapsed: 42.0min finished\n"
     ]
    },
    {
     "data": {
      "text/plain": [
       "<function matplotlib.pyplot.show>"
      ]
     },
     "execution_count": 69,
     "metadata": {},
     "output_type": "execute_result"
    },
    {
     "data": {
      "image/png": "[encoded data removed]",
      "text/plain": [
       "<matplotlib.figure.Figure at 0x12436fd0>"
      ]
     },
     "metadata": {},
     "output_type": "display_data"
    }
   ],
   "source": [
    "xLen = len(X_train_scaled)\n",
    "tSize = [.1, .2, .3, .4, .5]\n",
    "train_sizes, train_scores, valid_scores = learning_curve(SVR(), X_train_scaled, y_train, train_sizes = tSize, n_jobs = -1, verbose = 3)\n",
    "\n",
    "train_scores_mean = np.mean(train_scores, axis=1)\n",
    "train_scores_std = np.std(train_scores, axis=1)\n",
    "valid_scores_mean = np.mean(valid_scores, axis=1)\n",
    "valid_scores_std = np.std(valid_scores, axis=1)\n",
    "\n",
    "plt.grid()\n",
    "\n",
    "plt.title(\"Validation Curve - SVR\")\n",
    "plt.fill_between(tSize, train_scores_mean - train_scores_std,\n",
    "                 train_scores_mean + train_scores_std, alpha=0.1,\n",
    "                 color=\"darkorange\")\n",
    "plt.fill_between(tSize, valid_scores_mean - valid_scores_std,\n",
    "                 valid_scores_mean + valid_scores_std, alpha=0.1, color=\"navy\")\n",
    "plt.plot(tSize, train_scores_mean, 'o-', color=\"darkorange\",\n",
    "         label=\"Training score\")\n",
    "plt.plot(tSize, valid_scores_mean, 'o-', color=\"navy\",\n",
    "         label=\"Cross-validation score\")\n",
    "\n",
    "plt.legend(loc=\"best\")\n",
    "plt.show"
   ]
  }
 ],
 "metadata": {
  "anaconda-cloud": {},
  "kernelspec": {
   "display_name": "Python [conda root]",
   "language": "python",
   "name": "conda-root-py"
  },
  "language_info": {
   "codemirror_mode": {
    "name": "ipython",
    "version": 2
   },
   "file_extension": ".py",
   "mimetype": "text/x-python",
   "name": "python",
   "nbconvert_exporter": "python",
   "pygments_lexer": "ipython2",
   "version": "2.7.12"
  },
  "widgets": {
   "state": {},
   "version": "1.1.2"
  }
 },
 "nbformat": 4,
 "nbformat_minor": 1
}
