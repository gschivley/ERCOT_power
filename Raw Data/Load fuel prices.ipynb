{
 "cells": [
  {
   "cell_type": "markdown",
   "metadata": {},
   "source": [
    "# Load EIA natural gas and coal prices for electric power plants in Texas\n",
    "These values are real (not adjusted for inflation)\n",
    "\n",
    "I forgot that we don't have 2007 coal price data. Applying the average 2008 price for now."
   ]
  },
  {
   "cell_type": "code",
   "execution_count": 1,
   "metadata": {
    "collapsed": false
   },
   "outputs": [
    {
     "name": "stderr",
     "output_type": "stream",
     "text": [
      "/Users/Home/anaconda/lib/python2.7/site-packages/matplotlib/font_manager.py:273: UserWarning: Matplotlib is building the font cache using fc-list. This may take a moment.\n",
      "  warnings.warn('Matplotlib is building the font cache using fc-list. This may take a moment.')\n"
     ]
    }
   ],
   "source": [
    "%matplotlib inline\n",
    "import matplotlib.pyplot as plt\n",
    "import pandas as pd\n",
    "import os\n",
    "import glob\n",
    "import re\n",
    "import cPickle as pickle\n",
    "import gzip\n",
    "import seaborn as sns"
   ]
  },
  {
   "cell_type": "markdown",
   "metadata": {},
   "source": [
    "## Natural gas\n",
    "Price is $/thousand cubic feet (mcf)"
   ]
  },
  {
   "cell_type": "code",
   "execution_count": 4,
   "metadata": {
    "collapsed": true
   },
   "outputs": [],
   "source": [
    "path = os.path.join('EIA data', 'Natural gas price', 'N3045TX3m.xls')\n",
    "ng_price = pd.read_excel(path, sheetname='Data 1', header=2)"
   ]
  },
  {
   "cell_type": "code",
   "execution_count": 5,
   "metadata": {
    "collapsed": false
   },
   "outputs": [
    {
     "data": {
      "text/html": [
       "<div>\n",
       "<table border=\"1\" class=\"dataframe\">\n",
       "  <thead>\n",
       "    <tr style=\"text-align: right;\">\n",
       "      <th></th>\n",
       "      <th>Date</th>\n",
       "      <th>Texas Natural Gas Price Sold to Electric Power Consumers (Dollars per Thousand Cubic Feet)</th>\n",
       "    </tr>\n",
       "  </thead>\n",
       "  <tbody>\n",
       "    <tr>\n",
       "      <th>0</th>\n",
       "      <td>2002-01-15</td>\n",
       "      <td>2.65</td>\n",
       "    </tr>\n",
       "    <tr>\n",
       "      <th>1</th>\n",
       "      <td>2002-02-15</td>\n",
       "      <td>2.36</td>\n",
       "    </tr>\n",
       "    <tr>\n",
       "      <th>2</th>\n",
       "      <td>2002-03-15</td>\n",
       "      <td>2.96</td>\n",
       "    </tr>\n",
       "    <tr>\n",
       "      <th>3</th>\n",
       "      <td>2002-04-15</td>\n",
       "      <td>3.57</td>\n",
       "    </tr>\n",
       "    <tr>\n",
       "      <th>4</th>\n",
       "      <td>2002-05-15</td>\n",
       "      <td>3.52</td>\n",
       "    </tr>\n",
       "  </tbody>\n",
       "</table>\n",
       "</div>"
      ],
      "text/plain": [
       "        Date  \\\n",
       "0 2002-01-15   \n",
       "1 2002-02-15   \n",
       "2 2002-03-15   \n",
       "3 2002-04-15   \n",
       "4 2002-05-15   \n",
       "\n",
       "   Texas Natural Gas Price Sold to Electric Power Consumers (Dollars per Thousand Cubic Feet)  \n",
       "0                                               2.65                                           \n",
       "1                                               2.36                                           \n",
       "2                                               2.96                                           \n",
       "3                                               3.57                                           \n",
       "4                                               3.52                                           "
      ]
     },
     "execution_count": 5,
     "metadata": {},
     "output_type": "execute_result"
    }
   ],
   "source": [
    "ng_price.head()"
   ]
  },
  {
   "cell_type": "code",
   "execution_count": 6,
   "metadata": {
    "collapsed": false
   },
   "outputs": [
    {
     "data": {
      "text/plain": [
       "Date                                                                                          datetime64[ns]\n",
       "Texas Natural Gas Price Sold to Electric Power Consumers (Dollars per Thousand Cubic Feet)           float64\n",
       "dtype: object"
      ]
     },
     "execution_count": 6,
     "metadata": {},
     "output_type": "execute_result"
    }
   ],
   "source": [
    "ng_price.dtypes"
   ]
  },
  {
   "cell_type": "code",
   "execution_count": 8,
   "metadata": {
    "collapsed": false
   },
   "outputs": [],
   "source": [
    "ng_price.rename(columns={\"Texas Natural Gas Price Sold to Electric Power Consumers (Dollars per Thousand Cubic Feet)\":\n",
    "                         \"NG Price ($/mcf)\"}, inplace=True)"
   ]
  },
  {
   "cell_type": "code",
   "execution_count": 9,
   "metadata": {
    "collapsed": false
   },
   "outputs": [
    {
     "data": {
      "text/html": [
       "<div>\n",
       "<table border=\"1\" class=\"dataframe\">\n",
       "  <thead>\n",
       "    <tr style=\"text-align: right;\">\n",
       "      <th></th>\n",
       "      <th>Date</th>\n",
       "      <th>NG Price ($/mcf)</th>\n",
       "    </tr>\n",
       "  </thead>\n",
       "  <tbody>\n",
       "    <tr>\n",
       "      <th>0</th>\n",
       "      <td>2002-01-15</td>\n",
       "      <td>2.65</td>\n",
       "    </tr>\n",
       "    <tr>\n",
       "      <th>1</th>\n",
       "      <td>2002-02-15</td>\n",
       "      <td>2.36</td>\n",
       "    </tr>\n",
       "    <tr>\n",
       "      <th>2</th>\n",
       "      <td>2002-03-15</td>\n",
       "      <td>2.96</td>\n",
       "    </tr>\n",
       "    <tr>\n",
       "      <th>3</th>\n",
       "      <td>2002-04-15</td>\n",
       "      <td>3.57</td>\n",
       "    </tr>\n",
       "    <tr>\n",
       "      <th>4</th>\n",
       "      <td>2002-05-15</td>\n",
       "      <td>3.52</td>\n",
       "    </tr>\n",
       "  </tbody>\n",
       "</table>\n",
       "</div>"
      ],
      "text/plain": [
       "        Date  NG Price ($/mcf)\n",
       "0 2002-01-15              2.65\n",
       "1 2002-02-15              2.36\n",
       "2 2002-03-15              2.96\n",
       "3 2002-04-15              3.57\n",
       "4 2002-05-15              3.52"
      ]
     },
     "execution_count": 9,
     "metadata": {},
     "output_type": "execute_result"
    }
   ],
   "source": [
    "ng_price.head()"
   ]
  },
  {
   "cell_type": "code",
   "execution_count": 12,
   "metadata": {
    "collapsed": true
   },
   "outputs": [],
   "source": [
    "ng_price.loc[:,'Month'] = ng_price.loc[:,'Date'].apply(lambda x: x.month)\n",
    "ng_price.loc[:,'Year'] = ng_price.loc[:,'Date'].apply(lambda x: x.year)"
   ]
  },
  {
   "cell_type": "code",
   "execution_count": 13,
   "metadata": {
    "collapsed": false
   },
   "outputs": [
    {
     "data": {
      "text/html": [
       "<div>\n",
       "<table border=\"1\" class=\"dataframe\">\n",
       "  <thead>\n",
       "    <tr style=\"text-align: right;\">\n",
       "      <th></th>\n",
       "      <th>Date</th>\n",
       "      <th>NG Price ($/mcf)</th>\n",
       "      <th>Month</th>\n",
       "      <th>Year</th>\n",
       "    </tr>\n",
       "  </thead>\n",
       "  <tbody>\n",
       "    <tr>\n",
       "      <th>0</th>\n",
       "      <td>2002-01-15</td>\n",
       "      <td>2.65</td>\n",
       "      <td>1</td>\n",
       "      <td>2002</td>\n",
       "    </tr>\n",
       "    <tr>\n",
       "      <th>1</th>\n",
       "      <td>2002-02-15</td>\n",
       "      <td>2.36</td>\n",
       "      <td>2</td>\n",
       "      <td>2002</td>\n",
       "    </tr>\n",
       "    <tr>\n",
       "      <th>2</th>\n",
       "      <td>2002-03-15</td>\n",
       "      <td>2.96</td>\n",
       "      <td>3</td>\n",
       "      <td>2002</td>\n",
       "    </tr>\n",
       "    <tr>\n",
       "      <th>3</th>\n",
       "      <td>2002-04-15</td>\n",
       "      <td>3.57</td>\n",
       "      <td>4</td>\n",
       "      <td>2002</td>\n",
       "    </tr>\n",
       "    <tr>\n",
       "      <th>4</th>\n",
       "      <td>2002-05-15</td>\n",
       "      <td>3.52</td>\n",
       "      <td>5</td>\n",
       "      <td>2002</td>\n",
       "    </tr>\n",
       "  </tbody>\n",
       "</table>\n",
       "</div>"
      ],
      "text/plain": [
       "        Date  NG Price ($/mcf)  Month  Year\n",
       "0 2002-01-15              2.65      1  2002\n",
       "1 2002-02-15              2.36      2  2002\n",
       "2 2002-03-15              2.96      3  2002\n",
       "3 2002-04-15              3.57      4  2002\n",
       "4 2002-05-15              3.52      5  2002"
      ]
     },
     "execution_count": 13,
     "metadata": {},
     "output_type": "execute_result"
    }
   ],
   "source": [
    "ng_price.head()"
   ]
  },
  {
   "cell_type": "code",
   "execution_count": 55,
   "metadata": {
    "collapsed": false
   },
   "outputs": [
    {
     "data": {
      "text/plain": [
       "Date                datetime64[ns]\n",
       "NG Price ($/mcf)           float64\n",
       "Month                        int64\n",
       "Year                         int64\n",
       "dtype: object"
      ]
     },
     "execution_count": 55,
     "metadata": {},
     "output_type": "execute_result"
    }
   ],
   "source": [
    "ng_price.dtypes"
   ]
  },
  {
   "cell_type": "markdown",
   "metadata": {},
   "source": [
    "## Coal\n",
    "Price is $/short ton"
   ]
  },
  {
   "cell_type": "markdown",
   "metadata": {},
   "source": [
    "### EIA data\n",
    "[Source](http://www.eia.gov/beta/coal/data/browser/#/topic/45?agg=1,0&geo=vvvvvvvvvvvvo&rank=l&linechart=~~COAL.SHIP_PLANT_PRICE.TX-LIG.Q~COAL.SHIP_PLANT_PRICE.TX-SUB.Q&columnchart=COAL.SHIP_PLANT_PRICE.US-TOT.Q&map=COAL.SHIP_PLANT_PRICE.US-TOT.Q&freq=Q&start=200801&end=201601&chartindexed=0&ctype=linechart&ltype=pin&rtype=s&pin=&rse=0&maptype=0)"
   ]
  },
  {
   "cell_type": "code",
   "execution_count": 93,
   "metadata": {
    "collapsed": true
   },
   "outputs": [],
   "source": [
    "path = os.path.join('EIA data', 'Coal prices', 'Texas electric sector coal price.xlsx')\n",
    "coal_temp = pd.read_excel(path, sheetname='Sheet1')"
   ]
  },
  {
   "cell_type": "code",
   "execution_count": 94,
   "metadata": {
    "collapsed": false
   },
   "outputs": [
    {
     "data": {
      "text/html": [
       "<div>\n",
       "<table border=\"1\" class=\"dataframe\">\n",
       "  <thead>\n",
       "    <tr style=\"text-align: right;\">\n",
       "      <th></th>\n",
       "      <th>Date</th>\n",
       "      <th>All coal</th>\n",
       "      <th>Lignite</th>\n",
       "      <th>Subbituminous</th>\n",
       "    </tr>\n",
       "  </thead>\n",
       "  <tbody>\n",
       "    <tr>\n",
       "      <th>0</th>\n",
       "      <td>Q1 2008</td>\n",
       "      <td>24.32</td>\n",
       "      <td>19.38</td>\n",
       "      <td>26.72</td>\n",
       "    </tr>\n",
       "    <tr>\n",
       "      <th>1</th>\n",
       "      <td>Q2 2008</td>\n",
       "      <td>24.94</td>\n",
       "      <td>19.36</td>\n",
       "      <td>28.21</td>\n",
       "    </tr>\n",
       "    <tr>\n",
       "      <th>2</th>\n",
       "      <td>Q3 2008</td>\n",
       "      <td>25.91</td>\n",
       "      <td>20.11</td>\n",
       "      <td>29.23</td>\n",
       "    </tr>\n",
       "    <tr>\n",
       "      <th>3</th>\n",
       "      <td>Q4 2008</td>\n",
       "      <td>25.42</td>\n",
       "      <td>21.26</td>\n",
       "      <td>28.30</td>\n",
       "    </tr>\n",
       "    <tr>\n",
       "      <th>4</th>\n",
       "      <td>Q1 2009</td>\n",
       "      <td>25.92</td>\n",
       "      <td>22.40</td>\n",
       "      <td>27.88</td>\n",
       "    </tr>\n",
       "  </tbody>\n",
       "</table>\n",
       "</div>"
      ],
      "text/plain": [
       "      Date  All coal  Lignite  Subbituminous\n",
       "0  Q1 2008     24.32    19.38          26.72\n",
       "1  Q2 2008     24.94    19.36          28.21\n",
       "2  Q3 2008     25.91    20.11          29.23\n",
       "3  Q4 2008     25.42    21.26          28.30\n",
       "4  Q1 2009     25.92    22.40          27.88"
      ]
     },
     "execution_count": 94,
     "metadata": {},
     "output_type": "execute_result"
    }
   ],
   "source": [
    "coal_temp.head()"
   ]
  },
  {
   "cell_type": "code",
   "execution_count": 95,
   "metadata": {
    "collapsed": true
   },
   "outputs": [],
   "source": [
    "coal_temp.loc[:,'Quarter'] = coal_temp.loc[:,'Date'].apply(lambda x: int(x[1]))\n",
    "coal_temp.loc[:,'Year'] = coal_temp.loc[:,'Date'].apply(lambda x: int(x[-4:]))"
   ]
  },
  {
   "cell_type": "code",
   "execution_count": 96,
   "metadata": {
    "collapsed": false
   },
   "outputs": [
    {
     "data": {
      "text/html": [
       "<div>\n",
       "<table border=\"1\" class=\"dataframe\">\n",
       "  <thead>\n",
       "    <tr style=\"text-align: right;\">\n",
       "      <th></th>\n",
       "      <th>Date</th>\n",
       "      <th>All coal</th>\n",
       "      <th>Lignite</th>\n",
       "      <th>Subbituminous</th>\n",
       "      <th>Quarter</th>\n",
       "      <th>Year</th>\n",
       "    </tr>\n",
       "  </thead>\n",
       "  <tbody>\n",
       "    <tr>\n",
       "      <th>0</th>\n",
       "      <td>Q1 2008</td>\n",
       "      <td>24.32</td>\n",
       "      <td>19.38</td>\n",
       "      <td>26.72</td>\n",
       "      <td>1</td>\n",
       "      <td>2008</td>\n",
       "    </tr>\n",
       "    <tr>\n",
       "      <th>1</th>\n",
       "      <td>Q2 2008</td>\n",
       "      <td>24.94</td>\n",
       "      <td>19.36</td>\n",
       "      <td>28.21</td>\n",
       "      <td>2</td>\n",
       "      <td>2008</td>\n",
       "    </tr>\n",
       "    <tr>\n",
       "      <th>2</th>\n",
       "      <td>Q3 2008</td>\n",
       "      <td>25.91</td>\n",
       "      <td>20.11</td>\n",
       "      <td>29.23</td>\n",
       "      <td>3</td>\n",
       "      <td>2008</td>\n",
       "    </tr>\n",
       "    <tr>\n",
       "      <th>3</th>\n",
       "      <td>Q4 2008</td>\n",
       "      <td>25.42</td>\n",
       "      <td>21.26</td>\n",
       "      <td>28.30</td>\n",
       "      <td>4</td>\n",
       "      <td>2008</td>\n",
       "    </tr>\n",
       "    <tr>\n",
       "      <th>4</th>\n",
       "      <td>Q1 2009</td>\n",
       "      <td>25.92</td>\n",
       "      <td>22.40</td>\n",
       "      <td>27.88</td>\n",
       "      <td>1</td>\n",
       "      <td>2009</td>\n",
       "    </tr>\n",
       "  </tbody>\n",
       "</table>\n",
       "</div>"
      ],
      "text/plain": [
       "      Date  All coal  Lignite  Subbituminous  Quarter  Year\n",
       "0  Q1 2008     24.32    19.38          26.72        1  2008\n",
       "1  Q2 2008     24.94    19.36          28.21        2  2008\n",
       "2  Q3 2008     25.91    20.11          29.23        3  2008\n",
       "3  Q4 2008     25.42    21.26          28.30        4  2008\n",
       "4  Q1 2009     25.92    22.40          27.88        1  2009"
      ]
     },
     "execution_count": 96,
     "metadata": {},
     "output_type": "execute_result"
    }
   ],
   "source": [
    "coal_temp.head()"
   ]
  },
  {
   "cell_type": "code",
   "execution_count": 99,
   "metadata": {
    "collapsed": false
   },
   "outputs": [
    {
     "data": {
      "text/plain": [
       "[<matplotlib.lines.Line2D at 0x1179383d0>]"
      ]
     },
     "execution_count": 99,
     "metadata": {},
     "output_type": "execute_result"
    },
    {
     "data": {
      "text/plain": [
       "[<matplotlib.lines.Line2D at 0x117938b50>]"
      ]
     },
     "execution_count": 99,
     "metadata": {},
     "output_type": "execute_result"
    },
    {
     "data": {
      "text/plain": [
       "[<matplotlib.lines.Line2D at 0x117938ad0>]"
      ]
     },
     "execution_count": 99,
     "metadata": {},
     "output_type": "execute_result"
    },
    {
     "data": {
      "text/plain": [
       "<matplotlib.legend.Legend at 0x1178d3290>"
      ]
     },
     "execution_count": 99,
     "metadata": {},
     "output_type": "execute_result"
    },
    {
     "data": {
      "image/png": "[encoded data removed]",
      "text/plain": [
       "<matplotlib.figure.Figure at 0x11778c350>"
      ]
     },
     "metadata": {},
     "output_type": "display_data"
    }
   ],
   "source": [
    "for coal in ['All coal', 'Lignite', 'Subbituminous']:\n",
    "    plt.plot(coal_temp.index, coal_temp[coal], label=coal)\n",
    "plt.legend(loc=0)"
   ]
  },
  {
   "cell_type": "code",
   "execution_count": 102,
   "metadata": {
    "collapsed": false
   },
   "outputs": [
    {
     "data": {
      "text/html": [
       "<div>\n",
       "<table border=\"1\" class=\"dataframe\">\n",
       "  <thead>\n",
       "    <tr style=\"text-align: right;\">\n",
       "      <th></th>\n",
       "      <th>All coal</th>\n",
       "      <th>Lignite</th>\n",
       "      <th>Subbituminous</th>\n",
       "    </tr>\n",
       "  </thead>\n",
       "  <tbody>\n",
       "    <tr>\n",
       "      <th>All coal</th>\n",
       "      <td>1.00000</td>\n",
       "      <td>0.630680</td>\n",
       "      <td>0.897700</td>\n",
       "    </tr>\n",
       "    <tr>\n",
       "      <th>Lignite</th>\n",
       "      <td>0.63068</td>\n",
       "      <td>1.000000</td>\n",
       "      <td>0.327342</td>\n",
       "    </tr>\n",
       "    <tr>\n",
       "      <th>Subbituminous</th>\n",
       "      <td>0.89770</td>\n",
       "      <td>0.327342</td>\n",
       "      <td>1.000000</td>\n",
       "    </tr>\n",
       "  </tbody>\n",
       "</table>\n",
       "</div>"
      ],
      "text/plain": [
       "               All coal   Lignite  Subbituminous\n",
       "All coal        1.00000  0.630680       0.897700\n",
       "Lignite         0.63068  1.000000       0.327342\n",
       "Subbituminous   0.89770  0.327342       1.000000"
      ]
     },
     "execution_count": 102,
     "metadata": {},
     "output_type": "execute_result"
    }
   ],
   "source": [
    "coal_temp[['All coal', 'Lignite', 'Subbituminous']].corr()"
   ]
  },
  {
   "cell_type": "markdown",
   "metadata": {},
   "source": [
    "#### Make up data for 2007\n",
    "The EIA source only goes back to 2008. Use average 2008 price for 2007. If there is time, look for more data or figure out better method."
   ]
  },
  {
   "cell_type": "code",
   "execution_count": 103,
   "metadata": {
    "collapsed": true
   },
   "outputs": [],
   "source": [
    "coal_2007 = pd.DataFrame(columns=coal_temp.columns)"
   ]
  },
  {
   "cell_type": "code",
   "execution_count": 104,
   "metadata": {
    "collapsed": false
   },
   "outputs": [],
   "source": [
    "coal_2007['Quarter'] = [1,2,3,4]\n",
    "coal_2007['Year'] = 2007\n",
    "for coal in ['All coal', 'Lignite', 'Subbituminous']:\n",
    "    coal_2007[coal] = coal_temp.loc[coal_temp['Year']==2008,coal].mean()"
   ]
  },
  {
   "cell_type": "code",
   "execution_count": 105,
   "metadata": {
    "collapsed": false
   },
   "outputs": [
    {
     "data": {
      "text/html": [
       "<div>\n",
       "<table border=\"1\" class=\"dataframe\">\n",
       "  <thead>\n",
       "    <tr style=\"text-align: right;\">\n",
       "      <th></th>\n",
       "      <th>Date</th>\n",
       "      <th>All coal</th>\n",
       "      <th>Lignite</th>\n",
       "      <th>Subbituminous</th>\n",
       "      <th>Quarter</th>\n",
       "      <th>Year</th>\n",
       "    </tr>\n",
       "  </thead>\n",
       "  <tbody>\n",
       "    <tr>\n",
       "      <th>0</th>\n",
       "      <td>NaN</td>\n",
       "      <td>25.1475</td>\n",
       "      <td>20.0275</td>\n",
       "      <td>28.115</td>\n",
       "      <td>1</td>\n",
       "      <td>2007</td>\n",
       "    </tr>\n",
       "    <tr>\n",
       "      <th>1</th>\n",
       "      <td>NaN</td>\n",
       "      <td>25.1475</td>\n",
       "      <td>20.0275</td>\n",
       "      <td>28.115</td>\n",
       "      <td>2</td>\n",
       "      <td>2007</td>\n",
       "    </tr>\n",
       "    <tr>\n",
       "      <th>2</th>\n",
       "      <td>NaN</td>\n",
       "      <td>25.1475</td>\n",
       "      <td>20.0275</td>\n",
       "      <td>28.115</td>\n",
       "      <td>3</td>\n",
       "      <td>2007</td>\n",
       "    </tr>\n",
       "    <tr>\n",
       "      <th>3</th>\n",
       "      <td>NaN</td>\n",
       "      <td>25.1475</td>\n",
       "      <td>20.0275</td>\n",
       "      <td>28.115</td>\n",
       "      <td>4</td>\n",
       "      <td>2007</td>\n",
       "    </tr>\n",
       "  </tbody>\n",
       "</table>\n",
       "</div>"
      ],
      "text/plain": [
       "  Date  All coal  Lignite  Subbituminous  Quarter  Year\n",
       "0  NaN   25.1475  20.0275         28.115        1  2007\n",
       "1  NaN   25.1475  20.0275         28.115        2  2007\n",
       "2  NaN   25.1475  20.0275         28.115        3  2007\n",
       "3  NaN   25.1475  20.0275         28.115        4  2007"
      ]
     },
     "execution_count": 105,
     "metadata": {},
     "output_type": "execute_result"
    }
   ],
   "source": [
    "coal_2007"
   ]
  },
  {
   "cell_type": "code",
   "execution_count": 106,
   "metadata": {
    "collapsed": false
   },
   "outputs": [],
   "source": [
    "coal_temp = coal_temp.append(coal_2007)"
   ]
  },
  {
   "cell_type": "code",
   "execution_count": 107,
   "metadata": {
    "collapsed": false
   },
   "outputs": [
    {
     "data": {
      "text/html": [
       "<div>\n",
       "<table border=\"1\" class=\"dataframe\">\n",
       "  <thead>\n",
       "    <tr style=\"text-align: right;\">\n",
       "      <th></th>\n",
       "      <th>Date</th>\n",
       "      <th>All coal</th>\n",
       "      <th>Lignite</th>\n",
       "      <th>Subbituminous</th>\n",
       "      <th>Quarter</th>\n",
       "      <th>Year</th>\n",
       "    </tr>\n",
       "  </thead>\n",
       "  <tbody>\n",
       "    <tr>\n",
       "      <th>32</th>\n",
       "      <td>Q1 2016</td>\n",
       "      <td>26.4400</td>\n",
       "      <td>22.6100</td>\n",
       "      <td>31.430</td>\n",
       "      <td>1</td>\n",
       "      <td>2016</td>\n",
       "    </tr>\n",
       "    <tr>\n",
       "      <th>0</th>\n",
       "      <td>NaN</td>\n",
       "      <td>25.1475</td>\n",
       "      <td>20.0275</td>\n",
       "      <td>28.115</td>\n",
       "      <td>1</td>\n",
       "      <td>2007</td>\n",
       "    </tr>\n",
       "    <tr>\n",
       "      <th>1</th>\n",
       "      <td>NaN</td>\n",
       "      <td>25.1475</td>\n",
       "      <td>20.0275</td>\n",
       "      <td>28.115</td>\n",
       "      <td>2</td>\n",
       "      <td>2007</td>\n",
       "    </tr>\n",
       "    <tr>\n",
       "      <th>2</th>\n",
       "      <td>NaN</td>\n",
       "      <td>25.1475</td>\n",
       "      <td>20.0275</td>\n",
       "      <td>28.115</td>\n",
       "      <td>3</td>\n",
       "      <td>2007</td>\n",
       "    </tr>\n",
       "    <tr>\n",
       "      <th>3</th>\n",
       "      <td>NaN</td>\n",
       "      <td>25.1475</td>\n",
       "      <td>20.0275</td>\n",
       "      <td>28.115</td>\n",
       "      <td>4</td>\n",
       "      <td>2007</td>\n",
       "    </tr>\n",
       "  </tbody>\n",
       "</table>\n",
       "</div>"
      ],
      "text/plain": [
       "       Date  All coal  Lignite  Subbituminous  Quarter  Year\n",
       "32  Q1 2016   26.4400  22.6100         31.430        1  2016\n",
       "0       NaN   25.1475  20.0275         28.115        1  2007\n",
       "1       NaN   25.1475  20.0275         28.115        2  2007\n",
       "2       NaN   25.1475  20.0275         28.115        3  2007\n",
       "3       NaN   25.1475  20.0275         28.115        4  2007"
      ]
     },
     "execution_count": 107,
     "metadata": {},
     "output_type": "execute_result"
    }
   ],
   "source": [
    "coal_temp.tail()"
   ]
  },
  {
   "cell_type": "markdown",
   "metadata": {},
   "source": [
    "### Make dataframe with quarter, month, and year columns from 2007-2015"
   ]
  },
  {
   "cell_type": "code",
   "execution_count": 108,
   "metadata": {
    "collapsed": false
   },
   "outputs": [],
   "source": [
    "df = pd.DataFrame(pd.date_range('2007-1-15', periods=12*9, freq='M'), columns=['tempdate'])"
   ]
  },
  {
   "cell_type": "code",
   "execution_count": 109,
   "metadata": {
    "collapsed": false
   },
   "outputs": [
    {
     "data": {
      "text/html": [
       "<div>\n",
       "<table border=\"1\" class=\"dataframe\">\n",
       "  <thead>\n",
       "    <tr style=\"text-align: right;\">\n",
       "      <th></th>\n",
       "      <th>tempdate</th>\n",
       "    </tr>\n",
       "  </thead>\n",
       "  <tbody>\n",
       "    <tr>\n",
       "      <th>0</th>\n",
       "      <td>2007-01-31</td>\n",
       "    </tr>\n",
       "    <tr>\n",
       "      <th>1</th>\n",
       "      <td>2007-02-28</td>\n",
       "    </tr>\n",
       "    <tr>\n",
       "      <th>2</th>\n",
       "      <td>2007-03-31</td>\n",
       "    </tr>\n",
       "    <tr>\n",
       "      <th>3</th>\n",
       "      <td>2007-04-30</td>\n",
       "    </tr>\n",
       "    <tr>\n",
       "      <th>4</th>\n",
       "      <td>2007-05-31</td>\n",
       "    </tr>\n",
       "  </tbody>\n",
       "</table>\n",
       "</div>"
      ],
      "text/plain": [
       "    tempdate\n",
       "0 2007-01-31\n",
       "1 2007-02-28\n",
       "2 2007-03-31\n",
       "3 2007-04-30\n",
       "4 2007-05-31"
      ]
     },
     "execution_count": 109,
     "metadata": {},
     "output_type": "execute_result"
    }
   ],
   "source": [
    "df.head()"
   ]
  },
  {
   "cell_type": "code",
   "execution_count": 110,
   "metadata": {
    "collapsed": false
   },
   "outputs": [],
   "source": [
    "df.loc[:,'Quarter'] = df.loc[:,'tempdate'].apply(lambda x: x.quarter)\n",
    "df.loc[:,'Month'] = df.loc[:,'tempdate'].apply(lambda x: x.month)\n",
    "df.loc[:,'Year'] = df.loc[:,'tempdate'].apply(lambda x: x.year)"
   ]
  },
  {
   "cell_type": "code",
   "execution_count": 116,
   "metadata": {
    "collapsed": false
   },
   "outputs": [
    {
     "data": {
      "text/html": [
       "<div>\n",
       "<table border=\"1\" class=\"dataframe\">\n",
       "  <thead>\n",
       "    <tr style=\"text-align: right;\">\n",
       "      <th></th>\n",
       "      <th>tempdate</th>\n",
       "      <th>Quarter</th>\n",
       "      <th>Month</th>\n",
       "      <th>Year</th>\n",
       "    </tr>\n",
       "  </thead>\n",
       "  <tbody>\n",
       "    <tr>\n",
       "      <th>0</th>\n",
       "      <td>2007-01-31</td>\n",
       "      <td>1</td>\n",
       "      <td>1</td>\n",
       "      <td>2007</td>\n",
       "    </tr>\n",
       "    <tr>\n",
       "      <th>1</th>\n",
       "      <td>2007-02-28</td>\n",
       "      <td>1</td>\n",
       "      <td>2</td>\n",
       "      <td>2007</td>\n",
       "    </tr>\n",
       "    <tr>\n",
       "      <th>2</th>\n",
       "      <td>2007-03-31</td>\n",
       "      <td>1</td>\n",
       "      <td>3</td>\n",
       "      <td>2007</td>\n",
       "    </tr>\n",
       "    <tr>\n",
       "      <th>3</th>\n",
       "      <td>2007-04-30</td>\n",
       "      <td>2</td>\n",
       "      <td>4</td>\n",
       "      <td>2007</td>\n",
       "    </tr>\n",
       "    <tr>\n",
       "      <th>4</th>\n",
       "      <td>2007-05-31</td>\n",
       "      <td>2</td>\n",
       "      <td>5</td>\n",
       "      <td>2007</td>\n",
       "    </tr>\n",
       "  </tbody>\n",
       "</table>\n",
       "</div>"
      ],
      "text/plain": [
       "    tempdate  Quarter  Month  Year\n",
       "0 2007-01-31        1      1  2007\n",
       "1 2007-02-28        1      2  2007\n",
       "2 2007-03-31        1      3  2007\n",
       "3 2007-04-30        2      4  2007\n",
       "4 2007-05-31        2      5  2007"
      ]
     },
     "execution_count": 116,
     "metadata": {},
     "output_type": "execute_result"
    },
    {
     "data": {
      "text/html": [
       "<div>\n",
       "<table border=\"1\" class=\"dataframe\">\n",
       "  <thead>\n",
       "    <tr style=\"text-align: right;\">\n",
       "      <th></th>\n",
       "      <th>tempdate</th>\n",
       "      <th>Quarter</th>\n",
       "      <th>Month</th>\n",
       "      <th>Year</th>\n",
       "    </tr>\n",
       "  </thead>\n",
       "  <tbody>\n",
       "    <tr>\n",
       "      <th>103</th>\n",
       "      <td>2015-08-31</td>\n",
       "      <td>3</td>\n",
       "      <td>8</td>\n",
       "      <td>2015</td>\n",
       "    </tr>\n",
       "    <tr>\n",
       "      <th>104</th>\n",
       "      <td>2015-09-30</td>\n",
       "      <td>3</td>\n",
       "      <td>9</td>\n",
       "      <td>2015</td>\n",
       "    </tr>\n",
       "    <tr>\n",
       "      <th>105</th>\n",
       "      <td>2015-10-31</td>\n",
       "      <td>4</td>\n",
       "      <td>10</td>\n",
       "      <td>2015</td>\n",
       "    </tr>\n",
       "    <tr>\n",
       "      <th>106</th>\n",
       "      <td>2015-11-30</td>\n",
       "      <td>4</td>\n",
       "      <td>11</td>\n",
       "      <td>2015</td>\n",
       "    </tr>\n",
       "    <tr>\n",
       "      <th>107</th>\n",
       "      <td>2015-12-31</td>\n",
       "      <td>4</td>\n",
       "      <td>12</td>\n",
       "      <td>2015</td>\n",
       "    </tr>\n",
       "  </tbody>\n",
       "</table>\n",
       "</div>"
      ],
      "text/plain": [
       "      tempdate  Quarter  Month  Year\n",
       "103 2015-08-31        3      8  2015\n",
       "104 2015-09-30        3      9  2015\n",
       "105 2015-10-31        4     10  2015\n",
       "106 2015-11-30        4     11  2015\n",
       "107 2015-12-31        4     12  2015"
      ]
     },
     "execution_count": 116,
     "metadata": {},
     "output_type": "execute_result"
    }
   ],
   "source": [
    "df.head()\n",
    "df.tail()"
   ]
  },
  {
   "cell_type": "code",
   "execution_count": 112,
   "metadata": {
    "collapsed": true
   },
   "outputs": [],
   "source": [
    "coal_price = pd.merge(coal_temp, df, on=['Quarter', 'Year'])"
   ]
  },
  {
   "cell_type": "code",
   "execution_count": 113,
   "metadata": {
    "collapsed": false
   },
   "outputs": [
    {
     "data": {
      "text/html": [
       "<div>\n",
       "<table border=\"1\" class=\"dataframe\">\n",
       "  <thead>\n",
       "    <tr style=\"text-align: right;\">\n",
       "      <th></th>\n",
       "      <th>Date</th>\n",
       "      <th>All coal</th>\n",
       "      <th>Lignite</th>\n",
       "      <th>Subbituminous</th>\n",
       "      <th>Quarter</th>\n",
       "      <th>Year</th>\n",
       "      <th>tempdate</th>\n",
       "      <th>Month</th>\n",
       "    </tr>\n",
       "  </thead>\n",
       "  <tbody>\n",
       "    <tr>\n",
       "      <th>0</th>\n",
       "      <td>Q1 2008</td>\n",
       "      <td>24.32</td>\n",
       "      <td>19.38</td>\n",
       "      <td>26.72</td>\n",
       "      <td>1</td>\n",
       "      <td>2008</td>\n",
       "      <td>2008-01-31</td>\n",
       "      <td>1</td>\n",
       "    </tr>\n",
       "    <tr>\n",
       "      <th>1</th>\n",
       "      <td>Q1 2008</td>\n",
       "      <td>24.32</td>\n",
       "      <td>19.38</td>\n",
       "      <td>26.72</td>\n",
       "      <td>1</td>\n",
       "      <td>2008</td>\n",
       "      <td>2008-02-29</td>\n",
       "      <td>2</td>\n",
       "    </tr>\n",
       "    <tr>\n",
       "      <th>2</th>\n",
       "      <td>Q1 2008</td>\n",
       "      <td>24.32</td>\n",
       "      <td>19.38</td>\n",
       "      <td>26.72</td>\n",
       "      <td>1</td>\n",
       "      <td>2008</td>\n",
       "      <td>2008-03-31</td>\n",
       "      <td>3</td>\n",
       "    </tr>\n",
       "    <tr>\n",
       "      <th>3</th>\n",
       "      <td>Q2 2008</td>\n",
       "      <td>24.94</td>\n",
       "      <td>19.36</td>\n",
       "      <td>28.21</td>\n",
       "      <td>2</td>\n",
       "      <td>2008</td>\n",
       "      <td>2008-04-30</td>\n",
       "      <td>4</td>\n",
       "    </tr>\n",
       "    <tr>\n",
       "      <th>4</th>\n",
       "      <td>Q2 2008</td>\n",
       "      <td>24.94</td>\n",
       "      <td>19.36</td>\n",
       "      <td>28.21</td>\n",
       "      <td>2</td>\n",
       "      <td>2008</td>\n",
       "      <td>2008-05-31</td>\n",
       "      <td>5</td>\n",
       "    </tr>\n",
       "  </tbody>\n",
       "</table>\n",
       "</div>"
      ],
      "text/plain": [
       "      Date  All coal  Lignite  Subbituminous  Quarter  Year   tempdate  Month\n",
       "0  Q1 2008     24.32    19.38          26.72        1  2008 2008-01-31      1\n",
       "1  Q1 2008     24.32    19.38          26.72        1  2008 2008-02-29      2\n",
       "2  Q1 2008     24.32    19.38          26.72        1  2008 2008-03-31      3\n",
       "3  Q2 2008     24.94    19.36          28.21        2  2008 2008-04-30      4\n",
       "4  Q2 2008     24.94    19.36          28.21        2  2008 2008-05-31      5"
      ]
     },
     "execution_count": 113,
     "metadata": {},
     "output_type": "execute_result"
    }
   ],
   "source": [
    "coal_price.head()"
   ]
  },
  {
   "cell_type": "markdown",
   "metadata": {},
   "source": [
    "## Combine fuel dataframes"
   ]
  },
  {
   "cell_type": "code",
   "execution_count": 114,
   "metadata": {
    "collapsed": false
   },
   "outputs": [],
   "source": [
    "fuel_price = pd.merge(ng_price, coal_price, how='right', on=['Month', 'Year'])"
   ]
  },
  {
   "cell_type": "code",
   "execution_count": 115,
   "metadata": {
    "collapsed": false
   },
   "outputs": [
    {
     "data": {
      "text/html": [
       "<div>\n",
       "<table border=\"1\" class=\"dataframe\">\n",
       "  <thead>\n",
       "    <tr style=\"text-align: right;\">\n",
       "      <th></th>\n",
       "      <th>Date_x</th>\n",
       "      <th>NG Price ($/mcf)</th>\n",
       "      <th>Month</th>\n",
       "      <th>Year</th>\n",
       "      <th>Date_y</th>\n",
       "      <th>All coal</th>\n",
       "      <th>Lignite</th>\n",
       "      <th>Subbituminous</th>\n",
       "      <th>Quarter</th>\n",
       "      <th>tempdate</th>\n",
       "    </tr>\n",
       "  </thead>\n",
       "  <tbody>\n",
       "    <tr>\n",
       "      <th>0</th>\n",
       "      <td>2007-01-15</td>\n",
       "      <td>6.42</td>\n",
       "      <td>1</td>\n",
       "      <td>2007</td>\n",
       "      <td>NaN</td>\n",
       "      <td>25.1475</td>\n",
       "      <td>20.0275</td>\n",
       "      <td>28.115</td>\n",
       "      <td>1</td>\n",
       "      <td>2007-01-31</td>\n",
       "    </tr>\n",
       "    <tr>\n",
       "      <th>1</th>\n",
       "      <td>2007-02-15</td>\n",
       "      <td>7.34</td>\n",
       "      <td>2</td>\n",
       "      <td>2007</td>\n",
       "      <td>NaN</td>\n",
       "      <td>25.1475</td>\n",
       "      <td>20.0275</td>\n",
       "      <td>28.115</td>\n",
       "      <td>1</td>\n",
       "      <td>2007-02-28</td>\n",
       "    </tr>\n",
       "    <tr>\n",
       "      <th>2</th>\n",
       "      <td>2007-03-15</td>\n",
       "      <td>6.90</td>\n",
       "      <td>3</td>\n",
       "      <td>2007</td>\n",
       "      <td>NaN</td>\n",
       "      <td>25.1475</td>\n",
       "      <td>20.0275</td>\n",
       "      <td>28.115</td>\n",
       "      <td>1</td>\n",
       "      <td>2007-03-31</td>\n",
       "    </tr>\n",
       "    <tr>\n",
       "      <th>3</th>\n",
       "      <td>2007-04-15</td>\n",
       "      <td>7.29</td>\n",
       "      <td>4</td>\n",
       "      <td>2007</td>\n",
       "      <td>NaN</td>\n",
       "      <td>25.1475</td>\n",
       "      <td>20.0275</td>\n",
       "      <td>28.115</td>\n",
       "      <td>2</td>\n",
       "      <td>2007-04-30</td>\n",
       "    </tr>\n",
       "    <tr>\n",
       "      <th>4</th>\n",
       "      <td>2007-05-15</td>\n",
       "      <td>7.51</td>\n",
       "      <td>5</td>\n",
       "      <td>2007</td>\n",
       "      <td>NaN</td>\n",
       "      <td>25.1475</td>\n",
       "      <td>20.0275</td>\n",
       "      <td>28.115</td>\n",
       "      <td>2</td>\n",
       "      <td>2007-05-31</td>\n",
       "    </tr>\n",
       "  </tbody>\n",
       "</table>\n",
       "</div>"
      ],
      "text/plain": [
       "      Date_x  NG Price ($/mcf)  Month  Year Date_y  All coal  Lignite  \\\n",
       "0 2007-01-15              6.42      1  2007    NaN   25.1475  20.0275   \n",
       "1 2007-02-15              7.34      2  2007    NaN   25.1475  20.0275   \n",
       "2 2007-03-15              6.90      3  2007    NaN   25.1475  20.0275   \n",
       "3 2007-04-15              7.29      4  2007    NaN   25.1475  20.0275   \n",
       "4 2007-05-15              7.51      5  2007    NaN   25.1475  20.0275   \n",
       "\n",
       "   Subbituminous  Quarter   tempdate  \n",
       "0         28.115        1 2007-01-31  \n",
       "1         28.115        1 2007-02-28  \n",
       "2         28.115        1 2007-03-31  \n",
       "3         28.115        2 2007-04-30  \n",
       "4         28.115        2 2007-05-31  "
      ]
     },
     "execution_count": 115,
     "metadata": {},
     "output_type": "execute_result"
    }
   ],
   "source": [
    "fuel_price.head()"
   ]
  },
  {
   "cell_type": "code",
   "execution_count": 117,
   "metadata": {
    "collapsed": false
   },
   "outputs": [
    {
     "data": {
      "text/html": [
       "<div>\n",
       "<table border=\"1\" class=\"dataframe\">\n",
       "  <thead>\n",
       "    <tr style=\"text-align: right;\">\n",
       "      <th></th>\n",
       "      <th>Date_x</th>\n",
       "      <th>NG Price ($/mcf)</th>\n",
       "      <th>Month</th>\n",
       "      <th>Year</th>\n",
       "      <th>Date_y</th>\n",
       "      <th>All coal</th>\n",
       "      <th>Lignite</th>\n",
       "      <th>Subbituminous</th>\n",
       "      <th>Quarter</th>\n",
       "      <th>tempdate</th>\n",
       "    </tr>\n",
       "  </thead>\n",
       "  <tbody>\n",
       "    <tr>\n",
       "      <th>103</th>\n",
       "      <td>2015-08-15</td>\n",
       "      <td>3.01</td>\n",
       "      <td>8</td>\n",
       "      <td>2015</td>\n",
       "      <td>Q3 2015</td>\n",
       "      <td>31.71</td>\n",
       "      <td>27.61</td>\n",
       "      <td>33.78</td>\n",
       "      <td>3</td>\n",
       "      <td>2015-08-31</td>\n",
       "    </tr>\n",
       "    <tr>\n",
       "      <th>104</th>\n",
       "      <td>2015-09-15</td>\n",
       "      <td>2.88</td>\n",
       "      <td>9</td>\n",
       "      <td>2015</td>\n",
       "      <td>Q3 2015</td>\n",
       "      <td>31.71</td>\n",
       "      <td>27.61</td>\n",
       "      <td>33.78</td>\n",
       "      <td>3</td>\n",
       "      <td>2015-09-30</td>\n",
       "    </tr>\n",
       "    <tr>\n",
       "      <th>105</th>\n",
       "      <td>2015-10-15</td>\n",
       "      <td>2.66</td>\n",
       "      <td>10</td>\n",
       "      <td>2015</td>\n",
       "      <td>Q4 2015</td>\n",
       "      <td>28.53</td>\n",
       "      <td>24.04</td>\n",
       "      <td>32.55</td>\n",
       "      <td>4</td>\n",
       "      <td>2015-10-31</td>\n",
       "    </tr>\n",
       "    <tr>\n",
       "      <th>106</th>\n",
       "      <td>2015-11-15</td>\n",
       "      <td>2.30</td>\n",
       "      <td>11</td>\n",
       "      <td>2015</td>\n",
       "      <td>Q4 2015</td>\n",
       "      <td>28.53</td>\n",
       "      <td>24.04</td>\n",
       "      <td>32.55</td>\n",
       "      <td>4</td>\n",
       "      <td>2015-11-30</td>\n",
       "    </tr>\n",
       "    <tr>\n",
       "      <th>107</th>\n",
       "      <td>2015-12-15</td>\n",
       "      <td>2.23</td>\n",
       "      <td>12</td>\n",
       "      <td>2015</td>\n",
       "      <td>Q4 2015</td>\n",
       "      <td>28.53</td>\n",
       "      <td>24.04</td>\n",
       "      <td>32.55</td>\n",
       "      <td>4</td>\n",
       "      <td>2015-12-31</td>\n",
       "    </tr>\n",
       "  </tbody>\n",
       "</table>\n",
       "</div>"
      ],
      "text/plain": [
       "        Date_x  NG Price ($/mcf)  Month  Year   Date_y  All coal  Lignite  \\\n",
       "103 2015-08-15              3.01      8  2015  Q3 2015     31.71    27.61   \n",
       "104 2015-09-15              2.88      9  2015  Q3 2015     31.71    27.61   \n",
       "105 2015-10-15              2.66     10  2015  Q4 2015     28.53    24.04   \n",
       "106 2015-11-15              2.30     11  2015  Q4 2015     28.53    24.04   \n",
       "107 2015-12-15              2.23     12  2015  Q4 2015     28.53    24.04   \n",
       "\n",
       "     Subbituminous  Quarter   tempdate  \n",
       "103          33.78        3 2015-08-31  \n",
       "104          33.78        3 2015-09-30  \n",
       "105          32.55        4 2015-10-31  \n",
       "106          32.55        4 2015-11-30  \n",
       "107          32.55        4 2015-12-31  "
      ]
     },
     "execution_count": 117,
     "metadata": {},
     "output_type": "execute_result"
    }
   ],
   "source": [
    "fuel_price.tail()"
   ]
  },
  {
   "cell_type": "code",
   "execution_count": 118,
   "metadata": {
    "collapsed": true
   },
   "outputs": [],
   "source": [
    "fuel_price.drop(['Date_x', 'Date_y', 'tempdate', 'Quarter'], axis=1, inplace=True)"
   ]
  },
  {
   "cell_type": "code",
   "execution_count": 119,
   "metadata": {
    "collapsed": true
   },
   "outputs": [],
   "source": [
    "path = os.path.join('..', 'Clean Data', 'Fuel prices.csv')\n",
    "fuel_price.to_csv(path)"
   ]
  }
 ],
 "metadata": {
  "anaconda-cloud": {},
  "kernelspec": {
   "display_name": "Python [conda root]",
   "language": "python",
   "name": "conda-root-py"
  },
  "language_info": {
   "codemirror_mode": {
    "name": "ipython",
    "version": 2
   },
   "file_extension": ".py",
   "mimetype": "text/x-python",
   "name": "python",
   "nbconvert_exporter": "python",
   "pygments_lexer": "ipython2",
   "version": "2.7.12"
  },
  "widgets": {
   "state": {},
   "version": "1.1.2"
  }
 },
 "nbformat": 4,
 "nbformat_minor": 1
}
