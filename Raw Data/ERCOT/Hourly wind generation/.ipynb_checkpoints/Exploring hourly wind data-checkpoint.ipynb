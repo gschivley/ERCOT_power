{
 "cells": [
  {
   "cell_type": "code",
   "execution_count": 1,
   "metadata": {
    "collapsed": false
   },
   "outputs": [
    {
     "name": "stderr",
     "output_type": "stream",
     "text": [
      "/Users/Home/anaconda/lib/python2.7/site-packages/matplotlib/font_manager.py:273: UserWarning: Matplotlib is building the font cache using fc-list. This may take a moment.\n",
      "  warnings.warn('Matplotlib is building the font cache using fc-list. This may take a moment.')\n"
     ]
    }
   ],
   "source": [
    "%matplotlib inline\n",
    "import matplotlib.pyplot as plt\n",
    "import pandas as pd\n",
    "import seaborn as sns"
   ]
  },
  {
   "cell_type": "code",
   "execution_count": 8,
   "metadata": {
    "collapsed": true
   },
   "outputs": [],
   "source": [
    "fn = 'rpt.00013424.0000000000000000.20141016.182537070.ERCOT_2009_Hourly_Wind_Output.xls'\n",
    "df = pd.read_excel(fn, sn='2009')"
   ]
  },
  {
   "cell_type": "code",
   "execution_count": 9,
   "metadata": {
    "collapsed": false
   },
   "outputs": [
    {
     "data": {
      "text/html": [
       "<div>\n",
       "<table border=\"1\" class=\"dataframe\">\n",
       "  <thead>\n",
       "    <tr style=\"text-align: right;\">\n",
       "      <th></th>\n",
       "      <th>ERCOT Load</th>\n",
       "      <th>Installed Wind Capacity</th>\n",
       "      <th>Hourly Wind Output</th>\n",
       "      <th>% Installed Wind Capacity</th>\n",
       "      <th>Wind % of ERCOT Load</th>\n",
       "      <th>Wind Change from Previous Hour</th>\n",
       "      <th>% of Hourly Wind Change</th>\n",
       "      <th>Wind Daily Change on Hour</th>\n",
       "      <th>% of Daily Wind Change</th>\n",
       "    </tr>\n",
       "  </thead>\n",
       "  <tbody>\n",
       "    <tr>\n",
       "      <th>2009-01-01 00:00:00</th>\n",
       "      <td>28505.482422</td>\n",
       "      <td>8111</td>\n",
       "      <td>3013.196284</td>\n",
       "      <td>37.149504</td>\n",
       "      <td>10.570585</td>\n",
       "      <td>NaN</td>\n",
       "      <td>NaN</td>\n",
       "      <td>NaN</td>\n",
       "      <td>NaN</td>\n",
       "    </tr>\n",
       "    <tr>\n",
       "      <th>2009-01-01 01:00:00</th>\n",
       "      <td>27958.261719</td>\n",
       "      <td>8111</td>\n",
       "      <td>3438.198194</td>\n",
       "      <td>42.389326</td>\n",
       "      <td>12.297611</td>\n",
       "      <td>425.001911</td>\n",
       "      <td>14.104687</td>\n",
       "      <td>NaN</td>\n",
       "      <td>NaN</td>\n",
       "    </tr>\n",
       "    <tr>\n",
       "      <th>2009-01-01 02:00:00</th>\n",
       "      <td>27659.359375</td>\n",
       "      <td>8111</td>\n",
       "      <td>3743.784748</td>\n",
       "      <td>46.156883</td>\n",
       "      <td>13.535327</td>\n",
       "      <td>305.586554</td>\n",
       "      <td>8.887985</td>\n",
       "      <td>NaN</td>\n",
       "      <td>NaN</td>\n",
       "    </tr>\n",
       "    <tr>\n",
       "      <th>2009-01-01 03:00:00</th>\n",
       "      <td>27448.425781</td>\n",
       "      <td>8111</td>\n",
       "      <td>3599.891448</td>\n",
       "      <td>44.382831</td>\n",
       "      <td>13.115111</td>\n",
       "      <td>-143.893300</td>\n",
       "      <td>-3.843525</td>\n",
       "      <td>NaN</td>\n",
       "      <td>NaN</td>\n",
       "    </tr>\n",
       "    <tr>\n",
       "      <th>2009-01-01 04:00:00</th>\n",
       "      <td>27563.148438</td>\n",
       "      <td>8111</td>\n",
       "      <td>3887.457934</td>\n",
       "      <td>47.928220</td>\n",
       "      <td>14.103824</td>\n",
       "      <td>287.566486</td>\n",
       "      <td>7.988199</td>\n",
       "      <td>NaN</td>\n",
       "      <td>NaN</td>\n",
       "    </tr>\n",
       "  </tbody>\n",
       "</table>\n",
       "</div>"
      ],
      "text/plain": [
       "                       ERCOT Load  Installed Wind Capacity  \\\n",
       "2009-01-01 00:00:00  28505.482422                     8111   \n",
       "2009-01-01 01:00:00  27958.261719                     8111   \n",
       "2009-01-01 02:00:00  27659.359375                     8111   \n",
       "2009-01-01 03:00:00  27448.425781                     8111   \n",
       "2009-01-01 04:00:00  27563.148438                     8111   \n",
       "\n",
       "                     Hourly Wind Output  % Installed Wind Capacity  \\\n",
       "2009-01-01 00:00:00         3013.196284                  37.149504   \n",
       "2009-01-01 01:00:00         3438.198194                  42.389326   \n",
       "2009-01-01 02:00:00         3743.784748                  46.156883   \n",
       "2009-01-01 03:00:00         3599.891448                  44.382831   \n",
       "2009-01-01 04:00:00         3887.457934                  47.928220   \n",
       "\n",
       "                     Wind % of ERCOT Load  Wind Change from Previous Hour  \\\n",
       "2009-01-01 00:00:00             10.570585                             NaN   \n",
       "2009-01-01 01:00:00             12.297611                      425.001911   \n",
       "2009-01-01 02:00:00             13.535327                      305.586554   \n",
       "2009-01-01 03:00:00             13.115111                     -143.893300   \n",
       "2009-01-01 04:00:00             14.103824                      287.566486   \n",
       "\n",
       "                     % of Hourly Wind Change  Wind Daily Change on Hour  \\\n",
       "2009-01-01 00:00:00                      NaN                        NaN   \n",
       "2009-01-01 01:00:00                14.104687                        NaN   \n",
       "2009-01-01 02:00:00                 8.887985                        NaN   \n",
       "2009-01-01 03:00:00                -3.843525                        NaN   \n",
       "2009-01-01 04:00:00                 7.988199                        NaN   \n",
       "\n",
       "                     % of Daily Wind Change  \n",
       "2009-01-01 00:00:00                     NaN  \n",
       "2009-01-01 01:00:00                     NaN  \n",
       "2009-01-01 02:00:00                     NaN  \n",
       "2009-01-01 03:00:00                     NaN  \n",
       "2009-01-01 04:00:00                     NaN  "
      ]
     },
     "execution_count": 9,
     "metadata": {},
     "output_type": "execute_result"
    }
   ],
   "source": [
    "df.head()"
   ]
  },
  {
   "cell_type": "code",
   "execution_count": 11,
   "metadata": {
    "collapsed": false
   },
   "outputs": [
    {
     "data": {
      "text/plain": [
       "pandas.tseries.index.DatetimeIndex"
      ]
     },
     "execution_count": 11,
     "metadata": {},
     "output_type": "execute_result"
    }
   ],
   "source": [
    "type(df.index)"
   ]
  },
  {
   "cell_type": "code",
   "execution_count": 12,
   "metadata": {
    "collapsed": false
   },
   "outputs": [
    {
     "data": {
      "text/plain": [
       "array([ 0,  1,  2, ..., 21, 22, 23], dtype=int32)"
      ]
     },
     "execution_count": 12,
     "metadata": {},
     "output_type": "execute_result"
    }
   ],
   "source": [
    "df.index.hour"
   ]
  },
  {
   "cell_type": "code",
   "execution_count": 13,
   "metadata": {
    "collapsed": true
   },
   "outputs": [],
   "source": [
    "df['hour'] = df.index.hour"
   ]
  },
  {
   "cell_type": "code",
   "execution_count": 14,
   "metadata": {
    "collapsed": false
   },
   "outputs": [
    {
     "data": {
      "text/html": [
       "<div>\n",
       "<table border=\"1\" class=\"dataframe\">\n",
       "  <thead>\n",
       "    <tr style=\"text-align: right;\">\n",
       "      <th></th>\n",
       "      <th>ERCOT Load</th>\n",
       "      <th>Installed Wind Capacity</th>\n",
       "      <th>Hourly Wind Output</th>\n",
       "      <th>% Installed Wind Capacity</th>\n",
       "      <th>Wind % of ERCOT Load</th>\n",
       "      <th>Wind Change from Previous Hour</th>\n",
       "      <th>% of Hourly Wind Change</th>\n",
       "      <th>Wind Daily Change on Hour</th>\n",
       "      <th>% of Daily Wind Change</th>\n",
       "      <th>hour</th>\n",
       "    </tr>\n",
       "  </thead>\n",
       "  <tbody>\n",
       "    <tr>\n",
       "      <th>2009-01-01 00:00:00</th>\n",
       "      <td>28505.482422</td>\n",
       "      <td>8111</td>\n",
       "      <td>3013.196284</td>\n",
       "      <td>37.149504</td>\n",
       "      <td>10.570585</td>\n",
       "      <td>NaN</td>\n",
       "      <td>NaN</td>\n",
       "      <td>NaN</td>\n",
       "      <td>NaN</td>\n",
       "      <td>0</td>\n",
       "    </tr>\n",
       "    <tr>\n",
       "      <th>2009-01-01 01:00:00</th>\n",
       "      <td>27958.261719</td>\n",
       "      <td>8111</td>\n",
       "      <td>3438.198194</td>\n",
       "      <td>42.389326</td>\n",
       "      <td>12.297611</td>\n",
       "      <td>425.001911</td>\n",
       "      <td>14.104687</td>\n",
       "      <td>NaN</td>\n",
       "      <td>NaN</td>\n",
       "      <td>1</td>\n",
       "    </tr>\n",
       "    <tr>\n",
       "      <th>2009-01-01 02:00:00</th>\n",
       "      <td>27659.359375</td>\n",
       "      <td>8111</td>\n",
       "      <td>3743.784748</td>\n",
       "      <td>46.156883</td>\n",
       "      <td>13.535327</td>\n",
       "      <td>305.586554</td>\n",
       "      <td>8.887985</td>\n",
       "      <td>NaN</td>\n",
       "      <td>NaN</td>\n",
       "      <td>2</td>\n",
       "    </tr>\n",
       "    <tr>\n",
       "      <th>2009-01-01 03:00:00</th>\n",
       "      <td>27448.425781</td>\n",
       "      <td>8111</td>\n",
       "      <td>3599.891448</td>\n",
       "      <td>44.382831</td>\n",
       "      <td>13.115111</td>\n",
       "      <td>-143.893300</td>\n",
       "      <td>-3.843525</td>\n",
       "      <td>NaN</td>\n",
       "      <td>NaN</td>\n",
       "      <td>3</td>\n",
       "    </tr>\n",
       "    <tr>\n",
       "      <th>2009-01-01 04:00:00</th>\n",
       "      <td>27563.148438</td>\n",
       "      <td>8111</td>\n",
       "      <td>3887.457934</td>\n",
       "      <td>47.928220</td>\n",
       "      <td>14.103824</td>\n",
       "      <td>287.566486</td>\n",
       "      <td>7.988199</td>\n",
       "      <td>NaN</td>\n",
       "      <td>NaN</td>\n",
       "      <td>4</td>\n",
       "    </tr>\n",
       "  </tbody>\n",
       "</table>\n",
       "</div>"
      ],
      "text/plain": [
       "                       ERCOT Load  Installed Wind Capacity  \\\n",
       "2009-01-01 00:00:00  28505.482422                     8111   \n",
       "2009-01-01 01:00:00  27958.261719                     8111   \n",
       "2009-01-01 02:00:00  27659.359375                     8111   \n",
       "2009-01-01 03:00:00  27448.425781                     8111   \n",
       "2009-01-01 04:00:00  27563.148438                     8111   \n",
       "\n",
       "                     Hourly Wind Output  % Installed Wind Capacity  \\\n",
       "2009-01-01 00:00:00         3013.196284                  37.149504   \n",
       "2009-01-01 01:00:00         3438.198194                  42.389326   \n",
       "2009-01-01 02:00:00         3743.784748                  46.156883   \n",
       "2009-01-01 03:00:00         3599.891448                  44.382831   \n",
       "2009-01-01 04:00:00         3887.457934                  47.928220   \n",
       "\n",
       "                     Wind % of ERCOT Load  Wind Change from Previous Hour  \\\n",
       "2009-01-01 00:00:00             10.570585                             NaN   \n",
       "2009-01-01 01:00:00             12.297611                      425.001911   \n",
       "2009-01-01 02:00:00             13.535327                      305.586554   \n",
       "2009-01-01 03:00:00             13.115111                     -143.893300   \n",
       "2009-01-01 04:00:00             14.103824                      287.566486   \n",
       "\n",
       "                     % of Hourly Wind Change  Wind Daily Change on Hour  \\\n",
       "2009-01-01 00:00:00                      NaN                        NaN   \n",
       "2009-01-01 01:00:00                14.104687                        NaN   \n",
       "2009-01-01 02:00:00                 8.887985                        NaN   \n",
       "2009-01-01 03:00:00                -3.843525                        NaN   \n",
       "2009-01-01 04:00:00                 7.988199                        NaN   \n",
       "\n",
       "                     % of Daily Wind Change  hour  \n",
       "2009-01-01 00:00:00                     NaN     0  \n",
       "2009-01-01 01:00:00                     NaN     1  \n",
       "2009-01-01 02:00:00                     NaN     2  \n",
       "2009-01-01 03:00:00                     NaN     3  \n",
       "2009-01-01 04:00:00                     NaN     4  "
      ]
     },
     "execution_count": 14,
     "metadata": {},
     "output_type": "execute_result"
    }
   ],
   "source": [
    "df.head()"
   ]
  },
  {
   "cell_type": "code",
   "execution_count": 22,
   "metadata": {
    "collapsed": false
   },
   "outputs": [
    {
     "data": {
      "image/png": "[encoded data removed]",
      "text/plain": [
       "<matplotlib.figure.Figure at 0x118f44150>"
      ]
     },
     "metadata": {},
     "output_type": "display_data"
    }
   ],
   "source": [
    "sns.factorplot('hour', '% Installed Wind Capacity', data=df, aspect=1.5)\n",
    "plt.title('2009 Wind Capacity by Hour of Day')\n",
    "plt.savefig('2009 Wind Capacity by Hour of Day.pdf')"
   ]
  },
  {
   "cell_type": "code",
   "execution_count": null,
   "metadata": {
    "collapsed": true
   },
   "outputs": [],
   "source": []
  }
 ],
 "metadata": {
  "kernelspec": {
   "display_name": "Python 2",
   "language": "python",
   "name": "python2"
  },
  "language_info": {
   "codemirror_mode": {
    "name": "ipython",
    "version": 2
   },
   "file_extension": ".py",
   "mimetype": "text/x-python",
   "name": "python",
   "nbconvert_exporter": "python",
   "pygments_lexer": "ipython2",
   "version": "2.7.12"
  },
  "widgets": {
   "state": {},
   "version": "1.1.2"
  }
 },
 "nbformat": 4,
 "nbformat_minor": 1
}
