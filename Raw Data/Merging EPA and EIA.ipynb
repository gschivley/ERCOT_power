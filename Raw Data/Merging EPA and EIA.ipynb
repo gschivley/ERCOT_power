{
 "cells": [
  {
   "cell_type": "markdown",
   "metadata": {},
   "source": [
    "# TODO:\n",
    "\n",
    "1. Verify that the merge result is as expected.  I noticed that when I checked the length of the EPA for a 6-month period, the length was longer than the post-merge 6-month period.  This implies that the EIA data doesn't have some facilities that are listed in EPA.  I haven't verified this though.\n",
    "\n",
    "2. NaN values also need to be replaced with 0's.\n",
    "\n",
    "3. Numbers are being stored in scientific notation"
   ]
  },
  {
   "cell_type": "code",
   "execution_count": 1,
   "metadata": {
    "collapsed": true
   },
   "outputs": [],
   "source": [
    "import pandas as pd\n",
    "import os\n",
    "import glob\n",
    "import re"
   ]
  },
  {
   "cell_type": "markdown",
   "metadata": {},
   "source": [
    "Loading the EIA Data, the path may need to be updated...\n",
    "This will take a few minutes to run."
   ]
  },
  {
   "cell_type": "code",
   "execution_count": 2,
   "metadata": {
    "collapsed": false
   },
   "outputs": [],
   "source": [
    "#Iterate through the directory to find all the files to import\n",
    "#Modified so that it also works on macs\n",
    "path = os.path.join('EIA Data', '923-No_Header')\n",
    "full_path = os.path.join(path, '*.*')\n",
    "\n",
    "\n",
    "eiaNames = os.listdir(path)\n",
    "\n",
    "#Rename the keys for easier merging later\n",
    "fileNameMap = {'EIA923 SCHEDULES 2_3_4_5 Final 2010.xls':2010,\n",
    "                'EIA923 SCHEDULES 2_3_4_5 M Final 2009 REVISED 05252011.XLS':2009,\n",
    "                'eia923December2008.xls':2008,\n",
    "                'EIA923_Schedules_2_3_4_5_2011_Final_Revision.xlsx':2011,\n",
    "                'EIA923_Schedules_2_3_4_5_2012_Final_Release_12.04.2013.xlsx':2012,\n",
    "                'EIA923_Schedules_2_3_4_5_2013_Final_Revision.xlsx':2013,\n",
    "                'EIA923_Schedules_2_3_4_5_M_12_2014_Final_Revision.xlsx':2014,\n",
    "                'EIA923_Schedules_2_3_4_5_M_12_2015_Final.xlsx':2015,\n",
    "                'f906920_2007.xls':2007}\n",
    "\n",
    "#Load the files into data frames, one df per file\n",
    "eiaDict = {fileNameMap[fn]:pd.read_excel(os.path.join(path, fn)) for fn in eiaNames}\n",
    "eiaDict = {key:val[val[\"NERC Region\"] == \"TRE\"] for key, val in eiaDict.iteritems()}"
   ]
  },
  {
   "cell_type": "markdown",
   "metadata": {},
   "source": [
    "The excel documents have different column names so we need to standardize them all"
   ]
  },
  {
   "cell_type": "code",
   "execution_count": 3,
   "metadata": {
    "collapsed": true
   },
   "outputs": [],
   "source": [
    "#Dict of values to replace to standardize column names across all dataframes\n",
    "monthDict = {\"JANUARY\":\"JAN\",\n",
    "           \"FEBRUARY\":\"FEB\",\n",
    "           \"MARCH\":\"MAR\",\n",
    "           \"APRIL\":\"APR\",\n",
    "           \"MAY\":\"MAY\",\n",
    "           \"JUNE\":\"JUN\",\n",
    "           \"JULY\":\"JUL\",\n",
    "           \"AUGUST\":\"AUG\",\n",
    "           \"SEPTEMBER\":\"SEP\",\n",
    "           \"OCTOBER\":\"OCT\",\n",
    "           \"NOVEMBER\":\"NOV\",\n",
    "           \"DECEMBER\":\"DEC\"}\n",
    "           \n",
    "replaceDict = {\"ELECTRIC\":\"ELEC\",\n",
    "               \"&\":\"AND\",\n",
    "               \"I.D.\":\"ID\",\n",
    "               \"MMBTUPER\":\"MMBTU_PER\"}\n",
    "               \n",
    "#Add \"MMBTUMON\" : \"MMBTU_MON\" to be replaced\n",
    "for month in monthDict.values():\n",
    "    replaceDict[\"MMBTU\"+month] = \"MMBTU_\" + month\n",
    "\n",
    "#Replace the column name\n",
    "def rename(col):\n",
    "    for old, new in monthDict.iteritems():\n",
    "        col = col.replace(old, new)\n",
    "        \n",
    "    for old, new in replaceDict.iteritems():\n",
    "        col = col.replace(old, new)\n",
    "        \n",
    "    col = col.replace(\"MMBTUS\", \"MMBTU\")\n",
    "    return col\n",
    "    \n",
    "#Iterate through each column name of each dataframe to standardize\n",
    "for key, df in eiaDict.iteritems():\n",
    "    colNames = [name.replace(\"\\n\", \"_\").replace(\" \", \"_\").strip().upper() for name in df.columns]\n",
    "    colNames = [rename(col) for col in colNames]\n",
    "    eiaDict[key].columns = colNames"
   ]
  },
  {
   "cell_type": "markdown",
   "metadata": {},
   "source": [
    "Define which columns we need to sum, and which columns don't need to be summed, but we still need to keep.\n",
    "\n",
    "Note: If we don't care about monthly stuff we can delete the second block of code."
   ]
  },
  {
   "cell_type": "code",
   "execution_count": 6,
   "metadata": {
    "collapsed": false
   },
   "outputs": [],
   "source": [
    "#Define the columns that are necessary but are not summable\n",
    "allCols = eiaDict[fileNameMap.values()[0]].columns\n",
    "nonSumCols = [\"PLANT_ID\", \"PLANT_NAME\", \"YEAR\"]\n",
    "\n",
    "#Define the columns that contain the year's totals (Used to calc fuel type %)\n",
    "yearCols = [\"TOTAL_FUEL_CONSUMPTION_QUANTITY\", \"ELEC_FUEL_CONSUMPTION_QUANTITY\",\n",
    "            \"TOTAL_FUEL_CONSUMPTION_MMBTU\", \"ELEC_FUEL_CONSUMPTION_MMBTU\",\n",
    "            \"NET_GENERATION_(MEGAWATTHOURS)\"]\n",
    "\n",
    "\n",
    "#Define the columns that are necessary and summable\n",
    "sumCols = []\n",
    "sumCols.extend(yearCols)\n",
    "# regex = re.compile(r\"^ELEC_QUANTITY_.*\")\n",
    "# sumCols.extend([col for col in allCols if regex.search(col)])\n",
    "regex = re.compile(r\"^MMBTU_PER_UNIT_.*\")\n",
    "sumCols.extend([col for col in allCols if regex.search(col)])\n",
    "regex = re.compile(r\"^TOT_MMBTU_.*\")\n",
    "sumCols.extend([col for col in allCols if regex.search(col)])\n",
    "regex = re.compile(r\"^ELEC_MMBTUS_.*\")\n",
    "sumCols.extend([col for col in allCols if regex.search(col)])\n",
    "regex = re.compile(r\"^NETGEN_.*\")\n",
    "sumCols.extend([col for col in allCols if regex.search(col)])"
   ]
  },
  {
   "cell_type": "markdown",
   "metadata": {},
   "source": [
    "Get a list of all the different fuel type codes.  If we don't care about all of them, then just hardcode the list"
   ]
  },
  {
   "cell_type": "code",
   "execution_count": 5,
   "metadata": {
    "collapsed": true
   },
   "outputs": [],
   "source": [
    "fuelTypes = []\n",
    "fuelTypes.extend([fuelType for df in eiaDict.values() for fuelType in df[\"REPORTED_FUEL_TYPE_CODE\"].tolist()])\n",
    "fuelTypes = set(fuelTypes)"
   ]
  },
  {
   "cell_type": "code",
   "execution_count": null,
   "metadata": {
    "collapsed": false
   },
   "outputs": [],
   "source": [
    "fuelTypes"
   ]
  },
  {
   "cell_type": "markdown",
   "metadata": {},
   "source": [
    "3 parts to aggregate by facility, and to calculate the % of each type of fuel.  This will take a few minutes to run.\n",
    "\n",
    "The end result is aggEIADict."
   ]
  },
  {
   "cell_type": "code",
   "execution_count": 7,
   "metadata": {
    "collapsed": false
   },
   "outputs": [],
   "source": [
    "#Actually calculate the % type for each facility grouping\n",
    "def calcPerc(group, aggGroup, fuelType, col):\n",
    "    #Check to see if the facility has a record for the fuel type, and if the total column > 0\n",
    "    if len(group[group[\"REPORTED_FUEL_TYPE_CODE\"] == fuelType]) > 0 and aggGroup[col] > 0:\n",
    "        #summing fuel type because a facility may have multiple plants with the same fuel type        \n",
    "        return float((group[group[\"REPORTED_FUEL_TYPE_CODE\"] == fuelType][col]).sum())/aggGroup[col] \n",
    "    else:\n",
    "        return 0\n",
    "\n",
    "#Perform the aggregation on facility level\n",
    "def aggAndCalcPerc(group):\n",
    "    aggGroup = group.iloc[0][nonSumCols] #Get the non-agg columns\n",
    "    aggGroup = aggGroup.append(group[sumCols].sum())   #Aggregate the agg columns and append to non-agg\n",
    "    percCols = {col + \" %\" + fuelType:calcPerc(group, aggGroup, fuelType, col) for col in yearCols for fuelType in fuelTypes}\n",
    "    aggGroup = aggGroup.append(pd.Series(percCols))\n",
    "    return aggGroup    \n",
    "\n",
    "#Iterate through each dataframe to perform aggregation by facility\n",
    "aggEIADict = dict()\n",
    "for key, df in eiaDict.iteritems():\n",
    "    gb = df.groupby(by=\"PLANT_ID\")\n",
    "    #aggGroup will be a list of panda series, each series representing a facility\n",
    "    aggGroup = [aggAndCalcPerc(gb.get_group(group)) for group in gb.groups]\n",
    "    aggEIADict[key] = pd.DataFrame(aggGroup)"
   ]
  },
  {
   "cell_type": "markdown",
   "metadata": {},
   "source": [
    "Loading the EPA Data, the path may need to be updated..."
   ]
  },
  {
   "cell_type": "code",
   "execution_count": 8,
   "metadata": {
    "collapsed": false
   },
   "outputs": [],
   "source": [
    "#Read the EPA files into a dataframe\n",
    "path2 = os.path.join('EPA air markets')\n",
    "epaNames = os.listdir(path2)\n",
    "filePaths = {dn:os.path.join(path2, dn, \"*.txt\") for dn in epaNames}\n",
    "filePaths = {dn:glob.glob(val) for dn, val in filePaths.iteritems()}\n",
    "epaDict = {key:pd.read_csv(fp, index_col = False) for key, val in filePaths.iteritems() for fp in val}"
   ]
  },
  {
   "cell_type": "markdown",
   "metadata": {},
   "source": [
    "First rename the column name so we can merge on that column, then change the datatype of date to a datetime object"
   ]
  },
  {
   "cell_type": "code",
   "execution_count": 9,
   "metadata": {
    "collapsed": true
   },
   "outputs": [],
   "source": [
    "#Rename the column names to remove the leading space.\n",
    "for key, df in epaDict.iteritems():\n",
    "    colNames = [name.upper().strip() for name in df.columns]\n",
    "    colNames[colNames.index(\"FACILITY ID (ORISPL)\")] = \"PLANT_ID\"\n",
    "    epaDict[key].columns = colNames\n",
    "    \n",
    "#Convert to datetime object\n",
    "for key, df in epaDict.iteritems():\n",
    "    epaDict[key][\"DATE\"] = pd.to_datetime(df[\"DATE\"])"
   ]
  },
  {
   "cell_type": "markdown",
   "metadata": {},
   "source": [
    "The DataFrames in `epaDict` contain all power plants in Texas. We can filter on `NERC REGION` so that it only includes ERCOT."
   ]
  },
  {
   "cell_type": "code",
   "execution_count": 9,
   "metadata": {
    "collapsed": false
   },
   "outputs": [
    {
     "data": {
      "text/plain": [
       "{nan, 'ERCOT', 'SERC', 'SPP', 'WECC'}"
      ]
     },
     "execution_count": 9,
     "metadata": {},
     "output_type": "execute_result"
    }
   ],
   "source": [
    "set(epaDict['2015 July-Dec'].loc[:,'NERC REGION'])"
   ]
  },
  {
   "cell_type": "code",
   "execution_count": 10,
   "metadata": {
    "collapsed": false
   },
   "outputs": [],
   "source": [
    "#Boolean filter to only keep ERCOT plants\n",
    "for key, df in epaDict.iteritems():\n",
    "    epaDict[key] = df[df[\"NERC REGION\"] == \"ERCOT\"].reset_index(drop = True)\n",
    "    "
   ]
  },
  {
   "cell_type": "code",
   "execution_count": 11,
   "metadata": {
    "collapsed": false
   },
   "outputs": [
    {
     "data": {
      "text/plain": [
       "{'ERCOT'}"
      ]
     },
     "execution_count": 11,
     "metadata": {},
     "output_type": "execute_result"
    }
   ],
   "source": [
    "set(epaDict['2015 July-Dec'].loc[:,'NERC REGION'])"
   ]
  },
  {
   "cell_type": "markdown",
   "metadata": {},
   "source": [
    "Finally join the two data sources\n",
    "\n",
    "Switch to an inner join?\n",
    "\n",
    "**No need to join. Can keep them as separate databases, since one is hourly data and the other is annual/monthly** Create a clustering dataframe with index of all plant IDs (from the EPA hourly data), add columns with variables. Calculate the inputs in separate dataframes - example is to calculate ramp rate values in the EPA hourly data, then put the results in the clustering dataframe."
   ]
  },
  {
   "cell_type": "code",
   "execution_count": 12,
   "metadata": {
    "collapsed": false
   },
   "outputs": [],
   "source": [
    "#Join the two data sources on PLANT_ID\n",
    "fullData = {key:df.merge(aggEIADict[df[\"YEAR\"][0]], on=\"PLANT_ID\") for key, df in epaDict.iteritems()}"
   ]
  },
  {
   "cell_type": "code",
   "execution_count": 13,
   "metadata": {
    "collapsed": false
   },
   "outputs": [
    {
     "data": {
      "text/html": [
       "<div>\n",
       "<table border=\"1\" class=\"dataframe\">\n",
       "  <thead>\n",
       "    <tr style=\"text-align: right;\">\n",
       "      <th></th>\n",
       "      <th>STATE</th>\n",
       "      <th>FACILITY NAME</th>\n",
       "      <th>PLANT_ID</th>\n",
       "      <th>YEAR_x</th>\n",
       "      <th>DATE</th>\n",
       "      <th>HOUR</th>\n",
       "      <th>GROSS LOAD (MW)</th>\n",
       "      <th>STEAM LOAD (1000LB/HR)</th>\n",
       "      <th>SO2 (POUNDS)</th>\n",
       "      <th>NOX (POUNDS)</th>\n",
       "      <th>...</th>\n",
       "      <th>TOT_MMBTU_FEB</th>\n",
       "      <th>TOT_MMBTU_JAN</th>\n",
       "      <th>TOT_MMBTU_JUL</th>\n",
       "      <th>TOT_MMBTU_JUN</th>\n",
       "      <th>TOT_MMBTU_MAR</th>\n",
       "      <th>TOT_MMBTU_MAY</th>\n",
       "      <th>TOT_MMBTU_NOV</th>\n",
       "      <th>TOT_MMBTU_OCT</th>\n",
       "      <th>TOT_MMBTU_SEP</th>\n",
       "      <th>YEAR_y</th>\n",
       "    </tr>\n",
       "  </thead>\n",
       "  <tbody>\n",
       "    <tr>\n",
       "      <th>0</th>\n",
       "      <td>TX</td>\n",
       "      <td>Barney M. Davis</td>\n",
       "      <td>4939</td>\n",
       "      <td>2012</td>\n",
       "      <td>2012-01-01</td>\n",
       "      <td>0</td>\n",
       "      <td>NaN</td>\n",
       "      <td>NaN</td>\n",
       "      <td>NaN</td>\n",
       "      <td>NaN</td>\n",
       "      <td>...</td>\n",
       "      <td>1.49482e+06</td>\n",
       "      <td>1.28956e+06</td>\n",
       "      <td>1.98845e+06</td>\n",
       "      <td>2.02212e+06</td>\n",
       "      <td>1.93844e+06</td>\n",
       "      <td>2.06786e+06</td>\n",
       "      <td>905868</td>\n",
       "      <td>1.51242e+06</td>\n",
       "      <td>1.88822e+06</td>\n",
       "      <td>2012</td>\n",
       "    </tr>\n",
       "    <tr>\n",
       "      <th>1</th>\n",
       "      <td>TX</td>\n",
       "      <td>Barney M. Davis</td>\n",
       "      <td>4939</td>\n",
       "      <td>2012</td>\n",
       "      <td>2012-01-01</td>\n",
       "      <td>1</td>\n",
       "      <td>NaN</td>\n",
       "      <td>NaN</td>\n",
       "      <td>NaN</td>\n",
       "      <td>NaN</td>\n",
       "      <td>...</td>\n",
       "      <td>1.49482e+06</td>\n",
       "      <td>1.28956e+06</td>\n",
       "      <td>1.98845e+06</td>\n",
       "      <td>2.02212e+06</td>\n",
       "      <td>1.93844e+06</td>\n",
       "      <td>2.06786e+06</td>\n",
       "      <td>905868</td>\n",
       "      <td>1.51242e+06</td>\n",
       "      <td>1.88822e+06</td>\n",
       "      <td>2012</td>\n",
       "    </tr>\n",
       "    <tr>\n",
       "      <th>2</th>\n",
       "      <td>TX</td>\n",
       "      <td>Barney M. Davis</td>\n",
       "      <td>4939</td>\n",
       "      <td>2012</td>\n",
       "      <td>2012-01-01</td>\n",
       "      <td>2</td>\n",
       "      <td>NaN</td>\n",
       "      <td>NaN</td>\n",
       "      <td>NaN</td>\n",
       "      <td>NaN</td>\n",
       "      <td>...</td>\n",
       "      <td>1.49482e+06</td>\n",
       "      <td>1.28956e+06</td>\n",
       "      <td>1.98845e+06</td>\n",
       "      <td>2.02212e+06</td>\n",
       "      <td>1.93844e+06</td>\n",
       "      <td>2.06786e+06</td>\n",
       "      <td>905868</td>\n",
       "      <td>1.51242e+06</td>\n",
       "      <td>1.88822e+06</td>\n",
       "      <td>2012</td>\n",
       "    </tr>\n",
       "    <tr>\n",
       "      <th>3</th>\n",
       "      <td>TX</td>\n",
       "      <td>Barney M. Davis</td>\n",
       "      <td>4939</td>\n",
       "      <td>2012</td>\n",
       "      <td>2012-01-01</td>\n",
       "      <td>3</td>\n",
       "      <td>NaN</td>\n",
       "      <td>NaN</td>\n",
       "      <td>NaN</td>\n",
       "      <td>NaN</td>\n",
       "      <td>...</td>\n",
       "      <td>1.49482e+06</td>\n",
       "      <td>1.28956e+06</td>\n",
       "      <td>1.98845e+06</td>\n",
       "      <td>2.02212e+06</td>\n",
       "      <td>1.93844e+06</td>\n",
       "      <td>2.06786e+06</td>\n",
       "      <td>905868</td>\n",
       "      <td>1.51242e+06</td>\n",
       "      <td>1.88822e+06</td>\n",
       "      <td>2012</td>\n",
       "    </tr>\n",
       "    <tr>\n",
       "      <th>4</th>\n",
       "      <td>TX</td>\n",
       "      <td>Barney M. Davis</td>\n",
       "      <td>4939</td>\n",
       "      <td>2012</td>\n",
       "      <td>2012-01-01</td>\n",
       "      <td>4</td>\n",
       "      <td>NaN</td>\n",
       "      <td>NaN</td>\n",
       "      <td>NaN</td>\n",
       "      <td>NaN</td>\n",
       "      <td>...</td>\n",
       "      <td>1.49482e+06</td>\n",
       "      <td>1.28956e+06</td>\n",
       "      <td>1.98845e+06</td>\n",
       "      <td>2.02212e+06</td>\n",
       "      <td>1.93844e+06</td>\n",
       "      <td>2.06786e+06</td>\n",
       "      <td>905868</td>\n",
       "      <td>1.51242e+06</td>\n",
       "      <td>1.88822e+06</td>\n",
       "      <td>2012</td>\n",
       "    </tr>\n",
       "  </tbody>\n",
       "</table>\n",
       "<p>5 rows × 202 columns</p>\n",
       "</div>"
      ],
      "text/plain": [
       "  STATE    FACILITY NAME  PLANT_ID  YEAR_x       DATE  HOUR  GROSS LOAD (MW)  \\\n",
       "0    TX  Barney M. Davis      4939    2012 2012-01-01     0              NaN   \n",
       "1    TX  Barney M. Davis      4939    2012 2012-01-01     1              NaN   \n",
       "2    TX  Barney M. Davis      4939    2012 2012-01-01     2              NaN   \n",
       "3    TX  Barney M. Davis      4939    2012 2012-01-01     3              NaN   \n",
       "4    TX  Barney M. Davis      4939    2012 2012-01-01     4              NaN   \n",
       "\n",
       "   STEAM LOAD (1000LB/HR)  SO2 (POUNDS)  NOX (POUNDS)   ...    TOT_MMBTU_FEB  \\\n",
       "0                     NaN           NaN           NaN   ...      1.49482e+06   \n",
       "1                     NaN           NaN           NaN   ...      1.49482e+06   \n",
       "2                     NaN           NaN           NaN   ...      1.49482e+06   \n",
       "3                     NaN           NaN           NaN   ...      1.49482e+06   \n",
       "4                     NaN           NaN           NaN   ...      1.49482e+06   \n",
       "\n",
       "   TOT_MMBTU_JAN  TOT_MMBTU_JUL TOT_MMBTU_JUN TOT_MMBTU_MAR  TOT_MMBTU_MAY  \\\n",
       "0    1.28956e+06    1.98845e+06   2.02212e+06   1.93844e+06    2.06786e+06   \n",
       "1    1.28956e+06    1.98845e+06   2.02212e+06   1.93844e+06    2.06786e+06   \n",
       "2    1.28956e+06    1.98845e+06   2.02212e+06   1.93844e+06    2.06786e+06   \n",
       "3    1.28956e+06    1.98845e+06   2.02212e+06   1.93844e+06    2.06786e+06   \n",
       "4    1.28956e+06    1.98845e+06   2.02212e+06   1.93844e+06    2.06786e+06   \n",
       "\n",
       "   TOT_MMBTU_NOV  TOT_MMBTU_OCT  TOT_MMBTU_SEP  YEAR_y  \n",
       "0         905868    1.51242e+06    1.88822e+06    2012  \n",
       "1         905868    1.51242e+06    1.88822e+06    2012  \n",
       "2         905868    1.51242e+06    1.88822e+06    2012  \n",
       "3         905868    1.51242e+06    1.88822e+06    2012  \n",
       "4         905868    1.51242e+06    1.88822e+06    2012  \n",
       "\n",
       "[5 rows x 202 columns]"
      ]
     },
     "execution_count": 13,
     "metadata": {},
     "output_type": "execute_result"
    }
   ],
   "source": [
    "fullData[fullData.keys()[0]].head()"
   ]
  },
  {
   "cell_type": "markdown",
   "metadata": {},
   "source": [
    "BIT, SUB, LIG, NG, DFO, RFO"
   ]
  },
  {
   "cell_type": "code",
   "execution_count": 17,
   "metadata": {
    "collapsed": false
   },
   "outputs": [
    {
     "data": {
      "text/plain": [
       "['STATE',\n",
       " 'FACILITY NAME',\n",
       " 'PLANT_ID',\n",
       " 'YEAR_x',\n",
       " 'DATE',\n",
       " 'HOUR',\n",
       " 'GROSS LOAD (MW)',\n",
       " 'STEAM LOAD (1000LB/HR)',\n",
       " 'SO2 (POUNDS)',\n",
       " 'NOX (POUNDS)',\n",
       " 'CO2 (SHORT TONS)',\n",
       " 'HEAT INPUT (MMBTU)',\n",
       " 'EPA REGION',\n",
       " 'NERC REGION',\n",
       " 'COUNTY',\n",
       " 'FACILITY LATITUDE',\n",
       " 'FACILITY LONGITUDE',\n",
       " u'ELEC_FUEL_CONSUMPTION_MMBTU',\n",
       " u'ELEC_FUEL_CONSUMPTION_MMBTU %AB',\n",
       " u'ELEC_FUEL_CONSUMPTION_MMBTU %BIT',\n",
       " u'ELEC_FUEL_CONSUMPTION_MMBTU %BLQ',\n",
       " u'ELEC_FUEL_CONSUMPTION_MMBTU %DFO',\n",
       " u'ELEC_FUEL_CONSUMPTION_MMBTU %JF',\n",
       " u'ELEC_FUEL_CONSUMPTION_MMBTU %LFG',\n",
       " u'ELEC_FUEL_CONSUMPTION_MMBTU %LIG',\n",
       " u'ELEC_FUEL_CONSUMPTION_MMBTU %MWH',\n",
       " u'ELEC_FUEL_CONSUMPTION_MMBTU %NG',\n",
       " u'ELEC_FUEL_CONSUMPTION_MMBTU %NUC',\n",
       " u'ELEC_FUEL_CONSUMPTION_MMBTU %OBG',\n",
       " u'ELEC_FUEL_CONSUMPTION_MMBTU %OBL',\n",
       " u'ELEC_FUEL_CONSUMPTION_MMBTU %OBS',\n",
       " u'ELEC_FUEL_CONSUMPTION_MMBTU %OG',\n",
       " u'ELEC_FUEL_CONSUMPTION_MMBTU %OTH',\n",
       " u'ELEC_FUEL_CONSUMPTION_MMBTU %PC',\n",
       " u'ELEC_FUEL_CONSUMPTION_MMBTU %PUR',\n",
       " u'ELEC_FUEL_CONSUMPTION_MMBTU %RFO',\n",
       " u'ELEC_FUEL_CONSUMPTION_MMBTU %SC',\n",
       " u'ELEC_FUEL_CONSUMPTION_MMBTU %SUB',\n",
       " u'ELEC_FUEL_CONSUMPTION_MMBTU %SUN',\n",
       " u'ELEC_FUEL_CONSUMPTION_MMBTU %WAT',\n",
       " u'ELEC_FUEL_CONSUMPTION_MMBTU %WDS',\n",
       " u'ELEC_FUEL_CONSUMPTION_MMBTU %WH',\n",
       " u'ELEC_FUEL_CONSUMPTION_MMBTU %WND',\n",
       " u'ELEC_FUEL_CONSUMPTION_MMBTU %WO',\n",
       " u'ELEC_FUEL_CONSUMPTION_QUANTITY',\n",
       " u'ELEC_FUEL_CONSUMPTION_QUANTITY %AB',\n",
       " u'ELEC_FUEL_CONSUMPTION_QUANTITY %BIT',\n",
       " u'ELEC_FUEL_CONSUMPTION_QUANTITY %BLQ',\n",
       " u'ELEC_FUEL_CONSUMPTION_QUANTITY %DFO',\n",
       " u'ELEC_FUEL_CONSUMPTION_QUANTITY %JF',\n",
       " u'ELEC_FUEL_CONSUMPTION_QUANTITY %LFG',\n",
       " u'ELEC_FUEL_CONSUMPTION_QUANTITY %LIG',\n",
       " u'ELEC_FUEL_CONSUMPTION_QUANTITY %MWH',\n",
       " u'ELEC_FUEL_CONSUMPTION_QUANTITY %NG',\n",
       " u'ELEC_FUEL_CONSUMPTION_QUANTITY %NUC',\n",
       " u'ELEC_FUEL_CONSUMPTION_QUANTITY %OBG',\n",
       " u'ELEC_FUEL_CONSUMPTION_QUANTITY %OBL',\n",
       " u'ELEC_FUEL_CONSUMPTION_QUANTITY %OBS',\n",
       " u'ELEC_FUEL_CONSUMPTION_QUANTITY %OG',\n",
       " u'ELEC_FUEL_CONSUMPTION_QUANTITY %OTH',\n",
       " u'ELEC_FUEL_CONSUMPTION_QUANTITY %PC',\n",
       " u'ELEC_FUEL_CONSUMPTION_QUANTITY %PUR',\n",
       " u'ELEC_FUEL_CONSUMPTION_QUANTITY %RFO',\n",
       " u'ELEC_FUEL_CONSUMPTION_QUANTITY %SC',\n",
       " u'ELEC_FUEL_CONSUMPTION_QUANTITY %SUB',\n",
       " u'ELEC_FUEL_CONSUMPTION_QUANTITY %SUN',\n",
       " u'ELEC_FUEL_CONSUMPTION_QUANTITY %WAT',\n",
       " u'ELEC_FUEL_CONSUMPTION_QUANTITY %WDS',\n",
       " u'ELEC_FUEL_CONSUMPTION_QUANTITY %WH',\n",
       " u'ELEC_FUEL_CONSUMPTION_QUANTITY %WND',\n",
       " u'ELEC_FUEL_CONSUMPTION_QUANTITY %WO',\n",
       " u'ELEC_QUANTITY_APR',\n",
       " u'ELEC_QUANTITY_AUG',\n",
       " u'ELEC_QUANTITY_DEC',\n",
       " u'ELEC_QUANTITY_FEB',\n",
       " u'ELEC_QUANTITY_JAN',\n",
       " u'ELEC_QUANTITY_JUL',\n",
       " u'ELEC_QUANTITY_JUN',\n",
       " u'ELEC_QUANTITY_MAR',\n",
       " u'ELEC_QUANTITY_MAY',\n",
       " u'ELEC_QUANTITY_NOV',\n",
       " u'ELEC_QUANTITY_OCT',\n",
       " u'ELEC_QUANTITY_SEP',\n",
       " u'MMBTU_PER_UNIT_APR',\n",
       " u'MMBTU_PER_UNIT_AUG',\n",
       " u'MMBTU_PER_UNIT_DEC',\n",
       " u'MMBTU_PER_UNIT_FEB',\n",
       " u'MMBTU_PER_UNIT_JAN',\n",
       " u'MMBTU_PER_UNIT_JUL',\n",
       " u'MMBTU_PER_UNIT_JUN',\n",
       " u'MMBTU_PER_UNIT_MAR',\n",
       " u'MMBTU_PER_UNIT_MAY',\n",
       " u'MMBTU_PER_UNIT_NOV',\n",
       " u'MMBTU_PER_UNIT_OCT',\n",
       " u'MMBTU_PER_UNIT_SEP',\n",
       " u'NETGEN_APR',\n",
       " u'NETGEN_AUG',\n",
       " u'NETGEN_DEC',\n",
       " u'NETGEN_FEB',\n",
       " u'NETGEN_JAN',\n",
       " u'NETGEN_JUL',\n",
       " u'NETGEN_JUN',\n",
       " u'NETGEN_MAR',\n",
       " u'NETGEN_MAY',\n",
       " u'NETGEN_NOV',\n",
       " u'NETGEN_OCT',\n",
       " u'NETGEN_SEP',\n",
       " u'NET_GENERATION_(MEGAWATTHOURS)',\n",
       " u'NET_GENERATION_(MEGAWATTHOURS) %AB',\n",
       " u'NET_GENERATION_(MEGAWATTHOURS) %BIT',\n",
       " u'NET_GENERATION_(MEGAWATTHOURS) %BLQ',\n",
       " u'NET_GENERATION_(MEGAWATTHOURS) %DFO',\n",
       " u'NET_GENERATION_(MEGAWATTHOURS) %JF',\n",
       " u'NET_GENERATION_(MEGAWATTHOURS) %LFG',\n",
       " u'NET_GENERATION_(MEGAWATTHOURS) %LIG',\n",
       " u'NET_GENERATION_(MEGAWATTHOURS) %MWH',\n",
       " u'NET_GENERATION_(MEGAWATTHOURS) %NG',\n",
       " u'NET_GENERATION_(MEGAWATTHOURS) %NUC',\n",
       " u'NET_GENERATION_(MEGAWATTHOURS) %OBG',\n",
       " u'NET_GENERATION_(MEGAWATTHOURS) %OBL',\n",
       " u'NET_GENERATION_(MEGAWATTHOURS) %OBS',\n",
       " u'NET_GENERATION_(MEGAWATTHOURS) %OG',\n",
       " u'NET_GENERATION_(MEGAWATTHOURS) %OTH',\n",
       " u'NET_GENERATION_(MEGAWATTHOURS) %PC',\n",
       " u'NET_GENERATION_(MEGAWATTHOURS) %PUR',\n",
       " u'NET_GENERATION_(MEGAWATTHOURS) %RFO',\n",
       " u'NET_GENERATION_(MEGAWATTHOURS) %SC',\n",
       " u'NET_GENERATION_(MEGAWATTHOURS) %SUB',\n",
       " u'NET_GENERATION_(MEGAWATTHOURS) %SUN',\n",
       " u'NET_GENERATION_(MEGAWATTHOURS) %WAT',\n",
       " u'NET_GENERATION_(MEGAWATTHOURS) %WDS',\n",
       " u'NET_GENERATION_(MEGAWATTHOURS) %WH',\n",
       " u'NET_GENERATION_(MEGAWATTHOURS) %WND',\n",
       " u'NET_GENERATION_(MEGAWATTHOURS) %WO',\n",
       " 'PLANT_NAME',\n",
       " u'TOTAL_FUEL_CONSUMPTION_MMBTU',\n",
       " u'TOTAL_FUEL_CONSUMPTION_MMBTU %AB',\n",
       " u'TOTAL_FUEL_CONSUMPTION_MMBTU %BIT',\n",
       " u'TOTAL_FUEL_CONSUMPTION_MMBTU %BLQ',\n",
       " u'TOTAL_FUEL_CONSUMPTION_MMBTU %DFO',\n",
       " u'TOTAL_FUEL_CONSUMPTION_MMBTU %JF',\n",
       " u'TOTAL_FUEL_CONSUMPTION_MMBTU %LFG',\n",
       " u'TOTAL_FUEL_CONSUMPTION_MMBTU %LIG',\n",
       " u'TOTAL_FUEL_CONSUMPTION_MMBTU %MWH',\n",
       " u'TOTAL_FUEL_CONSUMPTION_MMBTU %NG',\n",
       " u'TOTAL_FUEL_CONSUMPTION_MMBTU %NUC',\n",
       " u'TOTAL_FUEL_CONSUMPTION_MMBTU %OBG',\n",
       " u'TOTAL_FUEL_CONSUMPTION_MMBTU %OBL',\n",
       " u'TOTAL_FUEL_CONSUMPTION_MMBTU %OBS',\n",
       " u'TOTAL_FUEL_CONSUMPTION_MMBTU %OG',\n",
       " u'TOTAL_FUEL_CONSUMPTION_MMBTU %OTH',\n",
       " u'TOTAL_FUEL_CONSUMPTION_MMBTU %PC',\n",
       " u'TOTAL_FUEL_CONSUMPTION_MMBTU %PUR',\n",
       " u'TOTAL_FUEL_CONSUMPTION_MMBTU %RFO',\n",
       " u'TOTAL_FUEL_CONSUMPTION_MMBTU %SC',\n",
       " u'TOTAL_FUEL_CONSUMPTION_MMBTU %SUB',\n",
       " u'TOTAL_FUEL_CONSUMPTION_MMBTU %SUN',\n",
       " u'TOTAL_FUEL_CONSUMPTION_MMBTU %WAT',\n",
       " u'TOTAL_FUEL_CONSUMPTION_MMBTU %WDS',\n",
       " u'TOTAL_FUEL_CONSUMPTION_MMBTU %WH',\n",
       " u'TOTAL_FUEL_CONSUMPTION_MMBTU %WND',\n",
       " u'TOTAL_FUEL_CONSUMPTION_MMBTU %WO',\n",
       " u'TOTAL_FUEL_CONSUMPTION_QUANTITY',\n",
       " u'TOTAL_FUEL_CONSUMPTION_QUANTITY %AB',\n",
       " u'TOTAL_FUEL_CONSUMPTION_QUANTITY %BIT',\n",
       " u'TOTAL_FUEL_CONSUMPTION_QUANTITY %BLQ',\n",
       " u'TOTAL_FUEL_CONSUMPTION_QUANTITY %DFO',\n",
       " u'TOTAL_FUEL_CONSUMPTION_QUANTITY %JF',\n",
       " u'TOTAL_FUEL_CONSUMPTION_QUANTITY %LFG',\n",
       " u'TOTAL_FUEL_CONSUMPTION_QUANTITY %LIG',\n",
       " u'TOTAL_FUEL_CONSUMPTION_QUANTITY %MWH',\n",
       " u'TOTAL_FUEL_CONSUMPTION_QUANTITY %NG',\n",
       " u'TOTAL_FUEL_CONSUMPTION_QUANTITY %NUC',\n",
       " u'TOTAL_FUEL_CONSUMPTION_QUANTITY %OBG',\n",
       " u'TOTAL_FUEL_CONSUMPTION_QUANTITY %OBL',\n",
       " u'TOTAL_FUEL_CONSUMPTION_QUANTITY %OBS',\n",
       " u'TOTAL_FUEL_CONSUMPTION_QUANTITY %OG',\n",
       " u'TOTAL_FUEL_CONSUMPTION_QUANTITY %OTH',\n",
       " u'TOTAL_FUEL_CONSUMPTION_QUANTITY %PC',\n",
       " u'TOTAL_FUEL_CONSUMPTION_QUANTITY %PUR',\n",
       " u'TOTAL_FUEL_CONSUMPTION_QUANTITY %RFO',\n",
       " u'TOTAL_FUEL_CONSUMPTION_QUANTITY %SC',\n",
       " u'TOTAL_FUEL_CONSUMPTION_QUANTITY %SUB',\n",
       " u'TOTAL_FUEL_CONSUMPTION_QUANTITY %SUN',\n",
       " u'TOTAL_FUEL_CONSUMPTION_QUANTITY %WAT',\n",
       " u'TOTAL_FUEL_CONSUMPTION_QUANTITY %WDS',\n",
       " u'TOTAL_FUEL_CONSUMPTION_QUANTITY %WH',\n",
       " u'TOTAL_FUEL_CONSUMPTION_QUANTITY %WND',\n",
       " u'TOTAL_FUEL_CONSUMPTION_QUANTITY %WO',\n",
       " u'TOT_MMBTU_APR',\n",
       " u'TOT_MMBTU_AUG',\n",
       " u'TOT_MMBTU_DEC',\n",
       " u'TOT_MMBTU_FEB',\n",
       " u'TOT_MMBTU_JAN',\n",
       " u'TOT_MMBTU_JUL',\n",
       " u'TOT_MMBTU_JUN',\n",
       " u'TOT_MMBTU_MAR',\n",
       " u'TOT_MMBTU_MAY',\n",
       " u'TOT_MMBTU_NOV',\n",
       " u'TOT_MMBTU_OCT',\n",
       " u'TOT_MMBTU_SEP',\n",
       " 'YEAR_y']"
      ]
     },
     "execution_count": 17,
     "metadata": {},
     "output_type": "execute_result"
    }
   ],
   "source": [
    "[x for x in fullData[fullData.keys()[0]].columns]"
   ]
  },
  {
   "cell_type": "markdown",
   "metadata": {},
   "source": [
    "## Calculating ramp rate\n",
    "Calculate rate of change over 1,2,3 hours for positive change. "
   ]
  },
  {
   "cell_type": "markdown",
   "metadata": {},
   "source": [
    "# Assumptions\n",
    "1. Plant capacity changes at the start of the year and is constant for the entire year\n",
    "2. Same for ramp rate - no changes over the course of the year"
   ]
  },
  {
   "cell_type": "code",
   "execution_count": null,
   "metadata": {
    "collapsed": true
   },
   "outputs": [],
   "source": []
  }
 ],
 "metadata": {
  "anaconda-cloud": {},
  "kernelspec": {
   "display_name": "Python 2",
   "language": "python",
   "name": "python2"
  },
  "language_info": {
   "codemirror_mode": {
    "name": "ipython",
    "version": 2
   },
   "file_extension": ".py",
   "mimetype": "text/x-python",
   "name": "python",
   "nbconvert_exporter": "python",
   "pygments_lexer": "ipython2",
   "version": "2.7.12"
  },
  "widgets": {
   "state": {},
   "version": "1.1.2"
  }
 },
 "nbformat": 4,
 "nbformat_minor": 0
}
