{
 "cells": [
  {
   "cell_type": "markdown",
   "metadata": {},
   "source": [
    "# Notebook to classify power plants\n",
    "Variables include:\n",
    "- Fuel type\n",
    "- Historical ramp speeds\n",
    "- Historical efficiency\n",
    "- Location?"
   ]
  },
  {
   "cell_type": "code",
   "execution_count": 1,
   "metadata": {
    "collapsed": false
   },
   "outputs": [
    {
     "name": "stderr",
     "output_type": "stream",
     "text": [
      "/Users/Home/anaconda/lib/python2.7/site-packages/matplotlib/font_manager.py:273: UserWarning: Matplotlib is building the font cache using fc-list. This may take a moment.\n",
      "  warnings.warn('Matplotlib is building the font cache using fc-list. This may take a moment.')\n"
     ]
    }
   ],
   "source": [
    "%matplotlib inline\n",
    "import pandas as pd\n",
    "import numpy as np\n",
    "import matplotlib.pyplot as plt\n",
    "import seaborn as sns"
   ]
  },
  {
   "cell_type": "markdown",
   "metadata": {},
   "source": [
    "### Variable definitions\n",
    "\n",
    "These variables will be used to cluster the power plants.\n",
    "- year: year that the data is for\n",
    "- fuel type: primary fuel type used at the facility (SUB, LIG, NG, etc)\n",
    "- 1-hr ramp rate: maximum or 95 percentile rate of generation increase over 1 hour\n",
    "- 3-hr ramp rate: maximum or 95 percentile rate of generation increase over 3 hours\n",
    "- efficiency: might just change this to heat rate (MMBTU/MWh)\n",
    "- efficiency std: standard deviation in efficiency based on monthly values for the year\n",
    "- CF: capacity factor, which is the amount generated in a year divided by the theoretical maximum generation possible $MWh/(Capacity * 8760)$ (or hours per month for monthly values used in calculating the standard deviation)\n",
    "- CF std: standard deviation of CF based on monthly values for the year"
   ]
  },
  {
   "cell_type": "code",
   "execution_count": 3,
   "metadata": {
    "collapsed": false
   },
   "outputs": [],
   "source": [
    "cols = ['year', 'fuel type', '1-hr ramp rate', '3-hr ramp rate',\n",
    "        'efficiency', 'efficiency std', 'CF', 'CF std']\n",
    "\n",
    "#Add index of power plant IDs\n",
    "df = pd.DataFrame(columns=cols)"
   ]
  },
  {
   "cell_type": "code",
   "execution_count": 4,
   "metadata": {
    "collapsed": false
   },
   "outputs": [
    {
     "data": {
      "text/html": [
       "<div>\n",
       "<table border=\"1\" class=\"dataframe\">\n",
       "  <thead>\n",
       "    <tr style=\"text-align: right;\">\n",
       "      <th></th>\n",
       "      <th>year</th>\n",
       "      <th>fuel type</th>\n",
       "      <th>1-hr ramp rate</th>\n",
       "      <th>3-hr ramp rate</th>\n",
       "      <th>efficiency</th>\n",
       "      <th>efficiency std</th>\n",
       "      <th>CF</th>\n",
       "      <th>CF std</th>\n",
       "    </tr>\n",
       "  </thead>\n",
       "  <tbody>\n",
       "  </tbody>\n",
       "</table>\n",
       "</div>"
      ],
      "text/plain": [
       "Empty DataFrame\n",
       "Columns: [year, fuel type, 1-hr ramp rate, 3-hr ramp rate, efficiency, efficiency std, CF, CF std]\n",
       "Index: []"
      ]
     },
     "execution_count": 4,
     "metadata": {},
     "output_type": "execute_result"
    }
   ],
   "source": [
    "df"
   ]
  },
  {
   "cell_type": "code",
   "execution_count": null,
   "metadata": {
    "collapsed": true
   },
   "outputs": [],
   "source": []
  }
 ],
 "metadata": {
  "kernelspec": {
   "display_name": "Python 2",
   "language": "python",
   "name": "python2"
  },
  "language_info": {
   "codemirror_mode": {
    "name": "ipython",
    "version": 2
   },
   "file_extension": ".py",
   "mimetype": "text/x-python",
   "name": "python",
   "nbconvert_exporter": "python",
   "pygments_lexer": "ipython2",
   "version": "2.7.12"
  },
  "widgets": {
   "state": {},
   "version": "1.1.2"
  }
 },
 "nbformat": 4,
 "nbformat_minor": 1
}
